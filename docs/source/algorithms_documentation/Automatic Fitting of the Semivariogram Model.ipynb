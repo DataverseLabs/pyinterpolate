{
 "cells": [
  {
   "cell_type": "markdown",
   "id": "d23c394c",
   "metadata": {},
   "source": [
    "# Algorithm Explained\n",
    "\n",
    "## The Semi-Automatic and Automatic Fit of the Semivariogram Model\n",
    "\n",
    "A procedure of the theoretical model fitting into the experimental curve may be performed manually. Researcher may choose **sill**, **range** and the **modeling function** and assign those into the model. This step could be very time-consuming and within the `pyinterpolate` we have chosen two different approaches for the users:\n",
    "\n",
    "1. Researcher chooses **the modeling function** and algorithm of the `TheoreticalSemivariogram` class searches for the best range parameter.\n",
    "2. The algorithm searches for the **optimal modeling function** and **range** for a given set of experimental points.\n",
    "\n",
    "Both processes are similar but there are important differences. Firstly, we are going to take a closer look into the semi-supervised model selection - Algorithm 1."
   ]
  },
  {
   "cell_type": "markdown",
   "id": "46ce4a2e",
   "metadata": {},
   "source": [
    "### `fit_semivariance()` method for the semi-supervised semivariogram model selection\n",
    "\n",
    "#### Flow Diagram\n",
    "\n",
    "![Semi-supervised Model Selection](imgs/semi-super-fit-semivariance.png)\n",
    "\n",
    "The `fit_semivariance(model_type, number_of_ranges=16)` is the method of `TheoreticalSemivariogram` class. It fits the chosen theoretical model (`model_type`) into the multiple ranges (`number_of_ranges`) within the area of a study. We must know which kind of the theoretical function should be fitted to our experimental data. Package has four basic models to select:\n",
    "\n",
    "1. Spherical,\n",
    "2. Exponential,\n",
    "3. Linear,\n",
    "4. Gaussian.\n",
    "\n",
    "Then we should assign the number of ranges to test our model. Algorithm divides the study extent into `n` number of ranges and tests the theoretical model output against the experimental variogram for each range. It is important to distinguish ranges from the lags: they are not the same and we can set up more or less ranges than the number of lags of the experimental curve!\n",
    "\n",
    "If we choose the theoretical model and set the number of ranges to check then the algorithm calculates the **sill** of a model as _the variance of the observed values of the known points_. **Nugget** is set to the first experimental semivariance value if the initial lag is zero. This value is usually zero. In the case where the first lag is greater than zero **nugget** is set to zero.\n",
    "\n",
    "**NOTE**:\n",
    "\n",
    "```\n",
    "In the future algorithm will test different sill values in a similar way that ranges are tested.\n",
    "```\n",
    "\n",
    "With **nugget**, **sill** and **model type** the theoretical curve is calculated for each range from the array of ranges. Then algorithm calculates semivariance for each lag of the experimental values; those are compared to the experimental semivariances and the root mean squared error is calculated. Range with the lowest Root Mean Squared Error and model parameters (**nugget**, **sill**, **model type**) are returned."
   ]
  },
  {
   "cell_type": "markdown",
   "id": "887a026e",
   "metadata": {},
   "source": [
    "### `find_optimal_model()` method for the automated semivariogram model selection\n",
    "\n",
    "#### Flow Diagram"
   ]
  },
  {
   "cell_type": "markdown",
   "id": "f6a005bc",
   "metadata": {},
   "source": [
    "## Changelog:\n",
    "\n",
    "- 2021-07-22: The first release of the article."
   ]
  }
 ],
 "metadata": {
  "kernelspec": {
   "display_name": "Python 3",
   "language": "python",
   "name": "python3"
  },
  "language_info": {
   "codemirror_mode": {
    "name": "ipython",
    "version": 3
   },
   "file_extension": ".py",
   "mimetype": "text/x-python",
   "name": "python",
   "nbconvert_exporter": "python",
   "pygments_lexer": "ipython3",
   "version": "3.7.10"
  }
 },
 "nbformat": 4,
 "nbformat_minor": 5
}

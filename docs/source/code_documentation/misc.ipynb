{
 "cells": [
  {
   "cell_type": "markdown",
   "metadata": {},
   "source": [
    "# misc module\n",
    "\n",
    "Available classes:\n",
    "\n",
    "- KrigingComparison: Class compares different areal kriging models and techniques."
   ]
  },
  {
   "cell_type": "markdown",
   "metadata": {},
   "source": [
    "## ```KrigingComparison```\n",
    "\n",
    "### Class initialization\n",
    "\n",
    "```python\n",
    "pyinterpolate.misc.KrigingComparison(\n",
    "    theoretical_semivariogram,\n",
    "    areas,\n",
    "    points,\n",
    "    search_radius,\n",
    "    ranges_of_observations,\n",
    "    training_set_frac=0.8,\n",
    "    iters=20)\n",
    "```\n",
    "\n",
    "Class compares different areal kriging models and techniques.\n",
    "\n",
    "INITIALIZATION PARAMS:\n",
    "\n",
    "- **theoretical_semivariogram**: (_TheoreticalSemivariogram_) modeled semivariogram,\n",
    "- **areas**: (_numpy array_) areas in the form:\n",
    "\n",
    "```python\n",
    "[area_id, polygon, centroid x, centroid y, value]\n",
    "```\n",
    "- **points**: (_numpy array_) points within areas in the form:\n",
    "\n",
    "```python\n",
    "[\n",
    "    area_id,\n",
    "    [point_position_x, point_position_y, value]\n",
    "]\n",
    "```\n",
    "- **search_radius**: (_float_) minimal search radius to looking for neighbors,\n",
    "- **ranges_of_observations**: (_int_) how many neighbors include in analysis,\n",
    "- **training_set_frac**: (_float_ in range 0-1) how many values set as a \"known points\",\n",
    "- **iters**: (_int_) number test (more tests == more accurate Root Mean Squared Error of comparisons).\n",
    "\n",
    "### Class public methods:\n",
    "\n",
    "- **run_tests**: Method compares area-to-area, area-to-point and centroid based area Poisson Kriging.\n",
    "\n",
    "---\n",
    "\n",
    "### ```KrigingComparison.run_tests()```\n",
    "\n",
    "```python\n",
    "KrigingComparison.run_tests(self)\n",
    "```\n",
    "\n",
    "Method compares area-to-area, area-to-point and centroid based area Poisson Kriging."
   ]
  }
 ],
 "metadata": {
  "kernelspec": {
   "display_name": "Python 3",
   "language": "python",
   "name": "python3"
  },
  "language_info": {
   "codemirror_mode": {
    "name": "ipython",
    "version": 3
   },
   "file_extension": ".py",
   "mimetype": "text/x-python",
   "name": "python",
   "nbconvert_exporter": "python",
   "pygments_lexer": "ipython3",
   "version": "3.7.8"
  }
 },
 "nbformat": 4,
 "nbformat_minor": 4
}

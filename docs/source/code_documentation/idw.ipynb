{
 "cells": [
  {
   "cell_type": "markdown",
   "id": "fbc8c024",
   "metadata": {},
   "source": [
    "# idw module\n",
    "\n",
    "Available functions:\n",
    "\n",
    "- inverse_distance_weighting: performs Inverse Distance Weighting with a given set of points and an unknown location."
   ]
  },
  {
   "cell_type": "markdown",
   "id": "eb105ee7",
   "metadata": {},
   "source": [
    "## ```inverse_distance_weighting()```\n",
    "\n",
    "```python\n",
    "pyinterpolate.idw.inverse_distance_weighting(\n",
    "    known_points,\n",
    "    unknown_location,\n",
    "    number_of_neighbours=-1,\n",
    "    power=2.)\n",
    "```\n",
    "\n",
    "INPUT:\n",
    "\n",
    "- **known_points**: (_numpy array_) array of coordinates and their values,\n",
    "- **unknown_location**: (_numpy array_) pair of coordinates,\n",
    "- **number_of_neighbours**: (_int_) default=`-1` which means that all known points will be used to estimate value at the unknown location. Can be any number within the limits `[2, length(known_points)]`,\n",
    "- **max_range**: (_power_) default=`2`, power value must be larger or equal to 0, controls weight assigned to each known point.\n",
    "\n",
    "\n",
    "OUTPUT:\n",
    "\n",
    "- (_float_) **value at unknown location**."
   ]
  },
  {
   "cell_type": "markdown",
   "id": "30275a52",
   "metadata": {},
   "source": [
    "***"
   ]
  }
 ],
 "metadata": {
  "kernelspec": {
   "display_name": "Python 3",
   "language": "python",
   "name": "python3"
  },
  "language_info": {
   "codemirror_mode": {
    "name": "ipython",
    "version": 3
   },
   "file_extension": ".py",
   "mimetype": "text/x-python",
   "name": "python",
   "nbconvert_exporter": "python",
   "pygments_lexer": "ipython3",
   "version": "3.8.8"
  }
 },
 "nbformat": 4,
 "nbformat_minor": 5
}

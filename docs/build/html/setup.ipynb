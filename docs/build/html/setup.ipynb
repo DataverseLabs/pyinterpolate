{
 "cells": [
  {
   "cell_type": "markdown",
   "metadata": {},
   "source": [
    "# Setup"
   ]
  },
  {
   "cell_type": "markdown",
   "metadata": {},
   "source": [
    "## pip package installation\n",
    "\n",
    "To install last stable version of the package use pip package manager. **Recommended way of installing Python packages is to create [Virtual Environment](https://docs.python.org/3/library/venv.html)** and install everything inside it, we encourage you to do so. Navigate to the directory where you'd like to install package and type:"
   ]
  },
  {
   "cell_type": "markdown",
   "metadata": {},
   "source": [
    "```\n",
    "pip install pyinterpolate\n",
    "```"
   ]
  },
  {
   "cell_type": "markdown",
   "metadata": {},
   "source": [
    "If there are no errors you may use package. \n",
    "\n",
    "## Problem with libspatialindex_c.so\n",
    "\n",
    "There is a chance that your system doesn't have **libspatialindex_c.so** file. You must install it from a terminal.\n",
    "\n",
    "Linux installation:\n",
    "\n",
    "```\n",
    "sudo apt install libspatialindex-dev\n",
    "```\n",
    "\n",
    "MacOS installation:\n",
    "\n",
    "```\n",
    "brew install spatialindex\n",
    "```"
   ]
  },
  {
   "cell_type": "markdown",
   "metadata": {},
   "source": [
    "## Manual installation of the newest version\n",
    "\n",
    "If you are interested in the newest version of package from **main** or **dev** branch then you should install it manually. To do so download package from the repository, move to the package directory and type:"
   ]
  },
  {
   "cell_type": "markdown",
   "metadata": {},
   "source": [
    "```\n",
    "pip install ./\n",
    "```"
   ]
  },
  {
   "cell_type": "markdown",
   "metadata": {},
   "source": [
    "As with pip installation we recommend use of Virtual Environments."
   ]
  },
  {
   "cell_type": "markdown",
   "metadata": {},
   "source": [
    "## I'd like to use Jupyter Notebooks, what should I do?"
   ]
  },
  {
   "cell_type": "markdown",
   "metadata": {},
   "source": [
    "If you use conda environment you may use Jupyter Notebooks and you are not obligated to create Virtual Environment - you'll be working in conda environment. To run pyinterpolate with Jupyter Notebooks you must create environment for it and install everything from the conda environment.\n",
    "\n",
    "### Step 1:\n",
    "\n",
    "```\n",
    "conda create -n [NAME OF YOUR ENV]\n",
    "```\n",
    "\n",
    "### Step 2:\n",
    "\n",
    "```\n",
    "conda activate [NAME OF YOUR ENV]\n",
    "```\n",
    "\n",
    "### Step 3:\n",
    "\n",
    "```\n",
    "conda install -c conda-forge python=3.7 pip notebook\n",
    "```\n",
    "\n",
    "### Step 4:\n",
    "\n",
    "```\n",
    "pip install pyinterpolate\n",
    "```"
   ]
  },
  {
   "cell_type": "markdown",
   "metadata": {},
   "source": [
    "## More questions?\n",
    "\n",
    "Don't be scared to ask - create request in [Issues](https://github.com/szymon-datalions/pyinterpolate/issues). We will do our best to simlify installation or help with it."
   ]
  }
 ],
 "metadata": {
  "kernelspec": {
   "display_name": "Python 3",
   "language": "python",
   "name": "python3"
  },
  "language_info": {
   "codemirror_mode": {
    "name": "ipython",
    "version": 3
   },
   "file_extension": ".py",
   "mimetype": "text/x-python",
   "name": "python",
   "nbconvert_exporter": "python",
   "pygments_lexer": "ipython3",
   "version": "3.7.8"
  }
 },
 "nbformat": 4,
 "nbformat_minor": 4
}

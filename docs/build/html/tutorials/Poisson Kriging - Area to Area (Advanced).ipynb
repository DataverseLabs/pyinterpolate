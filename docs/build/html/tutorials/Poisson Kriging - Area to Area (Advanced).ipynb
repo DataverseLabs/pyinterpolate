{
 "cells": [
  {
   "cell_type": "markdown",
   "metadata": {},
   "source": [
    "# Poisson Kriging - Area to Area Kriging\n",
    "\n",
    "## Table of Contents:\n",
    "\n",
    "1. Load areal and point data,\n",
    "2. Load semivariogram (regularized),\n",
    "3. Remove 10% of areal dataset,\n",
    "4. Predict values at unknown locations,\n",
    "5. Analyse Forecast Bias and Root Mean Squared Error of prediction.\n",
    "\n",
    "#### Level: Advanced\n",
    "\n",
    "## Introduction\n",
    "\n",
    "To start this tutorial it is required to understand concepts in the **Ordinary and Simple Kriging** and **Semivariogram Regularization** tutorials.\n",
    "\n",
    "Poisson Kriging technique is used to model spatial count data. We are analyzing special case where data is counted over areas. Those areas may have irregular shapes and sizes beacuse they represent administrative regions. \n",
    "\n",
    "In this tutorial we try to predict rates of Breast Cancer in Pennsylvania counties. Along with areal data we use U.S. Census 2010 data for population blocks.\n",
    "\n",
    "> Breast cancer rates data is stored in the shapefile in folder `sample_data/areal_data/breast_cancer_rate_per_area_2.shp`.\n",
    "\n",
    "> Population blocks data is stored in the shapefile in folder `sample_data/population_data/population_blocks.shp`\n",
    "\n",
    "In tutorial **Poisson Kriging - Centroid based approach** we've made assumption that all areas have the same size and shape. This wasn't true. Now we use Area-to-Area Kriging technique and predict and evaluate missing values.\n",
    "\n",
    "Area-to-Area and Area-to-Point Poisson Kriging are slower than simplified Kriging with Centroids, but gives more reliable results because they are tuned to areal size and shape.\n",
    "\n",
    "This tutorial covers following steps:\n",
    "\n",
    "1. Read and explore data,\n",
    "2. Load semivariogram model,\n",
    "3. Prepare training and test data,\n",
    "4. Predict values of unknown locations and calculate forecast bias and root mean squared error,\n",
    "5. Analyse error metrics."
   ]
  },
  {
   "cell_type": "markdown",
   "metadata": {},
   "source": [
    "## 1) Read and explore data"
   ]
  },
  {
   "cell_type": "code",
   "execution_count": 13,
   "metadata": {},
   "outputs": [],
   "source": [
    "import numpy as np\n",
    "import pandas as pd\n",
    "import geopandas as gpd\n",
    "\n",
    "from pyinterpolate.io_ops import prepare_areal_shapefile, get_points_within_area\n",
    "from pyinterpolate.semivariance import TheoreticalSemivariogram\n",
    "from pyinterpolate.kriging import ArealKriging"
   ]
  },
  {
   "cell_type": "code",
   "execution_count": 14,
   "metadata": {},
   "outputs": [],
   "source": [
    "areal_data_file = '../sample_data/areal_data/breast_cancer_rate_per_area_2.shp'\n",
    "point_data_file = '../sample_data/population_data/population_blocks.shp'\n",
    "\n",
    "areal_id_column_name = 'id'\n",
    "areal_val_column_name = 'rate'\n",
    "points_val_column_name = 'POPULATION'\n",
    "\n",
    "\n",
    "areal_data = prepare_areal_shapefile(areal_data_file,\n",
    "                                     id_column_name=areal_id_column_name,\n",
    "                                     value_column_name=areal_val_column_name)\n",
    "point_data = get_points_within_area(areal_data_file, point_data_file, areal_id_col_name=areal_id_column_name,\n",
    "                                   points_val_col_name=points_val_column_name)"
   ]
  },
  {
   "cell_type": "code",
   "execution_count": 15,
   "metadata": {},
   "outputs": [
    {
     "data": {
      "text/plain": [
       "<matplotlib.axes._subplots.AxesSubplot at 0x7f77c4838b90>"
      ]
     },
     "execution_count": 15,
     "metadata": {},
     "output_type": "execute_result"
    },
    {
     "data": {
      "image/png": "[encoded data removed]",
      "text/plain": [
       "<Figure size 432x288 with 2 Axes>"
      ]
     },
     "metadata": {
      "needs_background": "light"
     },
     "output_type": "display_data"
    }
   ],
   "source": [
    "# Lets take a look into a map of areal counts\n",
    "\n",
    "gdf = gpd.read_file(areal_data_file)\n",
    "gdf.plot(column='rate', cmap='Spectral_r', legend=True)"
   ]
  },
  {
   "cell_type": "markdown",
   "metadata": {},
   "source": [
    "#### Clarification: \n",
    "\n",
    "It is good idea to look into the spatial patterns in dataset and to visually check if our data do not have any NaN values. We use geopandas GeoDataFrame plot function for it with color map which is diverging color classes well."
   ]
  },
  {
   "cell_type": "markdown",
   "metadata": {},
   "source": [
    "## 2) Load semivariogram model"
   ]
  },
  {
   "cell_type": "markdown",
   "metadata": {},
   "source": [
    "In this step we load regularized semivariogram from the tutorial **Semivariogram Regularization (Intermediate)**. You can always perform semivariogram regulariztion along with the Poisson Kriging but it is a very long process and it is more convenient to separate those two steps."
   ]
  },
  {
   "cell_type": "code",
   "execution_count": 16,
   "metadata": {},
   "outputs": [],
   "source": [
    "semivariogram = TheoreticalSemivariogram()  # Create TheoreticalSemivariogram object\n",
    "semivariogram.import_model('regularized_model.csv')  # Load regularized semivariogram"
   ]
  },
  {
   "cell_type": "markdown",
   "metadata": {},
   "source": [
    "## 3) Prepare training and test data\n",
    "\n",
    "We simply remove 10% of random ID's from areal dataset (the same for points) and create four arrays: two training arrays with areal and point geometry and values and two test arrays with the same categories of data."
   ]
  },
  {
   "cell_type": "code",
   "execution_count": 17,
   "metadata": {},
   "outputs": [],
   "source": [
    "# Remove 10% of rows (values) to test our model\n",
    "\n",
    "def create_test_areal_set(areal_dataset, points_dataset, frac=0.1):\n",
    "    \"\"\"\n",
    "    Function creates set with random areas for tests\n",
    "    \n",
    "    INPUT:\n",
    "    :param areal_dataset: (numpy array) array with rows of areal records,\n",
    "    :param points_dataset: (numpy array) array with rows of points records,\n",
    "    :param frac: (float) number of elements in a test set\n",
    "    \n",
    "    OUTPUT:\n",
    "    return: [training_set_areal(numpy array),\n",
    "             test_set_areal (numpy array),\n",
    "             training_set_points (numpy array),\n",
    "             test_set_points (numpy array)]\n",
    "    \"\"\"\n",
    "    \n",
    "    all_ids = areal_dataset[:, 0]\n",
    "    training_set_size = int(len(all_ids) * (1 - frac))\n",
    "    training_ids = np.random.choice(all_ids,\n",
    "                                    size=training_set_size,\n",
    "                                    replace=False)\n",
    "    training_areas = np.array(\n",
    "            [a for a in areal_dataset if a[0] in training_ids])\n",
    "    test_areas = np.array(\n",
    "            [a for a in areal_dataset if a[0] not in training_ids])\n",
    "    training_points = np.array(\n",
    "            [pt for pt in points_dataset if pt[0] in training_ids])\n",
    "    test_points = np.array(\n",
    "            [pt for pt in points_dataset if pt[0] not in training_ids])\n",
    "    \n",
    "\n",
    "    output = [training_areas, test_areas, training_points, test_points]\n",
    "    return output\n",
    "\n",
    "ar_train, ar_test, pt_train, pt_test = create_test_areal_set(areal_data, point_data)"
   ]
  },
  {
   "cell_type": "markdown",
   "metadata": {},
   "source": [
    "## 4) Predict values at unknown locations and calculate forecast bias and root mean squared error\n",
    "\n",
    "Do you know scikit-learn's fit-predict-transform estimation procedure? With Kriging it is more complicated because we are fitting semivariogram model to data and we pass this fitted model into kriging estimator. That's why package with *TheoreticalSemivariogram()* class is named **fit_semivariance**.\n",
    "You may start work with predictions with fitted semivariogram model. Area-to-Area Poisson Kriging takes three arguments during initialization:\n",
    "\n",
    "=> semivariogram model (fitted semivariogram model),\n",
    "=> known areas (training set),\n",
    "=> known points (training set).\n",
    "\n",
    "After initilization you may perform prediction. This process requires you to control two hyperparameters:\n",
    "\n",
    "=> **number of observations** (the most important parameter - how many neighbors are affecting your area of analysis),\n",
    "=> minimum **search radius** (minimum search radius for analysis from your area of interest, if there are less areas than number of observations then the new, next closest neighbors are included in the analysis),\n",
    "\n",
    "Why **radius** parameter is less important than **number of observations**? It is a tradeoff between mathemtical accuracy and reality. Usually your areas of interest have different shapes and sizes and with very large county and small search radius from the centroid you may not find any neighbour!\n",
    "\n",
    "**The main difference between Area-to-Area and Centroid Poisson Kriging is that for the former you pass only variable with smaller blocks which are representing fine scale process withing area with missing value. Centroid PK is \"feed\" with missing area geometry too.**\n",
    "\n",
    "Algorithm in the cell below iteratively picks one area from the test set and perform prediction. Then forecast bias which is difference between real and predicted value is calculated. Forecast Bias is useful to understand if our algorithm predictions are too low or too high (under- or overestimation). The next parameter is Root Mean Squared Error. This kind of measure tells us more about outliers and very large differences between predictions and real values. We will see it in the last part of tutorial.\n",
    "\n",
    "Your work with Poisson Kriging (or Kriging) will be usually the same:\n",
    "- prepare training and test data,\n",
    "- use training data to prepare semivariogram model,\n",
    "- test different hyperparameters with a test set to find optimal number of neighbors which are affecting your area of analysis,\n",
    "- forecast into unknown areas OR perform data smoothing."
   ]
  },
  {
   "cell_type": "code",
   "execution_count": 18,
   "metadata": {},
   "outputs": [],
   "source": [
    "number_of_obs = 8\n",
    "radius = 1\n",
    "\n",
    "kriging_model = ArealKriging(semivariogram_model=semivariogram,\n",
    "    known_areas=ar_train,\n",
    "    known_areas_points=pt_train,\n",
    "    kriging_type='ata')\n",
    "\n",
    "kriged_predictions = []"
   ]
  },
  {
   "cell_type": "code",
   "execution_count": 19,
   "metadata": {},
   "outputs": [],
   "source": [
    "for unknown_area in ar_test:\n",
    "    unknown_points = pt_test[pt_test[:, 0] == unknown_area[0]][0]\n",
    "\n",
    "    # Predict\n",
    "    try:\n",
    "        predicted = kriging_model.predict(unknown_points,\n",
    "                                          number_of_obs,\n",
    "                                          radius)\n",
    "        predicted_accidents = int(predicted[0])\n",
    "        fb = (unknown_area[-1] - predicted_accidents)\n",
    "        rmse = np.sqrt((fb)**2)\n",
    "        \n",
    "        kriged_predictions.append([unknown_area[0], predicted_accidents, unknown_area[-1], fb, rmse])\n",
    "    except ValueError:\n",
    "        fb = np.nan\n",
    "        rmse = np.nan\n",
    "        kriged_predictions.append([unknown_area[0], np.nan, unknown_area[-1], fb, rmse])  # All NaN's"
   ]
  },
  {
   "cell_type": "code",
   "execution_count": 20,
   "metadata": {},
   "outputs": [],
   "source": [
    "kriged_predictions = np.array(kriged_predictions)\n",
    "pred_df = pd.DataFrame(data=kriged_predictions[:, 1:],\n",
    "                       index=kriged_predictions[:, 0],\n",
    "                       columns=['predicted', 'real', 'forecast bias', 'rmse'])  # Store results in DataFrame"
   ]
  },
  {
   "cell_type": "markdown",
   "metadata": {},
   "source": [
    "## 5) Analyze Forecast Bias and Root Mean Squared Error of prediction\n",
    "\n",
    "The last step is analysis of errors. We plot two histograms: of forecast bias and of root mean squared error then we calculate base statistics of a dataset."
   ]
  },
  {
   "cell_type": "code",
   "execution_count": 21,
   "metadata": {},
   "outputs": [
    {
     "data": {
      "text/plain": [
       "<matplotlib.axes._subplots.AxesSubplot at 0x7f77c0222890>"
      ]
     },
     "execution_count": 21,
     "metadata": {},
     "output_type": "execute_result"
    },
    {
     "data": {
      "image/png": "[encoded data removed]",
      "text/plain": [
       "<Figure size 432x288 with 1 Axes>"
      ]
     },
     "metadata": {
      "needs_background": "light"
     },
     "output_type": "display_data"
    }
   ],
   "source": [
    "# Show histograms of errors\n",
    "\n",
    "pred_df['forecast bias'].plot.hist(bins=10)"
   ]
  },
  {
   "cell_type": "code",
   "execution_count": 22,
   "metadata": {},
   "outputs": [
    {
     "data": {
      "text/plain": [
       "<matplotlib.axes._subplots.AxesSubplot at 0x7f77c46b84d0>"
      ]
     },
     "execution_count": 22,
     "metadata": {},
     "output_type": "execute_result"
    },
    {
     "data": {
      "image/png": "[encoded data removed]",
      "text/plain": [
       "<Figure size 432x288 with 1 Axes>"
      ]
     },
     "metadata": {
      "needs_background": "light"
     },
     "output_type": "display_data"
    }
   ],
   "source": [
    "pred_df['rmse'].plot.hist(bins=10)"
   ]
  },
  {
   "cell_type": "code",
   "execution_count": 23,
   "metadata": {},
   "outputs": [
    {
     "data": {
      "text/html": [
       "<div>\n",
       "<style scoped>\n",
       "    .dataframe tbody tr th:only-of-type {\n",
       "        vertical-align: middle;\n",
       "    }\n",
       "\n",
       "    .dataframe tbody tr th {\n",
       "        vertical-align: top;\n",
       "    }\n",
       "\n",
       "    .dataframe thead th {\n",
       "        text-align: right;\n",
       "    }\n",
       "</style>\n",
       "<table border=\"1\" class=\"dataframe\">\n",
       "  <thead>\n",
       "    <tr style=\"text-align: right;\">\n",
       "      <th></th>\n",
       "      <th>predicted</th>\n",
       "      <th>real</th>\n",
       "      <th>forecast bias</th>\n",
       "      <th>rmse</th>\n",
       "    </tr>\n",
       "  </thead>\n",
       "  <tbody>\n",
       "    <tr>\n",
       "      <th>count</th>\n",
       "      <td>7.000000</td>\n",
       "      <td>7.000000</td>\n",
       "      <td>7.000000</td>\n",
       "      <td>7.000000</td>\n",
       "    </tr>\n",
       "    <tr>\n",
       "      <th>mean</th>\n",
       "      <td>126.428571</td>\n",
       "      <td>123.785714</td>\n",
       "      <td>-2.642857</td>\n",
       "      <td>5.528571</td>\n",
       "    </tr>\n",
       "    <tr>\n",
       "      <th>std</th>\n",
       "      <td>3.207135</td>\n",
       "      <td>8.888462</td>\n",
       "      <td>6.248428</td>\n",
       "      <td>3.395936</td>\n",
       "    </tr>\n",
       "    <tr>\n",
       "      <th>min</th>\n",
       "      <td>121.000000</td>\n",
       "      <td>114.900000</td>\n",
       "      <td>-9.000000</td>\n",
       "      <td>1.500000</td>\n",
       "    </tr>\n",
       "    <tr>\n",
       "      <th>25%</th>\n",
       "      <td>125.000000</td>\n",
       "      <td>116.600000</td>\n",
       "      <td>-7.450000</td>\n",
       "      <td>2.350000</td>\n",
       "    </tr>\n",
       "    <tr>\n",
       "      <th>50%</th>\n",
       "      <td>127.000000</td>\n",
       "      <td>123.300000</td>\n",
       "      <td>-2.700000</td>\n",
       "      <td>6.100000</td>\n",
       "    </tr>\n",
       "    <tr>\n",
       "      <th>75%</th>\n",
       "      <td>128.000000</td>\n",
       "      <td>127.750000</td>\n",
       "      <td>-0.250000</td>\n",
       "      <td>8.700000</td>\n",
       "    </tr>\n",
       "    <tr>\n",
       "      <th>max</th>\n",
       "      <td>131.000000</td>\n",
       "      <td>139.600000</td>\n",
       "      <td>8.600000</td>\n",
       "      <td>9.000000</td>\n",
       "    </tr>\n",
       "  </tbody>\n",
       "</table>\n",
       "</div>"
      ],
      "text/plain": [
       "        predicted        real  forecast bias      rmse\n",
       "count    7.000000    7.000000       7.000000  7.000000\n",
       "mean   126.428571  123.785714      -2.642857  5.528571\n",
       "std      3.207135    8.888462       6.248428  3.395936\n",
       "min    121.000000  114.900000      -9.000000  1.500000\n",
       "25%    125.000000  116.600000      -7.450000  2.350000\n",
       "50%    127.000000  123.300000      -2.700000  6.100000\n",
       "75%    128.000000  127.750000      -0.250000  8.700000\n",
       "max    131.000000  139.600000       8.600000  9.000000"
      ]
     },
     "execution_count": 23,
     "metadata": {},
     "output_type": "execute_result"
    }
   ],
   "source": [
    "pred_df.describe()"
   ]
  },
  {
   "cell_type": "markdown",
   "metadata": {},
   "source": [
    "#### Clarification:\n",
    "\n",
    "1. **Forecast Bias** histogram shows tendency towards negative values; our model overestimates missing values.\n",
    "2. **Root Mean Squared Error** RMSE mean is 5.5 units (infection rate). It is less than 1% of the mean of real values (which is an excellent sign). Standard deviation of predicted values is about three times lower than real observations... and it's normal behavior of Kriging, which smooths data.\n",
    "\n",
    "##### NOTE:\n",
    "\n",
    "Those results are not decisive. Our sample is very small and output could be related to very fortunate sampling over areas. The good idea is to repeat experiment multiple times with other samples and average results to find out how well model is performing."
   ]
  },
  {
   "cell_type": "markdown",
   "metadata": {},
   "source": [
    "---"
   ]
  }
 ],
 "metadata": {
  "kernelspec": {
   "display_name": "Python 3",
   "language": "python",
   "name": "python3"
  },
  "language_info": {
   "codemirror_mode": {
    "name": "ipython",
    "version": 3
   },
   "file_extension": ".py",
   "mimetype": "text/x-python",
   "name": "python",
   "nbconvert_exporter": "python",
   "pygments_lexer": "ipython3",
   "version": "3.7.9"
  }
 },
 "nbformat": 4,
 "nbformat_minor": 4
}

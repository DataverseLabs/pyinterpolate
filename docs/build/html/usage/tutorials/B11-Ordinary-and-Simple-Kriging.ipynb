{
 "cells": [
  {
   "cell_type": "markdown",
   "metadata": {
    "pycharm": {
     "name": "#%% md\n"
    }
   },
   "source": [
    "# B.1.1 Ordinary and Simple Kriging\n",
    "\n",
    "## Table of Contents:\n",
    "\n",
    "1. Read point data,\n",
    "2. Set semivariogram model,\n",
    "3. Set Ordinary Kriging and Simple Kriging models,\n",
    "4. Predict values at unknown locations.\n",
    "\n",
    "## Introduction\n",
    "\n",
    "This tutorial will teach us how to perform spatial interpolation with Ordinary and Simple Kriging. We will compare a different number of ranges, and test outcomes of processing with the root mean squared error.\n",
    "\n",
    "Ordinary and Simple Kriging is the simplest form of Kriging, but they're still powerful techniques.\n",
    "\n",
    "We use DEM data which is stored in a file `samples/point_data/txt/pl_dem_epsg2180.txt`."
   ]
  },
  {
   "cell_type": "markdown",
   "metadata": {
    "pycharm": {
     "name": "#%% md\n"
    }
   },
   "source": [
    "## Import packages"
   ]
  },
  {
   "cell_type": "code",
   "execution_count": 1,
   "metadata": {
    "ExecuteTime": {
     "end_time": "2025-01-04T11:04:30.994575Z",
     "start_time": "2025-01-04T11:04:29.002471Z"
    },
    "pycharm": {
     "name": "#%%\n"
    }
   },
   "outputs": [],
   "source": [
    "from typing import List\n",
    "\n",
    "import numpy as np\n",
    "\n",
    "from pyinterpolate import read_txt, build_experimental_variogram, build_theoretical_variogram, kriging"
   ]
  },
  {
   "cell_type": "markdown",
   "metadata": {
    "pycharm": {
     "name": "#%% md\n"
    }
   },
   "source": [
    "## 1) Read point data"
   ]
  },
  {
   "cell_type": "code",
   "execution_count": 2,
   "metadata": {
    "ExecuteTime": {
     "end_time": "2025-01-04T11:04:31.014819Z",
     "start_time": "2025-01-04T11:04:30.997583Z"
    },
    "pycharm": {
     "name": "#%%\n"
    }
   },
   "outputs": [
    {
     "data": {
      "text/plain": [
       "array([[2.37685325e+05, 5.45416708e+05, 5.12545509e+01],\n",
       "       [2.37674140e+05, 5.45209671e+05, 4.89582825e+01],\n",
       "       [2.37449255e+05, 5.41045935e+05, 1.68178635e+01]])"
      ]
     },
     "execution_count": 2,
     "metadata": {},
     "output_type": "execute_result"
    }
   ],
   "source": [
    "dem = read_txt('samples/point_data/txt/pl_dem_epsg2180.txt')\n",
    "dem[: 3]"
   ]
  },
  {
   "cell_type": "markdown",
   "metadata": {
    "pycharm": {
     "name": "#%% md\n"
    }
   },
   "source": [
    "In the beginning, we remove 70 % of our points from the dataset, and we will leave them as a test set to estimate how good our models are."
   ]
  },
  {
   "cell_type": "code",
   "execution_count": 3,
   "metadata": {
    "ExecuteTime": {
     "end_time": "2025-01-04T11:04:31.033680Z",
     "start_time": "2025-01-04T11:04:31.017061Z"
    },
    "pycharm": {
     "name": "#%%\n"
    }
   },
   "outputs": [],
   "source": [
    "def create_train_test(dataset: np.ndarray, training_set_ratio=0.3):\n",
    "    \"\"\"\n",
    "    Function divides base dataset into a training and a test set.\n",
    "\n",
    "    Parameters\n",
    "    ----------\n",
    "    dataset : np.ndarray\n",
    "\n",
    "    training_set_ratio : float, default = 0.3\n",
    "    \n",
    "    Returns\n",
    "    -------\n",
    "    training_set, test_set : List[np.ndarray]\n",
    "    \"\"\"\n",
    "\n",
    "    np.random.seed(101)  # To ensure that we will get the same results every time\n",
    "\n",
    "    indexes_of_training_set = np.random.choice(range(len(dataset) - 1), int(training_set_ratio * len(dataset)), replace=False)\n",
    "    training_set = dataset[indexes_of_training_set]\n",
    "    validation_set = np.delete(dataset, indexes_of_training_set, 0)\n",
    "    return training_set, validation_set\n",
    "\n",
    "\n",
    "train_set, test_set = create_train_test(dem)"
   ]
  },
  {
   "cell_type": "markdown",
   "metadata": {
    "pycharm": {
     "name": "#%% md\n"
    }
   },
   "source": [
    "We have removed a subset of points from a dataset to be sure that Kriging is working. In this scenario, 70% of available points are removed, but in real-world cases, you will probably have even fewer points to perform estimations, down to the 1% of known values.\n",
    "\n",
    "Function `create_train_test()` divides our dataset into two subsets:\n",
    "\n",
    "- **training set** used for semivariogram model derivation,\n",
    "- **test set** used for the model error calculation.\n",
    "\n",
    "Points for each set are chosen randomly to avoid bias related to the geographical location. Let's imagine we have a sorted list of Digital Elevation Model points. The western part of our measurements covers a mountain, and the eastern part is plain. When we use the part of the west for modeling and the east part for tests, we are going directly into a catastrophe! That's why performing multiple random sampling and testing various realizations from our data is better. We will prepare only one realization with a fixed random seed, but you should be aware that in the real-world analysis, we must test more realizations (e.g., set multiple random seeds).\n"
   ]
  },
  {
   "cell_type": "markdown",
   "metadata": {
    "pycharm": {
     "name": "#%% md\n"
    }
   },
   "source": [
    "## 2) Set Semivariogram model\n",
    "\n",
    "In this step, we are going to create experimental and theoretical semivariograms."
   ]
  },
  {
   "cell_type": "code",
   "execution_count": 4,
   "metadata": {
    "ExecuteTime": {
     "end_time": "2025-01-04T11:04:31.815385Z",
     "start_time": "2025-01-04T11:04:31.021543Z"
    },
    "pycharm": {
     "name": "#%%\n"
    }
   },
   "outputs": [],
   "source": [
    "# Prepare experimental semivariogram\n",
    "\n",
    "step_radius = 500  # meters\n",
    "max_range = 10000  # meters\n",
    "\n",
    "exp_semivar = build_experimental_variogram(input_array=train_set, step_size=step_radius, max_range=max_range)"
   ]
  },
  {
   "cell_type": "code",
   "execution_count": 5,
   "metadata": {
    "ExecuteTime": {
     "end_time": "2025-01-04T11:04:31.983009Z",
     "start_time": "2025-01-04T11:04:31.818876Z"
    },
    "pycharm": {
     "name": "#%%\n"
    }
   },
   "outputs": [
    {
     "data": {
      "image/png": "[encoded data removed]",
      "text/plain": [
       "<Figure size 1200x600 with 1 Axes>"
      ]
     },
     "metadata": {},
     "output_type": "display_data"
    }
   ],
   "source": [
    "# Plot experimental semivariogram\n",
    "\n",
    "exp_semivar.plot()"
   ]
  },
  {
   "cell_type": "code",
   "execution_count": 6,
   "metadata": {
    "ExecuteTime": {
     "end_time": "2025-01-04T11:04:31.983731Z",
     "start_time": "2025-01-04T11:04:31.980375Z"
    },
    "pycharm": {
     "name": "#%%\n"
    }
   },
   "outputs": [],
   "source": [
    "# Fit data into a theoretical model\n",
    "\n",
    "semivar = build_theoretical_variogram(experimental_variogram=exp_semivar,\n",
    "                                      model_name='linear',\n",
    "                                      sill=exp_semivar.variance,\n",
    "                                      rang=max_range)"
   ]
  },
  {
   "cell_type": "code",
   "execution_count": 7,
   "metadata": {
    "ExecuteTime": {
     "end_time": "2025-01-04T11:04:32.137663Z",
     "start_time": "2025-01-04T11:04:31.991869Z"
    },
    "pycharm": {
     "name": "#%%\n"
    }
   },
   "outputs": [
    {
     "data": {
      "image/png": "[encoded data removed]",
      "text/plain": [
       "<Figure size 1200x600 with 1 Axes>"
      ]
     },
     "metadata": {},
     "output_type": "display_data"
    }
   ],
   "source": [
    "semivar.plot()"
   ]
  },
  {
   "cell_type": "code",
   "execution_count": 8,
   "metadata": {
    "ExecuteTime": {
     "end_time": "2025-01-04T11:04:32.147218Z",
     "start_time": "2025-01-04T11:04:32.139094Z"
    },
    "pycharm": {
     "name": "#%%\n"
    }
   },
   "outputs": [
    {
     "name": "stdout",
     "output_type": "stream",
     "text": [
      "* Selected model: Linear model\n",
      "* Nugget: 0.0\n",
      "* Sill: 493.778772754868\n",
      "* Range: 10000\n",
      "* Spatial Dependency Strength is Unknown\n",
      "* Mean Bias: 21.92700357030904\n",
      "* Mean RMSE: 37.17324824914244\n",
      "* Error-lag weighting method: None\n",
      "\n",
      "\n",
      "+--------+--------------------+--------------------+---------------------+\n",
      "|  lag   |    theoretical     |    experimental    |     bias (y-y')     |\n",
      "+--------+--------------------+--------------------+---------------------+\n",
      "| 500.0  |  24.6889386377434  | 15.614084077885668 |  -9.074854559857734 |\n",
      "| 1000.0 |  49.3778772754868  | 34.151521896711735 | -15.226355378775068 |\n",
      "| 1500.0 |  74.0668159132302  | 56.61060460335831  |  -17.45621130987189 |\n",
      "| 2000.0 |  98.7557545509736  | 81.75250857008155  |  -17.00324598089206 |\n",
      "| 2500.0 |  123.444693188717  | 107.39147411240353 | -16.053219076313468 |\n",
      "| 3000.0 | 148.1336318264604  | 138.01527174633642 | -10.118360080123978 |\n",
      "| 3500.0 | 172.82257046420378 | 170.17760461535644 | -2.6449658488473347 |\n",
      "| 4000.0 | 197.5115091019472  | 201.7643955690108  |  4.2528864670635755 |\n",
      "| 4500.0 | 222.2004477396906  | 235.6737606045218  |   13.4733128648312  |\n",
      "| 5000.0 |  246.889386377434  | 274.49115425599933 |  27.60176787856534  |\n",
      "| 5500.0 | 271.5783250151774  | 304.81328096735956 |  33.23495595218213  |\n",
      "| 6000.0 | 296.2672636529208  | 341.13970843945583 |  44.87244478653503  |\n",
      "| 6500.0 | 320.9562022906642  | 367.8150566677254  |  46.85885437706122  |\n",
      "| 7000.0 | 345.64514092840756 | 403.5663320998641  |  57.92119117145654  |\n",
      "| 7500.0 |  370.334079566151  | 430.51175648403176 |  60.177676917880774 |\n",
      "| 8000.0 | 395.0230182038944  | 456.5353159209564  |  61.51229771706198  |\n",
      "| 8500.0 | 419.7119568416378  | 472.6792052919712  |  52.967248450333386 |\n",
      "| 9000.0 | 444.4008954793812  | 496.87388696572737 |  52.47299148634619  |\n",
      "| 9500.0 | 469.08983411712455 | 517.9344861183605  |  48.84465200123594  |\n",
      "+--------+--------------------+--------------------+---------------------+\n"
     ]
    }
   ],
   "source": [
    "print(semivar)"
   ]
  },
  {
   "cell_type": "markdown",
   "metadata": {
    "pycharm": {
     "name": "#%% md\n"
    }
   },
   "source": [
    "## 3) Set Ordinary Kriging and Simple Kriging models\n",
    "\n",
    "This is the essential step of our tutorial. We've set our semivariogram model and can now predict unknown values. We will \"predict\" a known and arbitrary point in the first run. It is a test of Kriging, which should work as **an unbiased linear estimator**. Thus it should return the **exact** value if we pass into it a point used for training. In the second step, we will try to guess values at unknown locations and calculate the **R**oot **M**ean **S**quared **E**rror (RMSE) of interpolated values.\n",
    "\n",
    "We can use the same `kriging()` function for both kriging types. It takes those arguments:\n",
    "\n",
    "- `observations`: array with known points,\n",
    "- `theoretical_model`: fitted `TheoreticalVariogram` model,\n",
    "- `points`: points to interpolate values,\n",
    "- `how`: `ok` - ordinary kriging, `sk` - simple kriging,\n",
    "- `neighbors_range`: `None` or `float`, the maximum distance where we search for point neighbors. If `None` is given, the range is selected from the `theoretical_model` `rang` attribute.\n",
    "- `no_neighbors`: `int`, number of neighbors to estimate unknown value.\n",
    "- `use_all_neighbors_in_range`: `bool`, default is `False`. `True`: if the number of neighbors within the `neighbors_range` is greater than the `number_of_neighbors`, then take all of them for modeling.\n",
    "- `sk_mean`: `None` or `float`, the mean value of a process over a study area. It should be known before processing, and that's why Simple Kriging has a limited number of applications. You must have multiple samples and a well-known area to use this parameter.\n",
    "- `allow_approx_solutions`: Allows the approximation of kriging weights based on the OLS algorithm. Not recommended to set it to `True` if you don't know what you are doing! By default, it is set to `False`,\n",
    "- `number_of_workers`: if we pass more than 10k points to interpolate, setting this parameter to the number of your CPU workers (or -1) will speed up calculations.\n",
    "\n",
    "We use only the first four parameters and `sk_mean` when we perform Simple Kriging. Let's start! The first step is an interpolation of the value known by our model."
   ]
  },
  {
   "cell_type": "code",
   "execution_count": 9,
   "metadata": {
    "ExecuteTime": {
     "end_time": "2025-01-04T11:04:32.150786Z",
     "start_time": "2025-01-04T11:04:32.145298Z"
    },
    "pycharm": {
     "name": "#%%\n"
    }
   },
   "outputs": [
    {
     "data": {
      "text/plain": [
       "array([2.49304390e+05, 5.40766289e+05, 2.03649998e+01])"
      ]
     },
     "execution_count": 9,
     "metadata": {},
     "output_type": "execute_result"
    }
   ],
   "source": [
    "# Select one known value\n",
    "\n",
    "known_value = train_set[10]\n",
    "known_value"
   ]
  },
  {
   "cell_type": "code",
   "execution_count": 10,
   "metadata": {
    "ExecuteTime": {
     "end_time": "2025-01-04T11:04:32.232349Z",
     "start_time": "2025-01-04T11:04:32.153198Z"
    },
    "pycharm": {
     "name": "#%%\n"
    }
   },
   "outputs": [
    {
     "name": "stderr",
     "output_type": "stream",
     "text": [
      "100%|██████████| 1/1 [00:00<00:00, 492.93it/s]\n"
     ]
    },
    {
     "data": {
      "text/plain": [
       "array([[2.03649998e+01, 0.00000000e+00, 2.49304390e+05, 5.40766289e+05]])"
      ]
     },
     "execution_count": 10,
     "metadata": {},
     "output_type": "execute_result"
    }
   ],
   "source": [
    "# Predict with Ordinary Kriging\n",
    "\n",
    "ok_interpolation = kriging(train_set, semivar, [known_value[:-1]])\n",
    "ok_interpolation"
   ]
  },
  {
   "cell_type": "markdown",
   "metadata": {
    "pycharm": {
     "name": "#%% md\n"
    }
   },
   "source": [
    "The first value is our prediction: it is precisely the same as the input in the training set! So far, the algorithm has worked well. The second value is prediction variance error, equal to zero - we are sure it is the exact value.\n",
    "\n",
    "Simple Kriging is slightly different than Ordinary Kriging, and we must set the process mean to retrieve valid results. It is rarely the case. That's why Ordinary Kriging is the first choice for many applications. We know the global mean because we have the whole dataset, but in the real-world scenario, we cannot divide the set into training and test sets and then get the mean from the entire dataset - it is an information leak from the test set into a model!"
   ]
  },
  {
   "cell_type": "code",
   "execution_count": 11,
   "metadata": {
    "ExecuteTime": {
     "end_time": "2025-01-04T11:04:32.234824Z",
     "start_time": "2025-01-04T11:04:32.186845Z"
    },
    "pycharm": {
     "name": "#%%\n"
    }
   },
   "outputs": [
    {
     "name": "stderr",
     "output_type": "stream",
     "text": [
      "100%|██████████| 1/1 [00:00<00:00, 698.35it/s]\n"
     ]
    },
    {
     "data": {
      "text/plain": [
       "array([[2.03649998e+01, 0.00000000e+00, 2.49304390e+05, 5.40766289e+05]])"
      ]
     },
     "execution_count": 11,
     "metadata": {},
     "output_type": "execute_result"
    }
   ],
   "source": [
    "sk_interpolation = kriging(train_set, semivar, [known_value[:-1]], how='sk', sk_mean=float(np.mean(dem)))\n",
    "sk_interpolation"
   ]
  },
  {
   "cell_type": "markdown",
   "metadata": {
    "pycharm": {
     "name": "#%% md\n"
    }
   },
   "source": [
    "The Simple Kriging algorithm returns the same output as the Ordinary Kriging: `[prediction, error variance, pt x, pt y]`. And as with Ordinary Kriging, Simple Kriging has returned the same value as the actual value fed to the algorithm."
   ]
  },
  {
   "cell_type": "markdown",
   "metadata": {
    "pycharm": {
     "name": "#%% md\n"
    }
   },
   "source": [
    "## 4) Predict values at unknown locations\n",
    "\n",
    "Using kriging for interpolation of known points values is pointless, and it is an excellent tool for a testing algorithm but nothing more. Here we will interpolate with Kriging, and we will interpolate values at unknown locations. Additionally, we will control the `no_neighbors` parameter to check how it influences predictions.\n",
    "\n",
    "In the first step, we will create a simple function to test our kriging results and calculate RMSE."
   ]
  },
  {
   "cell_type": "code",
   "execution_count": 12,
   "metadata": {
    "ExecuteTime": {
     "end_time": "2025-01-04T11:04:32.235869Z",
     "start_time": "2025-01-04T11:04:32.202211Z"
    },
    "pycharm": {
     "name": "#%%\n"
    }
   },
   "outputs": [],
   "source": [
    "def test_kriging(train_data, variogram_model, ktype, test_values, number_of_neighbors, sk_mean_value=None):\n",
    "    predictions = kriging(observations=train_data,\n",
    "                          theoretical_model=variogram_model,\n",
    "                          points=test_values[:, :-1],\n",
    "                          how=ktype,\n",
    "                          no_neighbors=number_of_neighbors,\n",
    "                          number_of_workers=1,\n",
    "                          sk_mean=sk_mean_value)\n",
    "    mse = np.mean((predictions[:, 0] - test_values[:, -1])**2)\n",
    "    rmse = np.sqrt(mse)\n",
    "    return rmse"
   ]
  },
  {
   "cell_type": "code",
   "execution_count": 13,
   "metadata": {
    "ExecuteTime": {
     "end_time": "2025-01-04T11:05:00.458333Z",
     "start_time": "2025-01-04T11:04:32.209744Z"
    },
    "pycharm": {
     "name": "#%%\n"
    }
   },
   "outputs": [
    {
     "name": "stdout",
     "output_type": "stream",
     "text": [
      "Ordinary Kriging: tests\n",
      "\n",
      "Number of neighbors: 4\n"
     ]
    },
    {
     "name": "stderr",
     "output_type": "stream",
     "text": [
      "100%|██████████| 4826/4826 [00:01<00:00, 2516.48it/s]\n"
     ]
    },
    {
     "name": "stdout",
     "output_type": "stream",
     "text": [
      "RMSE: 3.404341396262182\n",
      "\n",
      "Number of neighbors: 8\n"
     ]
    },
    {
     "name": "stderr",
     "output_type": "stream",
     "text": [
      "100%|██████████| 4826/4826 [00:01<00:00, 2620.57it/s]\n"
     ]
    },
    {
     "name": "stdout",
     "output_type": "stream",
     "text": [
      "RMSE: 3.2909488461696372\n",
      "\n",
      "Number of neighbors: 16\n"
     ]
    },
    {
     "name": "stderr",
     "output_type": "stream",
     "text": [
      "100%|██████████| 4826/4826 [00:01<00:00, 2494.66it/s]\n"
     ]
    },
    {
     "name": "stdout",
     "output_type": "stream",
     "text": [
      "RMSE: 3.2674275543792795\n",
      "\n",
      "Number of neighbors: 32\n"
     ]
    },
    {
     "name": "stderr",
     "output_type": "stream",
     "text": [
      "100%|██████████| 4826/4826 [00:02<00:00, 2273.84it/s]\n"
     ]
    },
    {
     "name": "stdout",
     "output_type": "stream",
     "text": [
      "RMSE: 3.2608735889738663\n",
      "\n",
      "Number of neighbors: 64\n"
     ]
    },
    {
     "name": "stderr",
     "output_type": "stream",
     "text": [
      "100%|██████████| 4826/4826 [00:03<00:00, 1483.94it/s]\n"
     ]
    },
    {
     "name": "stdout",
     "output_type": "stream",
     "text": [
      "RMSE: 3.2565732386644757\n",
      "\n",
      "Number of neighbors: 128\n"
     ]
    },
    {
     "name": "stderr",
     "output_type": "stream",
     "text": [
      "100%|██████████| 4826/4826 [00:07<00:00, 682.77it/s]\n"
     ]
    },
    {
     "name": "stdout",
     "output_type": "stream",
     "text": [
      "RMSE: 3.254786835977034\n",
      "\n",
      "Number of neighbors: 256\n"
     ]
    },
    {
     "name": "stderr",
     "output_type": "stream",
     "text": [
      "100%|██████████| 4826/4826 [00:10<00:00, 479.72it/s]"
     ]
    },
    {
     "name": "stdout",
     "output_type": "stream",
     "text": [
      "RMSE: 3.2550170696805028\n"
     ]
    },
    {
     "name": "stderr",
     "output_type": "stream",
     "text": [
      "\n"
     ]
    }
   ],
   "source": [
    "# Number of neighbors\n",
    "\n",
    "no_of_n = [4, 8, 16, 32, 64, 128, 256]\n",
    "print('Ordinary Kriging: tests')\n",
    "print('')\n",
    "\n",
    "for nn in no_of_n:\n",
    "    print('Number of neighbors:', nn)\n",
    "    rmse_pred = test_kriging(train_data=train_set, variogram_model=semivar, ktype='ok', test_values=test_set, number_of_neighbors=nn)\n",
    "    print('RMSE:', rmse_pred)\n",
    "    print('')"
   ]
  },
  {
   "cell_type": "code",
   "execution_count": 14,
   "metadata": {
    "ExecuteTime": {
     "end_time": "2025-01-04T11:05:25.649757Z",
     "start_time": "2025-01-04T11:05:00.472456Z"
    },
    "pycharm": {
     "name": "#%%\n"
    }
   },
   "outputs": [
    {
     "name": "stdout",
     "output_type": "stream",
     "text": [
      "Simple Kriging: tests\n",
      "\n",
      "Number of neighbors: 4\n"
     ]
    },
    {
     "name": "stderr",
     "output_type": "stream",
     "text": [
      "100%|██████████| 4826/4826 [00:02<00:00, 2189.68it/s]\n"
     ]
    },
    {
     "name": "stdout",
     "output_type": "stream",
     "text": [
      "RMSE: 8.697161939348147\n",
      "\n",
      "Number of neighbors: 8\n"
     ]
    },
    {
     "name": "stderr",
     "output_type": "stream",
     "text": [
      "100%|██████████| 4826/4826 [00:02<00:00, 2259.37it/s]\n"
     ]
    },
    {
     "name": "stdout",
     "output_type": "stream",
     "text": [
      "RMSE: 3.650066190084651\n",
      "\n",
      "Number of neighbors: 16\n"
     ]
    },
    {
     "name": "stderr",
     "output_type": "stream",
     "text": [
      "100%|██████████| 4826/4826 [00:02<00:00, 2210.26it/s]\n"
     ]
    },
    {
     "name": "stdout",
     "output_type": "stream",
     "text": [
      "RMSE: 3.348632949010878\n",
      "\n",
      "Number of neighbors: 32\n"
     ]
    },
    {
     "name": "stderr",
     "output_type": "stream",
     "text": [
      "100%|██████████| 4826/4826 [00:02<00:00, 1860.03it/s]\n"
     ]
    },
    {
     "name": "stdout",
     "output_type": "stream",
     "text": [
      "RMSE: 3.278583712643331\n",
      "\n",
      "Number of neighbors: 64\n"
     ]
    },
    {
     "name": "stderr",
     "output_type": "stream",
     "text": [
      "100%|██████████| 4826/4826 [00:02<00:00, 1653.58it/s]\n"
     ]
    },
    {
     "name": "stdout",
     "output_type": "stream",
     "text": [
      "RMSE: 3.261651162610457\n",
      "\n",
      "Number of neighbors: 128\n"
     ]
    },
    {
     "name": "stderr",
     "output_type": "stream",
     "text": [
      "100%|██████████| 4826/4826 [00:04<00:00, 1194.88it/s]\n"
     ]
    },
    {
     "name": "stdout",
     "output_type": "stream",
     "text": [
      "RMSE: 3.255919635781099\n",
      "\n",
      "Number of neighbors: 256\n"
     ]
    },
    {
     "name": "stderr",
     "output_type": "stream",
     "text": [
      "100%|██████████| 4826/4826 [00:09<00:00, 533.15it/s]"
     ]
    },
    {
     "name": "stdout",
     "output_type": "stream",
     "text": [
      "RMSE: 3.254332343473019\n"
     ]
    },
    {
     "name": "stderr",
     "output_type": "stream",
     "text": [
      "\n"
     ]
    }
   ],
   "source": [
    "print('Simple Kriging: tests')\n",
    "print('')\n",
    "\n",
    "sk_mean = np.mean(dem[:, -1])\n",
    "\n",
    "for nn in no_of_n:\n",
    "    print('Number of neighbors:', nn)\n",
    "    rmse_pred = test_kriging(train_data=train_set, variogram_model=semivar, ktype='sk', test_values=test_set, number_of_neighbors=nn, sk_mean_value=sk_mean)\n",
    "    print('RMSE:', rmse_pred)\n",
    "    print('')"
   ]
  },
  {
   "cell_type": "markdown",
   "metadata": {
    "pycharm": {
     "name": "#%% md\n"
    }
   },
   "source": [
    "Usually, Simple Kriging will give us worse results than Ordinary Kriging because we need to know the process mean to build a valid Simple Kriging model. Only if we know the process mean we can use Simple Kriging with a large number of neighbors. We see that the results of Simple Kriging are better when we pass more values into it. You shouldn't be shocked. Simple Kriging *discovers* the global mean and utilizes this information when building a Kriging system.\n",
    "\n",
    "On the other hand, Ordinary Kriging is a Swiss knife in our geostatistical toolbox. It works well even if we don't know the process mean, and it should be our first-choice technique.\n",
    "\n",
    "Let's look into processing times with a growing number of neighbors. We can theoretically take more and more neighbors, but is it worth it?\n",
    "\n",
    "- **Small dataset**: with small datasets (up to 1000 points), we may consider using many neighbors. It shouldn't be a problem for processing time.\n",
    "- **Large dataset**: more than 5000 points? Then we must take into account two scenarios:\n",
    "1. A single report or only a one-time analysis - then use as many neighbors as it is possible (within range);\n",
    "2. Near-real time and systematic analyses - use fewer neighbors, between 8 - 128. I usually use 32 neighbors for datasets with more than 1000 point pairs."
   ]
  },
  {
   "cell_type": "markdown",
   "metadata": {
    "collapsed": false,
    "pycharm": {
     "name": "#%% md\n"
    }
   },
   "source": [
    "---"
   ]
  },
  {
   "cell_type": "markdown",
   "metadata": {
    "collapsed": false
   },
   "source": [
    "## Where to go from here?\n",
    "\n",
    "* B.1.2 Kriging Benchmarking\n",
    "* B.1.3 Outliers and Kriging Model\n",
    "* B.2.1 Directional Ordinary Kriging\n",
    "* C.1.1 Blocks to Points Interpolation with Ordinary Kriging "
   ]
  },
  {
   "cell_type": "markdown",
   "metadata": {
    "collapsed": false
   },
   "source": [
    "## Changelog\n",
    "\n",
    "| Date       | Change description                                                                                                                                                | Author         |\n",
    "|------------|-------------------------------------------------------------------------------------------------------------------------------------------------------------------|----------------|\n",
    "| 2023-08-22 | The tutorial was refreshed and set along with the 0.5.0 version of the package                                                                                    | @SimonMolinsky |\n",
    "| 2023-04-15 | Tutorial debugged and updated to the 0.4.1 version of the package                                                                                                 | @SimonMolinsky |\n",
    "| 2022-11-05 | Tutorial updated for the 0.3.5 version of the package                                                                                                             | @SimonMolinsky |\n",
    "| 2022-08-20 | The tutorial is updated to the version 0.3.0 of the package                                                                                                       | @SimonMolinsky |\n",
    "| 2021-12-14 | Sill selection was upgraded: now optimal sill is derived from the grid search within `TheoreticalSemivariogram` class & error variance estimated in a correct way | @SimonMolinsky |\n",
    "| 2021-12-13 | Changed behavior of `select_values_in_range()` function                                                                                                           | @SimonMolinsky |\n",
    "| 2021-12-11 | Behavior of `prepare_kriging_data()` function has benn changed                                                                                                    | @SimonMolinsky |\n",
    "| 2021-05-11 | Refactored TheoreticalSemivariogram class                                                                                                                         | @SimonMolinsky |\n",
    "| 2021-04-03 | Simple Kriging `global_mean` parameter update.                                                                                                                    | @SimonMolinsky |\n",
    "| 2021-03-31 | Update related to the change of semivariogram weighting. Updated point data source.                                                                               | @SimonMolinsky |"
   ]
  },
  {
   "cell_type": "code",
   "execution_count": 14,
   "metadata": {
    "ExecuteTime": {
     "end_time": "2025-01-04T11:05:25.658063Z",
     "start_time": "2025-01-04T11:05:25.652057Z"
    },
    "collapsed": false
   },
   "outputs": [],
   "source": []
  }
 ],
 "metadata": {
  "kernelspec": {
   "display_name": "Python 3 (ipykernel)",
   "language": "python",
   "name": "python3"
  },
  "language_info": {
   "codemirror_mode": {
    "name": "ipython",
    "version": 3
   },
   "file_extension": ".py",
   "mimetype": "text/x-python",
   "name": "python",
   "nbconvert_exporter": "python",
   "pygments_lexer": "ipython3",
   "version": "3.10.6"
  }
 },
 "nbformat": 4,
 "nbformat_minor": 4
}

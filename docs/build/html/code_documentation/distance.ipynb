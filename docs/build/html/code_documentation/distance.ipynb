{
 "cells": [
  {
   "cell_type": "markdown",
   "metadata": {},
   "source": [
    "# distance module\n",
    "\n",
    "Available methods:\n",
    "\n",
    "- calc_point_to_point_distance: calculates distances between all points in the given array,\n",
    "- calc_block_to_block_distance: calculates distances between blocks based on the population points within the block."
   ]
  },
  {
   "cell_type": "markdown",
   "metadata": {},
   "source": [
    "## ```calc_point_to_point_distance()```\n",
    "\n",
    "```python\n",
    "pyinterpolate.distance.calc_point_to_point_distance(\n",
    "    points_a,\n",
    "    points_b=None)\n",
    "```\n",
    "\n",
    "Function calculates distances between all points in the given array.\n",
    "\n",
    "INPUT:\n",
    "\n",
    "- **points_a**: (_numpy array_) points coordinates,\n",
    "- **points_b**: (_numpy array_) points coordinates, default is ```None```. If ```None``` then distance between all points in ```points_a``` is calculated.\n",
    "\n",
    "OUTPUT:\n",
    "\n",
    "- ```numpy array``` of distances between all coordinates."
   ]
  },
  {
   "cell_type": "markdown",
   "metadata": {},
   "source": [
    "***"
   ]
  },
  {
   "cell_type": "markdown",
   "metadata": {},
   "source": [
    "## ```calc_block_to_block_distance()```\n",
    "\n",
    "\n",
    "```python\n",
    "pyinterpolate.distance.calc_block_to_block_distance(areas)\n",
    "```\n",
    "\n",
    "Function calculates distances between blocks based on the population points within the block.\n",
    "\n",
    "INPUT:\n",
    "\n",
    "- **areas**: (_numpy array_ or Python _list of lists_) area _id's_ and coordinates per each id. Single input row:\n",
    "\n",
    "```python\n",
    "[\n",
    "    area_id,\n",
    "    [x, y, val]\n",
    "]\n",
    "```\n",
    "\n",
    "OUTPUT:\n",
    "\n",
    "- **areal distances**: ```tuple of arrays``` with matrix with areal distances and ids of each row of distances:\n",
    "\n",
    "\n",
    "```python\n",
    "(\n",
    "    [\n",
    "        [dist(id0:id0), ..., dist(id0:id99)],\n",
    "        ...,\n",
    "        [dist(id99:id0), ..., dist(id99:id99)]\n",
    "    ],\n",
    "    [id0, id1, ..., id999]\n",
    ")\n",
    "```"
   ]
  }
 ],
 "metadata": {
  "kernelspec": {
   "display_name": "Python 3",
   "language": "python",
   "name": "python3"
  },
  "language_info": {
   "codemirror_mode": {
    "name": "ipython",
    "version": 3
   },
   "file_extension": ".py",
   "mimetype": "text/x-python",
   "name": "python",
   "nbconvert_exporter": "python",
   "pygments_lexer": "ipython3",
   "version": "3.7.8"
  }
 },
 "nbformat": 4,
 "nbformat_minor": 4
}

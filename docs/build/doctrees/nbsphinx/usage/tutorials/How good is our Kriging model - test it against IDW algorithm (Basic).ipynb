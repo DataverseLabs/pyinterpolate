{
 "cells": [
  {
   "cell_type": "markdown",
   "id": "a4055724",
   "metadata": {
    "pycharm": {
     "name": "#%% md\n"
    }
   },
   "source": [
    "# How good is my Kriging model? - tests with IDW algorithm\n",
    "\n",
    "## Table of Contents:\n",
    "\n",
    "1. Read point data,\n",
    "2. Divide dataset into two sets: modeling and validation set,\n",
    "3. Perform IDW and evaluate it,\n",
    "4. Perform variogram modeling on the modeling set,\n",
    "5. Validate Kriging and compare Kriging and IDW validation results,\n",
    "6. Bonus scenario: only 2% of values are known!\n",
    "\n",
    "## Level: Basic\n",
    "\n",
    "## Changelog\n",
    "\n",
    "| Date       | Change description                                                                                                    | Author |\n",
    "|------------|-----------------------------------------------------------------------------------------------------------------------|--------|\n",
    "| 2023-04-15 | Tutorial debugged and updated to the 0.4.1 version of the package                                                     | @SimonMolinsky |\n",
    "| 2022-11-05 | Tutorial updated for the 0.3.5 version of the package                                                                 | @SimonMolinsky |\n",
    "| 2022-08-23 | The new version of tutorial for the 0.3.0 version of a package                                                        | @SimonMolinsky |\n",
    "| 2021-12-14 | Sill selection was upgraded: now optimal sill is derived from the grid search within `TheoreticalSemivariogram` class | @SimonMolinsky |\n",
    "| 2021-12-13 | Changed behavior of `select_values_in_range()` function                                                               | @SimonMolinsky |\n",
    "| 2021-12-08 | Behavior of `prepare_kriging_data()` function has changed                                                             | @SimonMolinsky |\n",
    "| 2021-05-12 | First version of tutorial                                                                                             | @SimonMolinsky |\n",
    "\n",
    "## Introduction\n",
    "\n",
    "In this tutorial, we will learn how we could validate our Kriging model. We'll compare it to the **Inverse Distance Weighting** function, where the unknown point value is interpolated as the weighted mean of its neighbors. Weights are inversely proportional to the distance between neighboring points, dropping faster with a higher power.\n",
    "\n",
    "(1) **GENERAL FORM OF IDW**\n",
    "\n",
    "$$z(u) = \\frac{\\sum_{i}\\lambda_{i}*z_{i}}{\\sum_{i}\\lambda_{i}}$$\n",
    "\n",
    "where:\n",
    "\n",
    "- $z(u)$: is the value at an unknown location,\n",
    "- $i$: is an i-th known location,\n",
    "- $z_{i}$: is a value at known location $i$,\n",
    "- $\\lambda_{i}$: is a weight assigned to the known location $i$.\n",
    "\n",
    "(2) **WEIGHTING PARAMETER**\n",
    "\n",
    "$$\\lambda_{i} = \\frac{1}{d^{p}_{i}}$$\n",
    "\n",
    "where:\n",
    "\n",
    "- $d$:  is a distance from the known point $z_{i}$ to the unknown point $z(u)$,\n",
    "- $p$: is a hyperparameter that controls how strong a relationship is between a known and unknown point. You may set large $p$ if you want to show a strong relationship between the closest point and the feeble influence of distant points. On the other hand, you may set small $p$ to emphasize that points are influencing each other with the same power regardless of their distance.\n",
    "\n",
    "---\n",
    "\n",
    "As you noticed **IDW** is a simple but powerful technique. Unfortunately, it has a significant drawback: **we must set `p` - power - manually**, which isn't derived from the data and variogram. That's why it can be used for other tasks. An example is to use IDW as a baseline for comparison to the different techniques."
   ]
  },
  {
   "cell_type": "markdown",
   "id": "3a224fa8",
   "metadata": {
    "pycharm": {
     "name": "#%% md\n"
    }
   },
   "source": [
    "## Import packages"
   ]
  },
  {
   "cell_type": "code",
   "execution_count": 1,
   "id": "71be79cf",
   "metadata": {
    "pycharm": {
     "name": "#%%\n"
    }
   },
   "outputs": [],
   "source": [
    "import numpy as np\n",
    "\n",
    "from pyinterpolate import inverse_distance_weighting  # function for idw\n",
    "from pyinterpolate import read_txt\n",
    "from pyinterpolate import build_experimental_variogram  # experimental semivariogram\n",
    "from pyinterpolate import build_theoretical_variogram, TheoreticalVariogram  # theoretical models\n",
    "from pyinterpolate import kriging  # kriging models"
   ]
  },
  {
   "cell_type": "markdown",
   "id": "ebb666bc",
   "metadata": {
    "pycharm": {
     "name": "#%% md\n"
    }
   },
   "source": [
    "## 1) Read point data"
   ]
  },
  {
   "cell_type": "code",
   "execution_count": 2,
   "id": "e93c5805",
   "metadata": {
    "pycharm": {
     "name": "#%%\n"
    }
   },
   "outputs": [
    {
     "data": {
      "text/plain": [
       "array([[2.37685325e+05, 5.45416708e+05, 5.12545509e+01],\n",
       "       [2.37674140e+05, 5.45209671e+05, 4.89582825e+01],\n",
       "       [2.37449255e+05, 5.41045935e+05, 1.68178635e+01],\n",
       "       ...,\n",
       "       [2.54751735e+05, 5.41480271e+05, 4.03093376e+01],\n",
       "       [2.54682103e+05, 5.40099921e+05, 2.19432678e+01],\n",
       "       [2.54521994e+05, 5.36925123e+05, 5.15251350e+01]])"
      ]
     },
     "execution_count": 2,
     "metadata": {},
     "output_type": "execute_result"
    }
   ],
   "source": [
    "dem = read_txt('samples/point_data/txt/pl_dem_epsg2180.txt')\n",
    "dem"
   ]
  },
  {
   "cell_type": "markdown",
   "id": "2dcee1cb",
   "metadata": {
    "pycharm": {
     "name": "#%% md\n"
    }
   },
   "source": [
    "## 2) Divide the dataset into two sets: modeling and validation set\n",
    "\n",
    "In this step, we will divide our dataset into two sets:\n",
    "\n",
    "- modeling set (10%): points used for variogram modeling,\n",
    "- validation set (90%): points used for prediction and results validation.\n",
    "\n",
    "The baseline dataset will be divided randomly."
   ]
  },
  {
   "cell_type": "code",
   "execution_count": 3,
   "id": "7fda0a32",
   "metadata": {
    "pycharm": {
     "name": "#%%\n"
    }
   },
   "outputs": [],
   "source": [
    "# Create modeling and validation sets\n",
    "\n",
    "def create_model_validation_sets(dataset: np.array, training_set_ratio=0.5, rnd_seed=101):\n",
    "\n",
    "    np.random.seed(rnd_seed)\n",
    "\n",
    "    indexes_of_training_set = np.random.choice(range(len(dataset) - 1), int(training_set_ratio * len(dataset)), replace=False)\n",
    "    training_set = dataset[indexes_of_training_set]\n",
    "    validation_set = np.delete(dataset, indexes_of_training_set, 0)\n",
    "    return training_set, validation_set\n",
    "\n",
    "known_points, unknown_points = create_model_validation_sets(dem)"
   ]
  },
  {
   "cell_type": "markdown",
   "id": "c27a2f14",
   "metadata": {
    "pycharm": {
     "name": "#%% md\n"
    }
   },
   "source": [
    "## 3) Perform IDW and evaluate it\n",
    "\n",
    "Inverse Distance Weighting doesn't require variogram modeling or other steps. We pass power that affects weights in a denominator. Things to remember are:\n",
    "\n",
    "- Large `power` -> closer neighbours are more important,\n",
    "- `power` which is close to the **zero** -> all neighbors are important, and we assume that the distant process has the same effect on our variable as the closest events.\n"
   ]
  },
  {
   "cell_type": "code",
   "execution_count": 4,
   "id": "719ceb16",
   "metadata": {
    "pycharm": {
     "name": "#%%\n"
    }
   },
   "outputs": [],
   "source": [
    "IDW_POWER = 2\n",
    "NUMBER_OF_NEIGHBOURS = 128\n",
    "\n",
    "idw_predictions = []\n",
    "\n",
    "for pt in unknown_points:\n",
    "    idw_result = inverse_distance_weighting(known_points, pt[:-1], NUMBER_OF_NEIGHBOURS, IDW_POWER)\n",
    "    idw_predictions.append(idw_result)"
   ]
  },
  {
   "cell_type": "code",
   "execution_count": 5,
   "id": "01192717",
   "metadata": {
    "pycharm": {
     "name": "#%%\n"
    }
   },
   "outputs": [
    {
     "name": "stdout",
     "output_type": "stream",
     "text": [
      "Root Mean Squared Error of prediction with IDW is 2.5045203528088513\n"
     ]
    }
   ],
   "source": [
    "# Evaluation\n",
    "\n",
    "idw_rmse = np.mean(np.sqrt((unknown_points[:, -1] - np.array(idw_predictions))**2))\n",
    "print(f'Root Mean Squared Error of prediction with IDW is {idw_rmse}')"
   ]
  },
  {
   "cell_type": "markdown",
   "id": "7f7c17e9",
   "metadata": {
    "pycharm": {
     "name": "#%% md\n"
    }
   },
   "source": [
    "**Clarification:** Obtained Root Mean Squared Error could serve as a baseline for further model development. To build a better reference, we create four IDW models of powers:\n",
    "\n",
    "1. **0.5**\n",
    "2. **1**\n",
    "3. **2**\n",
    "4. **4**"
   ]
  },
  {
   "cell_type": "code",
   "execution_count": 6,
   "id": "52a73e14",
   "metadata": {
    "pycharm": {
     "name": "#%%\n"
    }
   },
   "outputs": [],
   "source": [
    "IDW_POWERS = [0.5, 1, 2, 4]\n",
    "idw_rmse = {}\n",
    "\n",
    "for pw in IDW_POWERS:\n",
    "    results = []\n",
    "    for pt in unknown_points:\n",
    "        idw_result = inverse_distance_weighting(known_points, pt[:-1], NUMBER_OF_NEIGHBOURS, pw)\n",
    "        results.append(idw_result)\n",
    "    idw_rmse[pw] = np.mean(np.sqrt((unknown_points[:, -1] - np.array(results))**2))"
   ]
  },
  {
   "cell_type": "code",
   "execution_count": 7,
   "id": "be7de725",
   "metadata": {
    "pycharm": {
     "name": "#%%\n"
    }
   },
   "outputs": [
    {
     "name": "stdout",
     "output_type": "stream",
     "text": [
      "Root Mean Squared Error of prediction with IDW of power 0.5 is 4.4434\n",
      "Root Mean Squared Error of prediction with IDW of power 1 is 3.8513\n",
      "Root Mean Squared Error of prediction with IDW of power 2 is 2.5045\n",
      "Root Mean Squared Error of prediction with IDW of power 4 is 1.8198\n"
     ]
    }
   ],
   "source": [
    "for pw in IDW_POWERS:\n",
    "    print(f'Root Mean Squared Error of prediction with IDW of power {pw} is {idw_rmse[pw]:.4f}')"
   ]
  },
  {
   "cell_type": "markdown",
   "id": "16f56132",
   "metadata": {
    "pycharm": {
     "name": "#%% md\n"
    }
   },
   "source": [
    "## 4) Perform variogram modeling on the modeling set\n",
    "\n",
    "In this step, we will go through semivariogram modeling for Kriging interpolation."
   ]
  },
  {
   "cell_type": "code",
   "execution_count": 8,
   "id": "f765998f",
   "metadata": {
    "pycharm": {
     "name": "#%%\n"
    }
   },
   "outputs": [],
   "source": [
    "max_range = 10000\n",
    "step_size = 500\n",
    "\n",
    "exp_semivar = build_experimental_variogram(known_points, step_size=step_size, max_range=max_range)"
   ]
  },
  {
   "cell_type": "code",
   "execution_count": 9,
   "id": "644df59a",
   "metadata": {
    "pycharm": {
     "name": "#%%\n"
    }
   },
   "outputs": [],
   "source": [
    "semivar = build_theoretical_variogram(exp_semivar, model_type='circular', sill=exp_semivar.variance, rang=max_range)"
   ]
  },
  {
   "cell_type": "code",
   "execution_count": 10,
   "id": "cadfc13c",
   "metadata": {
    "pycharm": {
     "name": "#%%\n"
    }
   },
   "outputs": [
    {
     "data": {
      "image/png": "[encoded data removed]",
      "text/plain": [
       "<Figure size 1200x600 with 1 Axes>"
      ]
     },
     "metadata": {},
     "output_type": "display_data"
    }
   ],
   "source": [
    "semivar.plot()"
   ]
  },
  {
   "cell_type": "markdown",
   "id": "74bcf7e9",
   "metadata": {
    "pycharm": {
     "name": "#%% md\n"
    }
   },
   "source": [
    "## 5) Validate Kriging and compare Kriging and IDW validation results\n",
    "\n",
    "Lastly, we perform Kriging interpolation and compare results to the **IDW** models. We use all points to weight values at unknown locations and the semivariogram model we chose in the previous step."
   ]
  },
  {
   "cell_type": "code",
   "execution_count": 11,
   "id": "e61d66dd",
   "metadata": {
    "pycharm": {
     "name": "#%%\n"
    }
   },
   "outputs": [
    {
     "name": "stderr",
     "output_type": "stream",
     "text": [
      "100%|██████████| 3447/3447 [00:06<00:00, 533.94it/s]\n"
     ]
    }
   ],
   "source": [
    "# Set Kriging model\n",
    "\n",
    "predictions = kriging(observations=known_points, theoretical_model=semivar, points=unknown_points[:, :-1], no_neighbors=128)"
   ]
  },
  {
   "cell_type": "code",
   "execution_count": 12,
   "id": "539596a6",
   "metadata": {
    "pycharm": {
     "name": "#%%\n"
    }
   },
   "outputs": [
    {
     "name": "stdout",
     "output_type": "stream",
     "text": [
      "Root Mean Squared Error of prediction with Kriging is 1.6638061333290726\n"
     ]
    }
   ],
   "source": [
    "# Evaluation\n",
    "\n",
    "kriging_rmse = np.mean(np.sqrt((unknown_points[:, -1] - np.array(predictions[:, 0]))**2))\n",
    "print(f'Root Mean Squared Error of prediction with Kriging is {kriging_rmse}')"
   ]
  },
  {
   "cell_type": "markdown",
   "id": "69ad4c42",
   "metadata": {
    "pycharm": {
     "name": "#%% md\n"
    }
   },
   "source": [
    "**Clarification**: Kriging is better than any of the IDW models, and we may assume that our modeling approach gives us more insights into the spatial process we are observing. But this is not the end. Let's consider a more complex scenario!"
   ]
  },
  {
   "cell_type": "markdown",
   "id": "3f50a482",
   "metadata": {
    "pycharm": {
     "name": "#%% md\n"
    }
   },
   "source": [
    "## 6) Bonus scenario: only 2% of values are known!\n",
    "\n",
    "Data sampled from the real world is rarely as good as the sample from the tutorial. It is too expensive to densely sample every location, and usually, we get only a tiny percent of the area covered by data. That's why it is good to compare **IDW vs. Kriging** in this scenario! We repeat steps 1-5 with a change in the division for the modeling/validation set. (I encourage you to try it alone and compare your code and results with those given in this notebook)."
   ]
  },
  {
   "cell_type": "code",
   "execution_count": 13,
   "id": "3a0dd204",
   "metadata": {
    "pycharm": {
     "name": "#%%\n"
    }
   },
   "outputs": [],
   "source": [
    "# Data preparation\n",
    "\n",
    "known_points, unknown_points = create_model_validation_sets(dem, 0.02, rnd_seed=112)"
   ]
  },
  {
   "cell_type": "code",
   "execution_count": 14,
   "id": "59e7e4f1",
   "metadata": {
    "pycharm": {
     "name": "#%%\n"
    }
   },
   "outputs": [],
   "source": [
    "IDW_POWERS = [0.5, 1, 2, 4, 6, 8]\n",
    "idw_rmse = {}\n",
    "\n",
    "for pw in IDW_POWERS:\n",
    "    results = []\n",
    "    for pt in unknown_points:\n",
    "        idw_result = inverse_distance_weighting(known_points, pt[:-1], NUMBER_OF_NEIGHBOURS, pw)\n",
    "        results.append(idw_result)\n",
    "    idw_rmse[pw] = np.mean(np.sqrt((unknown_points[:, -1] - np.array(results))**2))"
   ]
  },
  {
   "cell_type": "code",
   "execution_count": 15,
   "id": "f271c252",
   "metadata": {
    "pycharm": {
     "name": "#%%\n"
    }
   },
   "outputs": [
    {
     "name": "stdout",
     "output_type": "stream",
     "text": [
      "Root Mean Squared Error of prediction with IDW of power 0.5 is 17.1027\n",
      "Root Mean Squared Error of prediction with IDW of power 1 is 13.8879\n",
      "Root Mean Squared Error of prediction with IDW of power 2 is 7.1886\n",
      "Root Mean Squared Error of prediction with IDW of power 4 is 5.1183\n",
      "Root Mean Squared Error of prediction with IDW of power 6 is 5.2371\n",
      "Root Mean Squared Error of prediction with IDW of power 8 is 5.3415\n"
     ]
    }
   ],
   "source": [
    "for pw in IDW_POWERS:\n",
    "    print(f'Root Mean Squared Error of prediction with IDW of power {pw} is {idw_rmse[pw]:.4f}')"
   ]
  },
  {
   "cell_type": "code",
   "execution_count": 16,
   "id": "10c0229e",
   "metadata": {
    "pycharm": {
     "name": "#%%\n"
    }
   },
   "outputs": [],
   "source": [
    "# Variogram\n",
    "\n",
    "max_range = 10000\n",
    "step_size = 500\n",
    "\n",
    "exp_semivar = build_experimental_variogram(known_points, step_size=step_size, max_range=max_range)"
   ]
  },
  {
   "cell_type": "code",
   "execution_count": 17,
   "id": "af770e69",
   "metadata": {
    "pycharm": {
     "name": "#%%\n"
    }
   },
   "outputs": [
    {
     "data": {
      "image/png": "[encoded data removed]",
      "text/plain": [
       "<Figure size 1200x600 with 1 Axes>"
      ]
     },
     "metadata": {},
     "output_type": "display_data"
    }
   ],
   "source": [
    "semivar = TheoreticalVariogram()\n",
    "semivar.autofit(exp_semivar, model_types='spherical')\n",
    "semivar.plot()"
   ]
  },
  {
   "cell_type": "code",
   "execution_count": 18,
   "id": "0094160e",
   "metadata": {
    "pycharm": {
     "name": "#%%\n"
    }
   },
   "outputs": [
    {
     "name": "stderr",
     "output_type": "stream",
     "text": [
      "100%|██████████| 6756/6756 [00:08<00:00, 795.22it/s]\n"
     ]
    }
   ],
   "source": [
    "# Set Kriging model\n",
    "\n",
    "predictions = kriging(observations=known_points, theoretical_model=semivar, points=unknown_points[:, :-1], no_neighbors=128, use_all_neighbors_in_range=False)"
   ]
  },
  {
   "cell_type": "code",
   "execution_count": 19,
   "id": "90ed29cf",
   "metadata": {
    "pycharm": {
     "name": "#%%\n"
    }
   },
   "outputs": [
    {
     "name": "stdout",
     "output_type": "stream",
     "text": [
      "Root Mean Squared Error of prediction with Kriging is 4.886647202272596\n"
     ]
    }
   ],
   "source": [
    "# Evaluation\n",
    "\n",
    "kriging_rmse = np.mean(np.sqrt((unknown_points[:, -1] - np.array(predictions[:, 0]))**2))\n",
    "print(f'Root Mean Squared Error of prediction with Kriging is {kriging_rmse}')"
   ]
  },
  {
   "cell_type": "code",
   "execution_count": 20,
   "id": "d1edc10a",
   "metadata": {
    "pycharm": {
     "name": "#%%\n"
    }
   },
   "outputs": [
    {
     "name": "stdout",
     "output_type": "stream",
     "text": [
      "Root Mean Squared Error of prediction with IDW of power 0.5 is 17.1027\n",
      "Root Mean Squared Error of prediction with IDW of power 1 is 13.8879\n",
      "Root Mean Squared Error of prediction with IDW of power 2 is 7.1886\n",
      "Root Mean Squared Error of prediction with IDW of power 4 is 5.1183\n",
      "Root Mean Squared Error of prediction with IDW of power 6 is 5.2371\n",
      "Root Mean Squared Error of prediction with IDW of power 8 is 5.3415\n",
      "Root Mean Squared Error of prediction with Kriging is 4.8866\n"
     ]
    }
   ],
   "source": [
    "# Comparison\n",
    "\n",
    "for pw in IDW_POWERS:\n",
    "    print(f'Root Mean Squared Error of prediction with IDW of power {pw} is {idw_rmse[pw]:.4f}')\n",
    "print(f'Root Mean Squared Error of prediction with Kriging is {kriging_rmse:.4f}')"
   ]
  },
  {
   "cell_type": "markdown",
   "id": "47ce7fb7",
   "metadata": {
    "pycharm": {
     "name": "#%% md\n"
    }
   },
   "source": [
    "Your results may be different (if you set another random seed), but in most cases, Kriging will be better than IDW or very close to the best results from IDW. Even more important is that for the single data source with a low number of samples, we don't have the opportunity to perform the validation step, and we're unable to guess how big the power parameter should be. With Kriging, we model variogram, and _voila!_ - model works."
   ]
  },
  {
   "cell_type": "markdown",
   "id": "277ccabb",
   "metadata": {
    "collapsed": false,
    "pycharm": {
     "name": "#%% md\n"
    }
   },
   "source": [
    "---"
   ]
  }
 ],
 "metadata": {
  "kernelspec": {
   "display_name": "Python 3 (ipykernel)",
   "language": "python",
   "name": "python3"
  },
  "language_info": {
   "codemirror_mode": {
    "name": "ipython",
    "version": 3
   },
   "file_extension": ".py",
   "mimetype": "text/x-python",
   "name": "python",
   "nbconvert_exporter": "python",
   "pygments_lexer": "ipython3",
   "version": "3.10.6"
  }
 },
 "nbformat": 4,
 "nbformat_minor": 5
}

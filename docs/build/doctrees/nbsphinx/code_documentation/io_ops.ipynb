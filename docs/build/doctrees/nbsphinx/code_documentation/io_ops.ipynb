{
 "cells": [
  {
   "cell_type": "markdown",
   "metadata": {},
   "source": [
    "# io_ops module\n",
    "\n",
    "Available methods:\n",
    "\n",
    "- get_points_within_area: prepares points data for further processing,\n",
    "- prepare_areal_shapefile: prepares areal shapefile for processing and transforms it into numpy array,\n",
    "- read_point_data: reads data and converts it into numpy array."
   ]
  },
  {
   "cell_type": "markdown",
   "metadata": {},
   "source": [
    "## ```get_points_within_area()```\n",
    "\n",
    "```python\n",
    "pyinterpolate.io.get_points_within_area(\n",
    "    area_shapefile,\n",
    "    points_shapefile,\n",
    "    areal_id_col_name,\n",
    "    points_val_col_name,\n",
    "    dropna=True,\n",
    "    points_geometry_col_name='geometry',\n",
    "    nans_to_zero=True)\n",
    "```\n",
    "\n",
    "Function prepares points data for further processing.\n",
    "\n",
    "INPUT:\n",
    "\n",
    "- **area_shapefile**: (_str_) areal data ```shapefile``` address,\n",
    "- **points_shapefile**: (_str_) points data ```shapefile``` address,\n",
    "- **areal_id_col_name**: (_str_) name of the column with id of areas,\n",
    "- **points_val_col_name**: (_str_) name of the value column of each point,\n",
    "- **dropna**: (_bool_) if ```True``` then rows with ```NaN``` are deleted (areas without any points),\n",
    "- **points_geometry_col_name**: (_str_) default is ```'geometry'``` as in ```GeoPandas GeoDataFrames```,\n",
    "- **nans_to_zero**: (_bool_) if ```True``` then all ```NaN``` values are casted to 0.\n",
    "\n",
    "\n",
    "OUTPUT:\n",
    "\n",
    "- ```numpy array``` of area id and array with point coordinates and values:\n",
    "\n",
    "```python\n",
    "[\n",
    "    area_id,\n",
    "    [point_position_x, point_position_y, value]\n",
    "]\n",
    "```"
   ]
  },
  {
   "cell_type": "markdown",
   "metadata": {},
   "source": [
    "***"
   ]
  },
  {
   "cell_type": "markdown",
   "metadata": {},
   "source": [
    "## ```prepare_areal_shapefile()```\n",
    "\n",
    "```python\n",
    "pyinterpolate.io.prepare_areal_shapefile(\n",
    "    areal_file_address,\n",
    "    id_column_name=None,\n",
    "    value_column_name=None,\n",
    "    geometry_column_name='geometry',\n",
    "    dropnans=True)\n",
    "```\n",
    "\n",
    "Function prepares areal shapefile for processing and transforms it into ```numpy array```. Function returns two lists.\n",
    "\n",
    "INPUT:\n",
    "\n",
    "- **areal_file_address**: (_str_) path to the shapefile with area data,\n",
    "- **id_column_name**: (_str_) id column name, if not provided then index column is treated as the id,\n",
    "- **value_column_name**: (_str_) value column name, if not provided then all values are set to ```NaN```,\n",
    "- **geometry_column_name**: (_str_) default is ```'geometry'``` as in ```GeoPandas GeoDataFrames```,\n",
    "- **dropnans**: (_bool_) if ```True``` then rows with ```NaN``` are dropped.\n",
    "\n",
    "\n",
    "OUTPUT:\n",
    "\n",
    "- ```numpy array``` of area id, area geometry, coordinate of centroid x, coordinate of centroid y, value:\n",
    "\n",
    "```python\n",
    "[area_id, area_geometry, centroid coordinate x, centroid coordinate y, value]\n",
    "```"
   ]
  },
  {
   "cell_type": "markdown",
   "metadata": {},
   "source": [
    "***"
   ]
  },
  {
   "cell_type": "markdown",
   "metadata": {},
   "source": [
    "## ```read_point_data()```\n",
    "\n",
    "```python\n",
    "pyinterpolate.io.read_point_data(path, data_type)\n",
    "```\n",
    "\n",
    "Function reads data from a text file and converts it into ```numpy array```.\n",
    "\n",
    "INPUT:\n",
    "\n",
    "- **path**: (_str_) path to the file,\n",
    "- **data_type**: (_str_) data type, available types: ```'txt'``` for txt files.\n",
    "\n",
    "\n",
    "OUTPUT:\n",
    "\n",
    "- ```numpy array``` of coordinates and their values."
   ]
  }
 ],
 "metadata": {
  "kernelspec": {
   "display_name": "Python 3",
   "language": "python",
   "name": "python3"
  },
  "language_info": {
   "codemirror_mode": {
    "name": "ipython",
    "version": 3
   },
   "file_extension": ".py",
   "mimetype": "text/x-python",
   "name": "python",
   "nbconvert_exporter": "python",
   "pygments_lexer": "ipython3",
   "version": "3.7.3"
  }
 },
 "nbformat": 4,
 "nbformat_minor": 4
}

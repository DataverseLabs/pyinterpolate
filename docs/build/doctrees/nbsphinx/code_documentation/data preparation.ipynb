{
 "cells": [
  {
   "cell_type": "markdown",
   "metadata": {},
   "source": [
    "# Data preparation module\n",
    "\n",
    "Available methods:\n",
    "\n",
    "- get_points_within_area: prepares points data for further processing,\n",
    "- prepare_areal_shapefile: prepares areal shapefile for processing and transforms it into numpy array,\n",
    "- read_point_data: reads data and converts it into numpy array,\n",
    "- select_values_in_range: selects set of values which are greater than (lag - step size) and lesser than (lag + step size),\n",
    "- set_areal_weights: prepares array for weighted semivariance calculation."
   ]
  },
  {
   "cell_type": "markdown",
   "metadata": {},
   "source": [
    "## get_points_within_area\n",
    "\n",
    "```python\n",
    "pyinterpolate.data_processing.data_preparation.get_points_within_area.get_points_within_area(\n",
    "    area_shapefile, points_shapefile, areal_id_col_name, points_val_col_name,\n",
    "    dropna=True, points_geometry_col_name='geometry', nans_to_zero=True)\n",
    "```\n",
    "\n",
    "Function prepares points data for further processing.\n",
    "\n",
    "INPUT:\n",
    "\n",
    "- **area_shapefile**: (```string```) areal data ```shapefile``` address,\n",
    "- **points_shapefile**: (```string```) points data ```shapefile``` address,\n",
    "- **areal_id_col_name**: (```string```) name of the column with id of areas,\n",
    "- **points_val_col_name**: (```string```) name of the value column of each point,\n",
    "- **dropna***: (```bool```) if ```True``` then rows with ```NaN``` are deleted (areas without any points),\n",
    "- **points_geometry_col_name***: (```string```) default is ```'geometry'``` as in ```GeoPandas GeoDataFrames```,\n",
    "- **nans_to_zero**: (```bool```) if ```True``` then all ```NaN``` values are casted to 0.\n",
    "\n",
    "\n",
    "OUTPUT:\n",
    "\n",
    "- ```numpy array``` of area id and array with point coordinates and values:\n",
    "\n",
    "```python\n",
    "[\n",
    "    area_id,\n",
    "    [point_position_x, point_position_y, value]\n",
    "]\n",
    "```"
   ]
  },
  {
   "cell_type": "markdown",
   "metadata": {},
   "source": [
    "***"
   ]
  },
  {
   "cell_type": "markdown",
   "metadata": {},
   "source": [
    "## prepare_areal_shapefile\n",
    "\n",
    "```python\n",
    "pyinterpolate.data_processing.data_preparation.prepare_areal_shapefile.prepare_areal_shapefile(\n",
    "    areal_file_address, id_column_name=None, value_column_name=None,\n",
    "    geometry_column_name='geometry', dropnans=True)\n",
    "```\n",
    "\n",
    "Function prepares areal shapefile for processing and transforms it into ```numpy array```. Function returns two lists.\n",
    "\n",
    "INPUT:\n",
    "\n",
    "- **areal_file_address**: (```string```) path to the shapefile with area data,\n",
    "- **id_column_name**: (```string```) id column name, if not provided then index column is treated as the id,\n",
    "- **value_column_name**: (```string```) value column name, if not provided then all values are set to ```NaN```,\n",
    "- **geometry_column_name**: (```string```) default is ```'geometry'``` as in ```GeoPandas GeoDataFrames```,\n",
    "- **dropnans**: (```bool```) if ```True``` then rows with ```NaN``` are dropped.\n",
    "\n",
    "\n",
    "OUTPUT:\n",
    "\n",
    "- ```numpy array``` of area id, area geometry, coordinate of centroid x, coordinate of centroid y, value:\n",
    "\n",
    "```python\n",
    "[area_id, area_geometry, centroid coordinate x, centroid coordinate y, value]\n",
    "```"
   ]
  },
  {
   "cell_type": "markdown",
   "metadata": {},
   "source": [
    "***"
   ]
  },
  {
   "cell_type": "markdown",
   "metadata": {},
   "source": [
    "## read_point_data\n",
    "\n",
    "```python\n",
    "pyinterpolate.data_processing.data_preparation.read_data.read_point_data(path, data_type)\n",
    "```\n",
    "\n",
    "Function reads data from a text file and converts it into ```numpy array```.\n",
    "\n",
    "INPUT:\n",
    "\n",
    "- **path**: (str) path to the file,\n",
    "- **data_type**: (str) data type, available types: ```'txt'``` for txt files.\n",
    "\n",
    "\n",
    "OUTPUT:\n",
    "\n",
    "- ```numpy array``` of coordinates and their values."
   ]
  },
  {
   "cell_type": "markdown",
   "metadata": {},
   "source": [
    "***"
   ]
  },
  {
   "cell_type": "markdown",
   "metadata": {},
   "source": [
    "## select_values_in_range\n",
    "\n",
    "```python\n",
    "pyinterpolate.data_processing.data_preparation.select_values_in_range.select_values_in_range(\n",
    "    data, lag, step_size)\n",
    "```\n",
    "\n",
    "Function selects set of values which are greater than (```lag - step size```) and lesser than (```lag + step size```).\n",
    "\n",
    "INPUT:\n",
    "\n",
    "- **data**: array of distances,\n",
    "- **lag**: (```float```) lag within areas are included,\n",
    "- **step_size**: (```float```) step between lags. Usually it is constant in each iteration and it is ```0.5 * lag```.\n",
    "\n",
    "\n",
    "OUTPUT:\n",
    "\n",
    "- ```numpy array``` mask with distances within specified radius."
   ]
  },
  {
   "cell_type": "markdown",
   "metadata": {},
   "source": [
    "***"
   ]
  },
  {
   "cell_type": "markdown",
   "metadata": {},
   "source": [
    "## set_areal_weights\n",
    "\n",
    "```python\n",
    "pyinterpolate.data_processing.data_preparation.set_areal_weights.set_areal_weights(areal_data,\n",
    "                                                                                   areal_points)\n",
    "```\n",
    "\n",
    "Function prepares array for _weighted semivariance_ calculation.\n",
    "\n",
    "INPUT:\n",
    "\n",
    "- **areal_data**: (```numpy array```) of areas in the form:\n",
    "\n",
    "```python\n",
    "[area_id, areal_polygon, centroid coordinate x, centroid coordinate y, value]\n",
    "```\n",
    "\n",
    "- **areal_points**: (```numpy array```) of points within areas in the form:\n",
    "\n",
    "```python\n",
    "[area_id, [point_position_x, point_position_y, value]]\n",
    "````\n",
    "\n",
    "\n",
    "OUTPUT:\n",
    "\n",
    "- ```numpy array``` of weighted points."
   ]
  }
 ],
 "metadata": {
  "kernelspec": {
   "display_name": "Python 3",
   "language": "python",
   "name": "python3"
  },
  "language_info": {
   "codemirror_mode": {
    "name": "ipython",
    "version": 3
   },
   "file_extension": ".py",
   "mimetype": "text/x-python",
   "name": "python",
   "nbconvert_exporter": "python",
   "pygments_lexer": "ipython3",
   "version": "3.7.8"
  }
 },
 "nbformat": 4,
 "nbformat_minor": 4
}

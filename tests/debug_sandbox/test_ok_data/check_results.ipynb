{
 "cells": [
  {
   "cell_type": "code",
   "execution_count": 1,
   "outputs": [],
   "source": [
    "import pandas as pd\n",
    "import numpy as np"
   ],
   "metadata": {
    "collapsed": false,
    "pycharm": {
     "name": "#%%\n"
    }
   }
  },
  {
   "cell_type": "code",
   "execution_count": 3,
   "outputs": [
    {
     "data": {
      "text/plain": "               x              y        dem  \\\n0  237685.325393  545416.708315  51.254551   \n1  237674.140301  545209.671315  48.958282   \n2  237449.254870  541045.934750  16.817863   \n3  237187.238119  536192.094249  16.540663   \n4  237056.907848  533776.683272  19.450933   \n\n                                       geometry  iso-pred-0  iso-err-0  \\\n0   POINT (237685.3253934355 545416.7083154004)   70.437782  51.203960   \n1  POINT (237674.14030058554 545209.6713154903)   62.305626  61.097179   \n2  POINT (237449.25487021718 541045.9347496564)   17.152544  31.407993   \n3   POINT (237187.2381191512 536192.0942486105)   16.942511  60.693925   \n4  POINT (237056.90784774156 533776.6832719641)   19.926849  46.865533   \n\n   iso-pred-while  iso-err-while  iso-pred-lsa  iso-err-lsa  \n0       70.437782      51.203960     70.437782    51.203960  \n1       62.305626      61.097179     62.305626    61.097179  \n2       17.152544      31.407993     17.152544    31.407993  \n3       16.942511      60.693925     16.942511    60.693925  \n4       19.926849      46.865533     19.926849    46.865533  ",
      "text/html": "<div>\n<style scoped>\n    .dataframe tbody tr th:only-of-type {\n        vertical-align: middle;\n    }\n\n    .dataframe tbody tr th {\n        vertical-align: top;\n    }\n\n    .dataframe thead th {\n        text-align: right;\n    }\n</style>\n<table border=\"1\" class=\"dataframe\">\n  <thead>\n    <tr style=\"text-align: right;\">\n      <th></th>\n      <th>x</th>\n      <th>y</th>\n      <th>dem</th>\n      <th>geometry</th>\n      <th>iso-pred-0</th>\n      <th>iso-err-0</th>\n      <th>iso-pred-while</th>\n      <th>iso-err-while</th>\n      <th>iso-pred-lsa</th>\n      <th>iso-err-lsa</th>\n    </tr>\n  </thead>\n  <tbody>\n    <tr>\n      <th>0</th>\n      <td>237685.325393</td>\n      <td>545416.708315</td>\n      <td>51.254551</td>\n      <td>POINT (237685.3253934355 545416.7083154004)</td>\n      <td>70.437782</td>\n      <td>51.203960</td>\n      <td>70.437782</td>\n      <td>51.203960</td>\n      <td>70.437782</td>\n      <td>51.203960</td>\n    </tr>\n    <tr>\n      <th>1</th>\n      <td>237674.140301</td>\n      <td>545209.671315</td>\n      <td>48.958282</td>\n      <td>POINT (237674.14030058554 545209.6713154903)</td>\n      <td>62.305626</td>\n      <td>61.097179</td>\n      <td>62.305626</td>\n      <td>61.097179</td>\n      <td>62.305626</td>\n      <td>61.097179</td>\n    </tr>\n    <tr>\n      <th>2</th>\n      <td>237449.254870</td>\n      <td>541045.934750</td>\n      <td>16.817863</td>\n      <td>POINT (237449.25487021718 541045.9347496564)</td>\n      <td>17.152544</td>\n      <td>31.407993</td>\n      <td>17.152544</td>\n      <td>31.407993</td>\n      <td>17.152544</td>\n      <td>31.407993</td>\n    </tr>\n    <tr>\n      <th>3</th>\n      <td>237187.238119</td>\n      <td>536192.094249</td>\n      <td>16.540663</td>\n      <td>POINT (237187.2381191512 536192.0942486105)</td>\n      <td>16.942511</td>\n      <td>60.693925</td>\n      <td>16.942511</td>\n      <td>60.693925</td>\n      <td>16.942511</td>\n      <td>60.693925</td>\n    </tr>\n    <tr>\n      <th>4</th>\n      <td>237056.907848</td>\n      <td>533776.683272</td>\n      <td>19.450933</td>\n      <td>POINT (237056.90784774156 533776.6832719641)</td>\n      <td>19.926849</td>\n      <td>46.865533</td>\n      <td>19.926849</td>\n      <td>46.865533</td>\n      <td>19.926849</td>\n      <td>46.865533</td>\n    </tr>\n  </tbody>\n</table>\n</div>"
     },
     "execution_count": 3,
     "metadata": {},
     "output_type": "execute_result"
    }
   ],
   "source": [
    "csv_file = 'check_results.csv'\n",
    "res = pd.read_csv(csv_file, index_col='Unnamed: 0')\n",
    "res.head()"
   ],
   "metadata": {
    "collapsed": false,
    "pycharm": {
     "name": "#%%\n"
    }
   }
  },
  {
   "cell_type": "code",
   "execution_count": 4,
   "outputs": [
    {
     "data": {
      "text/plain": "                   x              y          dem   iso-pred-0    iso-err-0  \\\ncount    6204.000000    6204.000000  6204.000000  6204.000000  6204.000000   \nmean   246012.495584  540740.940907    40.791130    40.471338    29.928078   \nstd      5002.050570    7130.832507    22.019778    21.297183    14.167014   \nmin    236793.880797  528105.807795    14.495489    14.714321     1.469301   \n25%    241692.451310  534640.565180    19.963527    20.349624    20.049308   \n50%    246003.049427  540590.206746    37.908102    37.913756    28.141395   \n75%    250278.748644  546851.496425    54.658129    54.404969    37.685662   \nmax    255173.446198  553517.024594   106.866257   103.575267   100.084581   \n\n       iso-pred-while  iso-err-while  iso-pred-lsa  iso-err-lsa  \ncount     6204.000000    6204.000000   6204.000000  6204.000000  \nmean        40.471338      29.928078     40.471338    29.928078  \nstd         21.297183      14.167014     21.297183    14.167014  \nmin         14.714321       1.469301     14.714321     1.469301  \n25%         20.349624      20.049308     20.349624    20.049308  \n50%         37.913756      28.141395     37.913756    28.141395  \n75%         54.404969      37.685662     54.404969    37.685662  \nmax        103.575267     100.084581    103.575267   100.084581  ",
      "text/html": "<div>\n<style scoped>\n    .dataframe tbody tr th:only-of-type {\n        vertical-align: middle;\n    }\n\n    .dataframe tbody tr th {\n        vertical-align: top;\n    }\n\n    .dataframe thead th {\n        text-align: right;\n    }\n</style>\n<table border=\"1\" class=\"dataframe\">\n  <thead>\n    <tr style=\"text-align: right;\">\n      <th></th>\n      <th>x</th>\n      <th>y</th>\n      <th>dem</th>\n      <th>iso-pred-0</th>\n      <th>iso-err-0</th>\n      <th>iso-pred-while</th>\n      <th>iso-err-while</th>\n      <th>iso-pred-lsa</th>\n      <th>iso-err-lsa</th>\n    </tr>\n  </thead>\n  <tbody>\n    <tr>\n      <th>count</th>\n      <td>6204.000000</td>\n      <td>6204.000000</td>\n      <td>6204.000000</td>\n      <td>6204.000000</td>\n      <td>6204.000000</td>\n      <td>6204.000000</td>\n      <td>6204.000000</td>\n      <td>6204.000000</td>\n      <td>6204.000000</td>\n    </tr>\n    <tr>\n      <th>mean</th>\n      <td>246012.495584</td>\n      <td>540740.940907</td>\n      <td>40.791130</td>\n      <td>40.471338</td>\n      <td>29.928078</td>\n      <td>40.471338</td>\n      <td>29.928078</td>\n      <td>40.471338</td>\n      <td>29.928078</td>\n    </tr>\n    <tr>\n      <th>std</th>\n      <td>5002.050570</td>\n      <td>7130.832507</td>\n      <td>22.019778</td>\n      <td>21.297183</td>\n      <td>14.167014</td>\n      <td>21.297183</td>\n      <td>14.167014</td>\n      <td>21.297183</td>\n      <td>14.167014</td>\n    </tr>\n    <tr>\n      <th>min</th>\n      <td>236793.880797</td>\n      <td>528105.807795</td>\n      <td>14.495489</td>\n      <td>14.714321</td>\n      <td>1.469301</td>\n      <td>14.714321</td>\n      <td>1.469301</td>\n      <td>14.714321</td>\n      <td>1.469301</td>\n    </tr>\n    <tr>\n      <th>25%</th>\n      <td>241692.451310</td>\n      <td>534640.565180</td>\n      <td>19.963527</td>\n      <td>20.349624</td>\n      <td>20.049308</td>\n      <td>20.349624</td>\n      <td>20.049308</td>\n      <td>20.349624</td>\n      <td>20.049308</td>\n    </tr>\n    <tr>\n      <th>50%</th>\n      <td>246003.049427</td>\n      <td>540590.206746</td>\n      <td>37.908102</td>\n      <td>37.913756</td>\n      <td>28.141395</td>\n      <td>37.913756</td>\n      <td>28.141395</td>\n      <td>37.913756</td>\n      <td>28.141395</td>\n    </tr>\n    <tr>\n      <th>75%</th>\n      <td>250278.748644</td>\n      <td>546851.496425</td>\n      <td>54.658129</td>\n      <td>54.404969</td>\n      <td>37.685662</td>\n      <td>54.404969</td>\n      <td>37.685662</td>\n      <td>54.404969</td>\n      <td>37.685662</td>\n    </tr>\n    <tr>\n      <th>max</th>\n      <td>255173.446198</td>\n      <td>553517.024594</td>\n      <td>106.866257</td>\n      <td>103.575267</td>\n      <td>100.084581</td>\n      <td>103.575267</td>\n      <td>100.084581</td>\n      <td>103.575267</td>\n      <td>100.084581</td>\n    </tr>\n  </tbody>\n</table>\n</div>"
     },
     "execution_count": 4,
     "metadata": {},
     "output_type": "execute_result"
    }
   ],
   "source": [
    "res.describe()"
   ],
   "metadata": {
    "collapsed": false,
    "pycharm": {
     "name": "#%%\n"
    }
   }
  },
  {
   "cell_type": "code",
   "execution_count": 5,
   "outputs": [
    {
     "data": {
      "text/plain": "21.613961775563737"
     },
     "execution_count": 5,
     "metadata": {},
     "output_type": "execute_result"
    }
   ],
   "source": [
    "np.mean((res['dem'] - res['iso-pred-0'])**2)"
   ],
   "metadata": {
    "collapsed": false,
    "pycharm": {
     "name": "#%%\n"
    }
   }
  },
  {
   "cell_type": "code",
   "execution_count": 6,
   "outputs": [
    {
     "data": {
      "text/plain": "21.613961775563737"
     },
     "execution_count": 6,
     "metadata": {},
     "output_type": "execute_result"
    }
   ],
   "source": [
    "np.mean((res['dem'] - res['iso-pred-while'])**2)"
   ],
   "metadata": {
    "collapsed": false,
    "pycharm": {
     "name": "#%%\n"
    }
   }
  },
  {
   "cell_type": "code",
   "execution_count": 7,
   "outputs": [
    {
     "data": {
      "text/plain": "21.61396177556373"
     },
     "execution_count": 7,
     "metadata": {},
     "output_type": "execute_result"
    }
   ],
   "source": [
    "np.mean((res['dem'] - res['iso-pred-lsa'])**2)"
   ],
   "metadata": {
    "collapsed": false,
    "pycharm": {
     "name": "#%%\n"
    }
   }
  },
  {
   "cell_type": "code",
   "execution_count": null,
   "outputs": [],
   "source": [],
   "metadata": {
    "collapsed": false,
    "pycharm": {
     "name": "#%%\n"
    }
   }
  }
 ],
 "metadata": {
  "kernelspec": {
   "display_name": "Python 3",
   "language": "python",
   "name": "python3"
  },
  "language_info": {
   "codemirror_mode": {
    "name": "ipython",
    "version": 2
   },
   "file_extension": ".py",
   "mimetype": "text/x-python",
   "name": "python",
   "nbconvert_exporter": "python",
   "pygments_lexer": "ipython2",
   "version": "2.7.6"
  }
 },
 "nbformat": 4,
 "nbformat_minor": 0
}
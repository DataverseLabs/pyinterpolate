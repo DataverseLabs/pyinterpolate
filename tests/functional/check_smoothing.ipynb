{
 "cells": [
  {
   "cell_type": "code",
   "execution_count": 1,
   "id": "initial_id",
   "metadata": {
    "collapsed": true,
    "ExecuteTime": {
     "end_time": "2025-01-11T14:35:24.196743Z",
     "start_time": "2025-01-11T14:35:21.771592Z"
    }
   },
   "outputs": [],
   "source": [
    "import json\n",
    "import geopandas as gpd\n",
    "from pyinterpolate.core.pipelines.block_filter import smooth_blocks\n",
    "from pyinterpolate.semivariogram.theoretical.theoretical import TheoreticalVariogram\n",
    "from pyinterpolate.core.data_models.point_support import PointSupport, Blocks"
   ]
  },
  {
   "cell_type": "code",
   "outputs": [],
   "source": [
    "vario = '/Users/szymonos/Documents/GitHub/biebrza-follow-up/notebooks/reg_2025_01_07'\n",
    "tbd_f = '/Users/szymonos/Documents/GitHub/biebrza-follow-up/raw/poland/raw_lyme_disease/core_dataset.shp'\n",
    "pop_f = 'ppoland.geojson'"
   ],
   "metadata": {
    "collapsed": false,
    "ExecuteTime": {
     "end_time": "2025-01-11T14:35:24.197948Z",
     "start_time": "2025-01-11T14:35:24.194846Z"
    }
   },
   "id": "594dacb989c57a7e",
   "execution_count": 2
  },
  {
   "cell_type": "code",
   "outputs": [
    {
     "data": {
      "text/plain": "{'name': 'spherical',\n 'nugget': 0.0,\n 'range': 88794.70257826854,\n 'sill': 1722.230545739049,\n 'direction': None}"
     },
     "execution_count": 3,
     "metadata": {},
     "output_type": "execute_result"
    }
   ],
   "source": [
    "# Load variogram\n",
    "\n",
    "semi = TheoreticalVariogram()\n",
    "\n",
    "with open(vario, 'r') as fin:\n",
    "    params = json.load(fin)\n",
    "    \n",
    "params"
   ],
   "metadata": {
    "collapsed": false,
    "ExecuteTime": {
     "end_time": "2025-01-11T14:35:24.206524Z",
     "start_time": "2025-01-11T14:35:24.198539Z"
    }
   },
   "id": "b12561b5e3021a09",
   "execution_count": 3
  },
  {
   "cell_type": "code",
   "outputs": [],
   "source": [
    "# nugget: float\n",
    "# sill: float\n",
    "# rang: float\n",
    "# variogram_model_type: str"
   ],
   "metadata": {
    "collapsed": false,
    "ExecuteTime": {
     "end_time": "2025-01-11T14:35:24.222376Z",
     "start_time": "2025-01-11T14:35:24.205803Z"
    }
   },
   "id": "da755ab30ad5e0aa",
   "execution_count": 4
  },
  {
   "cell_type": "code",
   "outputs": [],
   "source": [
    "params_2 = {\n",
    "    'nugget': params['nugget'],\n",
    "    'sill': params['sill'],\n",
    "    'rang': params['range'],\n",
    "    'variogram_model_type': params['name']\n",
    "}"
   ],
   "metadata": {
    "collapsed": false,
    "ExecuteTime": {
     "end_time": "2025-01-11T14:35:24.222863Z",
     "start_time": "2025-01-11T14:35:24.210701Z"
    }
   },
   "id": "1dc5d3cc0bf9ce00",
   "execution_count": 5
  },
  {
   "cell_type": "code",
   "outputs": [],
   "source": [
    "semi.from_dict(params_2)"
   ],
   "metadata": {
    "collapsed": false,
    "ExecuteTime": {
     "end_time": "2025-01-11T14:35:24.223209Z",
     "start_time": "2025-01-11T14:35:24.214876Z"
    }
   },
   "id": "930ce464016c1cb1",
   "execution_count": 6
  },
  {
   "cell_type": "code",
   "outputs": [],
   "source": [
    "tbd = gpd.read_file(tbd_f)\n",
    "VAL_COL = '2015'\n",
    "INDEX_COL = 'index1'\n",
    "GEOM_COL = 'geometry'"
   ],
   "metadata": {
    "collapsed": false,
    "ExecuteTime": {
     "end_time": "2025-01-11T14:35:24.459305Z",
     "start_time": "2025-01-11T14:35:24.218754Z"
    }
   },
   "id": "c4b998a06d967c1f",
   "execution_count": 7
  },
  {
   "cell_type": "code",
   "outputs": [
    {
     "data": {
      "text/plain": "        h3_index_8 RES                       geometry\n0  881e018205fffff   0  POINT (560942.482 149294.741)\n1  881e018207fffff   0  POINT (561836.233 149022.556)\n2  881e01820bfffff   0  POINT (562373.316 150476.091)\n3  881e01820dfffff   0   POINT (560764.22 150157.581)\n4  881e018211fffff   0  POINT (564160.834 149931.799)",
      "text/html": "<div>\n<style scoped>\n    .dataframe tbody tr th:only-of-type {\n        vertical-align: middle;\n    }\n\n    .dataframe tbody tr th {\n        vertical-align: top;\n    }\n\n    .dataframe thead th {\n        text-align: right;\n    }\n</style>\n<table border=\"1\" class=\"dataframe\">\n  <thead>\n    <tr style=\"text-align: right;\">\n      <th></th>\n      <th>h3_index_8</th>\n      <th>RES</th>\n      <th>geometry</th>\n    </tr>\n  </thead>\n  <tbody>\n    <tr>\n      <th>0</th>\n      <td>881e018205fffff</td>\n      <td>0</td>\n      <td>POINT (560942.482 149294.741)</td>\n    </tr>\n    <tr>\n      <th>1</th>\n      <td>881e018207fffff</td>\n      <td>0</td>\n      <td>POINT (561836.233 149022.556)</td>\n    </tr>\n    <tr>\n      <th>2</th>\n      <td>881e01820bfffff</td>\n      <td>0</td>\n      <td>POINT (562373.316 150476.091)</td>\n    </tr>\n    <tr>\n      <th>3</th>\n      <td>881e01820dfffff</td>\n      <td>0</td>\n      <td>POINT (560764.22 150157.581)</td>\n    </tr>\n    <tr>\n      <th>4</th>\n      <td>881e018211fffff</td>\n      <td>0</td>\n      <td>POINT (564160.834 149931.799)</td>\n    </tr>\n  </tbody>\n</table>\n</div>"
     },
     "execution_count": 8,
     "metadata": {},
     "output_type": "execute_result"
    }
   ],
   "source": [
    "pop = gpd.read_file(pop_f)\n",
    "pop.head()"
   ],
   "metadata": {
    "collapsed": false,
    "ExecuteTime": {
     "end_time": "2025-01-11T14:35:28.048449Z",
     "start_time": "2025-01-11T14:35:25.870457Z"
    }
   },
   "id": "9897827483254544",
   "execution_count": 8
  },
  {
   "cell_type": "code",
   "outputs": [],
   "source": [
    "pop['RES'] = pop['RES'].astype(float)"
   ],
   "metadata": {
    "collapsed": false,
    "ExecuteTime": {
     "end_time": "2025-01-11T14:35:28.117154Z",
     "start_time": "2025-01-11T14:35:28.076958Z"
    }
   },
   "id": "92b08f29ff18b758",
   "execution_count": 9
  },
  {
   "cell_type": "code",
   "outputs": [],
   "source": [
    "POP_COL = 'RES'\n",
    "POP_GEOM = 'geometry'"
   ],
   "metadata": {
    "collapsed": false,
    "ExecuteTime": {
     "end_time": "2025-01-11T14:35:28.117967Z",
     "start_time": "2025-01-11T14:35:28.082115Z"
    }
   },
   "id": "15d9d0de332c0c26",
   "execution_count": 10
  },
  {
   "cell_type": "code",
   "outputs": [],
   "source": [
    "blocks = Blocks(ds=tbd, value_column_name=VAL_COL, geometry_column_name=GEOM_COL, index_column_name=INDEX_COL,\n",
    "                representative_points_from_random_sample=True)"
   ],
   "metadata": {
    "collapsed": false,
    "ExecuteTime": {
     "end_time": "2025-01-11T14:35:28.146122Z",
     "start_time": "2025-01-11T14:35:28.088218Z"
    }
   },
   "id": "b0698b9ef33c52a6",
   "execution_count": 11
  },
  {
   "cell_type": "code",
   "outputs": [
    {
     "name": "stdout",
     "output_type": "stream",
     "text": [
      "Calculating weighted distances between blocks...\n"
     ]
    },
    {
     "name": "stderr",
     "output_type": "stream",
     "text": [
      "100%|██████████| 328/328 [21:39<00:00,  3.96s/it]\n"
     ]
    },
    {
     "name": "stdout",
     "output_type": "stream",
     "text": [
      "Calculating distances between point supports...\n"
     ]
    },
    {
     "name": "stderr",
     "output_type": "stream",
     "text": [
      "100%|██████████| 328/328 [22:35<00:00,  4.13s/it]\n"
     ]
    }
   ],
   "source": [
    "ps = PointSupport(\n",
    "    points=pop,\n",
    "    blocks=blocks,\n",
    "    points_value_column=POP_COL,\n",
    "    points_geometry_column=POP_GEOM,\n",
    "    calculate_weighted_block_to_block_distances=True,\n",
    "    calculate_distances_between_point_support_points=True,\n",
    "    no_possible_neighbors=8,\n",
    "    verbose=True\n",
    ")"
   ],
   "metadata": {
    "collapsed": false,
    "ExecuteTime": {
     "end_time": "2025-01-11T15:20:03.926638Z",
     "start_time": "2025-01-11T14:35:28.130122Z"
    }
   },
   "id": "bf3d9efe5396767a",
   "execution_count": 12
  },
  {
   "cell_type": "code",
   "outputs": [
    {
     "name": "stderr",
     "output_type": "stream",
     "text": [
      "  0%|          | 0/328 [00:20<?, ?it/s]\n"
     ]
    },
    {
     "ename": "ValueError",
     "evalue": "No objects to concatenate",
     "output_type": "error",
     "traceback": [
      "\u001B[0;31m---------------------------------------------------------------------------\u001B[0m",
      "\u001B[0;31mValueError\u001B[0m                                Traceback (most recent call last)",
      "Cell \u001B[0;32mIn[15], line 1\u001B[0m\n\u001B[0;32m----> 1\u001B[0m \u001B[43msmooth_blocks\u001B[49m\u001B[43m(\u001B[49m\n\u001B[1;32m      2\u001B[0m \u001B[43m    \u001B[49m\u001B[43msemivariogram_model\u001B[49m\u001B[38;5;241;43m=\u001B[39;49m\u001B[43msemi\u001B[49m\u001B[43m,\u001B[49m\n\u001B[1;32m      3\u001B[0m \u001B[43m    \u001B[49m\u001B[43mpoint_support\u001B[49m\u001B[38;5;241;43m=\u001B[39;49m\u001B[43mps\u001B[49m\u001B[43m,\u001B[49m\n\u001B[1;32m      4\u001B[0m \u001B[43m    \u001B[49m\u001B[43mnumber_of_neighbors\u001B[49m\u001B[38;5;241;43m=\u001B[39;49m\u001B[38;5;241;43m8\u001B[39;49m\u001B[43m,\u001B[49m\n\u001B[1;32m      5\u001B[0m \u001B[43m    \u001B[49m\u001B[43mraise_when_negative_prediction\u001B[49m\u001B[38;5;241;43m=\u001B[39;49m\u001B[38;5;28;43;01mTrue\u001B[39;49;00m\u001B[43m,\u001B[49m\n\u001B[1;32m      6\u001B[0m \u001B[43m    \u001B[49m\u001B[43mraise_when_negative_error\u001B[49m\u001B[38;5;241;43m=\u001B[39;49m\u001B[38;5;28;43;01mFalse\u001B[39;49;00m\u001B[43m,\u001B[49m\n\u001B[1;32m      7\u001B[0m \u001B[43m    \u001B[49m\u001B[43mverbose\u001B[49m\u001B[38;5;241;43m=\u001B[39;49m\u001B[38;5;28;43;01mTrue\u001B[39;49;00m\n\u001B[1;32m      8\u001B[0m \u001B[43m)\u001B[49m\n",
      "File \u001B[0;32m~/Documents/GitHub/pyinterpolate/src/pyinterpolate/core/pipelines/block_filter.py:136\u001B[0m, in \u001B[0;36msmooth_blocks\u001B[0;34m(semivariogram_model, point_support, number_of_neighbors, data_crs, raise_when_negative_prediction, raise_when_negative_error, verbose)\u001B[0m\n\u001B[1;32m     97\u001B[0m \u001B[38;5;250m\u001B[39m\u001B[38;5;124;03m\"\"\"\u001B[39;00m\n\u001B[1;32m     98\u001B[0m \u001B[38;5;124;03mFunction smooths aggregated block values, and transform those into point support.\u001B[39;00m\n\u001B[1;32m     99\u001B[0m \n\u001B[0;32m   (...)\u001B[0m\n\u001B[1;32m    126\u001B[0m \u001B[38;5;124;03m    columns = ``['id', 'geometry', 'reg.est', 'reg.err', 'rmse']``\u001B[39;00m\n\u001B[1;32m    127\u001B[0m \u001B[38;5;124;03m\"\"\"\u001B[39;00m\n\u001B[1;32m    129\u001B[0m block_k \u001B[38;5;241m=\u001B[39m BlockPoissonKriging(\n\u001B[1;32m    130\u001B[0m     semivariogram_model\u001B[38;5;241m=\u001B[39msemivariogram_model,\n\u001B[1;32m    131\u001B[0m     point_support\u001B[38;5;241m=\u001B[39mpoint_support,\n\u001B[1;32m    132\u001B[0m     kriging_type\u001B[38;5;241m=\u001B[39m\u001B[38;5;124m'\u001B[39m\u001B[38;5;124matp\u001B[39m\u001B[38;5;124m'\u001B[39m,\n\u001B[1;32m    133\u001B[0m     verbose\u001B[38;5;241m=\u001B[39mverbose\n\u001B[1;32m    134\u001B[0m )\n\u001B[0;32m--> 136\u001B[0m parsed \u001B[38;5;241m=\u001B[39m \u001B[43mblock_k\u001B[49m\u001B[38;5;241;43m.\u001B[39;49m\u001B[43mregularize\u001B[49m\u001B[43m(\u001B[49m\n\u001B[1;32m    137\u001B[0m \u001B[43m    \u001B[49m\u001B[43mnumber_of_neighbors\u001B[49m\u001B[38;5;241;43m=\u001B[39;49m\u001B[43mnumber_of_neighbors\u001B[49m\u001B[43m,\u001B[49m\n\u001B[1;32m    138\u001B[0m \u001B[43m    \u001B[49m\u001B[43mdata_crs\u001B[49m\u001B[38;5;241;43m=\u001B[39;49m\u001B[43mdata_crs\u001B[49m\u001B[43m,\u001B[49m\n\u001B[1;32m    139\u001B[0m \u001B[43m    \u001B[49m\u001B[43mraise_when_negative_prediction\u001B[49m\u001B[38;5;241;43m=\u001B[39;49m\u001B[43mraise_when_negative_prediction\u001B[49m\u001B[43m,\u001B[49m\n\u001B[1;32m    140\u001B[0m \u001B[43m    \u001B[49m\u001B[43mraise_when_negative_error\u001B[49m\u001B[38;5;241;43m=\u001B[39;49m\u001B[43mraise_when_negative_error\u001B[49m\n\u001B[1;32m    141\u001B[0m \u001B[43m\u001B[49m\u001B[43m)\u001B[49m\n\u001B[1;32m    142\u001B[0m \u001B[38;5;28;01mreturn\u001B[39;00m parsed\n",
      "File \u001B[0;32m~/Documents/GitHub/pyinterpolate/src/pyinterpolate/core/pipelines/block_filter.py:249\u001B[0m, in \u001B[0;36mBlockPoissonKriging.regularize\u001B[0;34m(self, number_of_neighbors, data_crs, raise_when_negative_prediction, raise_when_negative_error)\u001B[0m\n\u001B[1;32m    247\u001B[0m interpolation_results \u001B[38;5;241m=\u001B[39m []\n\u001B[1;32m    248\u001B[0m \u001B[38;5;28;01mfor\u001B[39;00m block_id \u001B[38;5;129;01min\u001B[39;00m tqdm(block_ids, disable\u001B[38;5;241m=\u001B[39m\u001B[38;5;28mself\u001B[39m\u001B[38;5;241m.\u001B[39m_disable_tqdm_bar):\n\u001B[0;32m--> 249\u001B[0m     prediction_dict \u001B[38;5;241m=\u001B[39m \u001B[38;5;28;43mself\u001B[39;49m\u001B[38;5;241;43m.\u001B[39;49m\u001B[43m_interpolate\u001B[49m\u001B[43m(\u001B[49m\u001B[43muid\u001B[49m\u001B[38;5;241;43m=\u001B[39;49m\u001B[43mblock_id\u001B[49m\u001B[43m,\u001B[49m\n\u001B[1;32m    250\u001B[0m \u001B[43m                                        \u001B[49m\u001B[43mn_neighbours\u001B[49m\u001B[38;5;241;43m=\u001B[39;49m\u001B[43mnumber_of_neighbors\u001B[49m\u001B[43m,\u001B[49m\n\u001B[1;32m    251\u001B[0m \u001B[43m                                        \u001B[49m\u001B[43mpred_raise\u001B[49m\u001B[38;5;241;43m=\u001B[39;49m\u001B[43mraise_when_negative_prediction\u001B[49m\u001B[43m,\u001B[49m\n\u001B[1;32m    252\u001B[0m \u001B[43m                                        \u001B[49m\u001B[43merr_raise\u001B[49m\u001B[38;5;241;43m=\u001B[39;49m\u001B[43mraise_when_negative_error\u001B[49m\u001B[43m)\u001B[49m\n\u001B[1;32m    254\u001B[0m     interpolation_results\u001B[38;5;241m.\u001B[39mextend(\n\u001B[1;32m    255\u001B[0m         \u001B[38;5;28mself\u001B[39m\u001B[38;5;241m.\u001B[39m_parse_results(\n\u001B[1;32m    256\u001B[0m             prediction_dict\n\u001B[1;32m    257\u001B[0m         )\n\u001B[1;32m    258\u001B[0m     )\n\u001B[1;32m    260\u001B[0m \u001B[38;5;66;03m# Transform results into a dataframe\u001B[39;00m\n",
      "File \u001B[0;32m~/Documents/GitHub/pyinterpolate/src/pyinterpolate/core/pipelines/block_filter.py:290\u001B[0m, in \u001B[0;36mBlockPoissonKriging._interpolate\u001B[0;34m(self, uid, n_neighbours, pred_raise, err_raise)\u001B[0m\n\u001B[1;32m    282\u001B[0m     model_output \u001B[38;5;241m=\u001B[39m area_to_area_pk(semivariogram_model\u001B[38;5;241m=\u001B[39m\u001B[38;5;28mself\u001B[39m\u001B[38;5;241m.\u001B[39msemivariogram_model,\n\u001B[1;32m    283\u001B[0m                                    point_support\u001B[38;5;241m=\u001B[39m\u001B[38;5;28mself\u001B[39m\u001B[38;5;241m.\u001B[39mpoint_support,\n\u001B[1;32m    284\u001B[0m                                    unknown_block_index\u001B[38;5;241m=\u001B[39muid,\n\u001B[1;32m    285\u001B[0m                                    number_of_neighbors\u001B[38;5;241m=\u001B[39mn_neighbours,\n\u001B[1;32m    286\u001B[0m                                    raise_when_negative_error\u001B[38;5;241m=\u001B[39merr_raise,\n\u001B[1;32m    287\u001B[0m                                    raise_when_negative_prediction\u001B[38;5;241m=\u001B[39mpred_raise)\n\u001B[1;32m    289\u001B[0m \u001B[38;5;28;01melif\u001B[39;00m \u001B[38;5;28mself\u001B[39m\u001B[38;5;241m.\u001B[39mkriging_type \u001B[38;5;241m==\u001B[39m \u001B[38;5;124m'\u001B[39m\u001B[38;5;124matp\u001B[39m\u001B[38;5;124m'\u001B[39m:\n\u001B[0;32m--> 290\u001B[0m     model_output \u001B[38;5;241m=\u001B[39m \u001B[43marea_to_point_pk\u001B[49m\u001B[43m(\u001B[49m\u001B[43msemivariogram_model\u001B[49m\u001B[38;5;241;43m=\u001B[39;49m\u001B[38;5;28;43mself\u001B[39;49m\u001B[38;5;241;43m.\u001B[39;49m\u001B[43msemivariogram_model\u001B[49m\u001B[43m,\u001B[49m\n\u001B[1;32m    291\u001B[0m \u001B[43m                                    \u001B[49m\u001B[43mpoint_support\u001B[49m\u001B[38;5;241;43m=\u001B[39;49m\u001B[38;5;28;43mself\u001B[39;49m\u001B[38;5;241;43m.\u001B[39;49m\u001B[43mpoint_support\u001B[49m\u001B[43m,\u001B[49m\n\u001B[1;32m    292\u001B[0m \u001B[43m                                    \u001B[49m\u001B[43munknown_block_index\u001B[49m\u001B[38;5;241;43m=\u001B[39;49m\u001B[43muid\u001B[49m\u001B[43m,\u001B[49m\n\u001B[1;32m    293\u001B[0m \u001B[43m                                    \u001B[49m\u001B[43mnumber_of_neighbors\u001B[49m\u001B[38;5;241;43m=\u001B[39;49m\u001B[43mn_neighbours\u001B[49m\u001B[43m,\u001B[49m\n\u001B[1;32m    294\u001B[0m \u001B[43m                                    \u001B[49m\u001B[43mraise_when_negative_prediction\u001B[49m\u001B[38;5;241;43m=\u001B[39;49m\u001B[43mpred_raise\u001B[49m\u001B[43m,\u001B[49m\n\u001B[1;32m    295\u001B[0m \u001B[43m                                    \u001B[49m\u001B[43mraise_when_negative_error\u001B[49m\u001B[38;5;241;43m=\u001B[39;49m\u001B[43merr_raise\u001B[49m\u001B[43m)\u001B[49m\n\u001B[1;32m    296\u001B[0m \u001B[38;5;28;01melif\u001B[39;00m \u001B[38;5;28mself\u001B[39m\u001B[38;5;241m.\u001B[39mkriging_type \u001B[38;5;241m==\u001B[39m \u001B[38;5;124m'\u001B[39m\u001B[38;5;124mcb\u001B[39m\u001B[38;5;124m'\u001B[39m:\n\u001B[1;32m    297\u001B[0m     model_output \u001B[38;5;241m=\u001B[39m centroid_poisson_kriging(semivariogram_model\u001B[38;5;241m=\u001B[39m\u001B[38;5;28mself\u001B[39m\u001B[38;5;241m.\u001B[39msemivariogram_model,\n\u001B[1;32m    298\u001B[0m                                             point_support\u001B[38;5;241m=\u001B[39m\u001B[38;5;28mself\u001B[39m\u001B[38;5;241m.\u001B[39mpoint_support,\n\u001B[1;32m    299\u001B[0m                                             unknown_block_index\u001B[38;5;241m=\u001B[39muid,\n\u001B[1;32m    300\u001B[0m                                             number_of_neighbors\u001B[38;5;241m=\u001B[39mn_neighbours,\n\u001B[1;32m    301\u001B[0m                                             raise_when_negative_prediction\u001B[38;5;241m=\u001B[39mpred_raise,\n\u001B[1;32m    302\u001B[0m                                             raise_when_negative_error\u001B[38;5;241m=\u001B[39merr_raise)\n",
      "File \u001B[0;32m~/Documents/GitHub/pyinterpolate/src/pyinterpolate/kriging/block/area_to_point_poisson_kriging.py:142\u001B[0m, in \u001B[0;36marea_to_point_pk\u001B[0;34m(semivariogram_model, point_support, unknown_block_index, number_of_neighbors, neighbors_range, use_all_neighbors_in_range, raise_when_negative_prediction, raise_when_negative_error, err_to_nan)\u001B[0m\n\u001B[1;32m    136\u001B[0m avg_b2p_covariances \u001B[38;5;241m=\u001B[39m add_ones(\n\u001B[1;32m    137\u001B[0m     avg_b2p_covariances\n\u001B[1;32m    138\u001B[0m )\n\u001B[1;32m    140\u001B[0m \u001B[38;5;66;03m# Distances between neighboring areas\u001B[39;00m\n\u001B[1;32m    141\u001B[0m \u001B[38;5;66;03m# [(known block id a, known block id b), pt a val, pt b val, distance between points]\u001B[39;00m\n\u001B[0;32m--> 142\u001B[0m distances_between_neighboring_point_supports \u001B[38;5;241m=\u001B[39m \u001B[43mkriging_data\u001B[49m\u001B[38;5;241;43m.\u001B[39;49m\u001B[43mdistances_between_neighboring_point_supports\u001B[49m\u001B[43m(\u001B[49m\n\u001B[1;32m    143\u001B[0m \u001B[43m    \u001B[49m\u001B[43mpoint_support\u001B[49m\u001B[38;5;241;43m=\u001B[39;49m\u001B[43mpoint_support\u001B[49m\n\u001B[1;32m    144\u001B[0m \u001B[43m\u001B[49m\u001B[43m)\u001B[49m\n\u001B[1;32m    146\u001B[0m \u001B[38;5;66;03m# Semivariances between neighbors\u001B[39;00m\n\u001B[1;32m    147\u001B[0m \u001B[38;5;66;03m# (known block id a, known block id b) -> semivariance (Series)\u001B[39;00m\n\u001B[1;32m    148\u001B[0m semivariances_between_neighboring_point_supports \u001B[38;5;241m=\u001B[39m weighted_avg_point_support_semivariances(\n\u001B[1;32m    149\u001B[0m     semivariogram_model,\n\u001B[1;32m    150\u001B[0m     distances_between_neighboring_point_supports,\n\u001B[0;32m   (...)\u001B[0m\n\u001B[1;32m    154\u001B[0m     dist_col\u001B[38;5;241m=\u001B[39m\u001B[38;5;124m'\u001B[39m\u001B[38;5;124mdistance\u001B[39m\u001B[38;5;124m'\u001B[39m\n\u001B[1;32m    155\u001B[0m )\n",
      "File \u001B[0;32m~/Documents/GitHub/pyinterpolate/src/pyinterpolate/core/data_models/poisson_kriging.py:397\u001B[0m, in \u001B[0;36mPoissonKrigingInput.distances_between_neighboring_point_supports\u001B[0;34m(self, point_support)\u001B[0m\n\u001B[1;32m    394\u001B[0m                         ds\u001B[38;5;241m.\u001B[39mappend(rdf)\n\u001B[1;32m    395\u001B[0m                         nset\u001B[38;5;241m.\u001B[39madd(r_nn)\n\u001B[0;32m--> 397\u001B[0m df \u001B[38;5;241m=\u001B[39m \u001B[43mpd\u001B[49m\u001B[38;5;241;43m.\u001B[39;49m\u001B[43mconcat\u001B[49m\u001B[43m(\u001B[49m\u001B[43mds\u001B[49m\u001B[43m,\u001B[49m\u001B[43m \u001B[49m\u001B[43mignore_index\u001B[49m\u001B[38;5;241;43m=\u001B[39;49m\u001B[38;5;28;43;01mTrue\u001B[39;49;00m\u001B[43m,\u001B[49m\u001B[43m \u001B[49m\u001B[43maxis\u001B[49m\u001B[38;5;241;43m=\u001B[39;49m\u001B[38;5;241;43m0\u001B[39;49m\u001B[43m)\u001B[49m\n\u001B[1;32m    399\u001B[0m \u001B[38;5;28;01mreturn\u001B[39;00m df\n",
      "File \u001B[0;32m~/Documents/GitHub/pyinterpolate/.venv/lib/python3.12/site-packages/pandas/core/reshape/concat.py:382\u001B[0m, in \u001B[0;36mconcat\u001B[0;34m(objs, axis, join, ignore_index, keys, levels, names, verify_integrity, sort, copy)\u001B[0m\n\u001B[1;32m    379\u001B[0m \u001B[38;5;28;01melif\u001B[39;00m copy \u001B[38;5;129;01mand\u001B[39;00m using_copy_on_write():\n\u001B[1;32m    380\u001B[0m     copy \u001B[38;5;241m=\u001B[39m \u001B[38;5;28;01mFalse\u001B[39;00m\n\u001B[0;32m--> 382\u001B[0m op \u001B[38;5;241m=\u001B[39m \u001B[43m_Concatenator\u001B[49m\u001B[43m(\u001B[49m\n\u001B[1;32m    383\u001B[0m \u001B[43m    \u001B[49m\u001B[43mobjs\u001B[49m\u001B[43m,\u001B[49m\n\u001B[1;32m    384\u001B[0m \u001B[43m    \u001B[49m\u001B[43maxis\u001B[49m\u001B[38;5;241;43m=\u001B[39;49m\u001B[43maxis\u001B[49m\u001B[43m,\u001B[49m\n\u001B[1;32m    385\u001B[0m \u001B[43m    \u001B[49m\u001B[43mignore_index\u001B[49m\u001B[38;5;241;43m=\u001B[39;49m\u001B[43mignore_index\u001B[49m\u001B[43m,\u001B[49m\n\u001B[1;32m    386\u001B[0m \u001B[43m    \u001B[49m\u001B[43mjoin\u001B[49m\u001B[38;5;241;43m=\u001B[39;49m\u001B[43mjoin\u001B[49m\u001B[43m,\u001B[49m\n\u001B[1;32m    387\u001B[0m \u001B[43m    \u001B[49m\u001B[43mkeys\u001B[49m\u001B[38;5;241;43m=\u001B[39;49m\u001B[43mkeys\u001B[49m\u001B[43m,\u001B[49m\n\u001B[1;32m    388\u001B[0m \u001B[43m    \u001B[49m\u001B[43mlevels\u001B[49m\u001B[38;5;241;43m=\u001B[39;49m\u001B[43mlevels\u001B[49m\u001B[43m,\u001B[49m\n\u001B[1;32m    389\u001B[0m \u001B[43m    \u001B[49m\u001B[43mnames\u001B[49m\u001B[38;5;241;43m=\u001B[39;49m\u001B[43mnames\u001B[49m\u001B[43m,\u001B[49m\n\u001B[1;32m    390\u001B[0m \u001B[43m    \u001B[49m\u001B[43mverify_integrity\u001B[49m\u001B[38;5;241;43m=\u001B[39;49m\u001B[43mverify_integrity\u001B[49m\u001B[43m,\u001B[49m\n\u001B[1;32m    391\u001B[0m \u001B[43m    \u001B[49m\u001B[43mcopy\u001B[49m\u001B[38;5;241;43m=\u001B[39;49m\u001B[43mcopy\u001B[49m\u001B[43m,\u001B[49m\n\u001B[1;32m    392\u001B[0m \u001B[43m    \u001B[49m\u001B[43msort\u001B[49m\u001B[38;5;241;43m=\u001B[39;49m\u001B[43msort\u001B[49m\u001B[43m,\u001B[49m\n\u001B[1;32m    393\u001B[0m \u001B[43m\u001B[49m\u001B[43m)\u001B[49m\n\u001B[1;32m    395\u001B[0m \u001B[38;5;28;01mreturn\u001B[39;00m op\u001B[38;5;241m.\u001B[39mget_result()\n",
      "File \u001B[0;32m~/Documents/GitHub/pyinterpolate/.venv/lib/python3.12/site-packages/pandas/core/reshape/concat.py:445\u001B[0m, in \u001B[0;36m_Concatenator.__init__\u001B[0;34m(self, objs, axis, join, keys, levels, names, ignore_index, verify_integrity, copy, sort)\u001B[0m\n\u001B[1;32m    442\u001B[0m \u001B[38;5;28mself\u001B[39m\u001B[38;5;241m.\u001B[39mverify_integrity \u001B[38;5;241m=\u001B[39m verify_integrity\n\u001B[1;32m    443\u001B[0m \u001B[38;5;28mself\u001B[39m\u001B[38;5;241m.\u001B[39mcopy \u001B[38;5;241m=\u001B[39m copy\n\u001B[0;32m--> 445\u001B[0m objs, keys \u001B[38;5;241m=\u001B[39m \u001B[38;5;28;43mself\u001B[39;49m\u001B[38;5;241;43m.\u001B[39;49m\u001B[43m_clean_keys_and_objs\u001B[49m\u001B[43m(\u001B[49m\u001B[43mobjs\u001B[49m\u001B[43m,\u001B[49m\u001B[43m \u001B[49m\u001B[43mkeys\u001B[49m\u001B[43m)\u001B[49m\n\u001B[1;32m    447\u001B[0m \u001B[38;5;66;03m# figure out what our result ndim is going to be\u001B[39;00m\n\u001B[1;32m    448\u001B[0m ndims \u001B[38;5;241m=\u001B[39m \u001B[38;5;28mself\u001B[39m\u001B[38;5;241m.\u001B[39m_get_ndims(objs)\n",
      "File \u001B[0;32m~/Documents/GitHub/pyinterpolate/.venv/lib/python3.12/site-packages/pandas/core/reshape/concat.py:507\u001B[0m, in \u001B[0;36m_Concatenator._clean_keys_and_objs\u001B[0;34m(self, objs, keys)\u001B[0m\n\u001B[1;32m    504\u001B[0m     objs_list \u001B[38;5;241m=\u001B[39m \u001B[38;5;28mlist\u001B[39m(objs)\n\u001B[1;32m    506\u001B[0m \u001B[38;5;28;01mif\u001B[39;00m \u001B[38;5;28mlen\u001B[39m(objs_list) \u001B[38;5;241m==\u001B[39m \u001B[38;5;241m0\u001B[39m:\n\u001B[0;32m--> 507\u001B[0m     \u001B[38;5;28;01mraise\u001B[39;00m \u001B[38;5;167;01mValueError\u001B[39;00m(\u001B[38;5;124m\"\u001B[39m\u001B[38;5;124mNo objects to concatenate\u001B[39m\u001B[38;5;124m\"\u001B[39m)\n\u001B[1;32m    509\u001B[0m \u001B[38;5;28;01mif\u001B[39;00m keys \u001B[38;5;129;01mis\u001B[39;00m \u001B[38;5;28;01mNone\u001B[39;00m:\n\u001B[1;32m    510\u001B[0m     objs_list \u001B[38;5;241m=\u001B[39m \u001B[38;5;28mlist\u001B[39m(com\u001B[38;5;241m.\u001B[39mnot_none(\u001B[38;5;241m*\u001B[39mobjs_list))\n",
      "\u001B[0;31mValueError\u001B[0m: No objects to concatenate"
     ]
    }
   ],
   "source": [
    "smooth_blocks(\n",
    "    semivariogram_model=semi,\n",
    "    point_support=ps,\n",
    "    number_of_neighbors=8,\n",
    "    raise_when_negative_prediction=True,\n",
    "    raise_when_negative_error=False,\n",
    "    verbose=True\n",
    ")"
   ],
   "metadata": {
    "collapsed": false,
    "ExecuteTime": {
     "end_time": "2025-01-11T15:26:11.466365Z",
     "start_time": "2025-01-11T15:25:50.647761Z"
    }
   },
   "id": "3b9392dae955094",
   "execution_count": 15
  },
  {
   "cell_type": "code",
   "outputs": [],
   "source": [],
   "metadata": {
    "collapsed": false
   },
   "id": "dc946cf551af8f2d"
  }
 ],
 "metadata": {
  "kernelspec": {
   "display_name": "Python 3",
   "language": "python",
   "name": "python3"
  },
  "language_info": {
   "codemirror_mode": {
    "name": "ipython",
    "version": 2
   },
   "file_extension": ".py",
   "mimetype": "text/x-python",
   "name": "python",
   "nbconvert_exporter": "python",
   "pygments_lexer": "ipython2",
   "version": "2.7.6"
  }
 },
 "nbformat": 4,
 "nbformat_minor": 5
}

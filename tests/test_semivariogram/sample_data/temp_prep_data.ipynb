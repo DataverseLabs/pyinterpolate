{
 "cells": [
  {
   "cell_type": "code",
   "id": "initial_id",
   "metadata": {
    "collapsed": true,
    "ExecuteTime": {
     "end_time": "2025-04-06T07:42:26.466043Z",
     "start_time": "2025-04-06T07:42:24.994035Z"
    }
   },
   "source": "import geopandas as gpd",
   "outputs": [],
   "execution_count": 1
  },
  {
   "metadata": {
    "ExecuteTime": {
     "end_time": "2025-04-06T07:42:51.592297Z",
     "start_time": "2025-04-06T07:42:51.569363Z"
    }
   },
   "cell_type": "code",
   "source": "df = gpd.read_file('cancer_data_small.gpkg', layer='areas')",
   "id": "29a4954483a5c57e",
   "outputs": [],
   "execution_count": 3
  },
  {
   "metadata": {
    "ExecuteTime": {
     "end_time": "2025-04-06T07:42:54.774394Z",
     "start_time": "2025-04-06T07:42:54.749022Z"
    }
   },
   "cell_type": "code",
   "source": "df.head()",
   "id": "c260b4e68b1fa1fe",
   "outputs": [
    {
     "data": {
      "text/plain": [
       "    FIPS   rate                                           geometry\n",
       "0  42029  148.1  MULTIPOLYGON (((1684394.595 269497.126, 168429...\n",
       "1  34027  148.1  MULTIPOLYGON (((1794436.733 437092.583, 179439...\n",
       "2  42091  147.7  POLYGON ((1745586.384 307789.087, 1745529.212 ...\n",
       "3  34005  147.0  MULTIPOLYGON (((1794046.893 339003.453, 179403...\n",
       "4  36059  146.5  MULTIPOLYGON (((1869041.38 442584.188, 1869008..."
      ],
      "text/html": [
       "<div>\n",
       "<style scoped>\n",
       "    .dataframe tbody tr th:only-of-type {\n",
       "        vertical-align: middle;\n",
       "    }\n",
       "\n",
       "    .dataframe tbody tr th {\n",
       "        vertical-align: top;\n",
       "    }\n",
       "\n",
       "    .dataframe thead th {\n",
       "        text-align: right;\n",
       "    }\n",
       "</style>\n",
       "<table border=\"1\" class=\"dataframe\">\n",
       "  <thead>\n",
       "    <tr style=\"text-align: right;\">\n",
       "      <th></th>\n",
       "      <th>FIPS</th>\n",
       "      <th>rate</th>\n",
       "      <th>geometry</th>\n",
       "    </tr>\n",
       "  </thead>\n",
       "  <tbody>\n",
       "    <tr>\n",
       "      <th>0</th>\n",
       "      <td>42029</td>\n",
       "      <td>148.1</td>\n",
       "      <td>MULTIPOLYGON (((1684394.595 269497.126, 168429...</td>\n",
       "    </tr>\n",
       "    <tr>\n",
       "      <th>1</th>\n",
       "      <td>34027</td>\n",
       "      <td>148.1</td>\n",
       "      <td>MULTIPOLYGON (((1794436.733 437092.583, 179439...</td>\n",
       "    </tr>\n",
       "    <tr>\n",
       "      <th>2</th>\n",
       "      <td>42091</td>\n",
       "      <td>147.7</td>\n",
       "      <td>POLYGON ((1745586.384 307789.087, 1745529.212 ...</td>\n",
       "    </tr>\n",
       "    <tr>\n",
       "      <th>3</th>\n",
       "      <td>34005</td>\n",
       "      <td>147.0</td>\n",
       "      <td>MULTIPOLYGON (((1794046.893 339003.453, 179403...</td>\n",
       "    </tr>\n",
       "    <tr>\n",
       "      <th>4</th>\n",
       "      <td>36059</td>\n",
       "      <td>146.5</td>\n",
       "      <td>MULTIPOLYGON (((1869041.38 442584.188, 1869008...</td>\n",
       "    </tr>\n",
       "  </tbody>\n",
       "</table>\n",
       "</div>"
      ]
     },
     "execution_count": 4,
     "metadata": {},
     "output_type": "execute_result"
    }
   ],
   "execution_count": 4
  },
  {
   "metadata": {
    "ExecuteTime": {
     "end_time": "2025-04-06T07:43:15.416845Z",
     "start_time": "2025-04-06T07:43:15.383129Z"
    }
   },
   "cell_type": "code",
   "source": "df2 = gpd.read_file('cancer_data.gpkg', layer='points')",
   "id": "1f7a7635f546da33",
   "outputs": [],
   "execution_count": 5
  },
  {
   "metadata": {
    "ExecuteTime": {
     "end_time": "2025-04-06T07:43:19.126897Z",
     "start_time": "2025-04-06T07:43:19.118626Z"
    }
   },
   "cell_type": "code",
   "source": "df2.head()",
   "id": "12c7275919166e",
   "outputs": [
    {
     "data": {
      "text/plain": [
       "   id   POP10                        geometry\n",
       "0  81  1866.0  POINT (1277277.671 441124.507)\n",
       "1  82  2093.0  POINT (1277277.671 431124.507)\n",
       "2  83   590.0  POINT (1277277.671 421124.507)\n",
       "3  84   636.0  POINT (1277277.671 411124.507)\n",
       "4  85   582.0  POINT (1277277.671 401124.507)"
      ],
      "text/html": [
       "<div>\n",
       "<style scoped>\n",
       "    .dataframe tbody tr th:only-of-type {\n",
       "        vertical-align: middle;\n",
       "    }\n",
       "\n",
       "    .dataframe tbody tr th {\n",
       "        vertical-align: top;\n",
       "    }\n",
       "\n",
       "    .dataframe thead th {\n",
       "        text-align: right;\n",
       "    }\n",
       "</style>\n",
       "<table border=\"1\" class=\"dataframe\">\n",
       "  <thead>\n",
       "    <tr style=\"text-align: right;\">\n",
       "      <th></th>\n",
       "      <th>id</th>\n",
       "      <th>POP10</th>\n",
       "      <th>geometry</th>\n",
       "    </tr>\n",
       "  </thead>\n",
       "  <tbody>\n",
       "    <tr>\n",
       "      <th>0</th>\n",
       "      <td>81</td>\n",
       "      <td>1866.0</td>\n",
       "      <td>POINT (1277277.671 441124.507)</td>\n",
       "    </tr>\n",
       "    <tr>\n",
       "      <th>1</th>\n",
       "      <td>82</td>\n",
       "      <td>2093.0</td>\n",
       "      <td>POINT (1277277.671 431124.507)</td>\n",
       "    </tr>\n",
       "    <tr>\n",
       "      <th>2</th>\n",
       "      <td>83</td>\n",
       "      <td>590.0</td>\n",
       "      <td>POINT (1277277.671 421124.507)</td>\n",
       "    </tr>\n",
       "    <tr>\n",
       "      <th>3</th>\n",
       "      <td>84</td>\n",
       "      <td>636.0</td>\n",
       "      <td>POINT (1277277.671 411124.507)</td>\n",
       "    </tr>\n",
       "    <tr>\n",
       "      <th>4</th>\n",
       "      <td>85</td>\n",
       "      <td>582.0</td>\n",
       "      <td>POINT (1277277.671 401124.507)</td>\n",
       "    </tr>\n",
       "  </tbody>\n",
       "</table>\n",
       "</div>"
      ]
     },
     "execution_count": 6,
     "metadata": {},
     "output_type": "execute_result"
    }
   ],
   "execution_count": 6
  },
  {
   "metadata": {
    "ExecuteTime": {
     "end_time": "2025-04-06T07:44:13.139361Z",
     "start_time": "2025-04-06T07:44:11.859941Z"
    }
   },
   "cell_type": "code",
   "source": "df3 = gpd.overlay(df, df2, how='intersection', keep_geom_type=False)",
   "id": "4477968262ffd80c",
   "outputs": [],
   "execution_count": 9
  },
  {
   "metadata": {
    "ExecuteTime": {
     "end_time": "2025-04-06T07:44:14.746553Z",
     "start_time": "2025-04-06T07:44:14.736664Z"
    }
   },
   "cell_type": "code",
   "source": "df3.head()",
   "id": "44800ffc491739b9",
   "outputs": [
    {
     "data": {
      "text/plain": [
       "    FIPS   rate    id    POP10                        geometry\n",
       "0  42029  148.1  5080   4155.0   POINT (1684309.61 266124.507)\n",
       "1  42029  148.1  5182  12063.0  POINT (1692969.864 311124.507)\n",
       "2  42029  148.1  5183  13040.0  POINT (1692969.864 301124.507)\n",
       "3  42029  148.1  5184  11480.0  POINT (1692969.864 291124.507)\n",
       "4  42029  148.1  5185   7599.0  POINT (1692969.864 281124.507)"
      ],
      "text/html": [
       "<div>\n",
       "<style scoped>\n",
       "    .dataframe tbody tr th:only-of-type {\n",
       "        vertical-align: middle;\n",
       "    }\n",
       "\n",
       "    .dataframe tbody tr th {\n",
       "        vertical-align: top;\n",
       "    }\n",
       "\n",
       "    .dataframe thead th {\n",
       "        text-align: right;\n",
       "    }\n",
       "</style>\n",
       "<table border=\"1\" class=\"dataframe\">\n",
       "  <thead>\n",
       "    <tr style=\"text-align: right;\">\n",
       "      <th></th>\n",
       "      <th>FIPS</th>\n",
       "      <th>rate</th>\n",
       "      <th>id</th>\n",
       "      <th>POP10</th>\n",
       "      <th>geometry</th>\n",
       "    </tr>\n",
       "  </thead>\n",
       "  <tbody>\n",
       "    <tr>\n",
       "      <th>0</th>\n",
       "      <td>42029</td>\n",
       "      <td>148.1</td>\n",
       "      <td>5080</td>\n",
       "      <td>4155.0</td>\n",
       "      <td>POINT (1684309.61 266124.507)</td>\n",
       "    </tr>\n",
       "    <tr>\n",
       "      <th>1</th>\n",
       "      <td>42029</td>\n",
       "      <td>148.1</td>\n",
       "      <td>5182</td>\n",
       "      <td>12063.0</td>\n",
       "      <td>POINT (1692969.864 311124.507)</td>\n",
       "    </tr>\n",
       "    <tr>\n",
       "      <th>2</th>\n",
       "      <td>42029</td>\n",
       "      <td>148.1</td>\n",
       "      <td>5183</td>\n",
       "      <td>13040.0</td>\n",
       "      <td>POINT (1692969.864 301124.507)</td>\n",
       "    </tr>\n",
       "    <tr>\n",
       "      <th>3</th>\n",
       "      <td>42029</td>\n",
       "      <td>148.1</td>\n",
       "      <td>5184</td>\n",
       "      <td>11480.0</td>\n",
       "      <td>POINT (1692969.864 291124.507)</td>\n",
       "    </tr>\n",
       "    <tr>\n",
       "      <th>4</th>\n",
       "      <td>42029</td>\n",
       "      <td>148.1</td>\n",
       "      <td>5185</td>\n",
       "      <td>7599.0</td>\n",
       "      <td>POINT (1692969.864 281124.507)</td>\n",
       "    </tr>\n",
       "  </tbody>\n",
       "</table>\n",
       "</div>"
      ]
     },
     "execution_count": 10,
     "metadata": {},
     "output_type": "execute_result"
    }
   ],
   "execution_count": 10
  },
  {
   "metadata": {
    "ExecuteTime": {
     "end_time": "2025-04-06T07:44:40.604282Z",
     "start_time": "2025-04-06T07:44:40.599314Z"
    }
   },
   "cell_type": "code",
   "source": "df3_points = df3[['id', 'POP10', 'geometry']]",
   "id": "95151357803be51b",
   "outputs": [],
   "execution_count": 11
  },
  {
   "metadata": {
    "ExecuteTime": {
     "end_time": "2025-04-06T07:45:09.943375Z",
     "start_time": "2025-04-06T07:45:09.794481Z"
    }
   },
   "cell_type": "code",
   "source": "df3_points.to_file('cancer_data_small.gpkg', layer='points')",
   "id": "cff8a287df625a73",
   "outputs": [],
   "execution_count": 12
  },
  {
   "metadata": {},
   "cell_type": "code",
   "outputs": [],
   "execution_count": null,
   "source": "",
   "id": "9b1b7fddebcbd2fc"
  }
 ],
 "metadata": {
  "kernelspec": {
   "display_name": "Python 3",
   "language": "python",
   "name": "python3"
  },
  "language_info": {
   "codemirror_mode": {
    "name": "ipython",
    "version": 2
   },
   "file_extension": ".py",
   "mimetype": "text/x-python",
   "name": "python",
   "nbconvert_exporter": "python",
   "pygments_lexer": "ipython2",
   "version": "2.7.6"
  }
 },
 "nbformat": 4,
 "nbformat_minor": 5
}

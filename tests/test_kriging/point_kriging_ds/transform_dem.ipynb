{
 "cells": [
  {
   "cell_type": "code",
   "id": "initial_id",
   "metadata": {
    "collapsed": true,
    "ExecuteTime": {
     "end_time": "2025-06-24T18:06:13.035884Z",
     "start_time": "2025-06-24T18:06:13.032346Z"
    }
   },
   "source": [
    "import geopandas as gpd\n",
    "import pandas as pd\n",
    "\n",
    "from geopandas import points_from_xy"
   ],
   "outputs": [],
   "execution_count": 2
  },
  {
   "metadata": {
    "ExecuteTime": {
     "end_time": "2025-06-24T18:07:13.991199Z",
     "start_time": "2025-06-24T18:07:13.964388Z"
    }
   },
   "cell_type": "code",
   "source": [
    "dem = pd.read_csv('dem.csv')\n",
    "geometry = points_from_xy(dem['longitude'], dem['latitude'])\n",
    "dem['geometry'] = geometry"
   ],
   "id": "92b67582d87d54f9",
   "outputs": [],
   "execution_count": 3
  },
  {
   "metadata": {
    "ExecuteTime": {
     "end_time": "2025-06-24T18:07:23.343815Z",
     "start_time": "2025-06-24T18:07:23.322661Z"
    }
   },
   "cell_type": "code",
   "source": "gdf = gpd.GeoDataFrame(dem, crs='EPSG:4326')",
   "id": "2fbc51f4f42f0",
   "outputs": [],
   "execution_count": 4
  },
  {
   "metadata": {
    "ExecuteTime": {
     "end_time": "2025-06-24T18:07:35.026365Z",
     "start_time": "2025-06-24T18:07:34.985567Z"
    }
   },
   "cell_type": "code",
   "source": "gdf.to_crs(2180, inplace=True)",
   "id": "88663e8e90cbff9e",
   "outputs": [],
   "execution_count": 5
  },
  {
   "metadata": {
    "ExecuteTime": {
     "end_time": "2025-06-24T18:07:37.893479Z",
     "start_time": "2025-06-24T18:07:37.879252Z"
    }
   },
   "cell_type": "code",
   "source": "gdf.head()",
   "id": "efb439445cf70cc2",
   "outputs": [
    {
     "data": {
      "text/plain": [
       "   longitude   latitude        dem                       geometry\n",
       "0  15.115241  52.765146  91.275597  POINT (238012.302 551466.805)\n",
       "1  15.115241  52.742790  96.548294  POINT (237878.001 548982.351)\n",
       "2  15.115241  52.710706  51.254551  POINT (237685.325 545416.708)\n",
       "3  15.115241  52.708844  48.958282   POINT (237674.14 545209.671)\n",
       "4  15.115241  52.671378  16.817863  POINT (237449.255 541045.935)"
      ],
      "text/html": [
       "<div>\n",
       "<style scoped>\n",
       "    .dataframe tbody tr th:only-of-type {\n",
       "        vertical-align: middle;\n",
       "    }\n",
       "\n",
       "    .dataframe tbody tr th {\n",
       "        vertical-align: top;\n",
       "    }\n",
       "\n",
       "    .dataframe thead th {\n",
       "        text-align: right;\n",
       "    }\n",
       "</style>\n",
       "<table border=\"1\" class=\"dataframe\">\n",
       "  <thead>\n",
       "    <tr style=\"text-align: right;\">\n",
       "      <th></th>\n",
       "      <th>longitude</th>\n",
       "      <th>latitude</th>\n",
       "      <th>dem</th>\n",
       "      <th>geometry</th>\n",
       "    </tr>\n",
       "  </thead>\n",
       "  <tbody>\n",
       "    <tr>\n",
       "      <th>0</th>\n",
       "      <td>15.115241</td>\n",
       "      <td>52.765146</td>\n",
       "      <td>91.275597</td>\n",
       "      <td>POINT (238012.302 551466.805)</td>\n",
       "    </tr>\n",
       "    <tr>\n",
       "      <th>1</th>\n",
       "      <td>15.115241</td>\n",
       "      <td>52.742790</td>\n",
       "      <td>96.548294</td>\n",
       "      <td>POINT (237878.001 548982.351)</td>\n",
       "    </tr>\n",
       "    <tr>\n",
       "      <th>2</th>\n",
       "      <td>15.115241</td>\n",
       "      <td>52.710706</td>\n",
       "      <td>51.254551</td>\n",
       "      <td>POINT (237685.325 545416.708)</td>\n",
       "    </tr>\n",
       "    <tr>\n",
       "      <th>3</th>\n",
       "      <td>15.115241</td>\n",
       "      <td>52.708844</td>\n",
       "      <td>48.958282</td>\n",
       "      <td>POINT (237674.14 545209.671)</td>\n",
       "    </tr>\n",
       "    <tr>\n",
       "      <th>4</th>\n",
       "      <td>15.115241</td>\n",
       "      <td>52.671378</td>\n",
       "      <td>16.817863</td>\n",
       "      <td>POINT (237449.255 541045.935)</td>\n",
       "    </tr>\n",
       "  </tbody>\n",
       "</table>\n",
       "</div>"
      ]
     },
     "execution_count": 6,
     "metadata": {},
     "output_type": "execute_result"
    }
   ],
   "execution_count": 6
  },
  {
   "metadata": {
    "ExecuteTime": {
     "end_time": "2025-06-24T18:07:58.718376Z",
     "start_time": "2025-06-24T18:07:58.711926Z"
    }
   },
   "cell_type": "code",
   "source": "gdf.drop(columns=['longitude', 'latitude'], inplace=True)",
   "id": "986c66f09c60a8f2",
   "outputs": [],
   "execution_count": 7
  },
  {
   "metadata": {
    "ExecuteTime": {
     "end_time": "2025-06-24T18:08:16.414557Z",
     "start_time": "2025-06-24T18:08:16.407429Z"
    }
   },
   "cell_type": "code",
   "source": [
    "gdf['longitude'] = gdf.geometry.x\n",
    "gdf['latitude'] = gdf.geometry.y"
   ],
   "id": "ecd21300992a6805",
   "outputs": [],
   "execution_count": 8
  },
  {
   "metadata": {
    "ExecuteTime": {
     "end_time": "2025-06-24T18:08:46.574767Z",
     "start_time": "2025-06-24T18:08:46.569125Z"
    }
   },
   "cell_type": "code",
   "source": "df = gdf[['longitude', 'latitude', 'dem']]",
   "id": "4bc057cec2119920",
   "outputs": [],
   "execution_count": 10
  },
  {
   "metadata": {
    "ExecuteTime": {
     "end_time": "2025-06-24T18:08:57.285545Z",
     "start_time": "2025-06-24T18:08:57.243089Z"
    }
   },
   "cell_type": "code",
   "source": "df.to_csv('dem2180.csv', index=False)",
   "id": "861186cdb6f92331",
   "outputs": [],
   "execution_count": 11
  },
  {
   "metadata": {},
   "cell_type": "code",
   "outputs": [],
   "execution_count": null,
   "source": "",
   "id": "3692e39727936bef"
  }
 ],
 "metadata": {
  "kernelspec": {
   "display_name": "Python 3",
   "language": "python",
   "name": "python3"
  },
  "language_info": {
   "codemirror_mode": {
    "name": "ipython",
    "version": 2
   },
   "file_extension": ".py",
   "mimetype": "text/x-python",
   "name": "python",
   "nbconvert_exporter": "python",
   "pygments_lexer": "ipython2",
   "version": "2.7.6"
  }
 },
 "nbformat": 4,
 "nbformat_minor": 5
}

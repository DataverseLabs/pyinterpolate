{
 "cells": [
  {
   "cell_type": "markdown",
   "id": "7cb72e76-1796-4d29-b03c-2f10e9aff435",
   "metadata": {},
   "source": [
    "# Semivariogram models\n",
    "\n",
    "`Pyinterpolate` has a few theoretical functions that can be fit into experimental semivariances. Those functions are usually pre-defined because we cannot use any mapping. A function must be positive because we are modeling variance. Technically speaking, a function must be positive definite (covariances), and variogram has to be conditionally negative definite (M. Armstrong, Basic Linear Geostatistics, Springer 1998, page 35).\n",
    "\n",
    "Theory aside, you will probably use built-in semivariogram models. We will check all those functions in this lesson. Moreover, we will learn:\n",
    "\n",
    "- how to create an artificial surface with `scipy`\n",
    "- which variogram models are available for modeling\n",
    "- what are the differences between the mapping functions\n"
   ]
  },
  {
   "cell_type": "markdown",
   "id": "32789839-d41a-445b-b306-655089f88b37",
   "metadata": {},
   "source": [
    "## Prerequisites\n",
    "\n",
    "- **Domain**:\n",
    "  - semivariance and covariance functions\n",
    "- **Package**:\n",
    "  - installation\n",
    "- **Programming**:\n",
    "  - Python basics"
   ]
  },
  {
   "cell_type": "markdown",
   "id": "b0790582-f6ce-4d20-b921-0744f752dc1f",
   "metadata": {},
   "source": [
    "## Table of contents\n",
    "\n",
    "1. Create random surface\n",
    "2. Calculate the experimental variogram\n",
    "3. Set variogram models\n",
    "4. Compare variogram models"
   ]
  },
  {
   "cell_type": "code",
   "execution_count": null,
   "id": "6dfcd9fe-518d-41f0-aadc-8f7533aedc9d",
   "metadata": {},
   "outputs": [],
   "source": [
    "from scipy.signal import convolve2d\n",
    "from scipy.sparse import coo_matrix\n",
    "\n",
    "from pyinterpolate import build_experimental_variogram, build_theoretical_variogram\n",
    "\n",
    "import matplotlib.pyplot as plt"
   ]
  }
 ],
 "metadata": {
  "kernelspec": {
   "display_name": "Python 3 (ipykernel)",
   "language": "python",
   "name": "python3"
  },
  "language_info": {
   "codemirror_mode": {
    "name": "ipython",
    "version": 3
   },
   "file_extension": ".py",
   "mimetype": "text/x-python",
   "name": "python",
   "nbconvert_exporter": "python",
   "pygments_lexer": "ipython3",
   "version": "3.12.0"
  }
 },
 "nbformat": 4,
 "nbformat_minor": 5
}

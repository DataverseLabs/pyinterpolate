{
 "cells": [
  {
   "metadata": {},
   "cell_type": "markdown",
   "source": [
    "# Benchmark Kriging\n",
    "\n",
    "In this tutorial, we will learn how to validate our Kriging model. We'll compare it to the **Inverse Distance Weighting** function, where the unknown point value is interpolated as the weighted mean of its neighbors. Weights are inversely proportional to the distance between neighboring points, decreasing faster when we raise denominator to the higher number.\n",
    "\n",
    "## Prerequisites\n",
    "\n",
    "- **Domain**:\n",
    "  - semivariance and covariance functions\n",
    "  - kriging (basics)\n",
    "- **Package**:\n",
    "  - `TheoreticalVariogram`\n",
    "  - `ExperimentalVariogram`\n",
    "  - `ordinary_kriging()`\n",
    "- **Programming**:\n",
    "  - Python basics\n",
    "  - `pandas` basics\n",
    "\n",
    "## Table of contents\n",
    "\n",
    "1. Introduction - IDW as benchmarking tool.\n",
    "2. Perform IDW and validate outputs.\n",
    "3. Perform Kriging and validate outputs.\n"
   ],
   "id": "5b4a48bdd5047804"
  },
  {
   "metadata": {},
   "cell_type": "markdown",
   "source": [
    "## 1. Introduction - IDW as bechmarking tool\n",
    "\n",
    "(1) **General Form of Inverse Distance Weighting**\n",
    "\n",
    "$$z(u)=\\frac{\\sum_{i}{(\\lambda_{i} * z_{i})}}{\\sum_{i}{\\lambda{i}}}$$\n",
    "\n",
    "where:\n",
    "\n",
    "- $z(u)$: predicted value\n",
    "- $i$: i-th known location\n",
    "- $z_{i}$: value at known location $i$\n",
    "- $\\lambda_{i}$: weight assigned to the point in known location $i$\n",
    "\n",
    "(2) **Weighting Parameter**\n",
    "\n",
    "$$\\lambda_{i}=\\frac{1}{d_{i}^{p}}$$\n",
    "\n",
    "where:\n",
    "\n",
    "- $d$: is a distance from the known point $z_{i}$ to the unknown point $z(u)$\n",
    "- $p$: is a hyperparameter that controls correlation between a known and unknown point. Greater $p$ means that the influence of the closest neighbors is extremely high, but it quickly diminishes with a distance. On the other hand, you may set a small $p$ to emphasize that even distant neighbors are influencing the unknown location.\n",
    "\n",
    "---\n",
    "\n",
    "**IDW** is a simple but powerful technique. Unfortunately, it has a significant drawback: we must set $p$ - power - manually, and it is constant across all distances.\n"
   ],
   "id": "a3f8be85ef6c7765"
  },
  {
   "metadata": {
    "collapsed": true
   },
   "cell_type": "code",
   "outputs": [],
   "execution_count": null,
   "source": "",
   "id": "initial_id"
  }
 ],
 "metadata": {
  "kernelspec": {
   "display_name": "Python 3",
   "language": "python",
   "name": "python3"
  },
  "language_info": {
   "codemirror_mode": {
    "name": "ipython",
    "version": 2
   },
   "file_extension": ".py",
   "mimetype": "text/x-python",
   "name": "python",
   "nbconvert_exporter": "python",
   "pygments_lexer": "ipython2",
   "version": "2.7.6"
  }
 },
 "nbformat": 4,
 "nbformat_minor": 5
}

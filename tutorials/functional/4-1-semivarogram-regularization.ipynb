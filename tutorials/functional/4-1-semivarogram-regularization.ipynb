{
 "cells": [
  {
   "metadata": {},
   "cell_type": "markdown",
   "source": [
    "# Semivariogram Regularization\n",
    "\n",
    "In this tutorial we will learn how to regularize semivariogram of dataset consisting irregularly shaped polygons. The procedure of the semivariogram regularization is described in the study: `(1) Goovaerts P., Kriging and Semivariogram Deconvolution in the Presence of Irregular Geographical Units, Mathematical Geology 40(1), 101-128, 2008`.\n",
    "\n",
    "The main idea is to retrieve the point support semivariogram from the semivariogram of irregular polygons. This is the case in the mining industry, where aggregated blocks are deconvoluted into smaller units, and in epidemiology, where data is aggregated over big administrative units. Or in ecology, where species observations are aggregated over areas or time windows.\n",
    "\n",
    "In this tutorial, we use block data of Breast Cancer incidence rates in Northeastern counties of the U.S. and U.S. Census 2010 data for population blocks.\n",
    "\n",
    "## Prerequisites\n",
    "\n",
    "- **Domain**:\n",
    "  - semivariance and covariance functions\n",
    "  - kriging\n",
    "\n",
    "- **Package**:\n",
    "  - `TheoreticalVariogram()`\n",
    "  - `Blocks()` - described in this tutorial, but this class has been used in **3-5-**\n",
    "  - `PointSupport()` - described in this tutorial\n",
    "\n",
    "- **Programming**:\n",
    "  - Python basics\n",
    "  - `pandas` basics\n",
    "\n",
    "## Table of contents\n",
    "\n",
    "1. Prepare data\n",
    "2. Set semivariogram parameters\n",
    "3. Regularize semivariogram\n",
    "4. Visualize process\n",
    "5. Export semivariogram\n",
    "\n",
    "## 1. Prepare data\n",
    "\n",
    "Data structures for semivariogram regularization are rather complex, and that's why Pyinterpolate has classes merging blocks and point support data. There are two structures:\n",
    "\n",
    "- `Blocks()`: stores polygon and block data, transforms it, and retrieves centroids,\n",
    "- `PointSupport()`: performs spatial joins between polygons and points support data and manages internal indexing of those datasets."
   ],
   "id": "34dc144e198ac05a"
  },
  {
   "metadata": {
    "collapsed": true,
    "ExecuteTime": {
     "end_time": "2025-05-19T17:31:01.370014Z",
     "start_time": "2025-05-19T17:30:57.576673Z"
    }
   },
   "cell_type": "code",
   "source": [
    "import geopandas as gpd\n",
    "\n",
    "from pyinterpolate import build_experimental_variogram\n",
    "from pyinterpolate import Blocks\n",
    "from pyinterpolate import Deconvolution\n",
    "from pyinterpolate import PointSupport"
   ],
   "id": "initial_id",
   "outputs": [],
   "execution_count": 1
  },
  {
   "metadata": {
    "ExecuteTime": {
     "end_time": "2025-05-19T17:31:01.377703Z",
     "start_time": "2025-05-19T17:31:01.374808Z"
    }
   },
   "cell_type": "code",
   "source": [
    "DATASET = '../data/blocks/cancer_data.gpkg'\n",
    "OUTPUT = '../data/regularized_variogram.json'\n",
    "POLYGON_LAYER = 'areas'\n",
    "POPULATION_LAYER = 'points'\n",
    "POP10 = 'POP10'\n",
    "GEOMETRY_COL = 'geometry'\n",
    "POLYGON_ID = 'FIPS'\n",
    "POLYGON_VALUE = 'rate'"
   ],
   "id": "e131992ffbddff45",
   "outputs": [],
   "execution_count": 2
  },
  {
   "metadata": {
    "ExecuteTime": {
     "end_time": "2025-05-19T17:31:01.774618Z",
     "start_time": "2025-05-19T17:31:01.536901Z"
    }
   },
   "cell_type": "code",
   "source": [
    "blocks = Blocks(\n",
    "    ds=gpd.read_file(DATASET, layer=POLYGON_LAYER),\n",
    "    value_column_name=POLYGON_VALUE,\n",
    "    geometry_column_name=GEOMETRY_COL,\n",
    "    index_column_name=POLYGON_ID\n",
    ")"
   ],
   "id": "ffae19283f230998",
   "outputs": [],
   "execution_count": 3
  },
  {
   "metadata": {
    "ExecuteTime": {
     "end_time": "2025-05-19T17:31:01.806399Z",
     "start_time": "2025-05-19T17:31:01.783758Z"
    }
   },
   "cell_type": "code",
   "source": "blocks.ds.head()",
   "id": "7b5fb7b093edc03a",
   "outputs": [
    {
     "data": {
      "text/plain": [
       "    FIPS   rate                                           geometry  \\\n",
       "0  25019  192.2  MULTIPOLYGON (((2115688.816 556471.24, 2115699...   \n",
       "1  36121  166.8  POLYGON ((1419423.43 564830.379, 1419729.721 5...   \n",
       "2  33001  157.4  MULTIPOLYGON (((1937530.728 779787.978, 193751...   \n",
       "3  25007  156.7  MULTIPOLYGON (((2074073.532 539159.504, 207411...   \n",
       "4  25001  155.3  MULTIPOLYGON (((2095343.207 637424.961, 209528...   \n",
       "\n",
       "            representative_points           lon            lat  \n",
       "0  POINT (2132629.599 557971.156)  2.132630e+06  557971.155949  \n",
       "1  POINT (1442153.243 550673.936)  1.442153e+06  550673.935704  \n",
       "2   POINT (1958207.02 766008.383)  1.958207e+06  766008.383446  \n",
       "3  POINT (2082188.457 556830.822)  2.082188e+06  556830.822367  \n",
       "4   POINT (2100746.85 600235.846)  2.100747e+06  600235.845891  "
      ],
      "text/html": [
       "<div>\n",
       "<style scoped>\n",
       "    .dataframe tbody tr th:only-of-type {\n",
       "        vertical-align: middle;\n",
       "    }\n",
       "\n",
       "    .dataframe tbody tr th {\n",
       "        vertical-align: top;\n",
       "    }\n",
       "\n",
       "    .dataframe thead th {\n",
       "        text-align: right;\n",
       "    }\n",
       "</style>\n",
       "<table border=\"1\" class=\"dataframe\">\n",
       "  <thead>\n",
       "    <tr style=\"text-align: right;\">\n",
       "      <th></th>\n",
       "      <th>FIPS</th>\n",
       "      <th>rate</th>\n",
       "      <th>geometry</th>\n",
       "      <th>representative_points</th>\n",
       "      <th>lon</th>\n",
       "      <th>lat</th>\n",
       "    </tr>\n",
       "  </thead>\n",
       "  <tbody>\n",
       "    <tr>\n",
       "      <th>0</th>\n",
       "      <td>25019</td>\n",
       "      <td>192.2</td>\n",
       "      <td>MULTIPOLYGON (((2115688.816 556471.24, 2115699...</td>\n",
       "      <td>POINT (2132629.599 557971.156)</td>\n",
       "      <td>2.132630e+06</td>\n",
       "      <td>557971.155949</td>\n",
       "    </tr>\n",
       "    <tr>\n",
       "      <th>1</th>\n",
       "      <td>36121</td>\n",
       "      <td>166.8</td>\n",
       "      <td>POLYGON ((1419423.43 564830.379, 1419729.721 5...</td>\n",
       "      <td>POINT (1442153.243 550673.936)</td>\n",
       "      <td>1.442153e+06</td>\n",
       "      <td>550673.935704</td>\n",
       "    </tr>\n",
       "    <tr>\n",
       "      <th>2</th>\n",
       "      <td>33001</td>\n",
       "      <td>157.4</td>\n",
       "      <td>MULTIPOLYGON (((1937530.728 779787.978, 193751...</td>\n",
       "      <td>POINT (1958207.02 766008.383)</td>\n",
       "      <td>1.958207e+06</td>\n",
       "      <td>766008.383446</td>\n",
       "    </tr>\n",
       "    <tr>\n",
       "      <th>3</th>\n",
       "      <td>25007</td>\n",
       "      <td>156.7</td>\n",
       "      <td>MULTIPOLYGON (((2074073.532 539159.504, 207411...</td>\n",
       "      <td>POINT (2082188.457 556830.822)</td>\n",
       "      <td>2.082188e+06</td>\n",
       "      <td>556830.822367</td>\n",
       "    </tr>\n",
       "    <tr>\n",
       "      <th>4</th>\n",
       "      <td>25001</td>\n",
       "      <td>155.3</td>\n",
       "      <td>MULTIPOLYGON (((2095343.207 637424.961, 209528...</td>\n",
       "      <td>POINT (2100746.85 600235.846)</td>\n",
       "      <td>2.100747e+06</td>\n",
       "      <td>600235.845891</td>\n",
       "    </tr>\n",
       "  </tbody>\n",
       "</table>\n",
       "</div>"
      ]
     },
     "execution_count": 4,
     "metadata": {},
     "output_type": "execute_result"
    }
   ],
   "execution_count": 4
  },
  {
   "metadata": {
    "ExecuteTime": {
     "end_time": "2025-05-19T17:31:02.207826Z",
     "start_time": "2025-05-19T17:31:01.897091Z"
    }
   },
   "cell_type": "code",
   "source": [
    "point_support = PointSupport(\n",
    "    points=gpd.read_file(DATASET, layer=POPULATION_LAYER),\n",
    "    blocks=blocks,\n",
    "    points_value_column=POP10,\n",
    "    points_geometry_column=GEOMETRY_COL,\n",
    "    verbose=True\n",
    ")"
   ],
   "id": "7dd8dc1cd8524183",
   "outputs": [],
   "execution_count": 5
  },
  {
   "metadata": {
    "ExecuteTime": {
     "end_time": "2025-05-19T17:31:02.293280Z",
     "start_time": "2025-05-19T17:31:02.280280Z"
    }
   },
   "cell_type": "code",
   "source": "point_support.point_support.head()",
   "id": "e8b68807f87e0432",
   "outputs": [
    {
     "data": {
      "text/plain": [
       "                         geometry    POP10     FIPS           lon  \\\n",
       "0  POINT (1277277.671 441124.507)   1866.0  42049.0  1.277278e+06   \n",
       "1  POINT (1277277.671 431124.507)   2093.0  42049.0  1.277278e+06   \n",
       "2  POINT (1277277.671 421124.507)    590.0  42039.0  1.277278e+06   \n",
       "3  POINT (1277277.671 411124.507)    636.0  42039.0  1.277278e+06   \n",
       "4  POINT (1285937.925 446124.507)  10191.0  42049.0  1.285938e+06   \n",
       "\n",
       "           lat  total_POP10  \n",
       "0  441124.5068     262794.0  \n",
       "1  431124.5068     262794.0  \n",
       "2  421124.5068      89534.0  \n",
       "3  411124.5068      89534.0  \n",
       "4  446124.5068     262794.0  "
      ],
      "text/html": [
       "<div>\n",
       "<style scoped>\n",
       "    .dataframe tbody tr th:only-of-type {\n",
       "        vertical-align: middle;\n",
       "    }\n",
       "\n",
       "    .dataframe tbody tr th {\n",
       "        vertical-align: top;\n",
       "    }\n",
       "\n",
       "    .dataframe thead th {\n",
       "        text-align: right;\n",
       "    }\n",
       "</style>\n",
       "<table border=\"1\" class=\"dataframe\">\n",
       "  <thead>\n",
       "    <tr style=\"text-align: right;\">\n",
       "      <th></th>\n",
       "      <th>geometry</th>\n",
       "      <th>POP10</th>\n",
       "      <th>FIPS</th>\n",
       "      <th>lon</th>\n",
       "      <th>lat</th>\n",
       "      <th>total_POP10</th>\n",
       "    </tr>\n",
       "  </thead>\n",
       "  <tbody>\n",
       "    <tr>\n",
       "      <th>0</th>\n",
       "      <td>POINT (1277277.671 441124.507)</td>\n",
       "      <td>1866.0</td>\n",
       "      <td>42049.0</td>\n",
       "      <td>1.277278e+06</td>\n",
       "      <td>441124.5068</td>\n",
       "      <td>262794.0</td>\n",
       "    </tr>\n",
       "    <tr>\n",
       "      <th>1</th>\n",
       "      <td>POINT (1277277.671 431124.507)</td>\n",
       "      <td>2093.0</td>\n",
       "      <td>42049.0</td>\n",
       "      <td>1.277278e+06</td>\n",
       "      <td>431124.5068</td>\n",
       "      <td>262794.0</td>\n",
       "    </tr>\n",
       "    <tr>\n",
       "      <th>2</th>\n",
       "      <td>POINT (1277277.671 421124.507)</td>\n",
       "      <td>590.0</td>\n",
       "      <td>42039.0</td>\n",
       "      <td>1.277278e+06</td>\n",
       "      <td>421124.5068</td>\n",
       "      <td>89534.0</td>\n",
       "    </tr>\n",
       "    <tr>\n",
       "      <th>3</th>\n",
       "      <td>POINT (1277277.671 411124.507)</td>\n",
       "      <td>636.0</td>\n",
       "      <td>42039.0</td>\n",
       "      <td>1.277278e+06</td>\n",
       "      <td>411124.5068</td>\n",
       "      <td>89534.0</td>\n",
       "    </tr>\n",
       "    <tr>\n",
       "      <th>4</th>\n",
       "      <td>POINT (1285937.925 446124.507)</td>\n",
       "      <td>10191.0</td>\n",
       "      <td>42049.0</td>\n",
       "      <td>1.285938e+06</td>\n",
       "      <td>446124.5068</td>\n",
       "      <td>262794.0</td>\n",
       "    </tr>\n",
       "  </tbody>\n",
       "</table>\n",
       "</div>"
      ]
     },
     "execution_count": 6,
     "metadata": {},
     "output_type": "execute_result"
    }
   ],
   "execution_count": 6
  },
  {
   "metadata": {},
   "cell_type": "markdown",
   "source": [
    "## 2. Set semivariogram parameters\n",
    "\n",
    "Now, we must set parameters for the areal semivariogram AND point support semivariogram. It is essential to understand data, especially experimental semivariances.\n",
    "\n",
    "The *step size* and the *maximum search radius* parameters depend on the block data. But we should check the point's semivariogram too, just in case. We won't create meaningful results if point support data is spatially independent."
   ],
   "id": "56f30192348a020c"
  },
  {
   "metadata": {
    "ExecuteTime": {
     "end_time": "2025-05-19T17:31:15.352444Z",
     "start_time": "2025-05-19T17:31:15.117539Z"
    }
   },
   "cell_type": "code",
   "source": [
    "# Check experimental semivariogram of areal data - this cell may be run multiple times\n",
    "# before you find optimal parameters\n",
    "\n",
    "maximum_range = 300000\n",
    "step_size = 40000\n",
    "\n",
    "dt = blocks.block_data  # x, y, val\n",
    "exp_semivar = build_experimental_variogram(ds=dt, step_size=step_size, max_range=maximum_range)\n",
    "\n",
    "# Plot experimental semivariogram\n",
    "\n",
    "exp_semivar.plot()"
   ],
   "id": "ef6b93e2926b9b50",
   "outputs": [
    {
     "data": {
      "text/plain": [
       "<Figure size 1200x600 with 1 Axes>"
      ],
      "image/png": "[encoded data removed]"
     },
     "metadata": {},
     "output_type": "display_data"
    }
   ],
   "execution_count": 7
  },
  {
   "metadata": {
    "ExecuteTime": {
     "end_time": "2025-05-19T17:32:43.855878Z",
     "start_time": "2025-05-19T17:32:42.649208Z"
    }
   },
   "cell_type": "code",
   "source": [
    "# Check experimental semivariogram of point data - this cell may be run multiple times\n",
    "# before you find optimal parameters\n",
    "\n",
    "maximum_point_range = 300000\n",
    "step_size_points = 20000\n",
    "\n",
    "\n",
    "pt = point_support.get_points_array()\n",
    "exp_semivar = build_experimental_variogram(ds=pt, step_size=step_size, max_range=maximum_range)\n",
    "\n",
    "# Plot experimental semivariogram\n",
    "\n",
    "exp_semivar.plot()"
   ],
   "id": "4be7846e434cc270",
   "outputs": [
    {
     "data": {
      "text/plain": [
       "<Figure size 1200x600 with 1 Axes>"
      ],
      "image/png": "[encoded data removed]"
     },
     "metadata": {},
     "output_type": "display_data"
    }
   ],
   "execution_count": 8
  },
  {
   "metadata": {},
   "cell_type": "code",
   "outputs": [],
   "execution_count": null,
   "source": "",
   "id": "407a67e7f80b6950"
  },
  {
   "metadata": {},
   "cell_type": "markdown",
   "source": "We see that the point support variogram follow a spatial-dependency pattern, but changes in semivariance within blocks is not pronounced ................. In this case, we can move to the next step - deconvolution. The next step is to create the Deconvolution object. We have multiple parameters to choose from, and it is hard to find the best fit initially, so try to avoid multiple loops because it is time-consuming.",
   "id": "55e3fc3253791543"
  }
 ],
 "metadata": {
  "kernelspec": {
   "display_name": "Python 3",
   "language": "python",
   "name": "python3"
  },
  "language_info": {
   "codemirror_mode": {
    "name": "ipython",
    "version": 2
   },
   "file_extension": ".py",
   "mimetype": "text/x-python",
   "name": "python",
   "nbconvert_exporter": "python",
   "pygments_lexer": "ipython2",
   "version": "2.7.6"
  }
 },
 "nbformat": 4,
 "nbformat_minor": 5
}

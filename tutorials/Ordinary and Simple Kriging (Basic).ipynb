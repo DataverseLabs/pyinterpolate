{
 "cells": [
  {
   "cell_type": "markdown",
   "metadata": {
    "pycharm": {
     "name": "#%% md\n"
    }
   },
   "source": [
    "# Ordinary and Simple Kriging - tutorial\n",
    "\n",
    "## Table of Contents:\n",
    "\n",
    "1. Read point data,\n",
    "2. Set semivariogram model,\n",
    "3. Set Ordinary Kriging and Simple Kriging models,\n",
    "4. Predict values at unknown locations.\n",
    "\n",
    "## Level: Basic\n",
    "\n",
    "## Changelog\n",
    "\n",
    "| Date | Change description | Author |\n",
    "|------|--------------------|--------|\n",
    "| 2022-08-20 | Updated to the version 0.3.0 | @SimonMolinsky |\n",
    "| 2021-12-14 | Sill selection was upgraded: now optimal sill is derived from the grid search within `TheoreticalSemivariogram` class & error variance estimated in a correct way | @SimonMolinsky |\n",
    "| 2021-12-13 | Changed behavior of `select_values_in_range()` function | @SimonMolinsky |\n",
    "| 2021-12-11 | Behavior of `prepare_kriging_data()` function has benn changed | @SimonMolinsky |\n",
    "| 2021-05-11 | Refactored TheoreticalSemivariogram class | @SimonMolinsky |\n",
    "| 2021-04-03 | Simple Kriging `global_mean` parameter update. | @SimonMolinsky |\n",
    "| 2021-03-31 | Update related to the change of semivariogram weighting. Updated point data source. | @SimonMolinsky |\n",
    "\n",
    "## Introduction\n",
    "\n",
    "In this tutorial we will learn how to perform the spatial interpolation with Ordinary and Simple Kriging. We will compare different number of ranges and test outcomes of processing with the root mean squared error.\n",
    "\n",
    "Ordinary and Simple Kriging are the simplest form of Kriging, but they're still very powerful techniques.\n",
    "\n",
    "We use DEM data which is stored in a file `samples/point_data/txt/pl_dem_epsg2180.txt`."
   ]
  },
  {
   "cell_type": "markdown",
   "metadata": {
    "pycharm": {
     "name": "#%% md\n"
    }
   },
   "source": [
    "## Import packages"
   ]
  },
  {
   "cell_type": "code",
   "execution_count": 11,
   "metadata": {
    "pycharm": {
     "name": "#%%\n"
    }
   },
   "outputs": [],
   "source": [
    "from typing import List\n",
    "\n",
    "import numpy as np\n",
    "\n",
    "import matplotlib.pyplot as plt\n",
    "\n",
    "from pyinterpolate.io import read_txt\n",
    "from pyinterpolate.variogram import build_experimental_variogram, build_theoretical_variogram\n",
    "from pyinterpolate.kriging.point_kriging import kriging"
   ]
  },
  {
   "cell_type": "markdown",
   "metadata": {
    "pycharm": {
     "name": "#%% md\n"
    }
   },
   "source": [
    "## 1) Read point data"
   ]
  },
  {
   "cell_type": "code",
   "execution_count": 2,
   "metadata": {
    "pycharm": {
     "name": "#%%\n"
    }
   },
   "outputs": [
    {
     "data": {
      "text/plain": "array([[2.37685325e+05, 5.45416708e+05, 5.12545509e+01],\n       [2.37674140e+05, 5.45209671e+05, 4.89582825e+01],\n       [2.37449255e+05, 5.41045935e+05, 1.68178635e+01]])"
     },
     "execution_count": 2,
     "metadata": {},
     "output_type": "execute_result"
    }
   ],
   "source": [
    "dem = read_txt('samples/point_data/txt/pl_dem_epsg2180.txt')\n",
    "dem[: 3]"
   ]
  },
  {
   "cell_type": "markdown",
   "metadata": {
    "pycharm": {
     "name": "#%% md\n"
    }
   },
   "source": [
    "At the beginning we remove 70 % of our points from the dataset and we will left them as an test set to estimate how good are our models."
   ]
  },
  {
   "cell_type": "code",
   "execution_count": 3,
   "metadata": {
    "pycharm": {
     "name": "#%%\n"
    }
   },
   "outputs": [],
   "source": [
    "def create_train_test(dataset: np.ndarray, frac=0.7):\n",
    "    \"\"\"\n",
    "    Function divides base dataset into a training and a test set.\n",
    "\n",
    "    Parameters\n",
    "    ----------\n",
    "    dataset : np.ndarray\n",
    "\n",
    "    frac : float, default = 0.2\n",
    "    \n",
    "    Returns\n",
    "    -------\n",
    "    training_set, test_set : List[np.ndarray]\n",
    "    \"\"\"\n",
    "\n",
    "    np.random.seed(101)  # To ensure that we will get the same results every time\n",
    "\n",
    "    removed_idx = np.random.randint(0, len(dataset)-1, size=int(frac * len(dataset)))\n",
    "    test_set = dataset[removed_idx]\n",
    "    training_set = np.delete(dataset, removed_idx, 0)\n",
    "    return training_set, test_set\n",
    "\n",
    "\n",
    "train_set, test_set = create_train_test(dem)"
   ]
  },
  {
   "cell_type": "markdown",
   "metadata": {
    "pycharm": {
     "name": "#%% md\n"
    }
   },
   "source": [
    "We have removed subset of points from a dataset to be sure that Kriging is working. In this scenario 70% of available points are removed, but in a real-world cases you will probably have even less points to perform estimations, down to the 1% of known values.\n",
    "\n",
    "Function `create_train_test()` divides our dataset into two subsets:\n",
    "- **training set** used for semivariogram model derivation,\n",
    "- **test set** used for the model error calculation.\n",
    "\n",
    "Points for each set are chosen randomly to avoid bias related to the geographical location. Let's imagine that we have a sorted list of Digital Elevation Model points. The western part of our measurements covers a mountain and the eastern part is a plain. When we use the western part for a modeling and the eastern part for tests we are going directly into a catastrophe! That's why it's better to perform multiple random sampling and test multiple realizations from our data. We will prepare only one realization with a fixed random seed, but you should be aware that in the real-world analysis we must prepare more realizations (e.g.: set multiple random seeds)."
   ]
  },
  {
   "cell_type": "markdown",
   "metadata": {
    "pycharm": {
     "name": "#%% md\n"
    }
   },
   "source": [
    "## 2) Set Semivariogram model\n",
    "\n",
    "In this step, we are going to create experimental and theoretical semivariograms. (More about the experimental semivariogram estimation is [here]() or [here]()."
   ]
  },
  {
   "cell_type": "code",
   "execution_count": 4,
   "metadata": {
    "pycharm": {
     "name": "#%%\n"
    }
   },
   "outputs": [],
   "source": [
    "# Create experimental semivariogram\n",
    "\n",
    "# Prepare experimental semivariogram\n",
    "\n",
    "step_radius = 1000  # meters\n",
    "max_range = 10000  # meters\n",
    "\n",
    "exp_semivar = build_experimental_variogram(input_array=train_set, step_size=step_radius, max_range=max_range)"
   ]
  },
  {
   "cell_type": "code",
   "execution_count": 5,
   "metadata": {
    "pycharm": {
     "name": "#%%\n"
    }
   },
   "outputs": [
    {
     "data": {
      "text/plain": "<Figure size 864x432 with 1 Axes>",
      "image/png": "[encoded data removed]"
     },
     "metadata": {
      "needs_background": "light"
     },
     "output_type": "display_data"
    }
   ],
   "source": [
    "# Plot experimental semivariogram\n",
    "\n",
    "exp_semivar.plot()"
   ]
  },
  {
   "cell_type": "code",
   "execution_count": 6,
   "metadata": {
    "pycharm": {
     "name": "#%%\n"
    }
   },
   "outputs": [],
   "source": [
    "# Fit data into a theoretical model\n",
    "\n",
    "semivar = build_theoretical_variogram(experimental_variogram=exp_semivar, model_type='linear', sill=exp_semivar.variance, rang=10000)"
   ]
  },
  {
   "cell_type": "code",
   "execution_count": 7,
   "metadata": {
    "pycharm": {
     "name": "#%%\n"
    }
   },
   "outputs": [
    {
     "data": {
      "text/plain": "<Figure size 864x432 with 1 Axes>",
      "image/png": "[encoded data removed]"
     },
     "metadata": {
      "needs_background": "light"
     },
     "output_type": "display_data"
    }
   ],
   "source": [
    "semivar.plot()"
   ]
  },
  {
   "cell_type": "code",
   "execution_count": 8,
   "metadata": {
    "pycharm": {
     "name": "#%%\n"
    }
   },
   "outputs": [
    {
     "name": "stdout",
     "output_type": "stream",
     "text": [
      "* Selected model: Linear model\n",
      "* Nugget: 0.0\n",
      "* Sill: 502.1478552791644\n",
      "* Range: 10000\n",
      "* Mean Bias: 14.295266746256804\n",
      "* Mean RMSE: 36.84816174519201\n",
      "* Error-lag weighting method: None\n",
      "\n",
      "+--------+--------------------+--------------------+---------------------+\n",
      "|  lag   |    theoretical     |    experimental    |     bias (y-y')     |\n",
      "+--------+--------------------+--------------------+---------------------+\n",
      "| 1000.0 | 50.21478552791644  | 30.26008886184797  |  -19.95469666606847 |\n",
      "| 2000.0 | 100.42957105583288 | 71.35193412013082  |  -29.07763693570206 |\n",
      "| 3000.0 | 150.6443565837493  | 127.93978772398869 | -22.704568859760613 |\n",
      "| 4000.0 | 200.85914211166576 | 190.15736504012162 | -10.701777071544143 |\n",
      "| 5000.0 | 251.0739276395822  | 264.4794563230864  |  13.40552868350423  |\n",
      "| 6000.0 | 301.2887131674986  | 334.47283246741443 |  33.184119299915835 |\n",
      "| 7000.0 | 351.50349869541503 | 403.55986599576715 |  52.05636730035212  |\n",
      "| 8000.0 | 401.7182842233315  | 462.0109291946033  |  60.292644971271784 |\n",
      "| 9000.0 | 451.93306975124796 | 504.0904897455905  |  52.15741999434255  |\n",
      "+--------+--------------------+--------------------+---------------------+\n"
     ]
    }
   ],
   "source": [
    "print(semivar)"
   ]
  },
  {
   "cell_type": "markdown",
   "metadata": {
    "pycharm": {
     "name": "#%% md\n"
    }
   },
   "source": [
    "## 3) Set Ordinary Kriging and Simple Kriging models\n",
    "\n",
    "This is the most important step of our tutorial. We've set our semivariogram model and now we are able to perform prediction of an unknown values. In a first run, we will \"predict\" known, arbitrary point. It is a test of Kriging: it is **unbiased linear estimator**, thus it should return **exact** value from a known point. In the second step, we will try to guess values at unknown locations and calculate the **R**oot **M**ean **S**quared **E**rror (RMSE) of interpolated values.\n",
    "\n",
    "For both kriging types we can use the same `kriging()` function. It takes those arguments:\n",
    "\n",
    "- `observations`: array with known points,\n",
    "- `theoretical_model`: fitted `TheoreticalVariogram` model,\n",
    "- `points`: points to interpolate values,\n",
    "- `how`: `ok` - ordinary kriging, `sk` - simple kriging,\n",
    "- `neighbors_range`: `None` or `float`, the maximum distance where we search for point neighbors. If `None` given then range is selected from the `theoretical_model` `rang` attribute.\n",
    "- `min_no_neighbors`: `int`, the minimum number of neighbors to estimate unknown value; value is used when insufficient number of neighbors is within the `neighbors_range`.\n",
    "- `max_no_neighbors`: `int`, the maximum number of n-closest neighbors used for interpolation if there are too many neighbors in the `neighbors_range`. It speeds up calculations for large datasets. Default -1 means that all possible neighbors will be used.\n",
    "- `sk_mean`: `None` or `float`, the mean value of a process over a study area. Should be know before processing. That's why Simple Kriging has limited number of applications. You must have multiple samples and well-known area to know this parameter.\n",
    "- `allow_approx_solutions`: Allows the approximation of kriging weights based on the OLS algorithm. Not recommended to set to True if you don't know what you are doing! By default, it is set to `False`,\n",
    "- `number_of_workers`: if we pass more than 10k points to interpolate, it is recommended to set this parameter to the number of your CPU workers (or -1) - it will speed up calculations.\n",
    "\n",
    "We use only the first four parameters, and `sk_mean` when we perform Simple Kriging. Let's start! The first step is an interpolation of value known by our model."
   ]
  },
  {
   "cell_type": "code",
   "execution_count": 9,
   "metadata": {
    "pycharm": {
     "name": "#%%\n"
    }
   },
   "outputs": [
    {
     "data": {
      "text/plain": "array([2.37852392e+05, 5.47022672e+05, 7.61861649e+01])"
     },
     "execution_count": 9,
     "metadata": {},
     "output_type": "execute_result"
    }
   ],
   "source": [
    "# Select one known value\n",
    "\n",
    "known_value = train_set[10]\n",
    "known_value"
   ]
  },
  {
   "cell_type": "code",
   "execution_count": 12,
   "metadata": {
    "pycharm": {
     "name": "#%%\n"
    }
   },
   "outputs": [
    {
     "name": "stderr",
     "output_type": "stream",
     "text": [
      "100%|██████████| 1/1 [00:00<00:00,  2.81it/s]\n"
     ]
    },
    {
     "data": {
      "text/plain": "array([[7.61861649e+01, 2.22143231e-26, 2.37852392e+05, 5.47022672e+05]])"
     },
     "execution_count": 12,
     "metadata": {},
     "output_type": "execute_result"
    }
   ],
   "source": [
    "# Predict with Ordinary Kriging\n",
    "\n",
    "ok_interpolation = kriging(train_set, semivar, [known_value[:-1]])\n",
    "ok_interpolation"
   ]
  },
  {
   "cell_type": "markdown",
   "metadata": {
    "pycharm": {
     "name": "#%% md\n"
    }
   },
   "source": [
    "As we see, the first value is our prediction: it is exactly the same as input in training set! So far, algoritm works well. The second value is prediction variance error, it is negligibly low, very close to zero, and may be just artifact of `float` calculations. The last two values are our uknown point coordinates.\n",
    "\n",
    "Simple Kriging is slightly different than the Ordinary Kriging and we must set the process mean to retrive a valid results. It is rarely the case, that's why Ordinary Kriging is the first choice for many applications. We know global mean beacuse we have whole dataset but in the real-world scenario we cannot divide set into training and test sets and then get mean from the whole dataset - it is a information leak from the test set into a model!"
   ]
  },
  {
   "cell_type": "code",
   "execution_count": 13,
   "metadata": {
    "pycharm": {
     "name": "#%%\n"
    }
   },
   "outputs": [
    {
     "name": "stderr",
     "output_type": "stream",
     "text": [
      "100%|██████████| 1/1 [00:00<00:00,  2.97it/s]\n"
     ]
    },
    {
     "data": {
      "text/plain": "array([[ 7.61861649e+01, -1.93870456e-26,  2.37852392e+05,\n         5.47022672e+05]])"
     },
     "execution_count": 13,
     "metadata": {},
     "output_type": "execute_result"
    }
   ],
   "source": [
    "sk_interpolation = kriging(train_set, semivar, [known_value[:-1]], how='sk', sk_mean=np.mean(dem))\n",
    "sk_interpolation"
   ]
  },
  {
   "cell_type": "markdown",
   "metadata": {
    "pycharm": {
     "name": "#%% md\n"
    }
   },
   "source": [
    "The Simple Kriging algorithm returns the same output as the Ordinary Kriging: `[prediction, error variance, pt x, pt y]`. And as with Ordinary Kriging, Simple Kriging has returned the same value as real value that was fed to the algorithm."
   ]
  },
  {
   "cell_type": "markdown",
   "metadata": {
    "pycharm": {
     "name": "#%% md\n"
    }
   },
   "source": [
    "## 4) Predict values at unknown locations\n",
    "\n",
    "Kriging to retrieve known points values is pointless, it is a great tool for testing algorithm but nothing more. Here we are going to do what Kriging is designed for. We will interpolate values at unknown locations. Additionally, we will control `number_of_neighbors` parameter to check, how it influences predictions.\n",
    "\n",
    "In the first move, we will create a simple function to test our kriging results and to calculate RMSE from those."
   ]
  },
  {
   "cell_type": "code",
   "execution_count": 16,
   "metadata": {
    "pycharm": {
     "name": "#%%\n"
    }
   },
   "outputs": [],
   "source": [
    "def test_kriging(train_set, variogram_model, ktype, test_values, number_of_neighbors):\n",
    "    predictions = kriging(observations=train_set,\n",
    "                          theoretical_model=variogram_model,\n",
    "                          points=test_values[:, :-1],\n",
    "                          how=ktype,\n",
    "                          min_no_neighbors=number_of_neighbors,\n",
    "                          number_of_workers=-1)\n",
    "    mse = np.mean((predictions[:, 0] - test_values[:, -1])**2)\n",
    "    rmse = np.sqrt(mse)\n",
    "    return rmse"
   ]
  },
  {
   "cell_type": "code",
   "execution_count": 17,
   "metadata": {
    "pycharm": {
     "name": "#%%\n"
    }
   },
   "outputs": [
    {
     "name": "stdout",
     "output_type": "stream",
     "text": [
      "Ordinary Kriging: tests\n",
      "Number of neighbors: 4\n",
      "[                                        ] | 1% Completed | 126.31 ss\n"
     ]
    },
    {
     "ename": "KeyboardInterrupt",
     "evalue": "",
     "output_type": "error",
     "traceback": [
      "\u001B[0;31m---------------------------------------------------------------------------\u001B[0m",
      "\u001B[0;31mKeyboardInterrupt\u001B[0m                         Traceback (most recent call last)",
      "Input \u001B[0;32mIn [17]\u001B[0m, in \u001B[0;36m<cell line: 5>\u001B[0;34m()\u001B[0m\n\u001B[1;32m      6\u001B[0m \u001B[38;5;28mprint\u001B[39m(\u001B[38;5;124m'\u001B[39m\u001B[38;5;124mOrdinary Kriging: tests\u001B[39m\u001B[38;5;124m'\u001B[39m)\n\u001B[1;32m      7\u001B[0m \u001B[38;5;28mprint\u001B[39m(\u001B[38;5;124m'\u001B[39m\u001B[38;5;124mNumber of neighbors:\u001B[39m\u001B[38;5;124m'\u001B[39m, nn)\n\u001B[0;32m----> 8\u001B[0m rmse_pred \u001B[38;5;241m=\u001B[39m \u001B[43mtest_kriging\u001B[49m\u001B[43m(\u001B[49m\u001B[43mtrain_set\u001B[49m\u001B[38;5;241;43m=\u001B[39;49m\u001B[43mtrain_set\u001B[49m\u001B[43m,\u001B[49m\u001B[43m \u001B[49m\u001B[43mvariogram_model\u001B[49m\u001B[38;5;241;43m=\u001B[39;49m\u001B[43msemivar\u001B[49m\u001B[43m,\u001B[49m\u001B[43m \u001B[49m\u001B[43mktype\u001B[49m\u001B[38;5;241;43m=\u001B[39;49m\u001B[38;5;124;43m'\u001B[39;49m\u001B[38;5;124;43mok\u001B[39;49m\u001B[38;5;124;43m'\u001B[39;49m\u001B[43m,\u001B[49m\u001B[43m \u001B[49m\u001B[43mtest_values\u001B[49m\u001B[38;5;241;43m=\u001B[39;49m\u001B[43mtest_set\u001B[49m\u001B[43m,\u001B[49m\u001B[43m \u001B[49m\u001B[43mnumber_of_neighbors\u001B[49m\u001B[38;5;241;43m=\u001B[39;49m\u001B[43mnn\u001B[49m\u001B[43m)\u001B[49m\n\u001B[1;32m      9\u001B[0m \u001B[38;5;28mprint\u001B[39m(\u001B[38;5;124m'\u001B[39m\u001B[38;5;124mRMSE:\u001B[39m\u001B[38;5;124m'\u001B[39m, rmse_pred)\n\u001B[1;32m     10\u001B[0m \u001B[38;5;28mprint\u001B[39m(\u001B[38;5;124m'\u001B[39m\u001B[38;5;124m'\u001B[39m)\n",
      "Input \u001B[0;32mIn [16]\u001B[0m, in \u001B[0;36mtest_kriging\u001B[0;34m(train_set, variogram_model, ktype, test_values, number_of_neighbors)\u001B[0m\n\u001B[1;32m      1\u001B[0m \u001B[38;5;28;01mdef\u001B[39;00m \u001B[38;5;21mtest_kriging\u001B[39m(train_set, variogram_model, ktype, test_values, number_of_neighbors):\n\u001B[0;32m----> 2\u001B[0m     predictions \u001B[38;5;241m=\u001B[39m \u001B[43mkriging\u001B[49m\u001B[43m(\u001B[49m\u001B[43mobservations\u001B[49m\u001B[38;5;241;43m=\u001B[39;49m\u001B[43mtrain_set\u001B[49m\u001B[43m,\u001B[49m\n\u001B[1;32m      3\u001B[0m \u001B[43m                          \u001B[49m\u001B[43mtheoretical_model\u001B[49m\u001B[38;5;241;43m=\u001B[39;49m\u001B[43mvariogram_model\u001B[49m\u001B[43m,\u001B[49m\n\u001B[1;32m      4\u001B[0m \u001B[43m                          \u001B[49m\u001B[43mpoints\u001B[49m\u001B[38;5;241;43m=\u001B[39;49m\u001B[43mtest_values\u001B[49m\u001B[43m[\u001B[49m\u001B[43m:\u001B[49m\u001B[43m,\u001B[49m\u001B[43m \u001B[49m\u001B[43m:\u001B[49m\u001B[38;5;241;43m-\u001B[39;49m\u001B[38;5;241;43m1\u001B[39;49m\u001B[43m]\u001B[49m\u001B[43m,\u001B[49m\n\u001B[1;32m      5\u001B[0m \u001B[43m                          \u001B[49m\u001B[43mhow\u001B[49m\u001B[38;5;241;43m=\u001B[39;49m\u001B[43mktype\u001B[49m\u001B[43m,\u001B[49m\n\u001B[1;32m      6\u001B[0m \u001B[43m                          \u001B[49m\u001B[43mmin_no_neighbors\u001B[49m\u001B[38;5;241;43m=\u001B[39;49m\u001B[43mnumber_of_neighbors\u001B[49m\u001B[43m,\u001B[49m\n\u001B[1;32m      7\u001B[0m \u001B[43m                          \u001B[49m\u001B[43mnumber_of_workers\u001B[49m\u001B[38;5;241;43m=\u001B[39;49m\u001B[38;5;241;43m-\u001B[39;49m\u001B[38;5;241;43m1\u001B[39;49m\u001B[43m)\u001B[49m\n\u001B[1;32m      8\u001B[0m     mse \u001B[38;5;241m=\u001B[39m np\u001B[38;5;241m.\u001B[39mmean((predictions[:, \u001B[38;5;241m0\u001B[39m] \u001B[38;5;241m-\u001B[39m test_values[:, \u001B[38;5;241m-\u001B[39m\u001B[38;5;241m1\u001B[39m])\u001B[38;5;241m*\u001B[39m\u001B[38;5;241m*\u001B[39m\u001B[38;5;241m2\u001B[39m)\n\u001B[1;32m      9\u001B[0m     rmse \u001B[38;5;241m=\u001B[39m np\u001B[38;5;241m.\u001B[39msqrt(mse)\n",
      "File \u001B[0;32m~/Documents/Programming/Repositories/pyinterpolate-environment/pyinterpolate/pyinterpolate/kriging/point_kriging.py:153\u001B[0m, in \u001B[0;36mkriging\u001B[0;34m(observations, theoretical_model, points, how, neighbors_range, min_no_neighbors, max_no_neighbors, sk_mean, allow_approx_solutions, number_of_workers)\u001B[0m\n\u001B[1;32m    151\u001B[0m         results\u001B[38;5;241m.\u001B[39mappend(prediction)\n\u001B[1;32m    152\u001B[0m     predictions \u001B[38;5;241m=\u001B[39m dask\u001B[38;5;241m.\u001B[39mdelayed()(results)\n\u001B[0;32m--> 153\u001B[0m     predictions \u001B[38;5;241m=\u001B[39m np\u001B[38;5;241m.\u001B[39marray(\u001B[43mpredictions\u001B[49m\u001B[38;5;241;43m.\u001B[39;49m\u001B[43mcompute\u001B[49m\u001B[43m(\u001B[49m\u001B[43mnum_workers\u001B[49m\u001B[38;5;241;43m=\u001B[39;49m\u001B[43mnumber_of_workers\u001B[49m\u001B[43m)\u001B[49m)\n\u001B[1;32m    154\u001B[0m \u001B[38;5;28;01mreturn\u001B[39;00m predictions\n",
      "File \u001B[0;32m~/miniconda3/envs/p310/lib/python3.10/site-packages/dask/base.py:315\u001B[0m, in \u001B[0;36mDaskMethodsMixin.compute\u001B[0;34m(self, **kwargs)\u001B[0m\n\u001B[1;32m    291\u001B[0m \u001B[38;5;28;01mdef\u001B[39;00m \u001B[38;5;21mcompute\u001B[39m(\u001B[38;5;28mself\u001B[39m, \u001B[38;5;241m*\u001B[39m\u001B[38;5;241m*\u001B[39mkwargs):\n\u001B[1;32m    292\u001B[0m     \u001B[38;5;124;03m\"\"\"Compute this dask collection\u001B[39;00m\n\u001B[1;32m    293\u001B[0m \n\u001B[1;32m    294\u001B[0m \u001B[38;5;124;03m    This turns a lazy Dask collection into its in-memory equivalent.\u001B[39;00m\n\u001B[0;32m   (...)\u001B[0m\n\u001B[1;32m    313\u001B[0m \u001B[38;5;124;03m    dask.base.compute\u001B[39;00m\n\u001B[1;32m    314\u001B[0m \u001B[38;5;124;03m    \"\"\"\u001B[39;00m\n\u001B[0;32m--> 315\u001B[0m     (result,) \u001B[38;5;241m=\u001B[39m \u001B[43mcompute\u001B[49m\u001B[43m(\u001B[49m\u001B[38;5;28;43mself\u001B[39;49m\u001B[43m,\u001B[49m\u001B[43m \u001B[49m\u001B[43mtraverse\u001B[49m\u001B[38;5;241;43m=\u001B[39;49m\u001B[38;5;28;43;01mFalse\u001B[39;49;00m\u001B[43m,\u001B[49m\u001B[43m \u001B[49m\u001B[38;5;241;43m*\u001B[39;49m\u001B[38;5;241;43m*\u001B[39;49m\u001B[43mkwargs\u001B[49m\u001B[43m)\u001B[49m\n\u001B[1;32m    316\u001B[0m     \u001B[38;5;28;01mreturn\u001B[39;00m result\n",
      "File \u001B[0;32m~/miniconda3/envs/p310/lib/python3.10/site-packages/dask/base.py:598\u001B[0m, in \u001B[0;36mcompute\u001B[0;34m(traverse, optimize_graph, scheduler, get, *args, **kwargs)\u001B[0m\n\u001B[1;32m    595\u001B[0m     keys\u001B[38;5;241m.\u001B[39mappend(x\u001B[38;5;241m.\u001B[39m__dask_keys__())\n\u001B[1;32m    596\u001B[0m     postcomputes\u001B[38;5;241m.\u001B[39mappend(x\u001B[38;5;241m.\u001B[39m__dask_postcompute__())\n\u001B[0;32m--> 598\u001B[0m results \u001B[38;5;241m=\u001B[39m \u001B[43mschedule\u001B[49m\u001B[43m(\u001B[49m\u001B[43mdsk\u001B[49m\u001B[43m,\u001B[49m\u001B[43m \u001B[49m\u001B[43mkeys\u001B[49m\u001B[43m,\u001B[49m\u001B[43m \u001B[49m\u001B[38;5;241;43m*\u001B[39;49m\u001B[38;5;241;43m*\u001B[39;49m\u001B[43mkwargs\u001B[49m\u001B[43m)\u001B[49m\n\u001B[1;32m    599\u001B[0m \u001B[38;5;28;01mreturn\u001B[39;00m repack([f(r, \u001B[38;5;241m*\u001B[39ma) \u001B[38;5;28;01mfor\u001B[39;00m r, (f, a) \u001B[38;5;129;01min\u001B[39;00m \u001B[38;5;28mzip\u001B[39m(results, postcomputes)])\n",
      "File \u001B[0;32m~/miniconda3/envs/p310/lib/python3.10/site-packages/dask/threaded.py:89\u001B[0m, in \u001B[0;36mget\u001B[0;34m(dsk, keys, cache, num_workers, pool, **kwargs)\u001B[0m\n\u001B[1;32m     86\u001B[0m     \u001B[38;5;28;01melif\u001B[39;00m \u001B[38;5;28misinstance\u001B[39m(pool, multiprocessing\u001B[38;5;241m.\u001B[39mpool\u001B[38;5;241m.\u001B[39mPool):\n\u001B[1;32m     87\u001B[0m         pool \u001B[38;5;241m=\u001B[39m MultiprocessingPoolExecutor(pool)\n\u001B[0;32m---> 89\u001B[0m results \u001B[38;5;241m=\u001B[39m \u001B[43mget_async\u001B[49m\u001B[43m(\u001B[49m\n\u001B[1;32m     90\u001B[0m \u001B[43m    \u001B[49m\u001B[43mpool\u001B[49m\u001B[38;5;241;43m.\u001B[39;49m\u001B[43msubmit\u001B[49m\u001B[43m,\u001B[49m\n\u001B[1;32m     91\u001B[0m \u001B[43m    \u001B[49m\u001B[43mpool\u001B[49m\u001B[38;5;241;43m.\u001B[39;49m\u001B[43m_max_workers\u001B[49m\u001B[43m,\u001B[49m\n\u001B[1;32m     92\u001B[0m \u001B[43m    \u001B[49m\u001B[43mdsk\u001B[49m\u001B[43m,\u001B[49m\n\u001B[1;32m     93\u001B[0m \u001B[43m    \u001B[49m\u001B[43mkeys\u001B[49m\u001B[43m,\u001B[49m\n\u001B[1;32m     94\u001B[0m \u001B[43m    \u001B[49m\u001B[43mcache\u001B[49m\u001B[38;5;241;43m=\u001B[39;49m\u001B[43mcache\u001B[49m\u001B[43m,\u001B[49m\n\u001B[1;32m     95\u001B[0m \u001B[43m    \u001B[49m\u001B[43mget_id\u001B[49m\u001B[38;5;241;43m=\u001B[39;49m\u001B[43m_thread_get_id\u001B[49m\u001B[43m,\u001B[49m\n\u001B[1;32m     96\u001B[0m \u001B[43m    \u001B[49m\u001B[43mpack_exception\u001B[49m\u001B[38;5;241;43m=\u001B[39;49m\u001B[43mpack_exception\u001B[49m\u001B[43m,\u001B[49m\n\u001B[1;32m     97\u001B[0m \u001B[43m    \u001B[49m\u001B[38;5;241;43m*\u001B[39;49m\u001B[38;5;241;43m*\u001B[39;49m\u001B[43mkwargs\u001B[49m\u001B[43m,\u001B[49m\n\u001B[1;32m     98\u001B[0m \u001B[43m\u001B[49m\u001B[43m)\u001B[49m\n\u001B[1;32m    100\u001B[0m \u001B[38;5;66;03m# Cleanup pools associated to dead threads\u001B[39;00m\n\u001B[1;32m    101\u001B[0m \u001B[38;5;28;01mwith\u001B[39;00m pools_lock:\n",
      "File \u001B[0;32m~/miniconda3/envs/p310/lib/python3.10/site-packages/dask/local.py:500\u001B[0m, in \u001B[0;36mget_async\u001B[0;34m(submit, num_workers, dsk, result, cache, get_id, rerun_exceptions_locally, pack_exception, raise_exception, callbacks, dumps, loads, chunksize, **kwargs)\u001B[0m\n\u001B[1;32m    498\u001B[0m \u001B[38;5;28;01mwhile\u001B[39;00m state[\u001B[38;5;124m\"\u001B[39m\u001B[38;5;124mwaiting\u001B[39m\u001B[38;5;124m\"\u001B[39m] \u001B[38;5;129;01mor\u001B[39;00m state[\u001B[38;5;124m\"\u001B[39m\u001B[38;5;124mready\u001B[39m\u001B[38;5;124m\"\u001B[39m] \u001B[38;5;129;01mor\u001B[39;00m state[\u001B[38;5;124m\"\u001B[39m\u001B[38;5;124mrunning\u001B[39m\u001B[38;5;124m\"\u001B[39m]:\n\u001B[1;32m    499\u001B[0m     fire_tasks(chunksize)\n\u001B[0;32m--> 500\u001B[0m     \u001B[38;5;28;01mfor\u001B[39;00m key, res_info, failed \u001B[38;5;129;01min\u001B[39;00m \u001B[43mqueue_get\u001B[49m\u001B[43m(\u001B[49m\u001B[43mqueue\u001B[49m\u001B[43m)\u001B[49m\u001B[38;5;241m.\u001B[39mresult():\n\u001B[1;32m    501\u001B[0m         \u001B[38;5;28;01mif\u001B[39;00m failed:\n\u001B[1;32m    502\u001B[0m             exc, tb \u001B[38;5;241m=\u001B[39m loads(res_info)\n",
      "File \u001B[0;32m~/miniconda3/envs/p310/lib/python3.10/site-packages/dask/local.py:137\u001B[0m, in \u001B[0;36mqueue_get\u001B[0;34m(q)\u001B[0m\n\u001B[1;32m    136\u001B[0m \u001B[38;5;28;01mdef\u001B[39;00m \u001B[38;5;21mqueue_get\u001B[39m(q):\n\u001B[0;32m--> 137\u001B[0m     \u001B[38;5;28;01mreturn\u001B[39;00m \u001B[43mq\u001B[49m\u001B[38;5;241;43m.\u001B[39;49m\u001B[43mget\u001B[49m\u001B[43m(\u001B[49m\u001B[43m)\u001B[49m\n",
      "File \u001B[0;32m~/miniconda3/envs/p310/lib/python3.10/queue.py:171\u001B[0m, in \u001B[0;36mQueue.get\u001B[0;34m(self, block, timeout)\u001B[0m\n\u001B[1;32m    169\u001B[0m \u001B[38;5;28;01melif\u001B[39;00m timeout \u001B[38;5;129;01mis\u001B[39;00m \u001B[38;5;28;01mNone\u001B[39;00m:\n\u001B[1;32m    170\u001B[0m     \u001B[38;5;28;01mwhile\u001B[39;00m \u001B[38;5;129;01mnot\u001B[39;00m \u001B[38;5;28mself\u001B[39m\u001B[38;5;241m.\u001B[39m_qsize():\n\u001B[0;32m--> 171\u001B[0m         \u001B[38;5;28;43mself\u001B[39;49m\u001B[38;5;241;43m.\u001B[39;49m\u001B[43mnot_empty\u001B[49m\u001B[38;5;241;43m.\u001B[39;49m\u001B[43mwait\u001B[49m\u001B[43m(\u001B[49m\u001B[43m)\u001B[49m\n\u001B[1;32m    172\u001B[0m \u001B[38;5;28;01melif\u001B[39;00m timeout \u001B[38;5;241m<\u001B[39m \u001B[38;5;241m0\u001B[39m:\n\u001B[1;32m    173\u001B[0m     \u001B[38;5;28;01mraise\u001B[39;00m \u001B[38;5;167;01mValueError\u001B[39;00m(\u001B[38;5;124m\"\u001B[39m\u001B[38;5;124m'\u001B[39m\u001B[38;5;124mtimeout\u001B[39m\u001B[38;5;124m'\u001B[39m\u001B[38;5;124m must be a non-negative number\u001B[39m\u001B[38;5;124m\"\u001B[39m)\n",
      "File \u001B[0;32m~/miniconda3/envs/p310/lib/python3.10/threading.py:320\u001B[0m, in \u001B[0;36mCondition.wait\u001B[0;34m(self, timeout)\u001B[0m\n\u001B[1;32m    318\u001B[0m \u001B[38;5;28;01mtry\u001B[39;00m:    \u001B[38;5;66;03m# restore state no matter what (e.g., KeyboardInterrupt)\u001B[39;00m\n\u001B[1;32m    319\u001B[0m     \u001B[38;5;28;01mif\u001B[39;00m timeout \u001B[38;5;129;01mis\u001B[39;00m \u001B[38;5;28;01mNone\u001B[39;00m:\n\u001B[0;32m--> 320\u001B[0m         \u001B[43mwaiter\u001B[49m\u001B[38;5;241;43m.\u001B[39;49m\u001B[43macquire\u001B[49m\u001B[43m(\u001B[49m\u001B[43m)\u001B[49m\n\u001B[1;32m    321\u001B[0m         gotit \u001B[38;5;241m=\u001B[39m \u001B[38;5;28;01mTrue\u001B[39;00m\n\u001B[1;32m    322\u001B[0m     \u001B[38;5;28;01melse\u001B[39;00m:\n",
      "\u001B[0;31mKeyboardInterrupt\u001B[0m: "
     ]
    }
   ],
   "source": [
    "# Number of neighbors\n",
    "\n",
    "no_of_n = [4, 8, 16, 32, 64]\n",
    "\n",
    "for nn in no_of_n:\n",
    "    print('Ordinary Kriging: tests')\n",
    "    print('Number of neighbors:', nn)\n",
    "    rmse_pred = test_kriging(train_set=train_set, variogram_model=semivar, ktype='ok', test_values=test_set, number_of_neighbors=nn)\n",
    "    print('RMSE:', rmse_pred)\n",
    "    print('')"
   ]
  },
  {
   "cell_type": "code",
   "execution_count": 14,
   "metadata": {
    "pycharm": {
     "name": "#%%\n"
    }
   },
   "outputs": [],
   "source": [
    "def test_simple_kriging(kriging_model, test_values, number_of_neighbors, mean_areal):\n",
    "    \n",
    "    mse_arr = []\n",
    "    for x in test_values:\n",
    "        prediction = kriging_model.simple_kriging(\n",
    "            x[:-1],\n",
    "            global_mean=mean_areal,\n",
    "            max_no_neighbors=number_of_neighbors,\n",
    "            test_anomalies=False\n",
    "        )\n",
    "        predicted = prediction[0]\n",
    "        mse = (x[-1] - predicted)**2\n",
    "        mse_arr.append(mse)\n",
    "    rmse = np.sqrt(np.mean(mse))\n",
    "    return rmse"
   ]
  },
  {
   "cell_type": "code",
   "execution_count": 15,
   "metadata": {
    "pycharm": {
     "name": "#%%\n"
    }
   },
   "outputs": [
    {
     "name": "stdout",
     "output_type": "stream",
     "text": [
      "Number of neighbors: 4\n",
      "RMSE: 0.06123483288703113\n",
      "\n",
      "Number of neighbors: 8\n",
      "RMSE: 1.0430861182311162\n",
      "\n",
      "Number of neighbors: 16\n",
      "RMSE: 0.6922830595201646\n",
      "\n",
      "Number of neighbors: 32\n",
      "RMSE: 0.11017080443959415\n",
      "\n",
      "Number of neighbors: 64\n",
      "RMSE: 0.3232713388087163\n",
      "\n"
     ]
    }
   ],
   "source": [
    "# Number of neighbors\n",
    "\n",
    "no_of_n = [4, 8, 16, 32, 64]\n",
    "\n",
    "for nn in no_of_n:\n",
    "    print('Number of neighbors:', nn)\n",
    "    rmse_pred = test_simple_kriging(kriging_model=model,\n",
    "                                      test_values=test_set,\n",
    "                                      number_of_neighbors=nn,\n",
    "                                      mean_areal=np.mean(dem[:, -1]))\n",
    "    print('RMSE:', rmse_pred)\n",
    "    print('')"
   ]
  },
  {
   "cell_type": "markdown",
   "metadata": {
    "pycharm": {
     "name": "#%% md\n"
    }
   },
   "source": [
    "### Clarification:\n",
    "\n",
    "Usually Simple Kriging will give us worse results than Ordinary Kriging beacuse we do not know process mean. If we know process mean we can compare both techniques and check if there are similarities or differences in relation to error-per-lags. Data division for test and train set may influence Simple Kriging results and for some realizations RMSE will be very low but for the others it is extremely large."
   ]
  },
  {
   "cell_type": "markdown",
   "metadata": {
    "pycharm": {
     "name": "#%% md\n"
    }
   },
   "source": [
    "---"
   ]
  }
 ],
 "metadata": {
  "kernelspec": {
   "display_name": "Python 3 (ipykernel)",
   "language": "python",
   "name": "python3"
  },
  "language_info": {
   "codemirror_mode": {
    "name": "ipython",
    "version": 3
   },
   "file_extension": ".py",
   "mimetype": "text/x-python",
   "name": "python",
   "nbconvert_exporter": "python",
   "pygments_lexer": "ipython3",
   "version": "3.10.5"
  }
 },
 "nbformat": 4,
 "nbformat_minor": 4
}
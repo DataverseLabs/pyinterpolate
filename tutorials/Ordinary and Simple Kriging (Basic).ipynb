{
 "cells": [
  {
   "cell_type": "markdown",
   "metadata": {
    "pycharm": {
     "name": "#%% md\n"
    }
   },
   "source": [
    "# Ordinary and Simple Kriging\n",
    "\n",
    "## Table of Contents:\n",
    "\n",
    "1. Read point data,\n",
    "2. Set semivariogram model,\n",
    "3. Set Ordinary Kriging and Simple Kriging models,\n",
    "4. Predict values at unknown locations.\n",
    "\n",
    "## Level: Basic\n",
    "\n",
    "## Changelog\n",
    "\n",
    "| Date | Change description                                                                                                                                                | Author |\n",
    "|------|-------------------------------------------------------------------------------------------------------------------------------------------------------------------|--------|\n",
    "| 2022-08-20 | The tutorial is updated to the version 0.3.0 of the package                                                                                                       | @SimonMolinsky |\n",
    "| 2021-12-14 | Sill selection was upgraded: now optimal sill is derived from the grid search within `TheoreticalSemivariogram` class & error variance estimated in a correct way | @SimonMolinsky |\n",
    "| 2021-12-13 | Changed behavior of `select_values_in_range()` function                                                                                                           | @SimonMolinsky |\n",
    "| 2021-12-11 | Behavior of `prepare_kriging_data()` function has benn changed                                                                                                    | @SimonMolinsky |\n",
    "| 2021-05-11 | Refactored TheoreticalSemivariogram class                                                                                                                         | @SimonMolinsky |\n",
    "| 2021-04-03 | Simple Kriging `global_mean` parameter update.                                                                                                                    | @SimonMolinsky |\n",
    "| 2021-03-31 | Update related to the change of semivariogram weighting. Updated point data source.                                                                               | @SimonMolinsky |\n",
    "\n",
    "## Introduction\n",
    "\n",
    "This tutorial will teach us how to perform spatial interpolation with Ordinary and Simple Kriging. We will compare a different number of ranges, and test outcomes of processing with the root mean squared error.\n",
    "\n",
    "Ordinary and Simple Kriging is the simplest form of Kriging, but they're still powerful techniques.\n",
    "\n",
    "We use DEM data which is stored in a file `samples/point_data/txt/pl_dem_epsg2180.txt`."
   ]
  },
  {
   "cell_type": "markdown",
   "metadata": {
    "pycharm": {
     "name": "#%% md\n"
    }
   },
   "source": [
    "## Import packages"
   ]
  },
  {
   "cell_type": "code",
   "execution_count": 1,
   "metadata": {
    "pycharm": {
     "name": "#%%\n"
    }
   },
   "outputs": [],
   "source": [
    "from typing import List\n",
    "\n",
    "import numpy as np\n",
    "\n",
    "from pyinterpolate import read_txt, build_experimental_variogram, build_theoretical_variogram, kriging"
   ]
  },
  {
   "cell_type": "markdown",
   "metadata": {
    "pycharm": {
     "name": "#%% md\n"
    }
   },
   "source": [
    "## 1) Read point data"
   ]
  },
  {
   "cell_type": "code",
   "execution_count": 2,
   "metadata": {
    "pycharm": {
     "name": "#%%\n"
    }
   },
   "outputs": [
    {
     "data": {
      "text/plain": "array([[2.37685325e+05, 5.45416708e+05, 5.12545509e+01],\n       [2.37674140e+05, 5.45209671e+05, 4.89582825e+01],\n       [2.37449255e+05, 5.41045935e+05, 1.68178635e+01]])"
     },
     "execution_count": 2,
     "metadata": {},
     "output_type": "execute_result"
    }
   ],
   "source": [
    "dem = read_txt('samples/point_data/txt/pl_dem_epsg2180.txt')\n",
    "dem[: 3]"
   ]
  },
  {
   "cell_type": "markdown",
   "metadata": {
    "pycharm": {
     "name": "#%% md\n"
    }
   },
   "source": [
    "In the beginning, we remove 70 % of our points from the dataset, and we will leave them as a test set to estimate how good our models are."
   ]
  },
  {
   "cell_type": "code",
   "execution_count": 3,
   "metadata": {
    "pycharm": {
     "name": "#%%\n"
    }
   },
   "outputs": [],
   "source": [
    "def create_train_test(dataset: np.ndarray, frac=0.7):\n",
    "    \"\"\"\n",
    "    Function divides base dataset into a training and a test set.\n",
    "\n",
    "    Parameters\n",
    "    ----------\n",
    "    dataset : np.ndarray\n",
    "\n",
    "    frac : float, default = 0.2\n",
    "    \n",
    "    Returns\n",
    "    -------\n",
    "    training_set, test_set : List[np.ndarray]\n",
    "    \"\"\"\n",
    "\n",
    "    np.random.seed(101)  # To ensure that we will get the same results every time\n",
    "\n",
    "    removed_idx = np.random.randint(0, len(dataset)-1, size=int(frac * len(dataset)))\n",
    "    testset = dataset[removed_idx]\n",
    "    trainingset = np.delete(dataset, removed_idx, 0)\n",
    "    return trainingset, testset\n",
    "\n",
    "\n",
    "train_set, test_set = create_train_test(dem)"
   ]
  },
  {
   "cell_type": "markdown",
   "metadata": {
    "pycharm": {
     "name": "#%% md\n"
    }
   },
   "source": [
    "We have removed a subset of points from a dataset to be sure that Kriging is working. In this scenario, 70% of available points are removed, but in real-world cases, you will probably have even fewer points to perform estimations, down to the 1% of known values.\n",
    "\n",
    "Function `create_train_test()` divides our dataset into two subsets:\n",
    "\n",
    "- **training set** used for semivariogram model derivation,\n",
    "- **test set** used for the model error calculation.\n",
    "\n",
    "Points for each set are chosen randomly to avoid bias related to the geographical location. Let's imagine we have a sorted list of Digital Elevation Model points. The western part of our measurements covers a mountain, and the eastern part is plain. When we use the part of the west for modeling and the east part for tests, we are going directly into a catastrophe! That's why it's better to perform multiple random sampling and test multiple realizations from our data. We will prepare only one realization with a fixed random seed, but you should be aware that in the real-world analysis, we must test more realizations (e.g., set multiple random seeds)."
   ]
  },
  {
   "cell_type": "markdown",
   "metadata": {
    "pycharm": {
     "name": "#%% md\n"
    }
   },
   "source": [
    "## 2) Set Semivariogram model\n",
    "\n",
    "In this step, we are going to create experimental and theoretical semivariograms."
   ]
  },
  {
   "cell_type": "code",
   "execution_count": 4,
   "metadata": {
    "pycharm": {
     "name": "#%%\n"
    }
   },
   "outputs": [],
   "source": [
    "# Create experimental semivariogram\n",
    "\n",
    "# Prepare experimental semivariogram\n",
    "\n",
    "step_radius = 500  # meters\n",
    "max_range = 10000  # meters\n",
    "\n",
    "exp_semivar = build_experimental_variogram(input_array=train_set, step_size=step_radius, max_range=max_range)"
   ]
  },
  {
   "cell_type": "code",
   "execution_count": 5,
   "metadata": {
    "pycharm": {
     "name": "#%%\n"
    }
   },
   "outputs": [
    {
     "data": {
      "text/plain": "<Figure size 1200x600 with 1 Axes>",
      "image/png": "[encoded data removed]"
     },
     "metadata": {},
     "output_type": "display_data"
    }
   ],
   "source": [
    "# Plot experimental semivariogram\n",
    "\n",
    "exp_semivar.plot()"
   ]
  },
  {
   "cell_type": "code",
   "execution_count": 6,
   "metadata": {
    "pycharm": {
     "name": "#%%\n"
    }
   },
   "outputs": [],
   "source": [
    "# Fit data into a theoretical model\n",
    "\n",
    "semivar = build_theoretical_variogram(experimental_variogram=exp_semivar, model_type='linear', sill=exp_semivar.variance, rang=10000)"
   ]
  },
  {
   "cell_type": "code",
   "execution_count": 7,
   "metadata": {
    "pycharm": {
     "name": "#%%\n"
    }
   },
   "outputs": [
    {
     "data": {
      "text/plain": "<Figure size 1200x600 with 1 Axes>",
      "image/png": "[encoded data removed]"
     },
     "metadata": {},
     "output_type": "display_data"
    }
   ],
   "source": [
    "semivar.plot()"
   ]
  },
  {
   "cell_type": "code",
   "execution_count": 8,
   "metadata": {
    "pycharm": {
     "name": "#%%\n"
    }
   },
   "outputs": [
    {
     "name": "stdout",
     "output_type": "stream",
     "text": [
      "* Selected model: Linear model\n",
      "* Nugget: 0.0\n",
      "* Sill: 502.1478552791644\n",
      "* Range: 10000\n",
      "* Mean Bias: 27.316066997374072\n",
      "* Mean RMSE: 44.33535794872789\n",
      "* Error-lag weighting method: None\n",
      "\n",
      "+--------+--------------------+--------------------+---------------------+\n",
      "|  lag   |    theoretical     |    experimental    |     bias (y-y')     |\n",
      "+--------+--------------------+--------------------+---------------------+\n",
      "| 500.0  | 25.10739276395822  | 15.685422829102698 |  -9.421969934855522 |\n",
      "| 1000.0 | 50.21478552791644  | 35.23923933757287  | -14.975546190343572 |\n",
      "| 1500.0 | 75.32217829187465  | 56.351669380560246 | -18.970508911314404 |\n",
      "| 2000.0 | 100.42957105583288 | 82.39521047099969  | -18.034360584833195 |\n",
      "| 2500.0 | 125.5369638197911  | 111.26318241073449 |  -14.27378140905661 |\n",
      "| 3000.0 | 150.6443565837493  | 142.15040290428337 |  -8.493953679465932 |\n",
      "| 3500.0 | 175.75174934770752 | 171.76539947943704 |  -3.98634986827048  |\n",
      "| 4000.0 | 200.85914211166576 | 206.84908400021737 |  5.989941888551613  |\n",
      "| 4500.0 | 225.96653487562398 | 243.99652017816922 |  18.029985302545242 |\n",
      "| 5000.0 | 251.0739276395822  | 283.6724763618299  |  32.59854872224773  |\n",
      "| 5500.0 | 276.18132040354044 | 316.1601121172623  |  39.978791713721876 |\n",
      "| 6000.0 | 301.2887131674986  | 351.92582352100305 |  50.637110353504454 |\n",
      "| 6500.0 | 326.3961059314569  | 385.7185939984619  |  59.322488067005054 |\n",
      "| 7000.0 | 351.50349869541503 | 420.7567175096165  |  69.25321881420149  |\n",
      "| 7500.0 | 376.6108914593733  | 448.9907670140393  |   72.379875554666   |\n",
      "| 8000.0 | 401.7182842233315  | 474.7460708097995  |  73.02778658646798  |\n",
      "| 8500.0 | 426.82567698728974 | 494.3271007965118  |  67.50142380922205  |\n",
      "| 9000.0 | 451.93306975124796 | 513.7075757354861  |  61.77450598423815  |\n",
      "| 9500.0 | 477.0404625152062  | 533.7085292470816  |  56.668066731875456 |\n",
      "+--------+--------------------+--------------------+---------------------+\n"
     ]
    }
   ],
   "source": [
    "print(semivar)"
   ]
  },
  {
   "cell_type": "markdown",
   "metadata": {
    "pycharm": {
     "name": "#%% md\n"
    }
   },
   "source": [
    "## 3) Set Ordinary Kriging and Simple Kriging models\n",
    "\n",
    "This is the essential step of our tutorial. We've set our semivariogram model, and now we can perform the prediction of unknown values. We will \"predict\" a known and arbitrary point in the first run. It is a test of Kriging which should work as **an unbiased linear estimator**. Thus it should return the **exact** value if we pass into it a point used for training. In the second step, we will try to guess values at unknown locations and calculate the **R**oot **M**ean **S**quared **E**rror (RMSE) of interpolated values.\n",
    "\n",
    "We can use the same `kriging()` function for both kriging types. It takes those arguments:\n",
    "\n",
    "- `observations`: array with known points,\n",
    "- `theoretical_model`: fitted `TheoreticalVariogram` model,\n",
    "- `points`: points to interpolate values,\n",
    "- `how`: `ok` - ordinary kriging, `sk` - simple kriging,\n",
    "- `neighbors_range`: `None` or `float`, the maximum distance where we search for point neighbors. If `None` is given, then the range is selected from the `theoretical_model` `rang` attribute.\n",
    "- `no_neighbors`: `int`, number of neighbors to estimate unknown value.\n",
    "- `use_all_neighbors_in_range`: `bool`, default is `False`. `True`: if the number of neighbors within the `neighbors_range` is greater than the `number_of_neighbors` then take all of them for modeling.\n",
    "- `sk_mean`: `None` or `float`, the mean value of a process over a study area. It should be known before processing, and that's why Simple Kriging has a limited number of applications. You must have multiple samples and a well-known area to use this parameter.\n",
    "- `allow_approx_solutions`: Allows the approximation of kriging weights based on the OLS algorithm. Not recommended to set it to `True` if you don't know what you are doing! By default, it is set to `False`,\n",
    "- `number_of_workers`: if we pass more than 10k points to interpolate, it is recommended to set this parameter to the number of your CPU workers (or -1) - it will speed up calculations.\n",
    "\n",
    "We use only the first four parameters and `sk_mean` when we perform Simple Kriging. Let's start! The first step is an interpolation of the value known by our model."
   ]
  },
  {
   "cell_type": "code",
   "execution_count": 9,
   "metadata": {
    "pycharm": {
     "name": "#%%\n"
    }
   },
   "outputs": [
    {
     "data": {
      "text/plain": "array([2.37852392e+05, 5.47022672e+05, 7.61861649e+01])"
     },
     "execution_count": 9,
     "metadata": {},
     "output_type": "execute_result"
    }
   ],
   "source": [
    "# Select one known value\n",
    "\n",
    "known_value = train_set[10]\n",
    "known_value"
   ]
  },
  {
   "cell_type": "code",
   "execution_count": 10,
   "metadata": {
    "pycharm": {
     "name": "#%%\n"
    }
   },
   "outputs": [
    {
     "name": "stderr",
     "output_type": "stream",
     "text": [
      "100%|██████████| 1/1 [00:00<00:00, 445.07it/s]\n"
     ]
    },
    {
     "data": {
      "text/plain": "array([[ 7.61861649e+01, -7.88860905e-31,  2.37852392e+05,\n         5.47022672e+05]])"
     },
     "execution_count": 10,
     "metadata": {},
     "output_type": "execute_result"
    }
   ],
   "source": [
    "# Predict with Ordinary Kriging\n",
    "\n",
    "ok_interpolation = kriging(train_set, semivar, [known_value[:-1]])\n",
    "ok_interpolation"
   ]
  },
  {
   "cell_type": "markdown",
   "metadata": {
    "pycharm": {
     "name": "#%% md\n"
    }
   },
   "source": [
    "The first value is our prediction: it is precisely the same as the input in the training set! So far, the algorithm has worked well. The second value is prediction variance error, and it is equal to zero - we are sure it is the exact value.\n",
    "\n",
    "Simple Kriging is slightly different than Ordinary Kriging, and we must set the process mean to retrieve valid results. It is rarely the case. That's why Ordinary Kriging is the first choice for many applications. We know the global mean because we have the whole dataset, but in the real-world scenario, we cannot divide the set into training and test sets and then get the mean from the entire dataset - it is an information leak from the test set into a model!"
   ]
  },
  {
   "cell_type": "code",
   "execution_count": 11,
   "metadata": {
    "pycharm": {
     "name": "#%%\n"
    }
   },
   "outputs": [
    {
     "name": "stderr",
     "output_type": "stream",
     "text": [
      "100%|██████████| 1/1 [00:00<00:00, 588.26it/s]\n"
     ]
    },
    {
     "data": {
      "text/plain": "array([[ 7.61861649e+01, -7.88860905e-31,  2.37852392e+05,\n         5.47022672e+05]])"
     },
     "execution_count": 11,
     "metadata": {},
     "output_type": "execute_result"
    }
   ],
   "source": [
    "sk_interpolation = kriging(train_set, semivar, [known_value[:-1]], how='sk', sk_mean=np.mean(dem))\n",
    "sk_interpolation"
   ]
  },
  {
   "cell_type": "markdown",
   "metadata": {
    "pycharm": {
     "name": "#%% md\n"
    }
   },
   "source": [
    "The Simple Kriging algorithm returns the same output as the Ordinary Kriging: `[prediction, error variance, pt x, pt y]`. And as with Ordinary Kriging, Simple Kriging has returned the same value as the actual value fed to the algorithm."
   ]
  },
  {
   "cell_type": "markdown",
   "metadata": {
    "pycharm": {
     "name": "#%% md\n"
    }
   },
   "source": [
    "## 4) Predict values at unknown locations\n",
    "\n",
    "Using kriging for interpolation of known points values is pointless, and it is an excellent tool for a testing algorithm but nothing more. Here we will interpolate with Kriging, and we will interpolate values at unknown locations. Additionally, we will control the `no_neighbors` parameter to check how it influences predictions.\n",
    "\n",
    "In the first step, we will create a simple function to test our kriging results and calculate RMSE."
   ]
  },
  {
   "cell_type": "code",
   "execution_count": 12,
   "metadata": {
    "pycharm": {
     "name": "#%%\n"
    }
   },
   "outputs": [],
   "source": [
    "def test_kriging(train_set, variogram_model, ktype, test_values, number_of_neighbors, sk_mean=None):\n",
    "    predictions = kriging(observations=train_set,\n",
    "                          theoretical_model=variogram_model,\n",
    "                          points=test_values[:, :-1],\n",
    "                          how=ktype,\n",
    "                          no_neighbors=number_of_neighbors,\n",
    "                          number_of_workers=1,\n",
    "                          sk_mean=sk_mean)\n",
    "    mse = np.mean((predictions[:, 0] - test_values[:, -1])**2)\n",
    "    rmse = np.sqrt(mse)\n",
    "    return rmse"
   ]
  },
  {
   "cell_type": "code",
   "execution_count": 13,
   "metadata": {
    "pycharm": {
     "name": "#%%\n"
    }
   },
   "outputs": [
    {
     "name": "stdout",
     "output_type": "stream",
     "text": [
      "Ordinary Kriging: tests\n",
      "\n",
      "Number of neighbors: 4\n"
     ]
    },
    {
     "name": "stderr",
     "output_type": "stream",
     "text": [
      "100%|██████████| 4825/4825 [00:02<00:00, 2156.39it/s]\n"
     ]
    },
    {
     "name": "stdout",
     "output_type": "stream",
     "text": [
      "RMSE: 2.818867284388139\n",
      "\n",
      "Number of neighbors: 8\n"
     ]
    },
    {
     "name": "stderr",
     "output_type": "stream",
     "text": [
      "100%|██████████| 4825/4825 [00:02<00:00, 2247.86it/s]\n"
     ]
    },
    {
     "name": "stdout",
     "output_type": "stream",
     "text": [
      "RMSE: 2.6860057738762406\n",
      "\n",
      "Number of neighbors: 16\n"
     ]
    },
    {
     "name": "stderr",
     "output_type": "stream",
     "text": [
      "100%|██████████| 4825/4825 [00:02<00:00, 2251.66it/s]\n"
     ]
    },
    {
     "name": "stdout",
     "output_type": "stream",
     "text": [
      "RMSE: 2.643039827611819\n",
      "\n",
      "Number of neighbors: 32\n"
     ]
    },
    {
     "name": "stderr",
     "output_type": "stream",
     "text": [
      "100%|██████████| 4825/4825 [00:02<00:00, 1949.34it/s]\n"
     ]
    },
    {
     "name": "stdout",
     "output_type": "stream",
     "text": [
      "RMSE: 2.6331569086257294\n",
      "\n",
      "Number of neighbors: 64\n"
     ]
    },
    {
     "name": "stderr",
     "output_type": "stream",
     "text": [
      "100%|██████████| 4825/4825 [00:02<00:00, 1657.27it/s]\n"
     ]
    },
    {
     "name": "stdout",
     "output_type": "stream",
     "text": [
      "RMSE: 2.6323383774599884\n",
      "\n",
      "Number of neighbors: 128\n"
     ]
    },
    {
     "name": "stderr",
     "output_type": "stream",
     "text": [
      "100%|██████████| 4825/4825 [00:04<00:00, 1139.01it/s]\n"
     ]
    },
    {
     "name": "stdout",
     "output_type": "stream",
     "text": [
      "RMSE: 2.6311211699475523\n",
      "\n",
      "Number of neighbors: 256\n"
     ]
    },
    {
     "name": "stderr",
     "output_type": "stream",
     "text": [
      "100%|██████████| 4825/4825 [00:06<00:00, 718.37it/s]"
     ]
    },
    {
     "name": "stdout",
     "output_type": "stream",
     "text": [
      "RMSE: 2.6309421059722435\n",
      "\n"
     ]
    },
    {
     "name": "stderr",
     "output_type": "stream",
     "text": [
      "\n"
     ]
    }
   ],
   "source": [
    "# Number of neighbors\n",
    "\n",
    "no_of_n = [4, 8, 16, 32, 64, 128, 256]\n",
    "print('Ordinary Kriging: tests')\n",
    "print('')\n",
    "\n",
    "for nn in no_of_n:\n",
    "    print('Number of neighbors:', nn)\n",
    "    rmse_pred = test_kriging(train_set=train_set, variogram_model=semivar, ktype='ok', test_values=test_set, number_of_neighbors=nn)\n",
    "    print('RMSE:', rmse_pred)\n",
    "    print('')"
   ]
  },
  {
   "cell_type": "code",
   "execution_count": 14,
   "metadata": {
    "pycharm": {
     "name": "#%%\n"
    }
   },
   "outputs": [
    {
     "name": "stdout",
     "output_type": "stream",
     "text": [
      "Simple Kriging: tests\n",
      "\n",
      "Number of neighbors: 4\n"
     ]
    },
    {
     "name": "stderr",
     "output_type": "stream",
     "text": [
      "100%|██████████| 4825/4825 [00:01<00:00, 2641.23it/s]\n"
     ]
    },
    {
     "name": "stdout",
     "output_type": "stream",
     "text": [
      "RMSE: 5.32695312780116\n",
      "\n",
      "Number of neighbors: 8\n"
     ]
    },
    {
     "name": "stderr",
     "output_type": "stream",
     "text": [
      "100%|██████████| 4825/4825 [00:01<00:00, 2666.90it/s]\n"
     ]
    },
    {
     "name": "stdout",
     "output_type": "stream",
     "text": [
      "RMSE: 3.1291216204454035\n",
      "\n",
      "Number of neighbors: 16\n"
     ]
    },
    {
     "name": "stderr",
     "output_type": "stream",
     "text": [
      "100%|██████████| 4825/4825 [00:01<00:00, 2630.70it/s]\n"
     ]
    },
    {
     "name": "stdout",
     "output_type": "stream",
     "text": [
      "RMSE: 2.728023100559632\n",
      "\n",
      "Number of neighbors: 32\n"
     ]
    },
    {
     "name": "stderr",
     "output_type": "stream",
     "text": [
      "100%|██████████| 4825/4825 [00:01<00:00, 2532.45it/s]\n"
     ]
    },
    {
     "name": "stdout",
     "output_type": "stream",
     "text": [
      "RMSE: 2.6447451848933268\n",
      "\n",
      "Number of neighbors: 64\n"
     ]
    },
    {
     "name": "stderr",
     "output_type": "stream",
     "text": [
      "100%|██████████| 4825/4825 [00:02<00:00, 1923.36it/s]\n"
     ]
    },
    {
     "name": "stdout",
     "output_type": "stream",
     "text": [
      "RMSE: 2.6333680288613786\n",
      "\n",
      "Number of neighbors: 128\n"
     ]
    },
    {
     "name": "stderr",
     "output_type": "stream",
     "text": [
      "100%|██████████| 4825/4825 [00:03<00:00, 1292.46it/s]\n"
     ]
    },
    {
     "name": "stdout",
     "output_type": "stream",
     "text": [
      "RMSE: 2.6308138101222793\n",
      "\n",
      "Number of neighbors: 256\n"
     ]
    },
    {
     "name": "stderr",
     "output_type": "stream",
     "text": [
      "100%|██████████| 4825/4825 [00:06<00:00, 742.92it/s]"
     ]
    },
    {
     "name": "stdout",
     "output_type": "stream",
     "text": [
      "RMSE: 2.6307300408948957\n",
      "\n"
     ]
    },
    {
     "name": "stderr",
     "output_type": "stream",
     "text": [
      "\n"
     ]
    }
   ],
   "source": [
    "print('Simple Kriging: tests')\n",
    "print('')\n",
    "\n",
    "sk_mean = np.mean(dem[:, -1])\n",
    "\n",
    "for nn in no_of_n:\n",
    "    print('Number of neighbors:', nn)\n",
    "    rmse_pred = test_kriging(train_set=train_set, variogram_model=semivar, ktype='sk', test_values=test_set, number_of_neighbors=nn, sk_mean=sk_mean)\n",
    "    print('RMSE:', rmse_pred)\n",
    "    print('')"
   ]
  },
  {
   "cell_type": "markdown",
   "metadata": {
    "pycharm": {
     "name": "#%% md\n"
    }
   },
   "source": [
    "Usually, Simple Kriging will give us worse results than Ordinary Kriging because we do not know process mean. Only if we know the process mean we can use Simple Kriging with a large number of neighbors. We see that the results of Simple Kriging are better when we pass more values into it. This shouldn't be a shock, Simple Kriging *knows* the global mean and utilizes this information when building a Kriging system.\n",
    "\n",
    "On the other hand, Ordinary Kriging is a swiss knife in our geostatistical toolbox. It works well even if we don't know process mean, and it should be our first-choice technique.\n",
    "\n",
    "Let's look into processing times with a growing number of neighbors. We can theoretically take more and more neighbors, but is it worth it?\n",
    "\n",
    "- **Small dataset**: with small datasets (up to 1000 points), we may consider using a large number of neighbors. It shouldn't be a problem for processing time.\n",
    "- **Large dataset**: more than 5000 points? Then we must take into account two scenarios:\n",
    "1. A single report or only a one-time analysis - then use as many neighbors as it is possible (within range);\n",
    "2. Near-real time and systematic analyses - use fewer neighbors, between 8 - 128. I usually use 32 neighbors for datasets with more than 1000 point pairs."
   ]
  },
  {
   "cell_type": "markdown",
   "source": [
    "---"
   ],
   "metadata": {
    "collapsed": false,
    "pycharm": {
     "name": "#%% md\n"
    }
   }
  }
 ],
 "metadata": {
  "kernelspec": {
   "display_name": "Python 3 (ipykernel)",
   "language": "python",
   "name": "python3"
  },
  "language_info": {
   "codemirror_mode": {
    "name": "ipython",
    "version": 3
   },
   "file_extension": ".py",
   "mimetype": "text/x-python",
   "name": "python",
   "nbconvert_exporter": "python",
   "pygments_lexer": "ipython3",
   "version": "3.10.6"
  }
 },
 "nbformat": 4,
 "nbformat_minor": 4
}
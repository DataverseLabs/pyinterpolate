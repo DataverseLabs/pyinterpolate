{
 "cells": [
  {
   "cell_type": "markdown",
   "metadata": {},
   "source": [
    "# Ordinary and Simple Kriging - tutorial\n",
    "\n",
    "## Table of Contents:\n",
    "\n",
    "1. Read point data,\n",
    "2. Set semivariogram model,\n",
    "3. Set Ordinary Kriging and Simple Kriging models,\n",
    "4. Predict values at unknown locations.\n",
    "\n",
    "## Level: Basic\n",
    "\n",
    "## Changelog\n",
    "\n",
    "| Date | Change description | Author |\n",
    "|------|--------------------|--------|\n",
    "| 2021-05-11 | Refactored TheoreticalSemivariogram class | @szymon-datalions |\n",
    "| 2021-04-03 | Simple Kriging `global_mean` parameter update. | @szymon-datalions |\n",
    "| 2021-03-31 | Update related to the change of semivariogram weighting. Updated point data source. | @szymon-datalions |\n",
    "\n",
    "## Introduction\n",
    "\n",
    "In this tutorial we will learn how to perform prediction with Ordinary and Simple Kriging. We will compare different number of ranges and test outcomes of processing with root mean squared error.\n",
    "\n",
    "Ordinary and Simple Kriging are the simplest form of Kriging but it's still very powerful technique.\n",
    "\n",
    "We use DEM data which is stored in a file `sample_data/point_data/poland_dem_gorzow_wielkopolski`."
   ]
  },
  {
   "cell_type": "markdown",
   "metadata": {},
   "source": [
    "## Import packages"
   ]
  },
  {
   "cell_type": "code",
   "execution_count": 1,
   "metadata": {},
   "outputs": [],
   "source": [
    "import numpy as np\n",
    "\n",
    "import matplotlib.pyplot as plt\n",
    "\n",
    "from pyinterpolate.io_ops import read_point_data\n",
    "from pyinterpolate.semivariance import calculate_semivariance  # experimental semivariogram\n",
    "from pyinterpolate.semivariance import TheoreticalSemivariogram  # theoretical models\n",
    "from pyinterpolate.kriging import Krige  # kriging models"
   ]
  },
  {
   "cell_type": "markdown",
   "metadata": {},
   "source": [
    "## 1) Read point data"
   ]
  },
  {
   "cell_type": "code",
   "execution_count": 2,
   "metadata": {},
   "outputs": [
    {
     "data": {
      "text/plain": "array([[15.1152409 , 52.76514556, 91.27559662],\n       [15.1152409 , 52.74279035, 96.54829407],\n       [15.1152409 , 52.71070647, 51.25455093],\n       ...,\n       [15.37034993, 52.68338343, 40.30933762],\n       [15.37034993, 52.67096386, 21.94326782],\n       [15.37034993, 52.64239886, 51.52513504]])"
     },
     "execution_count": 2,
     "metadata": {},
     "output_type": "execute_result"
    }
   ],
   "source": [
    "dem = read_point_data('../sample_data/point_data/poland_dem_gorzow_wielkopolski', data_type='txt')\n",
    "dem"
   ]
  },
  {
   "cell_type": "code",
   "execution_count": 3,
   "metadata": {},
   "outputs": [],
   "source": [
    "# Remove 40% of rows (values) to test our model\n",
    "\n",
    "def create_train_test(dataset: np.array, frac=0.2):\n",
    "    \"\"\"\n",
    "    Function divides base dataset into a training and a test set\n",
    "    \n",
    "    INPUT:\n",
    "    :param dataset: (numpy array) array with rows of records,\n",
    "    :param frac: (float) number of elements in a test set\n",
    "    \n",
    "    OUTPUT:\n",
    "    return: training_set (numpy array), test_set (numpy array)\n",
    "    \"\"\"\n",
    "\n",
    "    removed_idx = np.random.randint(0, len(dem)-1, size=int(frac * len(dem)))\n",
    "    test_set = dem[removed_idx]\n",
    "    training_set = np.delete(dem, removed_idx, 0)\n",
    "    return training_set, test_set    \n",
    "\n",
    "train_set, test_set = create_train_test(dem, frac=0.4)"
   ]
  },
  {
   "cell_type": "markdown",
   "metadata": {},
   "source": [
    "### Clarification:\n",
    "\n",
    "We remove subset of points from a dataset to be sure that Kriging is working. In this scenario 40% of available points are removed, but in a real-world cases you will probably have even less points to perform estimations, down to the 1% of known values.\n",
    "\n",
    "Function **create_train_test()** divides our dataset into two subsets:\n",
    "- training set used for semivariogram model derivation,\n",
    "- test set used for the model error calculation.\n",
    "\n",
    "Points for each set are chosen randomly to avoid bias related to the geographical location. Let's imagine that you have a sorted list of Digital Elevation Model points. Western part of your measurements covers a mountain and Eastern part is a plain. Then you take western part for semivariogram modeling and eastern part for test. It ends with catastrophe because your semivariogram learns that elevation is changing over a distance but it is not true in the East!"
   ]
  },
  {
   "cell_type": "markdown",
   "metadata": {},
   "source": [
    "## 2) Set Semivariogram model\n",
    "\n",
    "More about semivariogram modeling in tutorial about Semivariogram calculation: [url]"
   ]
  },
  {
   "cell_type": "code",
   "execution_count": 4,
   "metadata": {},
   "outputs": [],
   "source": [
    "# Create experimental semivariogram\n",
    "\n",
    "# Prepare experimental semivariogram\n",
    "\n",
    "search_radius = 0.01\n",
    "max_range = 0.32\n",
    "\n",
    "exp_semivar = calculate_semivariance(data=train_set, step_size=search_radius, max_range=max_range)"
   ]
  },
  {
   "cell_type": "code",
   "execution_count": 5,
   "metadata": {},
   "outputs": [
    {
     "data": {
      "text/plain": "<Figure size 864x864 with 1 Axes>",
      "image/png": "[encoded data removed]"
     },
     "metadata": {
      "needs_background": "light"
     },
     "output_type": "display_data"
    }
   ],
   "source": [
    "# Plot experimental semivariogram\n",
    "\n",
    "plt.figure(figsize=(12, 12))\n",
    "plt.plot(exp_semivar[:, 0], exp_semivar[:, 1], 'o')\n",
    "plt.title('Experimental semivariogram od DEM data')\n",
    "plt.xlabel('Range - in degrees')\n",
    "plt.ylabel('Semivariance')\n",
    "plt.show()"
   ]
  },
  {
   "cell_type": "code",
   "execution_count": 6,
   "metadata": {},
   "outputs": [
    {
     "data": {
      "text/plain": "'linear'"
     },
     "execution_count": 6,
     "metadata": {},
     "output_type": "execute_result"
    }
   ],
   "source": [
    "# Fit different semivariogram models into experimental data\n",
    "\n",
    "semivar = TheoreticalSemivariogram(points_array=train_set, empirical_semivariance=exp_semivar)\n",
    "number_of_ranges = len(exp_semivar)  # The same number of ranges as experimental semivariogram\n",
    "\n",
    "semivar.find_optimal_model(weighted=False, number_of_ranges=number_of_ranges)"
   ]
  },
  {
   "cell_type": "markdown",
   "metadata": {},
   "source": [
    "## 3) Set Ordinary Kriging and Simple Kriging models\n",
    "\n",
    "This is the most important step of our tutorial. We've set our semivariogram model and now we are able to perform prediction of an unknown values. In a first try we will \"predict\" known, arbitrary point and in the second step we will try to guess values at unknown locations and calculate RMSE of those values.\n",
    "\n",
    "For both kriging types class is the same **Kriging**. It takes as arguments theoretical semivariogram model **TheoreticalSemivariogram** class instance and known data points as the Numpy array."
   ]
  },
  {
   "cell_type": "code",
   "execution_count": 7,
   "metadata": {},
   "outputs": [],
   "source": [
    "# Set Kriging model\n",
    "\n",
    "model = Krige(semivariogram_model=semivar, known_points=train_set)"
   ]
  },
  {
   "cell_type": "code",
   "execution_count": 8,
   "metadata": {},
   "outputs": [
    {
     "name": "stdout",
     "output_type": "stream",
     "text": [
      "[15.11563642 52.70449669 48.72597885]\n"
     ]
    }
   ],
   "source": [
    "# Get one value for prediction:\n",
    "\n",
    "known_val = train_set[10]\n",
    "print(known_val)"
   ]
  },
  {
   "cell_type": "markdown",
   "metadata": {},
   "source": [
    "**Simple Kriging** technique may be used when process mean over sampling area is known. It is rarely the case, that's why Ordinary Kriging is the first choice for many applications. We know global mean beacuse we have whole dataset but in the real-world scenario we cannot divide set into training and test sets and then get mean from the whole dataset - it is a information leak from the test set into a model!"
   ]
  },
  {
   "cell_type": "code",
   "execution_count": 9,
   "metadata": {},
   "outputs": [
    {
     "name": "stdout",
     "output_type": "stream",
     "text": [
      "Ordinary Kriging:\n",
      "\n",
      "(48.725978851318374, 3.497478855001699, -9.639358681966829e-18, array([ 1.00000000e+00,  2.95664955e-16, -7.49972388e-17, -4.54891853e-16,\n",
      "        1.76060833e-16,  5.44833290e-16, -1.20732883e-17, -5.14069537e-16,\n",
      "        1.26650511e-16,  2.94456047e-16, -6.59167542e-17,  2.70570406e-17,\n",
      "       -6.85548740e-16, -1.88454830e-16,  4.67210123e-17,  5.57680357e-16,\n",
      "       -9.63935868e-18]))\n",
      "\n",
      "========== ========== ========== ========== ==========\n",
      "\n",
      "Simple Kriging:\n",
      "\n",
      "(48.72597885131836, 3.4974788550016975, 40.9509380348875, array([ 1.00000000e+00, -1.24153614e-17,  1.10029784e-15, -1.40886591e-15,\n",
      "        1.83929730e-18,  7.41658556e-16,  4.40756190e-18, -6.64383363e-16,\n",
      "       -1.28205784e-17,  1.46797439e-16, -1.02207961e-17,  1.97184048e-17,\n",
      "       -3.59681602e-18, -6.87715921e-18,  9.23204705e-17, -4.68686743e-18]))\n"
     ]
    }
   ],
   "source": [
    "# Now make predictions\n",
    "\n",
    "# First - ordinary kriging\n",
    "\n",
    "ok_pred = model.ordinary_kriging(unknown_location=known_val[:-1],\n",
    "                                 number_of_neighbours=16)\n",
    "\n",
    "# Second - simple kriging\n",
    "\n",
    "sk_pred = model.simple_kriging(unknown_location=known_val[:-1],\n",
    "                              number_of_neighbours=16,\n",
    "                              global_mean=np.mean(dem[:, -1]))\n",
    "\n",
    "print('Ordinary Kriging:\\n')\n",
    "print(ok_pred)\n",
    "print('')\n",
    "print('========== ========== ========== ========== ==========')\n",
    "print('')\n",
    "print('Simple Kriging:\\n')\n",
    "print(sk_pred)"
   ]
  },
  {
   "cell_type": "code",
   "execution_count": 10,
   "metadata": {},
   "outputs": [
    {
     "name": "stdout",
     "output_type": "stream",
     "text": [
      "Difference between real value and OK:\n",
      "0\n"
     ]
    }
   ],
   "source": [
    "print('Difference between real value and OK:')\n",
    "print(int(known_val[-1] - ok_pred[0]))"
   ]
  },
  {
   "cell_type": "code",
   "execution_count": 11,
   "metadata": {},
   "outputs": [
    {
     "name": "stdout",
     "output_type": "stream",
     "text": [
      "Difference between real value and SK:\n",
      "0\n"
     ]
    }
   ],
   "source": [
    "print('Difference between real value and SK:')\n",
    "print(int(known_val[-1] - sk_pred[0]))"
   ]
  },
  {
   "cell_type": "markdown",
   "metadata": {},
   "source": [
    "### Clarfication:\n",
    "\n",
    "What has just happened?\n",
    "\n",
    "We go through each cell to understand what our Kriging has done.\n",
    "\n",
    "1. Set the Kriging model. Our Krige class is in fact a container for theoretical semivariogram model and known points in our dataset. At this stage it is method agnostic and it doesn't matter if you'd like to perform Ordinary or Simple Kriging.\n",
    "2. In the next cell we take one arbitrary value from known points list.\n",
    "3. Then we perform Ordinary and Simple Kriging. Both methods have similar arguments but Simple Kriging requires additional piece of information: global mean of the process. If you don't know the mean then leave Simple Kriging and choose Ordinary Kriging instead.\n",
    "4. Both methods return four objects. The first one is predicted value, then estimated error standard deviation, estimated mean (ordinary kriging) / mean (simple kriging) and weights matrix.\n",
    "5. Then we calculate difference between predicted and real values. As you may notice difference between Kriging prediction and real value is 0 (due to the floating point precision it may be extremly close to 0 if we left floats)."
   ]
  },
  {
   "cell_type": "markdown",
   "metadata": {},
   "source": [
    "## 4) Predict values at unknown locations\n",
    "\n",
    "Only one parameter is directly controlled by us and it is number of neighbors used for prediction. We can test optimal number of them with a test set leaved for further analysis.\n",
    "\n",
    "We create simple function which chooses the most promising ordinary kriging and simple kriging model based on the root mean squared error of predictions."
   ]
  },
  {
   "cell_type": "code",
   "execution_count": 12,
   "metadata": {},
   "outputs": [],
   "source": [
    "def test_ordinary_kriging(kriging_model, test_values, number_of_neighbors):\n",
    "    \n",
    "    mse_arr = []\n",
    "    for x in test_values:\n",
    "        prediction = kriging_model.ordinary_kriging(\n",
    "            x[:-1],\n",
    "            number_of_neighbours=number_of_neighbors)\n",
    "        predicted = prediction[0]\n",
    "        mse = (x[-1] - predicted)**2\n",
    "        mse_arr.append(mse)\n",
    "    rmse = np.sqrt(np.mean(mse))\n",
    "    return rmse"
   ]
  },
  {
   "cell_type": "code",
   "execution_count": 13,
   "metadata": {},
   "outputs": [
    {
     "name": "stdout",
     "output_type": "stream",
     "text": [
      "Number of neighbors: 4\n",
      "RMSE: 1.2489704792055214\n",
      "\n",
      "Number of neighbors: 8\n",
      "RMSE: 0.5887253613663042\n",
      "\n",
      "Number of neighbors: 16\n",
      "RMSE: 0.7389281711279025\n",
      "\n",
      "Number of neighbors: 32\n",
      "RMSE: 1.1442029265395686\n",
      "\n",
      "Number of neighbors: 64\n",
      "RMSE: 1.0984599299626367\n",
      "\n"
     ]
    }
   ],
   "source": [
    "# Number of neighbors\n",
    "\n",
    "no_of_n = [4, 8, 16, 32, 64]\n",
    "\n",
    "for nn in no_of_n:\n",
    "    print('Number of neighbors:', nn)\n",
    "    rmse_pred = test_ordinary_kriging(kriging_model=model,\n",
    "                                      test_values=test_set,\n",
    "                                      number_of_neighbors=nn)\n",
    "    print('RMSE:', rmse_pred)\n",
    "    print('')"
   ]
  },
  {
   "cell_type": "markdown",
   "metadata": {},
   "source": [
    "### Clarification:\n",
    "\n",
    "Now we perform practical test of usefulness of our algorithm. The idea is to use our test set, predict values \"not seen\" by the kriging algorithm and compare prediction to the ground truth value. Then we calculate root of a mean squared errors between real values and predictions.\n",
    "\n",
    "We can find the best **number_of_neighbors** parameter, or alternatively we can discover how many closest points influence our point. More doesn't better as you can see in this realization.\n",
    "\n",
    "**NOTE:**\n",
    "\n",
    "1. This is only a single realization of a division between variables. RMSE of single experiment is not reliable from the practical perspective, you should divide dataset randomly multiple times to find the best number of neighbors for the analysis.\n",
    "2. RMSE value is used in this approach because it is a very good indicator of outliers in data. You should consider simple difference if you want to know if your kriging overestimates values (negative mean differences) or underestimates them (positive mean differences). There are other techniques to measure predictions error."
   ]
  },
  {
   "cell_type": "code",
   "execution_count": 14,
   "metadata": {},
   "outputs": [],
   "source": [
    "def test_simple_kriging(kriging_model, test_values, number_of_neighbors, mean_areal):\n",
    "    \n",
    "    mse_arr = []\n",
    "    for x in test_values:\n",
    "        prediction = kriging_model.simple_kriging(\n",
    "            x[:-1],\n",
    "            number_of_neighbours=number_of_neighbors,\n",
    "            global_mean=mean_areal,\n",
    "            test_anomalies=False\n",
    "        )\n",
    "        predicted = prediction[0]\n",
    "        mse = (x[-1] - predicted)**2\n",
    "        mse_arr.append(mse)\n",
    "    rmse = np.sqrt(np.mean(mse))\n",
    "    return rmse"
   ]
  },
  {
   "cell_type": "code",
   "execution_count": 15,
   "metadata": {},
   "outputs": [
    {
     "name": "stdout",
     "output_type": "stream",
     "text": [
      "Number of neighbors: 4\n",
      "RMSE: 4.121157532246357\n",
      "\n",
      "Number of neighbors: 8\n",
      "RMSE: 1.3474821181646384\n",
      "\n",
      "Number of neighbors: 16\n",
      "RMSE: 0.08351377094726331\n",
      "\n",
      "Number of neighbors: 32\n",
      "RMSE: 1.0370794269128396\n",
      "\n",
      "Number of neighbors: 64\n",
      "RMSE: 1.0764198405890077\n",
      "\n"
     ]
    }
   ],
   "source": [
    "# Number of neighbors\n",
    "\n",
    "no_of_n = [4, 8, 16, 32, 64]\n",
    "\n",
    "for nn in no_of_n:\n",
    "    print('Number of neighbors:', nn)\n",
    "    rmse_pred = test_simple_kriging(kriging_model=model,\n",
    "                                      test_values=test_set,\n",
    "                                      number_of_neighbors=nn,\n",
    "                                      mean_areal=np.mean(dem[:, -1]))\n",
    "    print('RMSE:', rmse_pred)\n",
    "    print('')"
   ]
  },
  {
   "cell_type": "markdown",
   "metadata": {},
   "source": [
    "### Clarification:\n",
    "\n",
    "Usually Simple Kriging will give us worse results than Ordinary Kriging beacuse we do not know process mean. If we know process mean we can compare both techniques and check if there are similarities or differences in relation to error-per-lags. Data division for test and train set may influence Simple Kriging results and for some realizations RMSE will be very low but for the others it is extremely large."
   ]
  },
  {
   "cell_type": "markdown",
   "metadata": {},
   "source": [
    "---"
   ]
  }
 ],
 "metadata": {
  "kernelspec": {
   "display_name": "Python 3 (ipykernel)",
   "language": "python",
   "name": "python3"
  },
  "language_info": {
   "codemirror_mode": {
    "name": "ipython",
    "version": 3
   },
   "file_extension": ".py",
   "mimetype": "text/x-python",
   "name": "python",
   "nbconvert_exporter": "python",
   "pygments_lexer": "ipython3",
   "version": "3.7.10"
  }
 },
 "nbformat": 4,
 "nbformat_minor": 4
}
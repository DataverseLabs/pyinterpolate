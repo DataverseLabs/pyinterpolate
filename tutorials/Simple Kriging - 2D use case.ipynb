{
 "cells": [
  {
   "cell_type": "markdown",
   "metadata": {},
   "source": [
    "# Simple Kriging tutorial no. 1\n",
    "\n",
    "Tutorial presents how to perform the Simple Kriging and interpolate missing points values over a 2-dimensional area. Data in tutorial represents non-uniformly distributed points which are representing centroids of Polish counties. Values for them represents mean income per person per year and it can be found here:\n",
    "\n",
    "Scope of the notebook:\n",
    "* Data explanation / <span style=\"color:pink\">Practice</span>\n",
    "* Semivariogram / <span style=\"color:pink\">Practice</span>\n",
    "* Theoretical semivariograms: fit the best / <span style=\"color:pink\">Practice</span>\n",
    "* How to parametrize Simple Kriging / <span style=\"color:pink\">Practice</span>\n",
    "* Summary / <span style=\"color:green\">Listing with all code snippets</span>"
   ]
  },
  {
   "cell_type": "code",
   "execution_count": null,
   "metadata": {},
   "outputs": [],
   "source": []
  }
 ],
 "metadata": {
  "kernelspec": {
   "display_name": "Python 3",
   "language": "python",
   "name": "python3"
  },
  "language_info": {
   "codemirror_mode": {
    "name": "ipython",
    "version": 3
   },
   "file_extension": ".py",
   "mimetype": "text/x-python",
   "name": "python",
   "nbconvert_exporter": "python",
   "pygments_lexer": "ipython3",
   "version": "3.5.4"
  }
 },
 "nbformat": 4,
 "nbformat_minor": 2
}

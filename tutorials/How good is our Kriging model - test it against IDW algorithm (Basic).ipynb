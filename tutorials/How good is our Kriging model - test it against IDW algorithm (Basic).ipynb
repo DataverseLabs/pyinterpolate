{
 "cells": [
  {
   "cell_type": "markdown",
   "id": "a4055724",
   "metadata": {},
   "source": [
    "# How good is my Kriging model? - tests with IDW algorithm - tutorial\n",
    "\n",
    "## Table of Contents:\n",
    "\n",
    "1. Read point data,\n",
    "2. Divide dataset into two sets: modeling and validation set,\n",
    "3. Perform IDW and evaluate it,\n",
    "4. Perform variogram modeling on the modeling set,\n",
    "5. Validate Kriging and compare Kriging and IDW validation results,\n",
    "6. Bonus scenario: only 5% of values are known!\n",
    "\n",
    "## Level: Basic\n",
    "\n",
    "## Changelog\n",
    "\n",
    "| Date | Change description | Author |\n",
    "|------|--------------------|--------|\n",
    "| 2021-12-14 | Sill selection was upgraded: now optimal sill is derived from the grid search within `TheoreticalSemivariogram` class | @SimonMolinsky |\n",
    "| 2021-12-13 | Changed behavior of `select_values_in_range()` function | @SimonMolinsky |\n",
    "| 2021-12-08 | Behavior of `prepare_kriging_data()` function has changed | @SimonMolinsky |\n",
    "| 2021-05-12 | First version of tutorial | @SimonMolinsky |\n",
    "\n",
    "## Introduction\n",
    "\n",
    "In this tutorial we will learn about the one method of validation of our Kriging model. We'll compare it to the Inverse Distance Weighting function where the unknown point value is interpolated as the weighted mean of it's neighbours. Weights are assigned by the inverted distance raised to the n-th power.\n",
    "\n",
    "(1) **GENERAL FORM OF IDW**\n",
    "\n",
    "$$z(u) = \\frac{\\sum_{i}\\lambda_{i}*z_{i}}{\\sum_{i}\\lambda_{i}}$$\n",
    "\n",
    "where:\n",
    "\n",
    "- $z(u)$: is the value at unknown location,\n",
    "- $i$: is a i-th known location,\n",
    "- $z_{i}$: is a value at known location $i$,\n",
    "- $\\lambda_{i}$: is a weight assigned to the known location $i$.\n",
    "\n",
    "(2) **WEIGHTING PARAMETER**\n",
    "\n",
    "$$\\lambda_{i} = \\frac{1}{d^{p}_{i}}$$\n",
    "\n",
    "where:\n",
    "\n",
    "- $d$:  is a distance from known point $z_{i}$ to the unknown point $z(u)$,\n",
    "- $p$: is a hyperparameter which controls how strong is a relationship between known point and unknown point. You may set large $p$ if you want to show strong relationship between closest point and very weak influence of distant points. On the other hand, you may set small $p$ to emphasize fact that points are influencing each other with the same power irrespectively of their distance.\n",
    "\n",
    "---\n",
    "\n",
    "As you noticed **IDW** is a simple but powerful technique. Unfortunately it has major drawback: **we must set `p` - power - manually** and it isn't derived from the data and variogram. That's why it can be used for other tasks. Example is to use IDW as a baseline for comparison to the other techniques."
   ]
  },
  {
   "cell_type": "markdown",
   "id": "3a224fa8",
   "metadata": {},
   "source": [
    "## Import packages"
   ]
  },
  {
   "cell_type": "code",
   "execution_count": 1,
   "id": "71be79cf",
   "metadata": {},
   "outputs": [],
   "source": [
    "import numpy as np\n",
    "\n",
    "import matplotlib.pyplot as plt\n",
    "\n",
    "from pyinterpolate.idw import inverse_distance_weighting  # function for idw\n",
    "from pyinterpolate.io_ops import read_point_data\n",
    "from pyinterpolate.semivariance import calculate_semivariance  # experimental semivariogram\n",
    "from pyinterpolate.semivariance import TheoreticalSemivariogram  # theoretical models\n",
    "from pyinterpolate.kriging import Krige  # kriging models"
   ]
  },
  {
   "cell_type": "markdown",
   "id": "ebb666bc",
   "metadata": {},
   "source": [
    "## 1) Read point data"
   ]
  },
  {
   "cell_type": "code",
   "execution_count": 2,
   "id": "e93c5805",
   "metadata": {},
   "outputs": [
    {
     "data": {
      "text/plain": [
       "array([[15.1152409 , 52.76514556, 91.27559662],\n",
       "       [15.1152409 , 52.74279035, 96.54829407],\n",
       "       [15.1152409 , 52.71070647, 51.25455093],\n",
       "       ...,\n",
       "       [15.37034993, 52.68338343, 40.30933762],\n",
       "       [15.37034993, 52.67096386, 21.94326782],\n",
       "       [15.37034993, 52.64239886, 51.52513504]])"
      ]
     },
     "execution_count": 2,
     "metadata": {},
     "output_type": "execute_result"
    }
   ],
   "source": [
    "dem = read_point_data('../sample_data/point_data/poland_dem_gorzow_wielkopolski', data_type='txt')\n",
    "dem"
   ]
  },
  {
   "cell_type": "markdown",
   "id": "2dcee1cb",
   "metadata": {},
   "source": [
    "## 2) Divide dataset into two sets: modeling and validation set\n",
    "\n",
    "In this step we will divide our dataset into two sets:\n",
    "\n",
    "- modeling set (50%): points used for variogram modeling,\n",
    "- validation set (50%): points used for prediction and results validation.\n",
    "\n",
    "Baseline dataset will be divided randomly."
   ]
  },
  {
   "cell_type": "code",
   "execution_count": 3,
   "id": "7fda0a32",
   "metadata": {},
   "outputs": [],
   "source": [
    "# Create modeling and validation sets\n",
    "\n",
    "def create_model_validation_sets(dataset: np.array, frac=0.5):\n",
    "    \"\"\"\n",
    "    Function divides base dataset into modeling and validation sets\n",
    "    \n",
    "    INPUT:\n",
    "    :param dataset: (numpy array) array with rows of records,\n",
    "    :param frac: (float) number of elements in a validation set\n",
    "    \n",
    "    OUTPUT:\n",
    "    return: modeling_set (numpy array), validation_set (numpy array)\n",
    "    \"\"\"\n",
    "\n",
    "    removed_idx = np.random.randint(0, len(dem)-1, size=int(frac * len(dem)))\n",
    "    validation_set = dem[removed_idx]\n",
    "    modeling_set = np.delete(dem, removed_idx, 0)\n",
    "    return modeling_set, validation_set\n",
    "\n",
    "known_points, unknown_points = create_model_validation_sets(dem)"
   ]
  },
  {
   "cell_type": "markdown",
   "id": "c27a2f14",
   "metadata": {},
   "source": [
    "## 3) Perform IDW and evaluate it\n",
    "\n",
    "Inverse Distance Weighting doesn't require variogram modeling or other steps. We pass power to which we want raise distance in weight denominator. Things to remember are:\n",
    "\n",
    "- Large `power` -> closer neighbours are more important,\n",
    "- `power` which is close to the **zero** -> all neighbours are important and we assume that distant process has the same effect on our variable as the closest events."
   ]
  },
  {
   "cell_type": "code",
   "execution_count": 4,
   "id": "719ceb16",
   "metadata": {},
   "outputs": [],
   "source": [
    "IDW_POWER = 2\n",
    "NUMBER_OF_NEIGHBOURS = -1  # Include all points in weighting process (equation 1)\n",
    "\n",
    "idw_predictions = []\n",
    "\n",
    "for pt in unknown_points:\n",
    "    idw_result = inverse_distance_weighting(known_points, pt[:-1], NUMBER_OF_NEIGHBOURS, IDW_POWER)\n",
    "    idw_predictions.append(idw_result)"
   ]
  },
  {
   "cell_type": "code",
   "execution_count": 5,
   "id": "01192717",
   "metadata": {},
   "outputs": [
    {
     "name": "stdout",
     "output_type": "stream",
     "text": [
      "Root Mean Squared Error of prediction with IDW is 5.182182467881956\n"
     ]
    }
   ],
   "source": [
    "# Evaluation\n",
    "\n",
    "idw_rmse = np.mean(np.sqrt((unknown_points[:, -1] - np.array(idw_predictions))**2))\n",
    "print(f'Root Mean Squared Error of prediction with IDW is {idw_rmse}')"
   ]
  },
  {
   "cell_type": "markdown",
   "id": "7f7c17e9",
   "metadata": {},
   "source": [
    "**Clarification:** Obtained Root Mean Squared Error could serve as a baseline for further model development. To build better reference, we create four IDW models of powers:\n",
    "\n",
    "1. 0.5,\n",
    "2. 1,\n",
    "3. 2,\n",
    "4. 4."
   ]
  },
  {
   "cell_type": "code",
   "execution_count": 6,
   "id": "52a73e14",
   "metadata": {},
   "outputs": [],
   "source": [
    "IDW_POWERS = [0.5, 1, 2, 4]\n",
    "idw_rmse = {}\n",
    "\n",
    "for pw in IDW_POWERS:\n",
    "    results = []\n",
    "    for pt in unknown_points:\n",
    "        idw_result = inverse_distance_weighting(known_points, pt[:-1], NUMBER_OF_NEIGHBOURS, pw)\n",
    "        results.append(idw_result)\n",
    "    idw_rmse[pw] = np.mean(np.sqrt((unknown_points[:, -1] - np.array(results))**2))"
   ]
  },
  {
   "cell_type": "code",
   "execution_count": 7,
   "id": "be7de725",
   "metadata": {},
   "outputs": [
    {
     "name": "stdout",
     "output_type": "stream",
     "text": [
      "Root Mean Squared Error of prediction with IDW of power 0.5 is 17.3953\n",
      "Root Mean Squared Error of prediction with IDW of power 1 is 14.4409\n",
      "Root Mean Squared Error of prediction with IDW of power 2 is 5.1822\n",
      "Root Mean Squared Error of prediction with IDW of power 4 is 1.9178\n"
     ]
    }
   ],
   "source": [
    "for pw in IDW_POWERS:\n",
    "    print(f'Root Mean Squared Error of prediction with IDW of power {pw} is {idw_rmse[pw]:.4f}')"
   ]
  },
  {
   "cell_type": "markdown",
   "id": "16f56132",
   "metadata": {},
   "source": [
    "## 4) Perform variogram modeling on the modeling set\n",
    "\n",
    "In this step we will go through semivariogram modeling for Kriging interpolation."
   ]
  },
  {
   "cell_type": "code",
   "execution_count": 8,
   "id": "f765998f",
   "metadata": {},
   "outputs": [],
   "source": [
    "search_radius = 0.01\n",
    "max_range = 0.32\n",
    "number_of_ranges = 32\n",
    "\n",
    "exp_semivar = calculate_semivariance(data=known_points, step_size=search_radius, max_range=max_range)"
   ]
  },
  {
   "cell_type": "code",
   "execution_count": 9,
   "id": "644df59a",
   "metadata": {},
   "outputs": [
    {
     "data": {
      "text/plain": [
       "'linear'"
      ]
     },
     "execution_count": 9,
     "metadata": {},
     "output_type": "execute_result"
    }
   ],
   "source": [
    "semivar = TheoreticalSemivariogram(points_array=known_points, empirical_semivariance=exp_semivar)\n",
    "semivar.find_optimal_model(weighted=False, number_of_ranges=number_of_ranges)"
   ]
  },
  {
   "cell_type": "code",
   "execution_count": 10,
   "id": "cadfc13c",
   "metadata": {},
   "outputs": [
    {
     "data": {
      "image/png": "[encoded data removed]",
      "text/plain": [
       "<Figure size 864x864 with 1 Axes>"
      ]
     },
     "metadata": {
      "needs_background": "light"
     },
     "output_type": "display_data"
    }
   ],
   "source": [
    "semivar.show_semivariogram()"
   ]
  },
  {
   "cell_type": "markdown",
   "id": "74bcf7e9",
   "metadata": {},
   "source": [
    "## 5) Validate Kriging and compare Kriging and IDW validation results\n",
    "\n",
    "In the last we perform Kriging interpolation and compare rersults to the **IDW** models. We use all points to weight values at unknown locations and semivariogram model chosen in the previous step."
   ]
  },
  {
   "cell_type": "code",
   "execution_count": 11,
   "id": "e61d66dd",
   "metadata": {},
   "outputs": [],
   "source": [
    "# Set Kriging model\n",
    "\n",
    "model = Krige(semivariogram_model=semivar, known_points=known_points)"
   ]
  },
  {
   "cell_type": "code",
   "execution_count": 12,
   "id": "057a87fe",
   "metadata": {},
   "outputs": [],
   "source": [
    "kriging_preds = []\n",
    "\n",
    "for pt in unknown_points:\n",
    "    \n",
    "    result = model.ordinary_kriging(pt[:-1], test_anomalies=False)\n",
    "    kriging_preds.append(result[0])"
   ]
  },
  {
   "cell_type": "code",
   "execution_count": 13,
   "id": "539596a6",
   "metadata": {},
   "outputs": [
    {
     "name": "stdout",
     "output_type": "stream",
     "text": [
      "Root Mean Squared Error of prediction with Kriging is 1.643199932985393\n"
     ]
    }
   ],
   "source": [
    "# Evaluation\n",
    "\n",
    "kriging_rmse = np.mean(np.sqrt((unknown_points[:, -1] - np.array(kriging_preds))**2))\n",
    "print(f'Root Mean Squared Error of prediction with Kriging is {kriging_rmse}')"
   ]
  },
  {
   "cell_type": "markdown",
   "id": "69ad4c42",
   "metadata": {},
   "source": [
    "**Clarification**: Kriging is better than any from the IDW models and we may assume that our modeling approach gives us more insights into the spatial process which we are observing. But this is not the end... let's consider more complex scenario!"
   ]
  },
  {
   "cell_type": "markdown",
   "id": "3f50a482",
   "metadata": {},
   "source": [
    "## 6) Bonus scenario: only 5% of values are known!\n",
    "\n",
    "Real world data are rarely as good as sample from the tutorial. It is too expensive to densily sample every location and usually we get only small percent of area covered by data. That's why it is good to compare **IDW vs Kriging** in this scenario! We repeat steps 1-5 with change in division for modeling / validation set. (I encourage you to try it do alone and then compare your code and results with those given in this notebook)."
   ]
  },
  {
   "cell_type": "code",
   "execution_count": 14,
   "id": "3a0dd204",
   "metadata": {},
   "outputs": [],
   "source": [
    "# Data preparation\n",
    "\n",
    "known_points, unknown_points = create_model_validation_sets(dem, 0.95)"
   ]
  },
  {
   "cell_type": "code",
   "execution_count": 15,
   "id": "59e7e4f1",
   "metadata": {},
   "outputs": [],
   "source": [
    "# IDW tests\n",
    "\n",
    "IDW_POWERS = [0.5, 1, 2, 4]\n",
    "idw_rmse = {}\n",
    "\n",
    "for pw in IDW_POWERS:\n",
    "    results = []\n",
    "    for pt in unknown_points:\n",
    "        idw_result = inverse_distance_weighting(known_points, pt[:-1], NUMBER_OF_NEIGHBOURS, pw)\n",
    "        results.append(idw_result)\n",
    "    idw_rmse[pw] = np.mean(np.sqrt((unknown_points[:, -1] - np.array(results))**2))"
   ]
  },
  {
   "cell_type": "code",
   "execution_count": 16,
   "id": "10c0229e",
   "metadata": {},
   "outputs": [],
   "source": [
    "# Variogram\n",
    "\n",
    "search_radius = 0.01\n",
    "max_range = 0.32\n",
    "number_of_ranges = 32\n",
    "\n",
    "exp_semivar = calculate_semivariance(data=known_points, step_size=search_radius, max_range=max_range)"
   ]
  },
  {
   "cell_type": "code",
   "execution_count": 17,
   "id": "af770e69",
   "metadata": {},
   "outputs": [
    {
     "data": {
      "image/png": "[encoded data removed]",
      "text/plain": [
       "<Figure size 864x864 with 1 Axes>"
      ]
     },
     "metadata": {
      "needs_background": "light"
     },
     "output_type": "display_data"
    }
   ],
   "source": [
    "semivar = TheoreticalSemivariogram(points_array=known_points, empirical_semivariance=exp_semivar)\n",
    "semivar.find_optimal_model(weighted=False, number_of_ranges=number_of_ranges)\n",
    "semivar.show_semivariogram()"
   ]
  },
  {
   "cell_type": "code",
   "execution_count": 18,
   "id": "0094160e",
   "metadata": {},
   "outputs": [],
   "source": [
    "# Set Kriging model\n",
    "\n",
    "model = Krige(semivariogram_model=semivar, known_points=known_points)"
   ]
  },
  {
   "cell_type": "code",
   "execution_count": 19,
   "id": "90ed29cf",
   "metadata": {},
   "outputs": [],
   "source": [
    "kriging_preds = []\n",
    "\n",
    "for pt in unknown_points:\n",
    "    \n",
    "    result = model.ordinary_kriging(pt[:-1], min_no_neighbors=16, test_anomalies=False)\n",
    "    kriging_preds.append(result[0])\n",
    "\n",
    "kriging_rmse = np.mean(np.sqrt((unknown_points[:, -1] - np.array(kriging_preds))**2))"
   ]
  },
  {
   "cell_type": "code",
   "execution_count": 20,
   "id": "d1edc10a",
   "metadata": {},
   "outputs": [
    {
     "name": "stdout",
     "output_type": "stream",
     "text": [
      "Root Mean Squared Error of prediction with IDW of power 0.5 is 17.5698\n",
      "Root Mean Squared Error of prediction with IDW of power 1 is 14.5844\n",
      "Root Mean Squared Error of prediction with IDW of power 2 is 5.5657\n",
      "Root Mean Squared Error of prediction with IDW of power 4 is 2.3090\n",
      "Root Mean Squared Error of prediction with Kriging is 2.0523\n"
     ]
    }
   ],
   "source": [
    "# Comparison\n",
    "\n",
    "for pw in IDW_POWERS:\n",
    "    print(f'Root Mean Squared Error of prediction with IDW of power {pw} is {idw_rmse[pw]:.4f}')\n",
    "print(f'Root Mean Squared Error of prediction with Kriging is {kriging_rmse:.4f}')"
   ]
  },
  {
   "cell_type": "markdown",
   "id": "47ce7fb7",
   "metadata": {},
   "source": [
    "Your results may be different but in the most cases Kriging will be better than IDW. What's even more important is the fact that for the single data source with low number of samples we don't have opportunity to perform validation step and we're not able to guess how big should be the power parameter. With Kriging we model variogram and _voila!_ - model works."
   ]
  },
  {
   "cell_type": "markdown",
   "id": "c7343465",
   "metadata": {},
   "source": [
    "---"
   ]
  }
 ],
 "metadata": {
  "kernelspec": {
   "display_name": "Python 3 (ipykernel)",
   "language": "python",
   "name": "python3"
  },
  "language_info": {
   "codemirror_mode": {
    "name": "ipython",
    "version": 3
   },
   "file_extension": ".py",
   "mimetype": "text/x-python",
   "name": "python",
   "nbconvert_exporter": "python",
   "pygments_lexer": "ipython3",
   "version": "3.7.12"
  }
 },
 "nbformat": 4,
 "nbformat_minor": 5
}

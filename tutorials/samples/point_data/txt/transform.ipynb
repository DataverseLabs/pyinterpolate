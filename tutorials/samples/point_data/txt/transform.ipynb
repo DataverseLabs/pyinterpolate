{
 "cells": [
  {
   "cell_type": "code",
   "execution_count": 7,
   "outputs": [],
   "source": [
    "from pyinterpolate.io.read_data import read_txt\n",
    "import geopandas as gpd\n",
    "from geopandas import points_from_xy"
   ],
   "metadata": {
    "collapsed": false,
    "pycharm": {
     "name": "#%%\n"
    }
   }
  },
  {
   "cell_type": "code",
   "execution_count": 2,
   "outputs": [],
   "source": [
    "arr = read_txt('pl_dem.txt')"
   ],
   "metadata": {
    "collapsed": false,
    "pycharm": {
     "name": "#%%\n"
    }
   }
  },
  {
   "cell_type": "code",
   "execution_count": 6,
   "outputs": [
    {
     "data": {
      "text/plain": "array([[15.1152409 , 52.74279035, 96.54829407],\n       [15.1152409 , 52.71070647, 51.25455093]])"
     },
     "execution_count": 6,
     "metadata": {},
     "output_type": "execute_result"
    }
   ],
   "source": [
    "arr[0:2, :]"
   ],
   "metadata": {
    "collapsed": false,
    "pycharm": {
     "name": "#%%\n"
    }
   }
  },
  {
   "cell_type": "code",
   "execution_count": 8,
   "outputs": [],
   "source": [
    "gdf = gpd.GeoDataFrame(arr, columns=['x', 'y', 'z'])"
   ],
   "metadata": {
    "collapsed": false,
    "pycharm": {
     "name": "#%%\n"
    }
   }
  },
  {
   "cell_type": "code",
   "execution_count": 9,
   "outputs": [
    {
     "data": {
      "text/plain": "           x          y          z\n0  15.115241  52.742790  96.548294\n1  15.115241  52.710706  51.254551\n2  15.115241  52.708844  48.958282\n3  15.115241  52.671378  16.817863\n4  15.115241  52.649851  16.293905",
      "text/html": "<div>\n<style scoped>\n    .dataframe tbody tr th:only-of-type {\n        vertical-align: middle;\n    }\n\n    .dataframe tbody tr th {\n        vertical-align: top;\n    }\n\n    .dataframe thead th {\n        text-align: right;\n    }\n</style>\n<table border=\"1\" class=\"dataframe\">\n  <thead>\n    <tr style=\"text-align: right;\">\n      <th></th>\n      <th>x</th>\n      <th>y</th>\n      <th>z</th>\n    </tr>\n  </thead>\n  <tbody>\n    <tr>\n      <th>0</th>\n      <td>15.115241</td>\n      <td>52.742790</td>\n      <td>96.548294</td>\n    </tr>\n    <tr>\n      <th>1</th>\n      <td>15.115241</td>\n      <td>52.710706</td>\n      <td>51.254551</td>\n    </tr>\n    <tr>\n      <th>2</th>\n      <td>15.115241</td>\n      <td>52.708844</td>\n      <td>48.958282</td>\n    </tr>\n    <tr>\n      <th>3</th>\n      <td>15.115241</td>\n      <td>52.671378</td>\n      <td>16.817863</td>\n    </tr>\n    <tr>\n      <th>4</th>\n      <td>15.115241</td>\n      <td>52.649851</td>\n      <td>16.293905</td>\n    </tr>\n  </tbody>\n</table>\n</div>"
     },
     "execution_count": 9,
     "metadata": {},
     "output_type": "execute_result"
    }
   ],
   "source": [
    "gdf.head()"
   ],
   "metadata": {
    "collapsed": false,
    "pycharm": {
     "name": "#%%\n"
    }
   }
  },
  {
   "cell_type": "code",
   "execution_count": 10,
   "outputs": [],
   "source": [
    "gdf['geometry'] = points_from_xy(gdf.x, gdf.y, crs='epsg:4326')"
   ],
   "metadata": {
    "collapsed": false,
    "pycharm": {
     "name": "#%%\n"
    }
   }
  },
  {
   "cell_type": "code",
   "execution_count": 11,
   "outputs": [],
   "source": [
    "gdf.geometry = gdf['geometry']"
   ],
   "metadata": {
    "collapsed": false,
    "pycharm": {
     "name": "#%%\n"
    }
   }
  },
  {
   "cell_type": "code",
   "execution_count": 12,
   "outputs": [
    {
     "data": {
      "text/plain": "<Geographic 2D CRS: EPSG:4326>\nName: WGS 84\nAxis Info [ellipsoidal]:\n- Lat[north]: Geodetic latitude (degree)\n- Lon[east]: Geodetic longitude (degree)\nArea of Use:\n- name: World.\n- bounds: (-180.0, -90.0, 180.0, 90.0)\nDatum: World Geodetic System 1984 ensemble\n- Ellipsoid: WGS 84\n- Prime Meridian: Greenwich"
     },
     "execution_count": 12,
     "metadata": {},
     "output_type": "execute_result"
    }
   ],
   "source": [
    "gdf.crs"
   ],
   "metadata": {
    "collapsed": false,
    "pycharm": {
     "name": "#%%\n"
    }
   }
  },
  {
   "cell_type": "code",
   "execution_count": 13,
   "outputs": [
    {
     "data": {
      "text/plain": "<AxesSubplot:>"
     },
     "execution_count": 13,
     "metadata": {},
     "output_type": "execute_result"
    },
    {
     "data": {
      "text/plain": "<Figure size 432x288 with 1 Axes>",
      "image/png": "[encoded data removed]"
     },
     "metadata": {
      "needs_background": "light"
     },
     "output_type": "display_data"
    }
   ],
   "source": [
    "gdf.plot()"
   ],
   "metadata": {
    "collapsed": false,
    "pycharm": {
     "name": "#%%\n"
    }
   }
  },
  {
   "cell_type": "code",
   "execution_count": 14,
   "outputs": [],
   "source": [
    "gdf.to_crs(epsg=2180, inplace=True)"
   ],
   "metadata": {
    "collapsed": false,
    "pycharm": {
     "name": "#%%\n"
    }
   }
  },
  {
   "cell_type": "code",
   "execution_count": 15,
   "outputs": [
    {
     "data": {
      "text/plain": "<Derived Projected CRS: EPSG:2180>\nName: ETRF2000-PL / CS92\nAxis Info [cartesian]:\n- x[north]: Northing (metre)\n- y[east]: Easting (metre)\nArea of Use:\n- name: Poland - onshore and offshore.\n- bounds: (14.14, 49.0, 24.15, 55.93)\nCoordinate Operation:\n- name: Poland CS92\n- method: Transverse Mercator\nDatum: ETRF2000 Poland\n- Ellipsoid: GRS 1980\n- Prime Meridian: Greenwich"
     },
     "execution_count": 15,
     "metadata": {},
     "output_type": "execute_result"
    }
   ],
   "source": [
    "gdf.crs"
   ],
   "metadata": {
    "collapsed": false,
    "pycharm": {
     "name": "#%%\n"
    }
   }
  },
  {
   "cell_type": "code",
   "execution_count": 16,
   "outputs": [
    {
     "data": {
      "text/plain": "<AxesSubplot:>"
     },
     "execution_count": 16,
     "metadata": {},
     "output_type": "execute_result"
    },
    {
     "data": {
      "text/plain": "<Figure size 432x288 with 1 Axes>",
      "image/png": "[encoded data removed]"
     },
     "metadata": {
      "needs_background": "light"
     },
     "output_type": "display_data"
    }
   ],
   "source": [
    "gdf.plot()"
   ],
   "metadata": {
    "collapsed": false,
    "pycharm": {
     "name": "#%%\n"
    }
   }
  },
  {
   "cell_type": "code",
   "execution_count": 17,
   "outputs": [],
   "source": [
    "gdf = gdf[['geometry', 'z']]"
   ],
   "metadata": {
    "collapsed": false,
    "pycharm": {
     "name": "#%%\n"
    }
   }
  },
  {
   "cell_type": "code",
   "execution_count": 18,
   "outputs": [
    {
     "data": {
      "text/plain": "                        geometry          z\n0  POINT (237878.001 548982.351)  96.548294\n1  POINT (237685.325 545416.708)  51.254551\n2  POINT (237674.140 545209.671)  48.958282\n3  POINT (237449.255 541045.935)  16.817863\n4  POINT (237320.090 538653.518)  16.293905",
      "text/html": "<div>\n<style scoped>\n    .dataframe tbody tr th:only-of-type {\n        vertical-align: middle;\n    }\n\n    .dataframe tbody tr th {\n        vertical-align: top;\n    }\n\n    .dataframe thead th {\n        text-align: right;\n    }\n</style>\n<table border=\"1\" class=\"dataframe\">\n  <thead>\n    <tr style=\"text-align: right;\">\n      <th></th>\n      <th>geometry</th>\n      <th>z</th>\n    </tr>\n  </thead>\n  <tbody>\n    <tr>\n      <th>0</th>\n      <td>POINT (237878.001 548982.351)</td>\n      <td>96.548294</td>\n    </tr>\n    <tr>\n      <th>1</th>\n      <td>POINT (237685.325 545416.708)</td>\n      <td>51.254551</td>\n    </tr>\n    <tr>\n      <th>2</th>\n      <td>POINT (237674.140 545209.671)</td>\n      <td>48.958282</td>\n    </tr>\n    <tr>\n      <th>3</th>\n      <td>POINT (237449.255 541045.935)</td>\n      <td>16.817863</td>\n    </tr>\n    <tr>\n      <th>4</th>\n      <td>POINT (237320.090 538653.518)</td>\n      <td>16.293905</td>\n    </tr>\n  </tbody>\n</table>\n</div>"
     },
     "execution_count": 18,
     "metadata": {},
     "output_type": "execute_result"
    }
   ],
   "source": [
    "gdf.head()"
   ],
   "metadata": {
    "collapsed": false,
    "pycharm": {
     "name": "#%%\n"
    }
   }
  },
  {
   "cell_type": "code",
   "execution_count": 19,
   "outputs": [
    {
     "name": "stderr",
     "output_type": "stream",
     "text": [
      "/home/szymon/miniconda3/envs/p310/lib/python3.10/site-packages/geopandas/geodataframe.py:1472: SettingWithCopyWarning: \n",
      "A value is trying to be set on a copy of a slice from a DataFrame.\n",
      "Try using .loc[row_indexer,col_indexer] = value instead\n",
      "\n",
      "See the caveats in the documentation: https://pandas.pydata.org/pandas-docs/stable/user_guide/indexing.html#returning-a-view-versus-a-copy\n",
      "  super().__setitem__(key, value)\n"
     ]
    }
   ],
   "source": [
    "gdf['x'] = gdf.geometry.x"
   ],
   "metadata": {
    "collapsed": false,
    "pycharm": {
     "name": "#%%\n"
    }
   }
  },
  {
   "cell_type": "code",
   "execution_count": 20,
   "outputs": [],
   "source": [
    "gdf['y'] = gdf.geometry.y"
   ],
   "metadata": {
    "collapsed": false,
    "pycharm": {
     "name": "#%%\n"
    }
   }
  },
  {
   "cell_type": "code",
   "execution_count": 21,
   "outputs": [
    {
     "data": {
      "text/plain": "                        geometry          z              x              y\n0  POINT (237878.001 548982.351)  96.548294  237878.001294  548982.351111\n1  POINT (237685.325 545416.708)  51.254551  237685.325393  545416.708315\n2  POINT (237674.140 545209.671)  48.958282  237674.140301  545209.671315\n3  POINT (237449.255 541045.935)  16.817863  237449.254870  541045.934750\n4  POINT (237320.090 538653.518)  16.293905  237320.089992  538653.518032",
      "text/html": "<div>\n<style scoped>\n    .dataframe tbody tr th:only-of-type {\n        vertical-align: middle;\n    }\n\n    .dataframe tbody tr th {\n        vertical-align: top;\n    }\n\n    .dataframe thead th {\n        text-align: right;\n    }\n</style>\n<table border=\"1\" class=\"dataframe\">\n  <thead>\n    <tr style=\"text-align: right;\">\n      <th></th>\n      <th>geometry</th>\n      <th>z</th>\n      <th>x</th>\n      <th>y</th>\n    </tr>\n  </thead>\n  <tbody>\n    <tr>\n      <th>0</th>\n      <td>POINT (237878.001 548982.351)</td>\n      <td>96.548294</td>\n      <td>237878.001294</td>\n      <td>548982.351111</td>\n    </tr>\n    <tr>\n      <th>1</th>\n      <td>POINT (237685.325 545416.708)</td>\n      <td>51.254551</td>\n      <td>237685.325393</td>\n      <td>545416.708315</td>\n    </tr>\n    <tr>\n      <th>2</th>\n      <td>POINT (237674.140 545209.671)</td>\n      <td>48.958282</td>\n      <td>237674.140301</td>\n      <td>545209.671315</td>\n    </tr>\n    <tr>\n      <th>3</th>\n      <td>POINT (237449.255 541045.935)</td>\n      <td>16.817863</td>\n      <td>237449.254870</td>\n      <td>541045.934750</td>\n    </tr>\n    <tr>\n      <th>4</th>\n      <td>POINT (237320.090 538653.518)</td>\n      <td>16.293905</td>\n      <td>237320.089992</td>\n      <td>538653.518032</td>\n    </tr>\n  </tbody>\n</table>\n</div>"
     },
     "execution_count": 21,
     "metadata": {},
     "output_type": "execute_result"
    }
   ],
   "source": [
    "gdf.head()"
   ],
   "metadata": {
    "collapsed": false,
    "pycharm": {
     "name": "#%%\n"
    }
   }
  },
  {
   "cell_type": "code",
   "execution_count": 22,
   "outputs": [],
   "source": [
    "gdf = gdf[['x', 'y', 'z']].values"
   ],
   "metadata": {
    "collapsed": false,
    "pycharm": {
     "name": "#%%\n"
    }
   }
  },
  {
   "cell_type": "code",
   "execution_count": 23,
   "outputs": [
    {
     "data": {
      "text/plain": "array([[2.37878001e+05, 5.48982351e+05, 9.65482941e+01],\n       [2.37685325e+05, 5.45416708e+05, 5.12545509e+01],\n       [2.37674140e+05, 5.45209671e+05, 4.89582825e+01],\n       [2.37449255e+05, 5.41045935e+05, 1.68178635e+01],\n       [2.37320090e+05, 5.38653518e+05, 1.62939053e+01],\n       [2.37187238e+05, 5.36192094e+05, 1.65406628e+01],\n       [2.37056908e+05, 5.33776683e+05, 1.94509335e+01],\n       [2.37050703e+05, 5.33661664e+05, 1.92426758e+01],\n       [2.36890637e+05, 5.30694166e+05, 4.56620102e+01],\n       [2.36841016e+05, 5.29774013e+05, 3.37260437e+01]])"
     },
     "execution_count": 23,
     "metadata": {},
     "output_type": "execute_result"
    }
   ],
   "source": [
    "gdf[:10]"
   ],
   "metadata": {
    "collapsed": false,
    "pycharm": {
     "name": "#%%\n"
    }
   }
  },
  {
   "cell_type": "code",
   "execution_count": 26,
   "outputs": [],
   "source": [
    "with open('pl_dem_epsg2180.txt', 'w') as fstream:\n",
    "    for row in gdf:\n",
    "        strings = [str(x) for x in row]\n",
    "        srow = ','.join(strings) + '\\n'\n",
    "        fstream.write(srow)"
   ],
   "metadata": {
    "collapsed": false,
    "pycharm": {
     "name": "#%%\n"
    }
   }
  },
  {
   "cell_type": "code",
   "execution_count": null,
   "outputs": [],
   "source": [],
   "metadata": {
    "collapsed": false,
    "pycharm": {
     "name": "#%%\n"
    }
   }
  }
 ],
 "metadata": {
  "kernelspec": {
   "display_name": "Python 3",
   "language": "python",
   "name": "python3"
  },
  "language_info": {
   "codemirror_mode": {
    "name": "ipython",
    "version": 2
   },
   "file_extension": ".py",
   "mimetype": "text/x-python",
   "name": "python",
   "nbconvert_exporter": "python",
   "pygments_lexer": "ipython2",
   "version": "2.7.6"
  }
 },
 "nbformat": 4,
 "nbformat_minor": 0
}
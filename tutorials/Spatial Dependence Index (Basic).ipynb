{
 "cells": [
  {
   "cell_type": "markdown",
   "id": "e1dd0d30",
   "metadata": {},
   "source": [
    "# Spatial Dependence Index\n",
    "\n",
    "> Is dataset worth modeling?\n",
    "\n",
    "## Table of Contents:\n",
    "\n",
    "1. What is the spatial dependcy index?\n",
    "2. Why do we use spatial dependency index?\n",
    "3. Example 1: Weak spatial dependence.\n",
    "4. Example 2: Strong spatial dependence.\n",
    "5. API links.\n",
    "\n",
    "## Level: Basic\n",
    "\n",
    "## Changelog\n",
    "\n",
    "| Date | Change description | Author |\n",
    "|------|--------------------|--------|\n",
    "| 2023-04-08 | The first version of the tutorial | @SimonMolinsky |\n",
    "\n",
    "## Introduction\n",
    "\n",
    "In this tutorial, we will learn how to estimate **spatial dependency index**. Algorithm is based on the work:\n",
    "\n",
    "> [1] CAMBARDELLA, C.A.; MOORMAN, T.B.; PARKIN, T.B.; KARLEN, D.L.; NOVAK, J.M.; TURCO, R.F.; KONOPKA, A.E. Field-scale variability of soil properties in central Iowa soils. Soil Science Society of America Journal, v. 58, n. 5, p. 1501-1511, 1994.\n"
   ]
  },
  {
   "cell_type": "markdown",
   "id": "da081379",
   "metadata": {},
   "source": [
    "## 1. What is the spatial dependency index?\n",
    "\n",
    "The spatial dependency index (SDI) measures the strength of a spatial process we are modeling. SDI is normalized to the interval between 0 and 1. Therefore, we can transform it into percentages and assign an order of spatial dependency from weak to strong.\n",
    "\n",
    "The SDI is a ratio of the nugget to the total variance (sill) of a model:\n",
    "\n",
    "$$SDI = \\frac{nugget}{sill} * 100$$\n",
    "\n",
    "Whenever we perform fitting of a theoretical variogram with the `pyinterpolate` package, then SDI is calculated, and we will take advantage of it in the examples. SDI is represented by two values:\n",
    "\n",
    "- **numeric**, a ratio of nugget and sill in percent,\n",
    "- **categorical**, a description of a spatial dependency strength.\n",
    "\n",
    "There are four levels of spatial dependency.\n",
    "\n",
    "| Lower Limit (included) | Upper Limit (excluded) | Strength |\n",
    "|------------------------|------------------------|----------|\n",
    "| 0                      | 25                     | strong   |\n",
    "| 25                     | 75                     | moderate |\n",
    "| 75                     | 95                     | weak     |\n",
    "| 95                     | _inf_                  | no spatial dependence |\n",
    "\n",
    "\n",
    "**The lower the ratio, the strongest spatial dependence**. If the ratio is greater than 75 percent, we should be cautious with spatial modeling because spatial similarities may not explain the process."
   ]
  },
  {
   "cell_type": "markdown",
   "id": "bd332abf",
   "metadata": {},
   "source": [
    "## 2. Why do we use spatial dependency index?\n",
    "\n",
    "In a world where Tobler’s Law can be applied to every spatial phenomenon, we might use kriging all the time without consideration. We know that spatial dependence exists, and close neighbors are always similar.\n",
    "\n",
    "This world is not our world! Not every process follows Tobler’s Law. We can find examples that are sampled over the same area and the same scale but their spatial dependence indexes are different. In [1] (SDI in `pyinterpolate` is based on this publication), there are multiple chemical compounds sampled from the same field. Every compound has its spatial distribution and variogram. There are soil parameters that are not spatially dependent at all (for example, _Mg_ or _Ca_ that are randomly distributed).\n",
    "\n",
    "The spatial dependence index level marks the next decision on what to do with the data.\n",
    "\n",
    "- Strong: just krige it!\n",
    "- Moderate: there might be some other thing that explains process variation.\n",
    "- Weak: the other non-spatial process has more influence on data than spatial similarities.\n",
    "- No spatial dependence: the process is random, or spatial dependencies cannot explain variance.\n",
    "\n",
    "**Note**: Be careful, because the last two points are red flags, BUT sometimes processes with a low variogram variability at one scale may be explained with spatial relations at a changed scale. A good practical example is a comparison of rental apartment prices per night: if you look at the scale of hundreds of kilometers, then the spatial dependence may be extremely weak. On the other hand, the spatial similarity between prices of apartments close to each other (up to 10 kilometers, 6 miles) tends to show a _classic variogram curve_. The reason is simple: most managers and algorithms use information about the pricing of the closest neighbors and neighbourhood prices are affected by the same external objects or events.\n",
    "\n",
    "In summary, we should look into the spatial dependence index to ensure that our path is not a dead end."
   ]
  },
  {
   "cell_type": "code",
   "execution_count": null,
   "id": "99f17dec",
   "metadata": {},
   "outputs": [],
   "source": []
  }
 ],
 "metadata": {
  "kernelspec": {
   "display_name": "Python 3 (ipykernel)",
   "language": "python",
   "name": "python3"
  },
  "language_info": {
   "codemirror_mode": {
    "name": "ipython",
    "version": 3
   },
   "file_extension": ".py",
   "mimetype": "text/x-python",
   "name": "python",
   "nbconvert_exporter": "python",
   "pygments_lexer": "ipython3",
   "version": "3.11.2"
  }
 },
 "nbformat": 4,
 "nbformat_minor": 5
}

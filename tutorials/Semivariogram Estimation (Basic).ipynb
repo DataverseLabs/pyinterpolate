{
 "cells": [
  {
   "cell_type": "markdown",
   "metadata": {
    "pycharm": {
     "name": "#%% md\n"
    }
   },
   "source": [
    "# Semivariogram calculation - tutorial\n",
    "\n",
    "## Table of Contents:\n",
    "\n",
    "1. Read point data,\n",
    "2. Create the experimental variogram,\n",
    "3. Set manually different semivariogram models,\n",
    "4. Set automatically a semivariogram model,\n",
    "5. Export model,\n",
    "6. Import model.\n",
    "\n",
    "## Level: Basic\n",
    "\n",
    "## Changelog\n",
    "\n",
    "| Date | Change description | Author |\n",
    "|------|--------------------|--------|\n",
    "| 2022-08-09 | Tutorial updated to work with version 0.3.0 | @SimonMolinsky |\n",
    "| 2021-12-14 | Sill selection was upgraded: now optimal sill is derived from the grid search within `TheoreticalSemivariogram` class | @SimonMolinsky |\n",
    "| 2021-12-13 | Changed behavior of `select_values_in_range()` function | @SimonMolinsky |\n",
    "| 2021-10-13 | Refactored TheoreticalSemivariogram (name change of class attribute) | @ethmtrgt |\n",
    "| 2021-05-28 | Updated paths for input/output data | @SimonMolinsky |\n",
    "| 2021-05-11 | Refactored TheoreticalSemivariogram class | @SimonMolinsky |\n",
    "| 2021-03-31 | Update related to the change of semivariogram weighting | @SimonMolinsky |\n",
    "\n",
    "## Introduction\n",
    "\n",
    "In this tutorial, we will learn how to read and prepare data for semivariogram modeling, manually set semivariogram type, and do it automatically. We will compare different semivariogram models by visualizing the outcomes of models.\n",
    "\n",
    "Semivariogram modeling is an initial step before we can perform spatial interpolation of unknown values with Kriging. When you complete this tutorial, you may learn how to:\n",
    "\n",
    "- perform point Kriging (ordinary or simple),\n",
    "- regularize semivariogram of areal data.\n",
    "\n",
    "We use DEM data which is stored in a file `samples/point_data/txt/pl_dem.txt`."
   ]
  },
  {
   "cell_type": "markdown",
   "metadata": {
    "pycharm": {
     "name": "#%% md\n"
    }
   },
   "source": [
    "## Import packages"
   ]
  },
  {
   "cell_type": "code",
   "execution_count": 1,
   "metadata": {
    "pycharm": {
     "name": "#%%\n"
    }
   },
   "outputs": [],
   "source": [
    "import numpy as np\n",
    "\n",
    "import matplotlib.pyplot as plt\n",
    "\n",
    "# IO - read text\n",
    "from pyinterpolate.io.read_data import read_txt\n",
    "# Experimental variogram\n",
    "from pyinterpolate.variogram import build_experimental_variogram\n",
    "# Theoretical Variogram\n",
    "from pyinterpolate.variogram import TheoreticalVariogram, build_theoretical_variogram"
   ]
  },
  {
   "cell_type": "markdown",
   "metadata": {
    "pycharm": {
     "name": "#%% md\n"
    }
   },
   "source": [
    "## 1) Read point data"
   ]
  },
  {
   "cell_type": "code",
   "execution_count": 2,
   "metadata": {
    "pycharm": {
     "name": "#%%\n"
    }
   },
   "outputs": [],
   "source": [
    "DATA = 'samples/point_data/txt/pl_dem_epsg2180.txt'\n",
    "dem = read_txt(DATA)"
   ]
  },
  {
   "cell_type": "code",
   "execution_count": 3,
   "metadata": {
    "pycharm": {
     "name": "#%%\n"
    }
   },
   "outputs": [
    {
     "data": {
      "text/plain": [
       "array([[2.54549783e+05, 5.38007742e+05, 2.96319027e+01],\n",
       "       [2.54462772e+05, 5.36282311e+05, 5.63530655e+01],\n",
       "       [2.54247062e+05, 5.32003253e+05, 5.01049805e+01],\n",
       "       [2.54233150e+05, 5.31727185e+05, 4.84706993e+01],\n",
       "       [2.55075675e+05, 5.47898921e+05, 7.19803314e+01],\n",
       "       [2.55032701e+05, 5.47047700e+05, 6.29624100e+01],\n",
       "       [2.54975796e+05, 5.45920408e+05, 2.03861294e+01],\n",
       "       [2.54751735e+05, 5.41480271e+05, 4.03093376e+01],\n",
       "       [2.54682103e+05, 5.40099921e+05, 2.19432678e+01],\n",
       "       [2.54521994e+05, 5.36925123e+05, 5.15251350e+01]])"
      ]
     },
     "execution_count": 3,
     "metadata": {},
     "output_type": "execute_result"
    }
   ],
   "source": [
    "# Look into a first few lines of data\n",
    "\n",
    "dem[-10:, :]"
   ]
  },
  {
   "cell_type": "markdown",
   "metadata": {
    "pycharm": {
     "name": "#%% md\n"
    }
   },
   "source": [
    "## 2) Create the experimental variogram\n",
    "\n",
    "The first step of analysis is to check if there is any kind of spatial correlation in our dataset. To do so, we use variograms - plots of the dissimilarity between point pairs (y axis) that changes with a distance (x axis). There are two \"types\" of variograms.\n",
    "\n",
    "- **Experimental variogram**: shows relationships of point pairs directly and it could be very messy, we use it to initially check if there is a spatial correlation and later on, to model spatial process.\n",
    "- **Theoretical variogram**: it is a special function that is applied to the experimental variogram. We try to model dissimilarity with a mathematical curve that could be later used for missing values interpolation. We have a set of models to try and only three *hyperparameters* to test.\n",
    "\n",
    "We start our analysis of setting up the experimental model. We use for it `build_experimental_variogram()` function that creates for us `ExperimentalVariogram` object. We pass to this function three parameters:\n",
    "\n",
    "1. `input_array`: `numpy array` with coordinates and observed values, for example `[[0, 0, 10], [0, 1, 20]]`,\n",
    "2. `step_size`: we must divide our area of analysis into discrete **lags**. **Lags** are intervals (usually circular) within we check if point has a neighbour. For example, if we look into the lag `500` then we are going to compare one point with other points in a distance `(0, 1000]` from this point,\n",
    "3. `max_range`: it is a tricky one and it is hard to guess it at the first try. This parameter represents possible **maximum range of spatial dependency**. This parameter shouldn't exceed a half of a study area extent."
   ]
  },
  {
   "cell_type": "code",
   "execution_count": 4,
   "metadata": {
    "pycharm": {
     "name": "#%%\n"
    }
   },
   "outputs": [],
   "source": [
    "# Create experimental semivariogram\n",
    "\n",
    "step_radius = 500  # meters\n",
    "max_range = 10000  # meters\n",
    "\n",
    "experimental_variogram = build_experimental_variogram(input_array=dem, step_size=step_radius, max_range=max_range)"
   ]
  },
  {
   "cell_type": "code",
   "execution_count": 5,
   "metadata": {
    "pycharm": {
     "name": "#%%\n"
    }
   },
   "outputs": [
    {
     "data": {
      "text/plain": [
       "pyinterpolate.variogram.empirical.experimental_variogram.ExperimentalVariogram"
      ]
     },
     "execution_count": 5,
     "metadata": {},
     "output_type": "execute_result"
    }
   ],
   "source": [
    "# What is a type of experimental variogram?\n",
    "\n",
    "type(experimental_variogram)"
   ]
  },
  {
   "cell_type": "markdown",
   "metadata": {
    "pycharm": {
     "name": "#%% md\n"
    }
   },
   "source": [
    "`ExperimentalVariogram` object represents all information that we could estimate from our measurements:\n",
    "\n",
    "- **semivariance**: dissimilarity over a distance,\n",
    "- **covariance**: similarity over a distance,\n",
    "- **variance**: non-spatial variance of all points.\n",
    "\n",
    "This class has two useful methods:\n",
    "\n",
    "1. We can print object statistics with the `print()` function,\n",
    "2. or we can plot *semivariance*, *covariance* and *variance* and check how they behave with a distance with `object.plot()` method.\n",
    "\n",
    "Let's check both!"
   ]
  },
  {
   "cell_type": "code",
   "execution_count": 6,
   "metadata": {
    "pycharm": {
     "name": "#%%\n"
    }
   },
   "outputs": [
    {
     "name": "stdout",
     "output_type": "stream",
     "text": [
      "+--------+--------------------+---------------------+--------------------+\n",
      "|  lag   |    semivariance    |      covariance     |    var_cov_diff    |\n",
      "+--------+--------------------+---------------------+--------------------+\n",
      "| 500.0  | 14.716058620972868 |  480.99904783812127 | 8.821278469608444  |\n",
      "| 1000.0 | 34.85400868491261  |  464.2196256667607  | 25.600700640969023 |\n",
      "| 1500.0 | 57.712760007769795 |  433.73651582698574 | 56.08381048074398  |\n",
      "| 2000.0 | 82.49483539006093  |  403.5799288984297  | 86.24039740929999  |\n",
      "| 2500.0 | 111.4449493651956  |  364.9336781724029  | 124.88664813532682 |\n",
      "| 3000.0 | 143.4007980025356  |  325.6459001433955  | 164.1744261643342  |\n",
      "| 3500.0 | 175.10704725708965 |  284.4093681493841  | 205.41095815834564 |\n",
      "| 4000.0 | 209.3522343651705  |  245.59671700665646 | 244.22360930107325 |\n",
      "| 4500.0 | 244.46785072173265 |  204.4305639103993  | 285.3897623973304  |\n",
      "| 5000.0 | 281.0897575749926  |  159.61259251127132 | 330.2077337964584  |\n",
      "| 5500.0 | 315.67549229122216 |  118.99201963546533 | 370.8283066722644  |\n",
      "| 6000.0 | 349.5718260502048  |  81.90206675127321  | 407.9182595564565  |\n",
      "| 6500.0 | 381.7274369750636  |  47.01829083567338  | 442.80203547205633 |\n",
      "| 7000.0 | 413.81104972218697 |  15.768848642349267 | 474.05147766538045 |\n",
      "| 7500.0 |  439.311684307325  |  -9.119116076399862 | 498.93944238412956 |\n",
      "| 8000.0 | 461.6911951584344  | -29.173423730506535 | 518.9937500382363  |\n",
      "| 8500.0 | 482.51366131979273 |  -44.75615663700621 |  534.576482944736  |\n",
      "| 9000.0 | 501.63014408854025 | -58.013038178981994 | 547.8333644867117  |\n",
      "| 9500.0 | 522.2111025684128  |  -72.92100663867586 | 562.7413329464056  |\n",
      "+--------+--------------------+---------------------+--------------------+\n"
     ]
    }
   ],
   "source": [
    "print(experimental_variogram)"
   ]
  },
  {
   "cell_type": "markdown",
   "metadata": {
    "pycharm": {
     "name": "#%% md\n"
    }
   },
   "source": [
    "- **Lag** is a column with the lag center,\n",
    "- **semivariance** is a column with a dissimilarity metric,\n",
    "- **covariance** is a column with a similarity metric,\n",
    "- **var_cov_diff** is a difference between the variance and the covariance and ideally it should be equal to the semivariance. But it is possible only if spatial process is second-order stationary and in a real-world applications it is very rare situation. On the other hand, you should see that this value is very close to the semivariance for our dataset.\n",
    "\n",
    "We can plot semivariance and covariance to better understand their relation."
   ]
  },
  {
   "cell_type": "code",
   "execution_count": 7,
   "metadata": {
    "pycharm": {
     "name": "#%%\n"
    }
   },
   "outputs": [
    {
     "data": {
      "image/png": "[encoded data removed]",
      "text/plain": [
       "<Figure size 864x432 with 1 Axes>"
      ]
     },
     "metadata": {
      "needs_background": "light"
     },
     "output_type": "display_data"
    }
   ],
   "source": [
    "experimental_variogram.plot(plot_semivariance=True, plot_covariance=True, plot_variance=True)"
   ]
  },
  {
   "cell_type": "markdown",
   "metadata": {
    "pycharm": {
     "name": "#%% md\n"
    }
   },
   "source": [
    "Our plot shows three objects:\n",
    "\n",
    "1. Circles: represent semivariance,\n",
    "2. Pluses: represent covariance,\n",
    "3. Dashed line: is a variance.\n",
    "\n",
    "We see here that semivariance and covariance are mirrored. What it means? It is a normal behavior and we should expect it - semivariance and covariance have mirrored trends. You can read it as:\n",
    "\n",
    "- with **semivariance** the dissimilarity between point pairs over a distance increases,\n",
    "- **covariance** shows that the similarity between point pairs over a distance decreases.\n",
    "\n",
    "In the best case scenario, (data is stationary, e.g. mean and variance don't change with a distance), the difference between variance and covariance should be equal to semivariance. That's why our `ExperimentalVariogram` object prints difference between those two. We can use it to quickly check if the process that we measure is stationary.\n",
    "\n",
    "With the experimental variogram we can create theoretical model of semivariance."
   ]
  },
  {
   "cell_type": "markdown",
   "source": [
    "## 3. Set manually different semivariogram models\n",
    "\n",
    "With experimental variogram we can start modeling theoretical function that optimally describes observed data. Our role is to choose modeling function and to set three hyperparameters: nugget, sill and range. You can read more about semivariogram models here: [Geostatistics: Theoretical Variogram Models](https://ml-gis-service.com/index.php/2022/04/01/geostatistics-theoretical-variogram-models/).\n",
    "\n",
    "Semivariogram has three basic properties:\n",
    "\n",
    "- **nugget**: the initial value at a zero distance, in most cases, it is zero, but sometimes it represents a bias in observations.\n",
    "- **sill**: the point where semivariogram flattens and reaches approximately 95% of dissimilarity. Sometimes we cannot find a sill; for example, if differences grow exponentially, but in `pyinterpolate` it is set usually close to the variance of data,\n",
    "- **range**: is a distance where a variogram reaches its sill. Larger distances are negligible for interpolation.\n",
    "\n",
    "We are not forced to know all of them at the beginning. **Range** and **sill** may be easily computed by algorithm itself. The nugget is slightly different. As a programmer I can tell you that it is easy to build an algorithm for nugget grid search and it will work the same as for range & sill. But nugget may represent systematic bias and we should be sure that it is different than zero if we use it. The algorithm doesn't know about our sampling method!\n",
    "\n",
    "Creation of theoretical model can be in two ways:\n",
    "1. Manually, with `build_theoretical_variogram()` function,\n",
    "2. Semi-automatically, but here's the catch: we must create `TheoreticalVariogram` object first and in the second step we may use `.autofit()` method of this class. Why is that? The reason is simple - if we want to fit semivariogram automatically, then algorithm (or creator) assumes that we know what we are doing.\n",
    "\n",
    "We start from `build_theoretical_variogram()` function and look into a different models fitted to our data."
   ],
   "metadata": {
    "collapsed": false,
    "pycharm": {
     "name": "#%% md\n"
    }
   }
  },
  {
   "cell_type": "markdown",
   "source": [
    "### Models:\n",
    "\n",
    "* circular,\n",
    "* cubic,\n",
    "* exponential,\n",
    "* gaussian,\n",
    "* linear,\n",
    "* power,\n",
    "* spherical.\n",
    "\n",
    "We will set:\n",
    "\n",
    "- **sill** to the experimental variogram variance,\n",
    "- **nugget** to zero,\n",
    "- **range** to 8000 (we see in the experimental variogram plot that around this range semivariance flattens around variance value)."
   ],
   "metadata": {
    "collapsed": false,
    "pycharm": {
     "name": "#%% md\n"
    }
   }
  },
  {
   "cell_type": "code",
   "execution_count": null,
   "outputs": [],
   "source": [
    "sill = experimental_variogram.variance\n",
    "nugget = 0\n",
    "var_range = 8000"
   ],
   "metadata": {
    "collapsed": false,
    "pycharm": {
     "name": "#%%\n"
    }
   }
  },
  {
   "cell_type": "code",
   "execution_count": null,
   "outputs": [],
   "source": [
    "# circular\n",
    "\n",
    "circular_model = build_theoretical_variogram(experimental_variogram=experimental_variogram,\n",
    "                                             model_type='circular',\n",
    "                                             sill=sill,\n",
    "                                             rang=var_range,\n",
    "                                             nugget=nugget)"
   ],
   "metadata": {
    "collapsed": false,
    "pycharm": {
     "name": "#%%\n"
    }
   }
  },
  {
   "cell_type": "code",
   "execution_count": null,
   "outputs": [],
   "source": [
    "print(circular_model)"
   ],
   "metadata": {
    "collapsed": false,
    "pycharm": {
     "name": "#%%\n"
    }
   }
  },
  {
   "cell_type": "code",
   "execution_count": null,
   "outputs": [],
   "source": [
    "circular_model.plot(experimental=True)"
   ],
   "metadata": {
    "collapsed": false,
    "pycharm": {
     "name": "#%%\n"
    }
   }
  },
  {
   "cell_type": "code",
   "execution_count": null,
   "outputs": [],
   "source": [
    "# cubic\n",
    "\n",
    "cubic_model = build_theoretical_variogram(experimental_variogram=experimental_variogram,\n",
    "                                          model_type='cubic',\n",
    "                                          sill=sill,\n",
    "                                          rang=var_range,\n",
    "                                          nugget=nugget)"
   ],
   "metadata": {
    "collapsed": false,
    "pycharm": {
     "name": "#%%\n"
    }
   }
  },
  {
   "cell_type": "code",
   "execution_count": null,
   "outputs": [],
   "source": [
    "print(cubic_model)"
   ],
   "metadata": {
    "collapsed": false,
    "pycharm": {
     "name": "#%%\n"
    }
   }
  },
  {
   "cell_type": "code",
   "execution_count": null,
   "outputs": [],
   "source": [
    "cubic_model.plot()"
   ],
   "metadata": {
    "collapsed": false,
    "pycharm": {
     "name": "#%%\n"
    }
   }
  },
  {
   "cell_type": "code",
   "execution_count": null,
   "outputs": [],
   "source": [
    "# Exponential model\n",
    "\n",
    "exponential_model = build_theoretical_variogram(experimental_variogram=experimental_variogram,\n",
    "                                                model_type='exponential',\n",
    "                                                sill=sill,\n",
    "                                                rang=var_range,\n",
    "                                                nugget=nugget)\n",
    "print(exponential_model)"
   ],
   "metadata": {
    "collapsed": false,
    "pycharm": {
     "name": "#%%\n"
    }
   }
  },
  {
   "cell_type": "code",
   "execution_count": null,
   "outputs": [],
   "source": [
    "exponential_model.plot()"
   ],
   "metadata": {
    "collapsed": false,
    "pycharm": {
     "name": "#%%\n"
    }
   }
  },
  {
   "cell_type": "code",
   "execution_count": null,
   "outputs": [],
   "source": [
    "# Gaussian model\n",
    "\n",
    "gaussian_model = build_theoretical_variogram(experimental_variogram=experimental_variogram,\n",
    "                                             model_type='gaussian',\n",
    "                                             sill=sill,\n",
    "                                             rang=var_range,\n",
    "                                             nugget=nugget)\n",
    "print(gaussian_model)"
   ],
   "metadata": {
    "collapsed": false,
    "pycharm": {
     "name": "#%%\n"
    }
   }
  },
  {
   "cell_type": "code",
   "execution_count": null,
   "outputs": [],
   "source": [
    "gaussian_model.plot()"
   ],
   "metadata": {
    "collapsed": false,
    "pycharm": {
     "name": "#%%\n"
    }
   }
  },
  {
   "cell_type": "code",
   "execution_count": null,
   "outputs": [],
   "source": [
    "# Linear model\n",
    "\n",
    "linear_model = build_theoretical_variogram(experimental_variogram=experimental_variogram,\n",
    "                                           model_type='linear',\n",
    "                                           sill=sill,\n",
    "                                           rang=var_range,\n",
    "                                           nugget=nugget)\n",
    "print(linear_model)"
   ],
   "metadata": {
    "collapsed": false,
    "pycharm": {
     "name": "#%%\n"
    }
   }
  },
  {
   "cell_type": "code",
   "execution_count": null,
   "outputs": [],
   "source": [
    "linear_model.plot()"
   ],
   "metadata": {
    "collapsed": false,
    "pycharm": {
     "name": "#%%\n"
    }
   }
  },
  {
   "cell_type": "code",
   "execution_count": null,
   "outputs": [],
   "source": [
    "# Power model\n",
    "\n",
    "power_model = build_theoretical_variogram(experimental_variogram=experimental_variogram,\n",
    "                                          model_type='power',\n",
    "                                          sill=sill,\n",
    "                                          rang=var_range,\n",
    "                                          nugget=nugget)\n",
    "print(power_model)"
   ],
   "metadata": {
    "collapsed": false,
    "pycharm": {
     "name": "#%%\n"
    }
   }
  },
  {
   "cell_type": "code",
   "execution_count": null,
   "outputs": [],
   "source": [
    "power_model.plot()"
   ],
   "metadata": {
    "collapsed": false,
    "pycharm": {
     "name": "#%%\n"
    }
   }
  },
  {
   "cell_type": "code",
   "execution_count": null,
   "outputs": [],
   "source": [
    "# Spherical model\n",
    "\n",
    "spherical_model = build_theoretical_variogram(experimental_variogram=experimental_variogram,\n",
    "                                              model_type='spherical',\n",
    "                                              sill=sill,\n",
    "                                              rang=var_range,\n",
    "                                              nugget=nugget)\n",
    "\n",
    "print(spherical_model)"
   ],
   "metadata": {
    "collapsed": false,
    "pycharm": {
     "name": "#%%\n"
    }
   }
  },
  {
   "cell_type": "code",
   "execution_count": null,
   "outputs": [],
   "source": [
    "spherical_model.plot()"
   ],
   "metadata": {
    "collapsed": false,
    "pycharm": {
     "name": "#%%\n"
    }
   }
  },
  {
   "cell_type": "markdown",
   "source": [
    "Quick look into plots, and we can guess that the best model is **linear**. We can read each table printed with a `print()` method, but instead we will read *Root Mean Squared Error* of each model and select model with the lowest value of RMSE:"
   ],
   "metadata": {
    "collapsed": false,
    "pycharm": {
     "name": "#%% md\n"
    }
   }
  },
  {
   "cell_type": "code",
   "execution_count": null,
   "outputs": [],
   "source": [
    "models = [\n",
    "    circular_model, cubic_model, exponential_model, gaussian_model, linear_model, power_model, spherical_model\n",
    "]\n",
    "\n",
    "lowest_rmse = np.inf\n",
    "chosen_model = ''\n",
    "\n",
    "for _model in models:\n",
    "    \n",
    "    # Get attrs\n",
    "    model_name = _model.name\n",
    "    model_rmse = _model.rmse\n",
    "    \n",
    "    # Check error\n",
    "    if model_rmse < lowest_rmse:\n",
    "        lowest_rmse = model_rmse\n",
    "        chosen_model = model_name\n",
    "    \n",
    "    # Print status\n",
    "    msg = f'Model: {model_name}, RMSE: {model_rmse}'\n",
    "    print(msg)\n",
    "    print('')\n",
    "\n",
    "msg = f'The best model is {chosen_model} with RMSE {lowest_rmse}'\n",
    "print(msg)"
   ],
   "metadata": {
    "collapsed": false,
    "pycharm": {
     "name": "#%%\n"
    }
   }
  },
  {
   "cell_type": "markdown",
   "source": [
    "## 4) Set automatically semivariogram model\n",
    "\n",
    "We can set semivariogram model automatically but this cannot be done with `build_theoretical_variogram()` function. Instead we use `TheoreticalVariogram` class - object of this type is generated by `build_theoretical_variogram()` function.\n",
    "\n",
    "This process has two steps:\n",
    "\n",
    "1. Initilize `TheoreticalVariogram` class object.\n",
    "2. Let algorithm to fit the best model, find the optimal range and the optimal sill with `.autofit()` method.\n",
    "\n",
    "\n",
    "The `autofit()` method takes multiple parameters, the most important for us are:\n",
    "\n",
    "- `experimental_variogram` - the experimental variogram (`ExperimentalVariogram` type), \n",
    "- `model_types` - list of models of string with a model name. Available models:\n",
    "    - all - the same as list with all models,\n",
    "    - circular,\n",
    "    - cubic,\n",
    "    - exponential,\n",
    "    - gaussian,\n",
    "    - linear,\n",
    "    - power,\n",
    "    - spherical.\n",
    "- `nugget` - **default = 0** - nugget (bias) of a variogram. Default value is 0.\n",
    "- `rang` - if given, then range is fixed to this value.\n",
    "- `min_range` - **default = 0.1** - the minimal fraction of a variogram to find an optimal range.\n",
    "- `max_range` - **default = 0.5** - the maximum fraction of a variogram range to find an optimal range. Parameter set to value greater 0.5 raises warning.\n",
    "- `number_of_ranges` - **default = 64** - how many equally spaced ranges are tested between `min_range` and `max_range`.\n",
    "- `sill` - if given, then it is fixed to this value.\n",
    "- `min_sill` - **default = 0** - the minimal fraction of variogram variance at lag 0 to find a sill.\n",
    "- `max_sill` - **default = 1** - the maximum fraction of variogram variance at lag 0 to find a sill. It should be lower or equal to 1, but it is possible to set it above. Warning is printed if `max_sill` is greater than 1.\n",
    "- `number_of_sills` - **default = 64** - how many equally spaced sill values are tested between `min_sill` and `max_sill`.\n",
    "- `error_estimator` - **default = 'rmse'** - Error estimation to choose the best model. Available options are:\n",
    "    - rmse: Root Mean Squared Error,\n",
    "    - mae: Mean Absolute Error,\n",
    "    - bias: Forecast Bias,\n",
    "    - smape: Symmetric Mean Absolute Percentage Error."
   ],
   "metadata": {
    "collapsed": false,
    "pycharm": {
     "name": "#%% md\n"
    }
   }
  },
  {
   "cell_type": "markdown",
   "source": [
    "In the first run we will set nugget, sill and range as a fixed values and we will see which model will be chosen by the algorithm:"
   ],
   "metadata": {
    "collapsed": false,
    "pycharm": {
     "name": "#%% md\n"
    }
   }
  },
  {
   "cell_type": "code",
   "execution_count": null,
   "outputs": [],
   "source": [
    "semivariogram_model = TheoreticalVariogram()"
   ],
   "metadata": {
    "collapsed": false,
    "pycharm": {
     "name": "#%%\n"
    }
   }
  },
  {
   "cell_type": "code",
   "execution_count": null,
   "outputs": [],
   "source": [
    "fitted = semivariogram_model.autofit(\n",
    "    experimental_variogram=experimental_variogram,\n",
    "    model_types='all',\n",
    "    nugget=0,\n",
    "    rang=var_range,\n",
    "    sill=sill)"
   ],
   "metadata": {
    "collapsed": false,
    "pycharm": {
     "name": "#%%\n"
    }
   }
  },
  {
   "cell_type": "code",
   "execution_count": null,
   "outputs": [],
   "source": [
    "fitted"
   ],
   "metadata": {
    "collapsed": false,
    "pycharm": {
     "name": "#%%\n"
    }
   }
  },
  {
   "cell_type": "markdown",
   "source": [
    "Chosen model is **linear** and it is automatically set as the class parameter. The algorithm perform the same steps as we did before, it has selected model based on the RMSE. All other parameters were untouched.\n",
    "\n",
    "Now, we let algorithm to find optimal sill and range, and we check if our RMSE will be better with a different pair of sill and range:"
   ],
   "metadata": {
    "collapsed": false,
    "pycharm": {
     "name": "#%% md\n"
    }
   }
  },
  {
   "cell_type": "code",
   "execution_count": null,
   "outputs": [],
   "source": [
    "fitted = semivariogram_model.autofit(experimental_variogram=experimental_variogram)"
   ],
   "metadata": {
    "collapsed": false,
    "pycharm": {
     "name": "#%%\n"
    }
   }
  },
  {
   "cell_type": "code",
   "execution_count": null,
   "outputs": [],
   "source": [
    "print(fitted)"
   ],
   "metadata": {
    "collapsed": false,
    "pycharm": {
     "name": "#%%\n"
    }
   }
  },
  {
   "cell_type": "markdown",
   "source": [
    "After `.autofit()` our algorithm has chosen a different set of parameters and model! Let's plot it against experimental variogram:"
   ],
   "metadata": {
    "collapsed": false,
    "pycharm": {
     "name": "#%% md\n"
    }
   }
  },
  {
   "cell_type": "code",
   "execution_count": null,
   "outputs": [],
   "source": [
    "semivariogram_model.plot()"
   ],
   "metadata": {
    "collapsed": false,
    "pycharm": {
     "name": "#%%\n"
    }
   }
  },
  {
   "cell_type": "markdown",
   "source": [
    "And compare this model to the linear model fitted before:"
   ],
   "metadata": {
    "collapsed": false,
    "pycharm": {
     "name": "#%% md\n"
    }
   }
  },
  {
   "cell_type": "code",
   "execution_count": null,
   "outputs": [],
   "source": [
    "_lags = semivariogram_model.lags\n",
    "\n",
    "plt.figure(figsize=(20, 8))\n",
    "plt.scatter(_lags, experimental_variogram.experimental_semivariances, color='#762a83')  # Experimental\n",
    "plt.plot(_lags, linear_model.fitted_model[:, 1], ':p', color='#e7d4e8', mec='black')\n",
    "plt.plot(_lags, semivariogram_model.fitted_model[:, 1], ':o', color='#1b7837', mec='black')\n",
    "plt.title('Comparison of theoretical semivariance models')\n",
    "plt.legend(['Experimental Semivariance',\n",
    "            'Linear',\n",
    "            'Cubic'])\n",
    "plt.xlabel('Distance')\n",
    "plt.ylabel('Semivariance')\n",
    "plt.show()"
   ],
   "metadata": {
    "collapsed": false,
    "pycharm": {
     "name": "#%%\n"
    }
   }
  },
  {
   "cell_type": "markdown",
   "source": [
    "## 5) Export model\n",
    "\n",
    "Models could be exported and used for other purposes. It is especially important for the **semivariogram regularization**. Those calculations are very slow and in a production it is not a good idea to build full piepline of semivariogram estimation and kriging; we divide it into two steps.\n",
    "\n",
    "Model can be exported to dict with `.to_dict()` method or to json with `.to_json()` method:"
   ],
   "metadata": {
    "collapsed": false,
    "pycharm": {
     "name": "#%% md\n"
    }
   }
  },
  {
   "cell_type": "code",
   "execution_count": null,
   "outputs": [],
   "source": [
    "# Set spherical model\n",
    "\n",
    "dict_model = semivariogram_model.to_dict()\n",
    "\n",
    "# Save to json\n",
    "semivariogram_model.to_json('output/semivariogram_calculation_model.json')"
   ],
   "metadata": {
    "collapsed": false,
    "pycharm": {
     "name": "#%%\n"
    }
   }
  },
  {
   "cell_type": "markdown",
   "source": [
    "## 6) Import model\n",
    "\n",
    "We can import semivariogram model into a new **TheoreticalSemivariogram** class instance without passing into it experimental semivariogram or actual data points. It is useful for some applications where we are focused on kriging and we are sure that our semivariogram model fits data well.\n",
    "\n",
    "We can import model with two methods `.from_dict()` if we have our model parameters in Python dictionary or `.from_json()` if model parameters are stored in a flat file:"
   ],
   "metadata": {
    "collapsed": false,
    "pycharm": {
     "name": "#%% md\n"
    }
   }
  },
  {
   "cell_type": "code",
   "execution_count": null,
   "outputs": [],
   "source": [
    "other_model_from_dict = TheoreticalVariogram()\n",
    "\n",
    "print(other_model_from_dict)"
   ],
   "metadata": {
    "collapsed": false,
    "pycharm": {
     "name": "#%%\n"
    }
   }
  },
  {
   "cell_type": "code",
   "execution_count": null,
   "outputs": [],
   "source": [
    "other_model_from_dict.from_dict(dict_model)\n",
    "print(other_model_from_dict)"
   ],
   "metadata": {
    "collapsed": false,
    "pycharm": {
     "name": "#%%\n"
    }
   }
  },
  {
   "cell_type": "code",
   "execution_count": null,
   "outputs": [],
   "source": [
    "other_model_from_json = TheoreticalVariogram()\n",
    "print(other_model_from_json)"
   ],
   "metadata": {
    "collapsed": false,
    "pycharm": {
     "name": "#%%\n"
    }
   }
  },
  {
   "cell_type": "code",
   "execution_count": null,
   "outputs": [],
   "source": [
    "other_model_from_json.from_json('output/semivariogram_calculation_model.json')"
   ],
   "metadata": {
    "collapsed": false,
    "pycharm": {
     "name": "#%%\n"
    }
   }
  },
  {
   "cell_type": "code",
   "execution_count": null,
   "outputs": [],
   "source": [
    "print(other_model_from_json)"
   ],
   "metadata": {
    "collapsed": false,
    "pycharm": {
     "name": "#%%\n"
    }
   }
  },
  {
   "cell_type": "markdown",
   "source": [
    "---\n",
    "\n",
    "## Where to go?"
   ],
   "metadata": {
    "collapsed": false,
    "pycharm": {
     "name": "#%% md\n"
    }
   }
  },
  {
   "cell_type": "markdown",
   "source": [
    "### Next step:\n",
    "\n",
    "* [Ordinary and Simple Kriging]()\n",
    "* [Variogram Point Cloud]()\n",
    "\n",
    "### More about variogram modeling:\n",
    "\n",
    "* [Theoretical Models]()"
   ],
   "metadata": {
    "collapsed": false,
    "pycharm": {
     "name": "#%% md\n"
    }
   }
  },
  {
   "cell_type": "code",
   "execution_count": 29,
   "metadata": {
    "pycharm": {
     "name": "#%%\n"
    }
   },
   "outputs": [],
   "source": [
    "fitted = semivariogram_model.autofit(experimental_variogram=experimental_variogram)"
   ]
  },
  {
   "cell_type": "code",
   "execution_count": 30,
   "metadata": {
    "pycharm": {
     "name": "#%%\n"
    }
   },
   "outputs": [
    {
     "name": "stdout",
     "output_type": "stream",
     "text": [
      "{'model_type': 'cubic', 'nugget': 0, 'sill': 489.8203263077297, 'rang': 12494.786056978368, 'fitted_model': array([[5.00000000e+02, 5.21610005e+00],\n",
      "       [1.00000000e+03, 1.97707468e+01],\n",
      "       [1.50000000e+03, 4.20423614e+01],\n",
      "       [2.00000000e+03, 7.04510784e+01],\n",
      "       [2.50000000e+03, 1.03478842e+02],\n",
      "       [3.00000000e+03, 1.39688588e+02],\n",
      "       [3.50000000e+03, 1.77742213e+02],\n",
      "       [4.00000000e+03, 2.16417015e+02],\n",
      "       [4.50000000e+03, 2.54620320e+02],\n",
      "       [5.00000000e+03, 2.91401965e+02],\n",
      "       [5.50000000e+03, 3.25964356e+02],\n",
      "       [6.00000000e+03, 3.57669791e+02],\n",
      "       [6.50000000e+03, 3.86044729e+02],\n",
      "       [7.00000000e+03, 4.10780721e+02],\n",
      "       [7.50000000e+03, 4.31731689e+02],\n",
      "       [8.00000000e+03, 4.48907251e+02],\n",
      "       [8.50000000e+03, 4.62461777e+02],\n",
      "       [9.00000000e+03, 4.72678898e+02],\n",
      "       [9.50000000e+03, 4.79951132e+02]]), 'rmse': 15.38656191383485, 'bias': nan, 'mae': nan, 'smape': nan}\n"
     ]
    }
   ],
   "source": [
    "print(fitted)"
   ]
  },
  {
   "cell_type": "markdown",
   "metadata": {
    "pycharm": {
     "name": "#%% md\n"
    }
   },
   "source": [
    "After `.autofit()` our algorithm has chosen a different set of parameters and model! Let's plot it against experimental variogram:"
   ]
  },
  {
   "cell_type": "code",
   "execution_count": 31,
   "metadata": {
    "pycharm": {
     "name": "#%%\n"
    }
   },
   "outputs": [
    {
     "data": {
      "image/png": "[encoded data removed]",
      "text/plain": [
       "<Figure size 864x432 with 1 Axes>"
      ]
     },
     "metadata": {
      "needs_background": "light"
     },
     "output_type": "display_data"
    }
   ],
   "source": [
    "semivariogram_model.plot()"
   ]
  },
  {
   "cell_type": "markdown",
   "metadata": {
    "pycharm": {
     "name": "#%% md\n"
    }
   },
   "source": [
    "And compare this model to the linear model fitted before:"
   ]
  },
  {
   "cell_type": "code",
   "execution_count": 32,
   "metadata": {
    "pycharm": {
     "name": "#%%\n"
    }
   },
   "outputs": [
    {
     "data": {
      "image/png": "[encoded data removed]",
      "text/plain": [
       "<Figure size 1440x576 with 1 Axes>"
      ]
     },
     "metadata": {
      "needs_background": "light"
     },
     "output_type": "display_data"
    }
   ],
   "source": [
    "_lags = semivariogram_model.lags\n",
    "\n",
    "plt.figure(figsize=(20, 8))\n",
    "plt.scatter(_lags, experimental_variogram.experimental_semivariances, color='#762a83')  # Experimental\n",
    "plt.plot(_lags, linear_model.fitted_model[:, 1], ':p', color='#e7d4e8', mec='black')\n",
    "plt.plot(_lags, semivariogram_model.fitted_model[:, 1], ':o', color='#1b7837', mec='black')\n",
    "plt.title('Comparison of theoretical semivariance models')\n",
    "plt.legend(['Experimental Semivariance',\n",
    "            'Linear',\n",
    "            'Cubic'])\n",
    "plt.xlabel('Distance')\n",
    "plt.ylabel('Semivariance')\n",
    "plt.show()"
   ]
  },
  {
   "cell_type": "markdown",
   "metadata": {
    "pycharm": {
     "name": "#%% md\n"
    }
   },
   "source": [
    "## 5) Export model\n",
    "\n",
    "Models could be exported and used for other purposes. It is especially important for the **semivariogram regularization**. Those calculations are very slow and in a production it is not a good idea to build full piepline of semivariogram estimation and kriging; we divide it into two steps.\n",
    "\n",
    "Model can be exported to dict with `.to_dict()` method or to json with `.to_json()` method:"
   ]
  },
  {
   "cell_type": "code",
   "execution_count": 33,
   "metadata": {
    "pycharm": {
     "name": "#%%\n"
    }
   },
   "outputs": [],
   "source": [
    "# Set spherical model\n",
    "\n",
    "dict_model = semivariogram_model.to_dict()\n",
    "\n",
    "# Save to json\n",
    "semivariogram_model.to_json('output/semivariogram_calculation_model.json')"
   ]
  },
  {
   "cell_type": "markdown",
   "metadata": {
    "pycharm": {
     "name": "#%% md\n"
    }
   },
   "source": [
    "## 6) Import model\n",
    "\n",
    "We can import semivariogram model into a new **TheoreticalSemivariogram** class instance without passing into it experimental semivariogram or actual data points. It is useful for some applications where we are focused on kriging and we are sure that our semivariogram model fits data well.\n",
    "\n",
    "We can import model with two methods `.from_dict()` if we have our model parameters in Python dictionary or `.from_json()` if model parameters are stored in a flat file:"
   ]
  },
  {
   "cell_type": "code",
   "execution_count": 34,
   "metadata": {
    "pycharm": {
     "name": "#%%\n"
    }
   },
   "outputs": [
    {
     "name": "stdout",
     "output_type": "stream",
     "text": [
      "Theoretical model is not calculated yet. Use fit() or autofit() methods to build or find a model or import model with from_dict() or from_json() methods.\n"
     ]
    }
   ],
   "source": [
    "other_model_from_dict = TheoreticalVariogram()\n",
    "\n",
    "print(other_model_from_dict)"
   ]
  },
  {
   "cell_type": "code",
   "execution_count": 35,
   "metadata": {
    "pycharm": {
     "name": "#%%\n"
    }
   },
   "outputs": [
    {
     "name": "stdout",
     "output_type": "stream",
     "text": [
      "* Selected model: Cubic model\n",
      "* Nugget: 0.0\n",
      "* Sill: 489.8203263077297\n",
      "* Range: 12494.786056978368\n",
      "* Mean Bias: 0.0\n",
      "* Mean RMSE: 0.0\n",
      "* Error-lag weighting method: None\n",
      "\n",
      "\n"
     ]
    }
   ],
   "source": [
    "other_model_from_dict.from_dict(dict_model)\n",
    "print(other_model_from_dict)"
   ]
  },
  {
   "cell_type": "code",
   "execution_count": 36,
   "metadata": {
    "pycharm": {
     "name": "#%%\n"
    }
   },
   "outputs": [
    {
     "name": "stdout",
     "output_type": "stream",
     "text": [
      "Theoretical model is not calculated yet. Use fit() or autofit() methods to build or find a model or import model with from_dict() or from_json() methods.\n"
     ]
    }
   ],
   "source": [
    "other_model_from_json = TheoreticalVariogram()\n",
    "print(other_model_from_json)"
   ]
  },
  {
   "cell_type": "code",
   "execution_count": 37,
   "metadata": {
    "pycharm": {
     "name": "#%%\n"
    }
   },
   "outputs": [],
   "source": [
    "other_model_from_json.from_json('output/semivariogram_calculation_model.json')"
   ]
  },
  {
   "cell_type": "code",
   "execution_count": 38,
   "metadata": {
    "pycharm": {
     "name": "#%%\n"
    }
   },
   "outputs": [
    {
     "name": "stdout",
     "output_type": "stream",
     "text": [
      "* Selected model: Cubic model\n",
      "* Nugget: 0.0\n",
      "* Sill: 489.8203263077297\n",
      "* Range: 12494.786056978368\n",
      "* Mean Bias: 0.0\n",
      "* Mean RMSE: 0.0\n",
      "* Error-lag weighting method: None\n",
      "\n",
      "\n"
     ]
    }
   ],
   "source": [
    "print(other_model_from_json)"
   ]
  },
  {
   "cell_type": "markdown",
   "source": [
    "---\n",
    "\n",
    "## Where to go?"
   ],
   "metadata": {
    "collapsed": false,
    "pycharm": {
     "name": "#%% md\n"
    }
   }
  },
  {
   "cell_type": "markdown",
   "source": [
    "### Next step:\n",
    "\n",
    "* [Ordinary and Simple Kriging]()\n",
    "* [Variogram Point Cloud]()\n",
    "\n",
    "### More about variogram modeling:\n",
    "\n",
    "* [Theoretical Models]()"
   ],
   "metadata": {
    "collapsed": false,
    "pycharm": {
     "name": "#%% md\n"
    }
   }
  },
  {
   "cell_type": "markdown",
   "metadata": {
    "pycharm": {
     "name": "#%% md\n"
    }
   },
   "source": [
    "---"
   ]
  }
 ],
 "metadata": {
  "kernelspec": {
   "display_name": "Python 3 (ipykernel)",
   "language": "python",
   "name": "python3"
  },
  "language_info": {
   "codemirror_mode": {
    "name": "ipython",
    "version": 3
   },
   "file_extension": ".py",
   "mimetype": "text/x-python",
   "name": "python",
   "nbconvert_exporter": "python",
   "pygments_lexer": "ipython3",
   "version": "3.10.5"
  }
 },
 "nbformat": 4,
 "nbformat_minor": 4
}
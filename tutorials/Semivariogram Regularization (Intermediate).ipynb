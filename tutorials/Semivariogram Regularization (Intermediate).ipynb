{
 "cells": [
  {
   "cell_type": "markdown",
   "metadata": {},
   "source": [
    "# Semivariogram regularization - tutorial\n",
    "\n",
    "## Table of Contents:\n",
    "\n",
    "1. Prepare areal and point data,\n",
    "2. Set semivariogram parameters,\n",
    "3. Perform regularization,\n",
    "4. Visualize regularized semivariogram and analyze algorithm performance,\n",
    "5. Export semivariogram to text file.\n",
    "\n",
    "## Level: Intermediate\n",
    "\n",
    "## Introduction\n",
    "\n",
    "In this tutorial we learn how to regularize semivariogram of areal dataset of irregular polygons. Procedure is described here: (1) Goovaerts P., Kriging and Semivariogram Deconvolution in the Presence of Irregular Geographical Units, Mathematical Geology 40(1), 101-128, 2008. \n",
    "\n",
    "The main idea is to retrieve point support semivariogram from semivariogram of areal data with blocks of different shapes and sizes. It is the case in mining industry, where blocks of aggregates are deconvoluted into smaller units and in the epidemiology, where data is usually aggregated over big administrative units, or in ecology, where observations of species are aggregated over areas or time windows.\n",
    "\n",
    "In this tutorial we use areal data of road accidents per county in Poland along with the point support data of population smaller support blocks.\n",
    "\n",
    "> Road accidents data is stored in the shapefile in folder 'sample_data/areal_data/road_accidents.shp'\n",
    "\n",
    "> Population blocks data is stored in the shapefile in folder 'sample_data/population_data/population_centroids_poland.shp'"
   ]
  },
  {
   "cell_type": "markdown",
   "metadata": {},
   "source": [
    "## Import packages"
   ]
  },
  {
   "cell_type": "code",
   "execution_count": 1,
   "metadata": {},
   "outputs": [],
   "source": [
    "import numpy as np\n",
    "import geopandas as gpd\n",
    "\n",
    "from pyinterpolate import prepare_areal_shapefile  # Prepare data\n",
    "from pyinterpolate import get_points_within_area  # Prepare data\n",
    "from pyinterpolate import calculate_semivariance  # Experimental semivariogram\n",
    "from pyinterpolate import RegularizedSemivariogram  # Semivariogram regularization class\n",
    "\n",
    "import matplotlib.pyplot as plt"
   ]
  },
  {
   "cell_type": "markdown",
   "metadata": {},
   "source": [
    "## 1) Prepare areal and point data"
   ]
  },
  {
   "cell_type": "code",
   "execution_count": 2,
   "metadata": {},
   "outputs": [
    {
     "data": {
      "text/plain": [
       "True"
      ]
     },
     "execution_count": 2,
     "metadata": {},
     "output_type": "execute_result"
    }
   ],
   "source": [
    "areal_data = '../sample_data/areal_data/road_accidents.shp'\n",
    "point_data = '../sample_data/population_data/population_centroids_poland.shp'\n",
    "\n",
    "# The important thing before analysis is to check if crs of areal data and point data are the same\n",
    "\n",
    "areal_crs = gpd.read_file(areal_data).crs\n",
    "point_support_crs = gpd.read_file(point_data).crs\n",
    "\n",
    "areal_crs == point_support_crs"
   ]
  },
  {
   "cell_type": "code",
   "execution_count": 3,
   "metadata": {},
   "outputs": [
    {
     "data": {
      "text/html": [
       "<div>\n",
       "<style scoped>\n",
       "    .dataframe tbody tr th:only-of-type {\n",
       "        vertical-align: middle;\n",
       "    }\n",
       "\n",
       "    .dataframe tbody tr th {\n",
       "        vertical-align: top;\n",
       "    }\n",
       "\n",
       "    .dataframe thead th {\n",
       "        text-align: right;\n",
       "    }\n",
       "</style>\n",
       "<table border=\"1\" class=\"dataframe\">\n",
       "  <thead>\n",
       "    <tr style=\"text-align: right;\">\n",
       "      <th></th>\n",
       "      <th>ID</th>\n",
       "      <th>VOIVOD</th>\n",
       "      <th>NAME</th>\n",
       "      <th>deaths</th>\n",
       "      <th>inh</th>\n",
       "      <th>rate</th>\n",
       "      <th>geometry</th>\n",
       "    </tr>\n",
       "  </thead>\n",
       "  <tbody>\n",
       "    <tr>\n",
       "      <th>0</th>\n",
       "      <td>915</td>\n",
       "      <td>podkarpackie</td>\n",
       "      <td>powiat ropczycko-sÄdziszowski</td>\n",
       "      <td>3</td>\n",
       "      <td>74198</td>\n",
       "      <td>0.040432</td>\n",
       "      <td>POLYGON ((692305.365 260282.248, 692313.646 26...</td>\n",
       "    </tr>\n",
       "    <tr>\n",
       "      <th>1</th>\n",
       "      <td>710</td>\n",
       "      <td>mazowieckie</td>\n",
       "      <td>powiat Åosicki</td>\n",
       "      <td>6</td>\n",
       "      <td>31335</td>\n",
       "      <td>0.191479</td>\n",
       "      <td>POLYGON ((753920.175 497017.076, 753918.822 49...</td>\n",
       "    </tr>\n",
       "    <tr>\n",
       "      <th>2</th>\n",
       "      <td>718</td>\n",
       "      <td>mazowieckie</td>\n",
       "      <td>powiat piaseczyÅski</td>\n",
       "      <td>15</td>\n",
       "      <td>182076</td>\n",
       "      <td>0.082383</td>\n",
       "      <td>POLYGON ((644442.384 473992.041, 644345.678 47...</td>\n",
       "    </tr>\n",
       "    <tr>\n",
       "      <th>3</th>\n",
       "      <td>727</td>\n",
       "      <td>mazowieckie</td>\n",
       "      <td>powiat sierpecki</td>\n",
       "      <td>7</td>\n",
       "      <td>52559</td>\n",
       "      <td>0.133184</td>\n",
       "      <td>POLYGON ((534236.749 555932.727, 534235.027 55...</td>\n",
       "    </tr>\n",
       "    <tr>\n",
       "      <th>4</th>\n",
       "      <td>730</td>\n",
       "      <td>mazowieckie</td>\n",
       "      <td>powiat szydÅowiecki</td>\n",
       "      <td>4</td>\n",
       "      <td>39938</td>\n",
       "      <td>0.100155</td>\n",
       "      <td>POLYGON ((625514.215 384549.238, 625545.119 38...</td>\n",
       "    </tr>\n",
       "  </tbody>\n",
       "</table>\n",
       "</div>"
      ],
      "text/plain": [
       "    ID        VOIVOD                            NAME  deaths     inh  \\\n",
       "0  915  podkarpackie  powiat ropczycko-sÄdziszowski       3   74198   \n",
       "1  710   mazowieckie                 powiat Åosicki       6   31335   \n",
       "2  718   mazowieckie            powiat piaseczyÅski      15  182076   \n",
       "3  727   mazowieckie                powiat sierpecki       7   52559   \n",
       "4  730   mazowieckie            powiat szydÅowiecki       4   39938   \n",
       "\n",
       "       rate                                           geometry  \n",
       "0  0.040432  POLYGON ((692305.365 260282.248, 692313.646 26...  \n",
       "1  0.191479  POLYGON ((753920.175 497017.076, 753918.822 49...  \n",
       "2  0.082383  POLYGON ((644442.384 473992.041, 644345.678 47...  \n",
       "3  0.133184  POLYGON ((534236.749 555932.727, 534235.027 55...  \n",
       "4  0.100155  POLYGON ((625514.215 384549.238, 625545.119 38...  "
      ]
     },
     "execution_count": 3,
     "metadata": {},
     "output_type": "execute_result"
    }
   ],
   "source": [
    "# We need to know:\n",
    "# - id column name of areal units,\n",
    "# - value column name of areal units (usually aggregates),\n",
    "# - value column name of point support units (usually population)\n",
    "\n",
    "# Let's check it quickly with geopandas\n",
    "\n",
    "areal = gpd.read_file(areal_data)\n",
    "areal.head()"
   ]
  },
  {
   "cell_type": "code",
   "execution_count": 4,
   "metadata": {},
   "outputs": [
    {
     "data": {
      "text/html": [
       "<div>\n",
       "<style scoped>\n",
       "    .dataframe tbody tr th:only-of-type {\n",
       "        vertical-align: middle;\n",
       "    }\n",
       "\n",
       "    .dataframe tbody tr th {\n",
       "        vertical-align: top;\n",
       "    }\n",
       "\n",
       "    .dataframe thead th {\n",
       "        text-align: right;\n",
       "    }\n",
       "</style>\n",
       "<table border=\"1\" class=\"dataframe\">\n",
       "  <thead>\n",
       "    <tr style=\"text-align: right;\">\n",
       "      <th></th>\n",
       "      <th>TOT</th>\n",
       "      <th>geometry</th>\n",
       "    </tr>\n",
       "  </thead>\n",
       "  <tbody>\n",
       "    <tr>\n",
       "      <th>0</th>\n",
       "      <td>0</td>\n",
       "      <td>POINT (445700.430 775061.580)</td>\n",
       "    </tr>\n",
       "    <tr>\n",
       "      <th>1</th>\n",
       "      <td>13</td>\n",
       "      <td>POINT (449649.816 774784.622)</td>\n",
       "    </tr>\n",
       "    <tr>\n",
       "      <th>2</th>\n",
       "      <td>1270</td>\n",
       "      <td>POINT (454573.872 774546.994)</td>\n",
       "    </tr>\n",
       "    <tr>\n",
       "      <th>3</th>\n",
       "      <td>95</td>\n",
       "      <td>POINT (457672.822 774072.742)</td>\n",
       "    </tr>\n",
       "    <tr>\n",
       "      <th>4</th>\n",
       "      <td>0</td>\n",
       "      <td>POINT (425378.686 772864.038)</td>\n",
       "    </tr>\n",
       "  </tbody>\n",
       "</table>\n",
       "</div>"
      ],
      "text/plain": [
       "    TOT                       geometry\n",
       "0     0  POINT (445700.430 775061.580)\n",
       "1    13  POINT (449649.816 774784.622)\n",
       "2  1270  POINT (454573.872 774546.994)\n",
       "3    95  POINT (457672.822 774072.742)\n",
       "4     0  POINT (425378.686 772864.038)"
      ]
     },
     "execution_count": 4,
     "metadata": {},
     "output_type": "execute_result"
    }
   ],
   "source": [
    "# From areal file we are interested in variable deaths (value) and ID (id)\n",
    "# Now check point support data\n",
    "\n",
    "point = gpd.read_file(point_data)\n",
    "point.head()"
   ]
  },
  {
   "cell_type": "code",
   "execution_count": 5,
   "metadata": {},
   "outputs": [],
   "source": [
    "# Column TOT is interesting from our perspective\n",
    "# Now prepare data for further processing\n",
    "\n",
    "areal_id = 'ID'\n",
    "areal_val = 'deaths'\n",
    "points_val = 'TOT'\n",
    "\n",
    "areal_data_prepared = prepare_areal_shapefile(areal_data, areal_id, areal_val)"
   ]
  },
  {
   "cell_type": "code",
   "execution_count": 6,
   "metadata": {},
   "outputs": [
    {
     "data": {
      "text/plain": [
       "array([915, <shapely.geometry.polygon.Polygon object at 0x7f1af95b5b90>,\n",
       "       689225.7862175289, 245704.52509337224, 3], dtype=object)"
      ]
     },
     "execution_count": 6,
     "metadata": {},
     "output_type": "execute_result"
    }
   ],
   "source": [
    "# Check how prepared areal data looks like\n",
    "\n",
    "areal_data_prepared[0]"
   ]
  },
  {
   "cell_type": "markdown",
   "metadata": {},
   "source": [
    "### Clarification:\n",
    "\n",
    "Every areal dataset is passed as an array of:\n",
    "\n",
    "[area id, area geometry (polygon), areal centroid x (lon), areal centroid y (lat), value]"
   ]
  },
  {
   "cell_type": "code",
   "execution_count": 7,
   "metadata": {},
   "outputs": [],
   "source": [
    "points_in_area = get_points_within_area(areal_data, point_data, areal_id_col_name=areal_id,\n",
    "                                        points_val_col_name=points_val)"
   ]
  },
  {
   "cell_type": "code",
   "execution_count": 8,
   "metadata": {},
   "outputs": [
    {
     "data": {
      "text/plain": [
       "array([1112.0,\n",
       "       array([[4.49649816e+05, 7.74784622e+05, 1.30000000e+01],\n",
       "       [4.54573872e+05, 7.74546994e+05, 1.27000000e+03],\n",
       "       [4.57672822e+05, 7.74072742e+05, 9.50000000e+01],\n",
       "       [4.34132306e+05, 7.73217942e+05, 5.81000000e+02],\n",
       "       [4.39115084e+05, 7.73011892e+05, 1.99000000e+02],\n",
       "       [4.44027632e+05, 7.72564517e+05, 7.50000000e+02],\n",
       "       [4.48983771e+05, 7.71947376e+05, 2.57400000e+03],\n",
       "       [4.53943595e+05, 7.71324042e+05, 1.21200000e+03],\n",
       "       [4.58775918e+05, 7.70575412e+05, 6.34600000e+03],\n",
       "       [4.33469881e+05, 7.68864048e+05, 1.92600000e+03],\n",
       "       [4.43389339e+05, 7.67616758e+05, 1.94300000e+03],\n",
       "       [4.48349167e+05, 7.66993362e+05, 1.99000000e+03],\n",
       "       [4.53309065e+05, 7.66370130e+05, 2.74500000e+03],\n",
       "       [4.58269037e+05, 7.65747062e+05, 2.90200000e+03],\n",
       "       [4.73064428e+05, 7.63569749e+05, 6.22000000e+02],\n",
       "       [4.76799027e+05, 7.61514013e+05, 0.00000000e+00],\n",
       "       [4.42754940e+05, 7.62662657e+05, 9.23000000e+02],\n",
       "       [4.47714840e+05, 7.62039366e+05, 9.29000000e+02],\n",
       "       [4.52674811e+05, 7.61416236e+05, 1.46600000e+03],\n",
       "       [4.57634855e+05, 7.60793269e+05, 2.32700000e+03],\n",
       "       [4.62363515e+05, 7.59981791e+05, 1.23400000e+04],\n",
       "       [4.65584380e+05, 7.58641509e+05, 3.46000000e+02],\n",
       "       [4.78479221e+05, 7.59743463e+05, 2.72900000e+03],\n",
       "       [4.82357689e+05, 7.57078158e+05, 6.19000000e+02],\n",
       "       [4.52040835e+05, 7.56462359e+05, 5.94000000e+02],\n",
       "       [4.57000951e+05, 7.55839493e+05, 1.32600000e+03],\n",
       "       [4.61961143e+05, 7.55216784e+05, 6.74400000e+03],\n",
       "       [4.65921996e+05, 7.54103558e+05, 1.03800000e+03],\n",
       "       [4.83759055e+05, 7.54175233e+05, 0.00000000e+00],\n",
       "       [4.86606609e+05, 7.51932609e+05, 6.58000000e+02],\n",
       "       [4.61327585e+05, 7.50263124e+05, 3.34800000e+03],\n",
       "       [4.66280631e+05, 7.49636244e+05, 5.72400000e+03],\n",
       "       [4.69447296e+05, 7.47858411e+05, 2.22000000e+02],\n",
       "       [4.87526826e+05, 7.48594231e+05, 3.25900000e+03],\n",
       "       [4.65654714e+05, 7.44687123e+05, 3.94770000e+04]])], dtype=object)"
      ]
     },
     "execution_count": 8,
     "metadata": {},
     "output_type": "execute_result"
    }
   ],
   "source": [
    "# Check how prepared point data looks like\n",
    "\n",
    "points_in_area[0]"
   ]
  },
  {
   "cell_type": "markdown",
   "metadata": {},
   "source": [
    "### Clarification:\n",
    "\n",
    "Every point support dataset is passed as an array of:\n",
    "\n",
    "[area id, array of: [lon, lat, value]]"
   ]
  },
  {
   "cell_type": "markdown",
   "metadata": {},
   "source": [
    "## 2) Set semivariogram parameters.\n",
    "\n",
    "Now we must set parameters for areal semivariogram AND point semivariogram. It is very important to understand data well to set them properly, that's why you should always check experimental semivariograms of those datasets to understand how data behaves. We do it for prepared areal and point datasets."
   ]
  },
  {
   "cell_type": "code",
   "execution_count": 9,
   "metadata": {},
   "outputs": [
    {
     "name": "stderr",
     "output_type": "stream",
     "text": [
      "100%|██████████| 8/8 [00:00<00:00, 1040.38it/s]\n"
     ]
    },
    {
     "data": {
      "image/png": "[encoded data removed]",
      "text/plain": [
       "<Figure size 864x864 with 1 Axes>"
      ]
     },
     "metadata": {
      "needs_background": "light"
     },
     "output_type": "display_data"
    }
   ],
   "source": [
    "# Check experimental semivariogram of areal data - this cell may be run multiple times \n",
    "# before you find optimal parameters\n",
    "\n",
    "maximum_range = 80000\n",
    "step_size = 10000\n",
    "lags = np.arange(0, maximum_range, step_size)\n",
    "\n",
    "dt = areal_data_prepared[:, 2:]  # x, y, val\n",
    "exp_semivar = calculate_semivariance.calculate_semivariance(data=dt,\n",
    "                                                           lags=lags,\n",
    "                                                           step_size=step_size)\n",
    "\n",
    "# Plot experimental semivariogram\n",
    "\n",
    "plt.figure(figsize=(12, 12))\n",
    "plt.plot(exp_semivar[:, 0], exp_semivar[:, 1])\n",
    "plt.title('Experimental semivariogram od areal centroids')\n",
    "plt.xlabel('Range - in meters')\n",
    "plt.ylabel('Semivariance')\n",
    "plt.show()"
   ]
  },
  {
   "cell_type": "code",
   "execution_count": 10,
   "metadata": {},
   "outputs": [
    {
     "name": "stderr",
     "output_type": "stream",
     "text": [
      "100%|██████████| 6/6 [00:03<00:00,  1.72it/s]\n"
     ]
    },
    {
     "data": {
      "image/png": "[encoded data removed]",
      "text/plain": [
       "<Figure size 864x864 with 1 Axes>"
      ]
     },
     "metadata": {
      "needs_background": "light"
     },
     "output_type": "display_data"
    }
   ],
   "source": [
    "# Check experimental semivariogram of point data - this cell may be run multiple times \n",
    "# before you find optimal parameters\n",
    "\n",
    "def build_point_array(points):\n",
    "    a = None\n",
    "\n",
    "    for rec in points:\n",
    "        if a is None:\n",
    "            a = rec.copy()\n",
    "        else:\n",
    "            a = np.vstack((a, rec))\n",
    "\n",
    "    return a\n",
    "\n",
    "maximum_point_range = 30000\n",
    "step_size_points = 5000\n",
    "lags_points = np.arange(0, maximum_point_range, step_size_points)\n",
    "\n",
    "\n",
    "pt = build_point_array(points_in_area[:, 1])  # x, y, val\n",
    "exp_semivar = calculate_semivariance.calculate_semivariance(data=pt,\n",
    "                                                           lags=lags_points,\n",
    "                                                           step_size=step_size_points)\n",
    "\n",
    "# Plot experimental semivariogram\n",
    "\n",
    "plt.figure(figsize=(12, 12))\n",
    "plt.plot(exp_semivar[:, 0], exp_semivar[:, 1])\n",
    "plt.title('Experimental semivariogram od population data')\n",
    "plt.xlabel('Range - in meters')\n",
    "plt.ylabel('Semivariance')\n",
    "plt.show()"
   ]
  },
  {
   "cell_type": "markdown",
   "metadata": {},
   "source": [
    "### Clarification:\n",
    "\n",
    "After few adjustements we have prepared semivariogram parameters for areal and point support data. The next step is to create RegularizedSemivariogram model. We have mutiple parameters to choose and at the beginning it is hard to find the best fit, so try to avoid multiple loops because it is a time-consuming operation.\n",
    "\n",
    "Parameters are:\n",
    "* ranges - number of closest neighbors to analyze,\n",
    "* loop_limit - max number of loops per regularization,\n",
    "* min_no_of_loops - min number of loops before algorithm returns output,\n",
    "* number_of_loops_with_const_mean - if mean of deviation will be the same by those number of iterations then algorithm is stopped,\n",
    "* weighted_semivarioance - if True then errors near origin have greater weights than errors in the distant parts of a semivariogram,\n",
    "* verbose - if True then algorithm informs about each iteration.\n",
    "\n",
    "We start with 10 loops, 3 loops with constant mean and minimum number of 5 loops. We take into account 8 neighbors in our analysis\n",
    "\n",
    "## 3) Regularize semivariogram"
   ]
  },
  {
   "cell_type": "code",
   "execution_count": 13,
   "metadata": {},
   "outputs": [],
   "source": [
    "reg_mod = RegularizedSemivariogram(ranges=8, loop_limit=10, min_no_loops=5,\n",
    "                                   number_of_loops_with_const_mean=3,\n",
    "                                   weighted_semivariance=True, verbose=True)"
   ]
  },
  {
   "cell_type": "code",
   "execution_count": 14,
   "metadata": {
    "scrolled": false
   },
   "outputs": [
    {
     "name": "stderr",
     "output_type": "stream",
     "text": [
      "100%|██████████| 8/8 [00:00<00:00, 452.04it/s]"
     ]
    },
    {
     "name": "stdout",
     "output_type": "stream",
     "text": [
      ">> Semivariogram Deconvolution <<\n",
      "\n",
      "##################\n",
      "\n",
      "Computation of experimental semivariogram of areal data...\n",
      "\n",
      "Fitting theoretical model to the areal data\n",
      "\n",
      "Model: spherical, error value: 3.818446304012546\n",
      "Model: exponential, error value: 4.969524576221936\n",
      "Model: linear, error value: 3.9757649560223123\n",
      "Chosen model: spherical, with value: 3.818446304012546.\n",
      "Setting of the initial point support model\n",
      "\n",
      "Areal Semivariance fitting to the initial point support model\n",
      "\n"
     ]
    },
    {
     "name": "stderr",
     "output_type": "stream",
     "text": [
      "\n"
     ]
    },
    {
     "ename": "KeyboardInterrupt",
     "evalue": "",
     "output_type": "error",
     "traceback": [
      "\u001b[0;31m---------------------------------------------------------------------------\u001b[0m",
      "\u001b[0;31mKeyboardInterrupt\u001b[0m                         Traceback (most recent call last)",
      "\u001b[0;32m<ipython-input-14-88eedfbe46a5>\u001b[0m in \u001b[0;36m<module>\u001b[0;34m\u001b[0m\n\u001b[1;32m      1\u001b[0m smvs = reg_mod.regularize_model(areal_data_prepared, lags, step_size,\n\u001b[0;32m----> 2\u001b[0;31m                                 points_in_area, lags_points, step_size_points)\n\u001b[0m",
      "\u001b[0;32m~/anaconda3/envs/pyintpk-dev/lib/python3.7/site-packages/pyinterpolate/semivariance/semivariogram_deconvolution/semivariogram_deconvolution.py\u001b[0m in \u001b[0;36mregularize_model\u001b[0;34m(self, areal_data, areal_lags, areal_step_size, areal_points_data, areal_points_lags, areal_points_step_size)\u001b[0m\n\u001b[1;32m    241\u001b[0m         self.theoretically_regularized_model = areal_semivariance.regularize_semivariogram(\n\u001b[1;32m    242\u001b[0m             \u001b[0mempirical_semivariance\u001b[0m\u001b[0;34m=\u001b[0m\u001b[0mself\u001b[0m\u001b[0;34m.\u001b[0m\u001b[0mexperimental_semivariogram_of_areal_data\u001b[0m\u001b[0;34m,\u001b[0m\u001b[0;34m\u001b[0m\u001b[0;34m\u001b[0m\u001b[0m\n\u001b[0;32m--> 243\u001b[0;31m             theoretical_semivariance_model=self.initial_point_support_model)\n\u001b[0m\u001b[1;32m    244\u001b[0m \u001b[0;34m\u001b[0m\u001b[0m\n\u001b[1;32m    245\u001b[0m         \u001b[0;31m# 4. Quantify the deviation between data based experimental semivariogram\u001b[0m\u001b[0;34m\u001b[0m\u001b[0;34m\u001b[0m\u001b[0;34m\u001b[0m\u001b[0m\n",
      "\u001b[0;32m~/anaconda3/envs/pyintpk-dev/lib/python3.7/site-packages/pyinterpolate/semivariance/areal_semivariance/areal_semivariance.py\u001b[0m in \u001b[0;36mregularize_semivariogram\u001b[0;34m(self, within_block_semivariogram, between_blocks_semivariogram, empirical_semivariance, theoretical_semivariance_model)\u001b[0m\n\u001b[1;32m    124\u001b[0m \u001b[0;34m\u001b[0m\u001b[0m\n\u001b[1;32m    125\u001b[0m         \u001b[0;32mif\u001b[0m \u001b[0;32mnot\u001b[0m \u001b[0mbetween_blocks_semivariogram\u001b[0m\u001b[0;34m:\u001b[0m\u001b[0;34m\u001b[0m\u001b[0;34m\u001b[0m\u001b[0m\n\u001b[0;32m--> 126\u001b[0;31m             \u001b[0mself\u001b[0m\u001b[0;34m.\u001b[0m\u001b[0mbetween_blocks_semivariogram\u001b[0m \u001b[0;34m=\u001b[0m \u001b[0mself\u001b[0m\u001b[0;34m.\u001b[0m\u001b[0mcalculate_semivariance_between_areas\u001b[0m\u001b[0;34m(\u001b[0m\u001b[0;34m)\u001b[0m\u001b[0;34m\u001b[0m\u001b[0;34m\u001b[0m\u001b[0m\n\u001b[0m\u001b[1;32m    127\u001b[0m         \u001b[0;32melse\u001b[0m\u001b[0;34m:\u001b[0m\u001b[0;34m\u001b[0m\u001b[0;34m\u001b[0m\u001b[0m\n\u001b[1;32m    128\u001b[0m             \u001b[0mself\u001b[0m\u001b[0;34m.\u001b[0m\u001b[0mbetween_blocks_semivariogram\u001b[0m \u001b[0;34m=\u001b[0m \u001b[0mbetween_blocks_semivariogram\u001b[0m\u001b[0;34m\u001b[0m\u001b[0;34m\u001b[0m\u001b[0m\n",
      "\u001b[0;32m~/anaconda3/envs/pyintpk-dev/lib/python3.7/site-packages/pyinterpolate/semivariance/areal_semivariance/areal_semivariance.py\u001b[0m in \u001b[0;36mcalculate_semivariance_between_areas\u001b[0;34m(self)\u001b[0m\n\u001b[1;32m    207\u001b[0m         blocks = calculate_block_to_block_semivariance(self.within_area_points,\n\u001b[1;32m    208\u001b[0m                                                        \u001b[0mself\u001b[0m\u001b[0;34m.\u001b[0m\u001b[0mdistances_between_blocks\u001b[0m\u001b[0;34m,\u001b[0m\u001b[0;34m\u001b[0m\u001b[0;34m\u001b[0m\u001b[0m\n\u001b[0;32m--> 209\u001b[0;31m                                                        self.theoretical_semivariance_model)\n\u001b[0m\u001b[1;32m    210\u001b[0m         \u001b[0;32mif\u001b[0m \u001b[0mself\u001b[0m\u001b[0;34m.\u001b[0m\u001b[0mverbose\u001b[0m\u001b[0;34m:\u001b[0m\u001b[0;34m\u001b[0m\u001b[0;34m\u001b[0m\u001b[0m\n\u001b[1;32m    211\u001b[0m             \u001b[0mprint\u001b[0m\u001b[0;34m(\u001b[0m\u001b[0;34m'Semivariance between blocks for a given lags calculated'\u001b[0m\u001b[0;34m)\u001b[0m\u001b[0;34m\u001b[0m\u001b[0;34m\u001b[0m\u001b[0m\n",
      "\u001b[0;32m~/anaconda3/envs/pyintpk-dev/lib/python3.7/site-packages/pyinterpolate/semivariance/areal_semivariance/block_to_block_semivariance/calculate_block_to_block_semivariance.py\u001b[0m in \u001b[0;36mcalculate_block_to_block_semivariance\u001b[0;34m(points_within_area, distances_between_blocks, semivariogram_model)\u001b[0m\n\u001b[1;32m     89\u001b[0m                 \u001b[0;31m# Calculate semivariance between blocks\u001b[0m\u001b[0;34m\u001b[0m\u001b[0;34m\u001b[0m\u001b[0;34m\u001b[0m\u001b[0m\n\u001b[1;32m     90\u001b[0m                 semivariance = block_pair_semivariance(first_block_points[0][1], second_block_points[0][1],\n\u001b[0;32m---> 91\u001b[0;31m                                                        semivariogram_model)\n\u001b[0m\u001b[1;32m     92\u001b[0m                 \u001b[0mblock_to_block_semivariance\u001b[0m\u001b[0;34m.\u001b[0m\u001b[0mappend\u001b[0m\u001b[0;34m(\u001b[0m\u001b[0;34m[\u001b[0m\u001b[0mdistance\u001b[0m\u001b[0;34m,\u001b[0m \u001b[0msemivariance\u001b[0m\u001b[0;34m]\u001b[0m\u001b[0;34m)\u001b[0m\u001b[0;34m\u001b[0m\u001b[0;34m\u001b[0m\u001b[0m\n\u001b[1;32m     93\u001b[0m         \u001b[0mbb_semivariances\u001b[0m\u001b[0;34m.\u001b[0m\u001b[0mappend\u001b[0m\u001b[0;34m(\u001b[0m\u001b[0mblock_to_block_semivariance\u001b[0m\u001b[0;34m)\u001b[0m\u001b[0;34m\u001b[0m\u001b[0;34m\u001b[0m\u001b[0m\n",
      "\u001b[0;32m~/anaconda3/envs/pyintpk-dev/lib/python3.7/site-packages/pyinterpolate/semivariance/areal_semivariance/block_to_block_semivariance/calculate_block_to_block_semivariance.py\u001b[0m in \u001b[0;36mblock_pair_semivariance\u001b[0;34m(block_a, block_b, semivariogram_model)\u001b[0m\n\u001b[1;32m     25\u001b[0m     \u001b[0;32mfor\u001b[0m \u001b[0mdist\u001b[0m \u001b[0;32min\u001b[0m \u001b[0mdistances_between_points\u001b[0m\u001b[0;34m:\u001b[0m\u001b[0;34m\u001b[0m\u001b[0;34m\u001b[0m\u001b[0m\n\u001b[1;32m     26\u001b[0m         semivariances.append(\n\u001b[0;32m---> 27\u001b[0;31m             \u001b[0msemivariogram_model\u001b[0m\u001b[0;34m.\u001b[0m\u001b[0mpredict\u001b[0m\u001b[0;34m(\u001b[0m\u001b[0mdist\u001b[0m\u001b[0;34m)\u001b[0m\u001b[0;34m\u001b[0m\u001b[0;34m\u001b[0m\u001b[0m\n\u001b[0m\u001b[1;32m     28\u001b[0m         )\n\u001b[1;32m     29\u001b[0m \u001b[0;34m\u001b[0m\u001b[0m\n",
      "\u001b[0;32m~/anaconda3/envs/pyintpk-dev/lib/python3.7/site-packages/pyinterpolate/semivariance/semivariogram_fit/fit_semivariance.py\u001b[0m in \u001b[0;36mpredict\u001b[0;34m(self, distances)\u001b[0m\n\u001b[1;32m    299\u001b[0m                                               \u001b[0mself\u001b[0m\u001b[0;34m.\u001b[0m\u001b[0mparams\u001b[0m\u001b[0;34m[\u001b[0m\u001b[0;36m0\u001b[0m\u001b[0;34m]\u001b[0m\u001b[0;34m,\u001b[0m\u001b[0;34m\u001b[0m\u001b[0;34m\u001b[0m\u001b[0m\n\u001b[1;32m    300\u001b[0m                                               \u001b[0mself\u001b[0m\u001b[0;34m.\u001b[0m\u001b[0mparams\u001b[0m\u001b[0;34m[\u001b[0m\u001b[0;36m1\u001b[0m\u001b[0;34m]\u001b[0m\u001b[0;34m,\u001b[0m\u001b[0;34m\u001b[0m\u001b[0;34m\u001b[0m\u001b[0m\n\u001b[0;32m--> 301\u001b[0;31m                                               self.params[2])\n\u001b[0m\u001b[1;32m    302\u001b[0m         \u001b[0;32mreturn\u001b[0m \u001b[0moutput_model\u001b[0m\u001b[0;34m\u001b[0m\u001b[0;34m\u001b[0m\u001b[0m\n\u001b[1;32m    303\u001b[0m \u001b[0;34m\u001b[0m\u001b[0m\n",
      "\u001b[0;32m~/anaconda3/envs/pyintpk-dev/lib/python3.7/site-packages/pyinterpolate/semivariance/semivariogram_fit/fit_semivariance.py\u001b[0m in \u001b[0;36mspherical_model\u001b[0;34m(distance, nugget, sill, semivar_range)\u001b[0m\n\u001b[1;32m     70\u001b[0m                      (nugget + sill * (3.0 * distance / (2.0 * semivar_range)) - (\n\u001b[1;32m     71\u001b[0m                              (distance / semivar_range) ** 3.0 / 2.0)),\n\u001b[0;32m---> 72\u001b[0;31m                      (nugget + sill))\n\u001b[0m\u001b[1;32m     73\u001b[0m         \u001b[0;32mreturn\u001b[0m \u001b[0mx\u001b[0m\u001b[0;34m\u001b[0m\u001b[0;34m\u001b[0m\u001b[0m\n\u001b[1;32m     74\u001b[0m \u001b[0;34m\u001b[0m\u001b[0m\n",
      "\u001b[0;32m<__array_function__ internals>\u001b[0m in \u001b[0;36mwhere\u001b[0;34m(*args, **kwargs)\u001b[0m\n",
      "\u001b[0;31mKeyboardInterrupt\u001b[0m: "
     ]
    }
   ],
   "source": [
    "smvs = reg_mod.regularize_model(areal_data_prepared, lags, step_size,\n",
    "                                points_in_area, lags_points, step_size_points)"
   ]
  },
  {
   "cell_type": "markdown",
   "metadata": {},
   "source": [
    "**NOTE:**\n",
    "\n",
    "Operation is slow in the beta version of library so try to find some different task to do when process runs.\n",
    "\n",
    "## 4) Visualize and check semivariogram\n",
    "\n",
    "### Clarification:\n",
    "\n",
    "Process is fully automatic but we can check how it baheaved through each iteration. We can analyze deviation change (most important variable, mean absolute difference between regularized and theoretical models) with build-in method but if you are more interested in the algorithm stability you can analyze weight change over each iteration too."
   ]
  },
  {
   "cell_type": "code",
   "execution_count": null,
   "metadata": {},
   "outputs": [],
   "source": [
    "# First analyze deviation\n",
    "\n",
    "reg_mod.show_deviation()"
   ]
  },
  {
   "cell_type": "markdown",
   "metadata": {},
   "source": [
    "### Clarification:\n",
    "\n",
    "Changes in deviation are really small. Probably one iteration should be enough to obtain meaningful results."
   ]
  },
  {
   "cell_type": "code",
   "execution_count": null,
   "metadata": {},
   "outputs": [],
   "source": [
    "# Check weights - it is important to track problems with algorithm, esepcially if sum of weights is oscillating\n",
    "# then it may be a sign of problems with data, model or (hopefully not!) algorithm itself\n",
    "\n",
    "weights = reg_mod.weights\n",
    "weights = [sum(w) for w in weights]\n",
    "\n",
    "plt.figure(figsize=(10,10))\n",
    "plt.plot(weights)\n",
    "plt.show()"
   ]
  },
  {
   "cell_type": "markdown",
   "metadata": {},
   "source": [
    "**NOTE:**\n",
    "\n",
    "The most important part is to compare semivariograms! Let's do it."
   ]
  },
  {
   "cell_type": "code",
   "execution_count": null,
   "metadata": {},
   "outputs": [],
   "source": [
    "reg_mod.show_semivariograms()"
   ]
  },
  {
   "cell_type": "markdown",
   "metadata": {},
   "source": [
    "### Clarification:\n",
    "\n",
    "Empirical semivariogram is a semivariogram of areal centroids. Then theoretical semivariogram is used to describe empirical semivariogram. Regularization process is to find semivariogram close enough to the theoretical semivariogram, which describes ongoing process with the new support (in this case with population units). We found it and now we can store this semivariogram properties for the further analysis and Kriging."
   ]
  },
  {
   "cell_type": "markdown",
   "metadata": {},
   "source": [
    "## 5) Export semivariogram to text file"
   ]
  },
  {
   "cell_type": "code",
   "execution_count": null,
   "metadata": {},
   "outputs": [],
   "source": [
    "# Export semivariogram to the text file. This is important step because calculations are slow...\n",
    "# and it is better to not repeat them.\n",
    "# We will use buil-in method: export_regularized where we pass only filename our semivariogram\n",
    "# parameters are stored for other tasks.\n",
    "\n",
    "reg_mod.export_regularized('regularized_semivariogram.csv')"
   ]
  }
 ],
 "metadata": {
  "kernelspec": {
   "display_name": "Python 3",
   "language": "python",
   "name": "python3"
  },
  "language_info": {
   "codemirror_mode": {
    "name": "ipython",
    "version": 3
   },
   "file_extension": ".py",
   "mimetype": "text/x-python",
   "name": "python",
   "nbconvert_exporter": "python",
   "pygments_lexer": "ipython3",
   "version": "3.7.8"
  }
 },
 "nbformat": 4,
 "nbformat_minor": 4
}

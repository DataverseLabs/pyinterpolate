{
 "cells": [
  {
   "cell_type": "markdown",
   "metadata": {
    "pycharm": {
     "name": "#%% md\n"
    }
   },
   "source": [
    "# Semivariogram regularization - tutorial\n",
    "\n",
    "## Table of Contents:\n",
    "\n",
    "1. Prepare areal and point data,\n",
    "2. Set semivariogram parameters,\n",
    "3. Perform regularization,\n",
    "4. Visualize regularized semivariogram and analyze algorithm performance,\n",
    "5. Export semivariogram to text file.\n",
    "\n",
    "## Level: Intermediate\n",
    "\n",
    "## Changelog\n",
    "\n",
    "| Date | Change description | Author |\n",
    "|------|--------------------|--------|\n",
    "| 2021-12-14 | Sill selection was upgraded: now optimal sill is derived from the grid search within `TheoreticalSemivariogram` class | @SimonMolinsky |\n",
    "| 2021-12-13 | Changed behavior of `select_values_in_range()` function | @SimonMolinsky |\n",
    "| 2021-05-28 | Updated paths for input/output data | @SimonMolinsky |\n",
    "| 2021-05-11 | Refactored TheoreticalSemivariogram class | @SimonMolinsky |\n",
    "| 2021-04-04 | Ranges parameter removed from regularize semivariogram class | @SimonMolinsky |\n",
    "| 2021-03-31 | Update related to the change of semivariogram weighting. Updated cancer rates data. | @SimonMolinsky |\n",
    "\n",
    "\n",
    "## Introduction\n",
    "\n",
    "In this tutorial we learn how to regularize semivariogram of areal dataset of irregular polygons. Procedure is described here: (1) Goovaerts P., Kriging and Semivariogram Deconvolution in the Presence of Irregular Geographical Units, Mathematical Geology 40(1), 101-128, 2008. \n",
    "\n",
    "The main idea is to retrieve point support semivariogram from semivariogram of areal data with blocks of different shapes and sizes. It is the case in mining industry, where blocks of aggregates are deconvoluted into smaller units and in the epidemiology, where data is usually aggregated over big administrative units, or in ecology, where observations of species are aggregated over areas or time windows.\n",
    "\n",
    "In this tutorial we use areal data of Breast Cancer incidence rates in Northeastern counties of U.S. and U.S. Census 2010 data for population blocks.\n",
    "\n",
    "> Breast cancer rates data is stored in the shapefile in folder `sample_data/areal_data/cancer_data.shp`.\n",
    "\n",
    "> Population blocks data is stored in the shapefile in folder `sample_data/population_data/cancer_population_base.shp`"
   ]
  },
  {
   "cell_type": "markdown",
   "metadata": {
    "pycharm": {
     "name": "#%% md\n"
    }
   },
   "source": [
    "## Import packages"
   ]
  },
  {
   "cell_type": "code",
   "execution_count": 1,
   "metadata": {
    "pycharm": {
     "name": "#%%\n"
    }
   },
   "outputs": [],
   "source": [
    "import numpy as np\n",
    "import geopandas as gpd\n",
    "\n",
    "from pyinterpolate.io_ops import prepare_areal_shapefile, get_points_within_area  # Prepare data\n",
    "from pyinterpolate.semivariance import calculate_semivariance  # Experimental semivariogram\n",
    "from pyinterpolate.semivariance import RegularizedSemivariogram  # Semivariogram regularization class\n",
    "\n",
    "import matplotlib.pyplot as plt"
   ]
  },
  {
   "cell_type": "markdown",
   "metadata": {
    "pycharm": {
     "name": "#%% md\n"
    }
   },
   "source": [
    "## 1) Prepare areal and point data"
   ]
  },
  {
   "cell_type": "code",
   "execution_count": 2,
   "metadata": {
    "pycharm": {
     "name": "#%%\n"
    }
   },
   "outputs": [
    {
     "data": {
      "text/plain": [
       "True"
      ]
     },
     "execution_count": 2,
     "metadata": {},
     "output_type": "execute_result"
    }
   ],
   "source": [
    "areal_data = '../sample_data/areal_data/cancer_data.shp'\n",
    "point_data = '../sample_data/population_data/cancer_population_base.shp'\n",
    "\n",
    "# The important thing before analysis is to check if crs of areal data and point data are the same\n",
    "\n",
    "areal_crs = gpd.read_file(areal_data).crs\n",
    "point_support_crs = gpd.read_file(point_data).crs\n",
    "\n",
    "areal_crs == point_support_crs"
   ]
  },
  {
   "cell_type": "code",
   "execution_count": 3,
   "metadata": {
    "pycharm": {
     "name": "#%%\n"
    }
   },
   "outputs": [
    {
     "data": {
      "text/html": [
       "<div>\n",
       "<style scoped>\n",
       "    .dataframe tbody tr th:only-of-type {\n",
       "        vertical-align: middle;\n",
       "    }\n",
       "\n",
       "    .dataframe tbody tr th {\n",
       "        vertical-align: top;\n",
       "    }\n",
       "\n",
       "    .dataframe thead th {\n",
       "        text-align: right;\n",
       "    }\n",
       "</style>\n",
       "<table border=\"1\" class=\"dataframe\">\n",
       "  <thead>\n",
       "    <tr style=\"text-align: right;\">\n",
       "      <th></th>\n",
       "      <th>rate</th>\n",
       "      <th>FIPS</th>\n",
       "      <th>rate_float</th>\n",
       "      <th>geometry</th>\n",
       "    </tr>\n",
       "  </thead>\n",
       "  <tbody>\n",
       "    <tr>\n",
       "      <th>0</th>\n",
       "      <td>192.2</td>\n",
       "      <td>25019</td>\n",
       "      <td>192.2</td>\n",
       "      <td>MULTIPOLYGON (((2115688.816 556471.240, 211569...</td>\n",
       "    </tr>\n",
       "    <tr>\n",
       "      <th>1</th>\n",
       "      <td>166.8</td>\n",
       "      <td>36121</td>\n",
       "      <td>166.8</td>\n",
       "      <td>POLYGON ((1419423.430 564830.379, 1419729.721 ...</td>\n",
       "    </tr>\n",
       "    <tr>\n",
       "      <th>2</th>\n",
       "      <td>157.4</td>\n",
       "      <td>33001</td>\n",
       "      <td>157.4</td>\n",
       "      <td>MULTIPOLYGON (((1937530.728 779787.978, 193751...</td>\n",
       "    </tr>\n",
       "    <tr>\n",
       "      <th>3</th>\n",
       "      <td>156.7</td>\n",
       "      <td>25007</td>\n",
       "      <td>156.7</td>\n",
       "      <td>MULTIPOLYGON (((2074073.532 539159.504, 207411...</td>\n",
       "    </tr>\n",
       "    <tr>\n",
       "      <th>4</th>\n",
       "      <td>155.3</td>\n",
       "      <td>25001</td>\n",
       "      <td>155.3</td>\n",
       "      <td>MULTIPOLYGON (((2095343.207 637424.961, 209528...</td>\n",
       "    </tr>\n",
       "  </tbody>\n",
       "</table>\n",
       "</div>"
      ],
      "text/plain": [
       "    rate   FIPS  rate_float                                           geometry\n",
       "0  192.2  25019       192.2  MULTIPOLYGON (((2115688.816 556471.240, 211569...\n",
       "1  166.8  36121       166.8  POLYGON ((1419423.430 564830.379, 1419729.721 ...\n",
       "2  157.4  33001       157.4  MULTIPOLYGON (((1937530.728 779787.978, 193751...\n",
       "3  156.7  25007       156.7  MULTIPOLYGON (((2074073.532 539159.504, 207411...\n",
       "4  155.3  25001       155.3  MULTIPOLYGON (((2095343.207 637424.961, 209528..."
      ]
     },
     "execution_count": 3,
     "metadata": {},
     "output_type": "execute_result"
    }
   ],
   "source": [
    "# We need to know:\n",
    "# - id column name of areal units,\n",
    "# - value column name of areal units (usually aggregates),\n",
    "# - value column name of point support units (usually population)\n",
    "\n",
    "# Let's check it quickly with geopandas\n",
    "\n",
    "areal = gpd.read_file(areal_data)\n",
    "areal.head()"
   ]
  },
  {
   "cell_type": "markdown",
   "metadata": {
    "pycharm": {
     "name": "#%% md\n"
    }
   },
   "source": [
    "From areal file we are interested in the incidence rate (`rate`) and ID (`FIPS`)."
   ]
  },
  {
   "cell_type": "code",
   "execution_count": 4,
   "metadata": {
    "pycharm": {
     "name": "#%%\n"
    }
   },
   "outputs": [
    {
     "data": {
      "text/html": [
       "<div>\n",
       "<style scoped>\n",
       "    .dataframe tbody tr th:only-of-type {\n",
       "        vertical-align: middle;\n",
       "    }\n",
       "\n",
       "    .dataframe tbody tr th {\n",
       "        vertical-align: top;\n",
       "    }\n",
       "\n",
       "    .dataframe thead th {\n",
       "        text-align: right;\n",
       "    }\n",
       "</style>\n",
       "<table border=\"1\" class=\"dataframe\">\n",
       "  <thead>\n",
       "    <tr style=\"text-align: right;\">\n",
       "      <th></th>\n",
       "      <th>id</th>\n",
       "      <th>left</th>\n",
       "      <th>top</th>\n",
       "      <th>right</th>\n",
       "      <th>bottom</th>\n",
       "      <th>POP10</th>\n",
       "      <th>geometry</th>\n",
       "    </tr>\n",
       "  </thead>\n",
       "  <tbody>\n",
       "    <tr>\n",
       "      <th>0</th>\n",
       "      <td>81.0</td>\n",
       "      <td>1.271504e+06</td>\n",
       "      <td>446124.5068</td>\n",
       "      <td>1.283051e+06</td>\n",
       "      <td>436124.5068</td>\n",
       "      <td>1866.0</td>\n",
       "      <td>POINT (1277277.671 441124.507)</td>\n",
       "    </tr>\n",
       "    <tr>\n",
       "      <th>1</th>\n",
       "      <td>82.0</td>\n",
       "      <td>1.271504e+06</td>\n",
       "      <td>436124.5068</td>\n",
       "      <td>1.283051e+06</td>\n",
       "      <td>426124.5068</td>\n",
       "      <td>2093.0</td>\n",
       "      <td>POINT (1277277.671 431124.507)</td>\n",
       "    </tr>\n",
       "    <tr>\n",
       "      <th>2</th>\n",
       "      <td>83.0</td>\n",
       "      <td>1.271504e+06</td>\n",
       "      <td>426124.5068</td>\n",
       "      <td>1.283051e+06</td>\n",
       "      <td>416124.5068</td>\n",
       "      <td>590.0</td>\n",
       "      <td>POINT (1277277.671 421124.507)</td>\n",
       "    </tr>\n",
       "    <tr>\n",
       "      <th>3</th>\n",
       "      <td>84.0</td>\n",
       "      <td>1.271504e+06</td>\n",
       "      <td>416124.5068</td>\n",
       "      <td>1.283051e+06</td>\n",
       "      <td>406124.5068</td>\n",
       "      <td>636.0</td>\n",
       "      <td>POINT (1277277.671 411124.507)</td>\n",
       "    </tr>\n",
       "    <tr>\n",
       "      <th>4</th>\n",
       "      <td>85.0</td>\n",
       "      <td>1.271504e+06</td>\n",
       "      <td>406124.5068</td>\n",
       "      <td>1.283051e+06</td>\n",
       "      <td>396124.5068</td>\n",
       "      <td>582.0</td>\n",
       "      <td>POINT (1277277.671 401124.507)</td>\n",
       "    </tr>\n",
       "  </tbody>\n",
       "</table>\n",
       "</div>"
      ],
      "text/plain": [
       "     id          left          top         right       bottom   POP10  \\\n",
       "0  81.0  1.271504e+06  446124.5068  1.283051e+06  436124.5068  1866.0   \n",
       "1  82.0  1.271504e+06  436124.5068  1.283051e+06  426124.5068  2093.0   \n",
       "2  83.0  1.271504e+06  426124.5068  1.283051e+06  416124.5068   590.0   \n",
       "3  84.0  1.271504e+06  416124.5068  1.283051e+06  406124.5068   636.0   \n",
       "4  85.0  1.271504e+06  406124.5068  1.283051e+06  396124.5068   582.0   \n",
       "\n",
       "                         geometry  \n",
       "0  POINT (1277277.671 441124.507)  \n",
       "1  POINT (1277277.671 431124.507)  \n",
       "2  POINT (1277277.671 421124.507)  \n",
       "3  POINT (1277277.671 411124.507)  \n",
       "4  POINT (1277277.671 401124.507)  "
      ]
     },
     "execution_count": 4,
     "metadata": {},
     "output_type": "execute_result"
    }
   ],
   "source": [
    "# Now check point support data\n",
    "\n",
    "point = gpd.read_file(point_data)\n",
    "point.head()"
   ]
  },
  {
   "cell_type": "markdown",
   "metadata": {
    "pycharm": {
     "name": "#%% md\n"
    }
   },
   "source": [
    "`POP10` is our column of interest."
   ]
  },
  {
   "cell_type": "code",
   "execution_count": 5,
   "metadata": {
    "pycharm": {
     "name": "#%%\n"
    }
   },
   "outputs": [],
   "source": [
    "# Now prepare data for further processing\n",
    "\n",
    "areal_id = 'FIPS'\n",
    "areal_val = 'rate'\n",
    "points_val = 'POP10'\n",
    "\n",
    "areal_data_prepared = prepare_areal_shapefile(areal_data, areal_id, areal_val)"
   ]
  },
  {
   "cell_type": "code",
   "execution_count": 6,
   "metadata": {
    "pycharm": {
     "name": "#%%\n"
    }
   },
   "outputs": [
    {
     "data": {
      "text/plain": [
       "array([25019,\n",
       "       <shapely.geometry.multipolygon.MultiPolygon object at 0x7ff295ce4250>,\n",
       "       2132629.599151873, 557971.1559491967, 192.2], dtype=object)"
      ]
     },
     "execution_count": 6,
     "metadata": {},
     "output_type": "execute_result"
    }
   ],
   "source": [
    "# Check how prepared areal data looks like\n",
    "\n",
    "areal_data_prepared[0]"
   ]
  },
  {
   "cell_type": "markdown",
   "metadata": {
    "pycharm": {
     "name": "#%% md\n"
    }
   },
   "source": [
    "### Clarification:\n",
    "\n",
    "Every areal dataset is passed as an array of:\n",
    "\n",
    "[area id, area geometry (polygon), areal centroid x (lon), areal centroid y (lat), value]"
   ]
  },
  {
   "cell_type": "code",
   "execution_count": 7,
   "metadata": {
    "pycharm": {
     "name": "#%%\n"
    }
   },
   "outputs": [
    {
     "name": "stderr",
     "output_type": "stream",
     "text": [
      "/Users/szymonmolinski/miniconda3/envs/pyint/lib/python3.7/site-packages/pyinterpolate/io_ops/get_points_within_area.py:111: VisibleDeprecationWarning: Creating an ndarray from ragged nested sequences (which is a list-or-tuple of lists-or-tuples-or ndarrays with different lengths or shapes) is deprecated. If you meant to do this, you must specify 'dtype=object' when creating the ndarray.\n",
      "  return np.array(output_points_within_area)\n"
     ]
    }
   ],
   "source": [
    "points_in_area = get_points_within_area(areal_data, point_data, areal_id_col_name=areal_id,\n",
    "                                        points_val_col_name=points_val)"
   ]
  },
  {
   "cell_type": "code",
   "execution_count": 8,
   "metadata": {
    "pycharm": {
     "name": "#%%\n"
    }
   },
   "outputs": [
    {
     "data": {
      "text/plain": [
       "array([42049.0,\n",
       "       array([[1277277.6705919 ,  441124.50679998,    1866.        ],\n",
       "              [1277277.6705919 ,  431124.50679999,    2093.        ],\n",
       "              [1285937.92462974,  446124.50679999,   10191.        ],\n",
       "              [1285937.92462974,  436124.50679999,    3271.        ],\n",
       "              [1285937.92462974,  426124.50679999,    5400.        ],\n",
       "              [1294598.17866759,  451124.50679998,   23133.        ],\n",
       "              [1294598.17866759,  441124.50679999,    2616.        ],\n",
       "              [1294598.17866759,  431124.50679999,    1610.        ],\n",
       "              [1303258.43270543,  456124.50679999,  110912.        ],\n",
       "              [1303258.43270543,  446124.50679999,    6793.        ],\n",
       "              [1303258.43270543,  436124.50679999,    8493.        ],\n",
       "              [1311918.68674328,  461124.50679999,   44605.        ],\n",
       "              [1311918.68674328,  451124.50679999,    5710.        ],\n",
       "              [1311918.68674328,  441124.50679999,    4700.        ],\n",
       "              [1311918.68674328,  431124.50679999,    2483.        ],\n",
       "              [1320578.94078112,  466124.50679999,    3372.        ],\n",
       "              [1320578.94078112,  456124.50679999,    3226.        ],\n",
       "              [1320578.94078112,  446124.50679998,    1664.        ],\n",
       "              [1320578.94078112,  436124.50679999,    1956.        ],\n",
       "              [1329239.19481896,  461124.50679999,    1441.        ],\n",
       "              [1329239.19481897,  451124.50679998,    1712.        ],\n",
       "              [1329239.19481896,  441124.50679999,    4814.        ],\n",
       "              [1337899.44885681,  446124.50679999,    1933.        ],\n",
       "              [1337899.44885681,  436124.50679998,    1370.        ],\n",
       "              [1346559.70289465,  441124.50679999,    7430.        ]])],\n",
       "      dtype=object)"
      ]
     },
     "execution_count": 8,
     "metadata": {},
     "output_type": "execute_result"
    }
   ],
   "source": [
    "# Check how prepared point data looks like\n",
    "\n",
    "points_in_area[0]"
   ]
  },
  {
   "cell_type": "markdown",
   "metadata": {
    "pycharm": {
     "name": "#%% md\n"
    }
   },
   "source": [
    "### Clarification:\n",
    "\n",
    "Every point support dataset is passed as an array of:\n",
    "\n",
    "[area id, array of: [lon, lat, value]]"
   ]
  },
  {
   "cell_type": "markdown",
   "metadata": {
    "pycharm": {
     "name": "#%% md\n"
    }
   },
   "source": [
    "## 2) Set semivariogram parameters.\n",
    "\n",
    "Now we must set parameters for areal semivariogram AND point semivariogram. It is very important to understand data well to set them properly, that's why you should always check experimental semivariograms of those datasets to understand how data behaves. We do it for prepared areal and point datasets.\n",
    "\n",
    "From the practical point of view area semivariogram analysis is more important because we pass into semivariogram regularization parameters of step size and maximum search radius. But we check point's semivariogram too. It is analytical step, to check if spatial process whoch we are using for semivariogram deconvolution is proper, as example if semivariogram shows exponential function then our process will not be properly modeled."
   ]
  },
  {
   "cell_type": "code",
   "execution_count": 9,
   "metadata": {
    "pycharm": {
     "name": "#%%\n"
    }
   },
   "outputs": [
    {
     "data": {
      "image/png": "[encoded data removed]",
      "text/plain": [
       "<Figure size 864x864 with 1 Axes>"
      ]
     },
     "metadata": {
      "needs_background": "light"
     },
     "output_type": "display_data"
    }
   ],
   "source": [
    "# Check experimental semivariogram of areal data - this cell may be run multiple times \n",
    "# before you find optimal parameters\n",
    "\n",
    "maximum_range = 300000\n",
    "step_size = 40000\n",
    "\n",
    "dt = areal_data_prepared[:, 2:]  # x, y, val\n",
    "exp_semivar = calculate_semivariance(data=dt, step_size=step_size, max_range=maximum_range)\n",
    "\n",
    "# Plot experimental semivariogram\n",
    "\n",
    "plt.figure(figsize=(12, 12))\n",
    "plt.plot(exp_semivar[:, 0], exp_semivar[:, 1], 'o')\n",
    "plt.title('Experimental semivariogram od areal centroids')\n",
    "plt.xlabel('Range - in meters')\n",
    "plt.ylabel('Semivariance')\n",
    "plt.show()"
   ]
  },
  {
   "cell_type": "code",
   "execution_count": 10,
   "metadata": {
    "pycharm": {
     "name": "#%%\n"
    }
   },
   "outputs": [
    {
     "data": {
      "image/png": "[encoded data removed]",
      "text/plain": [
       "<Figure size 864x864 with 1 Axes>"
      ]
     },
     "metadata": {
      "needs_background": "light"
     },
     "output_type": "display_data"
    }
   ],
   "source": [
    "# Check experimental semivariogram of point data - this cell may be run multiple times \n",
    "# before you find optimal parameters\n",
    "\n",
    "def build_point_array(points):\n",
    "    a = None\n",
    "\n",
    "    for rec in points:\n",
    "        if a is None:\n",
    "            a = rec.copy()\n",
    "        else:\n",
    "            a = np.vstack((a, rec))\n",
    "\n",
    "    return a\n",
    "\n",
    "maximum_point_range = 300000\n",
    "step_size_points = 20000\n",
    "\n",
    "\n",
    "pt = build_point_array(points_in_area[:, 1])  # x, y, val\n",
    "exp_semivar = calculate_semivariance(data=pt, step_size=step_size_points, max_range=maximum_point_range)\n",
    "\n",
    "# Plot experimental semivariogram\n",
    "\n",
    "plt.figure(figsize=(12, 12))\n",
    "plt.plot(exp_semivar[:, 0], exp_semivar[:, 1], 'o')\n",
    "plt.title('Experimental semivariogram od population data')\n",
    "plt.xlabel('Range - in meters')\n",
    "plt.ylabel('Semivariance')\n",
    "plt.show()"
   ]
  },
  {
   "cell_type": "markdown",
   "metadata": {
    "pycharm": {
     "name": "#%% md\n"
    }
   },
   "source": [
    "### Clarification:\n",
    "\n",
    "After few adjustements we have prepared semivariogram parameters for area and point support data. The next step is to create ```RegularizedSemivariogram``` model. We have mutiple parameters to choose and at the beginning it is hard to find the best fit, so try to avoid multiple loops because it is a time-consuming operation.\n",
    "\n",
    "The program is designed to first **fit()** the model and later to **transform()** it.\n",
    "\n",
    "When you **fit()** a model you have multiple parameters to control: \n",
    "* areal_data: areal data prepared with the function prepare_areal_shapefile(), where data is a numpy array\n",
    "    in the form: [area_id, area_geometry, centroid coordinate x, centroid coordinate y, value],\n",
    "* areal_lags: list of lags between each distance,\n",
    "* areal_step_size: step size between each lag, usually it is a half of distance between lags,\n",
    "* point_support_data: point support data prepared with the function get_points_within_area(), where data is\n",
    "    a numpy array in the form: [area_id, [point_position_x, point_position_y, value]],\n",
    "* weighted_lags: (bool) lags weighted by number of points; if True then during semivariogram fitting error\n",
    "    of each model is weighted by number of points for each lag. In practice it means that more reliable data\n",
    "    (lags) have larger weights and semivariogram is modeled to better fit to those lags,\n",
    "* store_models: (bool) if True then experimental, regularized and theoretical models are stored in lists\n",
    "    after each iteration. It is important for a debugging process.\n",
    "\n",
    "We will weight lags and we do not store semivariograms and semivariogram models.\n",
    "\n",
    "After fitting we perform **transform()**. This function has few parameters to control regularization process, but we leave them as default with one exception: we set max_iters parameter to 5.\n",
    "\n",
    "This process of fitting and transforming takes some time, so it's good idea to run it and do something else...\n",
    "\n",
    "## 3) Regularize semivariogram"
   ]
  },
  {
   "cell_type": "code",
   "execution_count": 11,
   "metadata": {
    "pycharm": {
     "name": "#%%\n"
    }
   },
   "outputs": [],
   "source": [
    "reg_mod = RegularizedSemivariogram()"
   ]
  },
  {
   "cell_type": "code",
   "execution_count": 12,
   "metadata": {
    "pycharm": {
     "name": "#%%\n"
    }
   },
   "outputs": [
    {
     "name": "stderr",
     "output_type": "stream",
     "text": [
      "/Users/szymonmolinski/miniconda3/envs/pyint/lib/python3.7/site-packages/pyinterpolate/semivariance/semivariogram_fit/fit_semivariance.py:436: UserWarning: WARNING: linear model fitted to the experimental variogram is better than the core models!\n",
      "  warnings.warn(warning_msg)\n",
      "/Users/szymonmolinski/miniconda3/envs/pyint/lib/python3.7/site-packages/pyinterpolate/semivariance/areal_semivariance/block_to_block_semivariance/calculate_block_to_block_semivariance.py:113: VisibleDeprecationWarning: Creating an ndarray from ragged nested sequences (which is a list-or-tuple of lists-or-tuples-or ndarrays with different lengths or shapes) is deprecated. If you meant to do this, you must specify 'dtype=object' when creating the ndarray.\n",
      "  output_array = np.array([block_to_block_semivariance, blocks_ids])\n"
     ]
    }
   ],
   "source": [
    "reg_mod.fit(areal_data=areal_data_prepared,\n",
    "            areal_step_size=step_size, max_areal_range=maximum_range,\n",
    "            point_support_data=points_in_area, weighted_lags=True, store_models=False)"
   ]
  },
  {
   "cell_type": "code",
   "execution_count": 13,
   "metadata": {
    "pycharm": {
     "name": "#%%\n"
    }
   },
   "outputs": [
    {
     "data": {
      "image/png": "[encoded data removed]",
      "text/plain": [
       "<Figure size 864x864 with 1 Axes>"
      ]
     },
     "metadata": {
      "needs_background": "light"
     },
     "output_type": "display_data"
    }
   ],
   "source": [
    "# Check initial experimental, theoretical and regularized semivariograms\n",
    "\n",
    "lags = reg_mod.experimental_semivariogram_of_areal_data[:, 0]\n",
    "plt.figure(figsize=(12, 12))\n",
    "plt.plot(lags, reg_mod.experimental_semivariogram_of_areal_data[:, 1], 'ob')\n",
    "plt.plot(lags, reg_mod.initial_theoretical_model_of_areal_data.predict(lags), color='r', linestyle='--')\n",
    "plt.plot(lags, reg_mod.initial_regularized_model, color='black', linestyle='dotted')\n",
    "plt.legend(['Experimental semivariogram of areal data', 'Initial Semivariogram of areal data',\n",
    "            'Regularized data points'])\n",
    "plt.title('Semivariograms comparison. Deviation value: {}'.format(reg_mod.initial_deviation))\n",
    "plt.xlabel('Distance')\n",
    "plt.ylabel('Semivariance')\n",
    "plt.show()"
   ]
  },
  {
   "cell_type": "markdown",
   "metadata": {
    "pycharm": {
     "name": "#%% md\n"
    }
   },
   "source": [
    "#### NOTE:\n",
    "\n",
    "Sill of experimental variogram is reached fast at the first lag. On the other hand sill of regularized semivariogram is reached at a larger distance which is a promising result for further processing and semivariogram deconvolution procedure."
   ]
  },
  {
   "cell_type": "code",
   "execution_count": 14,
   "metadata": {
    "pycharm": {
     "name": "#%%\n"
    },
    "scrolled": false
   },
   "outputs": [
    {
     "name": "stderr",
     "output_type": "stream",
     "text": [
      "  0%|                                                     | 0/5 [00:00<?, ?it/s]/Users/szymonmolinski/miniconda3/envs/pyint/lib/python3.7/site-packages/pyinterpolate/semivariance/areal_semivariance/block_to_block_semivariance/calculate_block_to_block_semivariance.py:113: VisibleDeprecationWarning: Creating an ndarray from ragged nested sequences (which is a list-or-tuple of lists-or-tuples-or ndarrays with different lengths or shapes) is deprecated. If you meant to do this, you must specify 'dtype=object' when creating the ndarray.\n",
      "  output_array = np.array([block_to_block_semivariance, blocks_ids])\n",
      "100%|█████████████████████████████████████████████| 5/5 [03:27<00:00, 41.56s/it]\n"
     ]
    }
   ],
   "source": [
    "reg_mod.transform(max_iters=5)"
   ]
  },
  {
   "cell_type": "markdown",
   "metadata": {
    "scrolled": false,
    "pycharm": {
     "name": "#%% md\n"
    }
   },
   "source": [
    "**NOTE:**\n",
    "\n",
    "Operation stops automatically if calculated error is not changing after few iterations. **It will be speed up in the future by multiprocessing functions**.\n",
    "\n",
    "## 4) Visualize and check semivariogram\n",
    "\n",
    "### Clarification:\n",
    "\n",
    "Process is fully automatic but we can check how it baheaved through each iteration. We can analyze deviation change (most important variable, mean absolute difference between regularized and theoretical models) with build-in method but if you are more interested in the algorithm stability you can analyze weight change over each iteration too."
   ]
  },
  {
   "cell_type": "code",
   "execution_count": 15,
   "metadata": {
    "pycharm": {
     "name": "#%%\n"
    }
   },
   "outputs": [
    {
     "data": {
      "image/png": "[encoded data removed]",
      "text/plain": [
       "<Figure size 720x720 with 1 Axes>"
      ]
     },
     "metadata": {
      "needs_background": "light"
     },
     "output_type": "display_data"
    }
   ],
   "source": [
    "# First analyze deviation\n",
    "\n",
    "plt.figure(figsize=(10, 10))\n",
    "plt.plot(reg_mod.deviations)\n",
    "plt.show()"
   ]
  },
  {
   "cell_type": "markdown",
   "metadata": {
    "pycharm": {
     "name": "#%% md\n"
    }
   },
   "source": [
    "### Clarification:\n",
    "\n",
    "Deviation between regularized semivariogram and theoretical model is smaller in each step but largest improvement can be seen after the first step and then it slows down. That's why semivariogram regularization usually does not require many steps. However, if there are many lags then optimization may require more steps to achieve meaningful result."
   ]
  },
  {
   "cell_type": "code",
   "execution_count": 16,
   "metadata": {
    "pycharm": {
     "name": "#%%\n"
    }
   },
   "outputs": [
    {
     "data": {
      "image/png": "[encoded data removed]",
      "text/plain": [
       "<Figure size 720x720 with 1 Axes>"
      ]
     },
     "metadata": {
      "needs_background": "light"
     },
     "output_type": "display_data"
    }
   ],
   "source": [
    "# Check weights - it is important to track problems with algorithm, esepcially if sum of weights is oscillating\n",
    "# then it may be a sign of problems with data, model or (hopefully not!) algorithm itself.\n",
    "\n",
    "weights = reg_mod.weights\n",
    "weights = [sum(w) for w in weights]\n",
    "\n",
    "plt.figure(figsize=(10,10))\n",
    "plt.plot(weights)\n",
    "plt.show()"
   ]
  },
  {
   "cell_type": "markdown",
   "metadata": {
    "pycharm": {
     "name": "#%% md\n"
    }
   },
   "source": [
    "#### NOTE:\n",
    "\n",
    "Weights are smaller with each iteration. It is normal behavior of algorithm. General trend goes downward, and small oscillations may occur due to the optimization process.\n",
    "\n",
    "The most important part is to compare semivariograms! You can see that Optimized Model is different than initial semivariogram. It is the result of regularization. Now population is taken into account in the cases of variogram development and further kriging interpolation."
   ]
  },
  {
   "cell_type": "code",
   "execution_count": 17,
   "metadata": {
    "pycharm": {
     "name": "#%%\n"
    }
   },
   "outputs": [
    {
     "data": {
      "image/png": "[encoded data removed]",
      "text/plain": [
       "<Figure size 864x864 with 1 Axes>"
      ]
     },
     "metadata": {
      "needs_background": "light"
     },
     "output_type": "display_data"
    }
   ],
   "source": [
    "reg_mod.show_semivariograms()"
   ]
  },
  {
   "cell_type": "markdown",
   "metadata": {
    "pycharm": {
     "name": "#%% md\n"
    }
   },
   "source": [
    "### Clarification:\n",
    "\n",
    "Experimental semivariogram is a semivariogram of areal centroids. Then theoretical semivariogram is used to describe this experimental (empirical) semivariogram. Regularization process is to find semivariogram close enough to the theoretical semivariogram, which describes ongoing process with the new support (in this case with population units). You may see that experimental semivariogram has exponential growth near the origin. It could mean that in this scale of analysis we lost some information. But with population data we can retrive it and regularized semivariogram better describes process near the origin. We gain a new insights approximately 2-3 lags ahead of the initial model.\n",
    "\n",
    "We can store regularized semivariogram output parameters for the further analysis and Kriging."
   ]
  },
  {
   "cell_type": "markdown",
   "metadata": {
    "pycharm": {
     "name": "#%% md\n"
    }
   },
   "source": [
    "## 5) Export semivariogram to text file"
   ]
  },
  {
   "cell_type": "code",
   "execution_count": 18,
   "metadata": {
    "pycharm": {
     "name": "#%%\n"
    }
   },
   "outputs": [],
   "source": [
    "# Export semivariogram to the text file. This is important step because calculations are slow...\n",
    "# and it is better to not repeat them.\n",
    "# We will use buil-in method: export_regularized where we pass only filename our semivariogram\n",
    "# parameters are stored for other tasks.\n",
    "\n",
    "reg_mod.export_regularized_model('output/regularized_model.csv')"
   ]
  },
  {
   "cell_type": "markdown",
   "metadata": {
    "pycharm": {
     "name": "#%% md\n"
    }
   },
   "source": [
    "---"
   ]
  }
 ],
 "metadata": {
  "kernelspec": {
   "display_name": "Python 3 (ipykernel)",
   "language": "python",
   "name": "python3"
  },
  "language_info": {
   "codemirror_mode": {
    "name": "ipython",
    "version": 3
   },
   "file_extension": ".py",
   "mimetype": "text/x-python",
   "name": "python",
   "nbconvert_exporter": "python",
   "pygments_lexer": "ipython3",
   "version": "3.7.12"
  }
 },
 "nbformat": 4,
 "nbformat_minor": 4
}
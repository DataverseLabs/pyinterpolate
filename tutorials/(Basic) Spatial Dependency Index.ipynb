{
 "cells": [
  {
   "cell_type": "markdown",
   "id": "e1dd0d30",
   "metadata": {},
   "source": [
    "# Spatial Dependency Index\n",
    "\n",
    "> Is dataset worth modeling?\n",
    "\n",
    "## Table of Contents:\n",
    "\n",
    "1. What is the spatial dependcy index?\n",
    "2. Why do we use spatial dependency index?\n",
    "3. Example 1: Low spatial dependency dataset.\n",
    "4. Example 2: High spatial dependency dataset.\n",
    "5. API links.\n",
    "\n",
    "## Level: Basic\n",
    "\n",
    "## Changelog\n",
    "\n",
    "| Date | Change description | Author |\n",
    "|------|--------------------|--------|\n",
    "| 2023-04-08 | The first version of the tutorial | @SimonMolinsky |\n",
    "\n",
    "## Introduction\n",
    "\n",
    "In this tutorial, we will learn how to estimate **spatial dependency index**. Algorithm is based on the work:\n",
    "\n",
    "> CAMBARDELLA, C.A.; MOORMAN, T.B.; PARKIN, T.B.; KARLEN, D.L.; NOVAK, J.M.; TURCO, R.F.; KONOPKA, A.E. Field-scale variability of soil properties in central Iowa soils. Soil Science Society of America Journal, v. 58, n. 5, p. 1501-1511, 1994.\n"
   ]
  },
  {
   "cell_type": "markdown",
   "id": "da081379",
   "metadata": {},
   "source": [
    "## 1. What is the spatial dependency index?\n",
    "\n",
    "The spatial dependency index (SDI) measures the strength of a spatial process we are modeling. SDI is normalized to the interval between 0 and 1. Therefore, we can transform it into percentages and assign an order of spatial dependency from weak to strong.\n",
    "\n",
    "The SDI is a ratio of the nugget to the total variance (sill) of a model:\n",
    "\n",
    "$$SDI = \\frac{nugget}{sill} * 100$$\n",
    "\n",
    "Whenever we perform fitting of a theoretical variogram with the `pyinterpolate` package, then SDI is calculated, and we will take advantage of it in the examples. SDI is represented by two values:\n",
    "\n",
    "- **numeric**, a ratio of nugget and sill in percent,\n",
    "- **categorical**, a description of a spatial dependency strength.\n",
    "\n",
    "There are four levels of spatial dependency.\n",
    "\n",
    "| Lower Limit (included) | Upper Limit (excluded) | Strength |\n",
    "|------------------------|------------------------|----------|\n",
    "| 0                      | 25                     | strong   |\n",
    "| 25                     | 75                     | moderate |\n",
    "| 75                     | 95                     | weak     |\n",
    "| 95                     | _inf_                  | no spatial dependence |\n",
    "\n",
    "\n",
    "**The lower the ratio, the strongest spatial dependence**. If the ratio is greater than 75 percent, we should be cautious with spatial modeling because spatial similarities may not explain the process."
   ]
  },
  {
   "cell_type": "markdown",
   "id": "bd332abf",
   "metadata": {},
   "source": [
    "## 2. Why do we use spatial dependency index?\n",
    "\n"
   ]
  },
  {
   "cell_type": "code",
   "execution_count": null,
   "id": "99f17dec",
   "metadata": {},
   "outputs": [],
   "source": []
  }
 ],
 "metadata": {
  "kernelspec": {
   "display_name": "Python 3 (ipykernel)",
   "language": "python",
   "name": "python3"
  },
  "language_info": {
   "codemirror_mode": {
    "name": "ipython",
    "version": 3
   },
   "file_extension": ".py",
   "mimetype": "text/x-python",
   "name": "python",
   "nbconvert_exporter": "python",
   "pygments_lexer": "ipython3",
   "version": "3.11.3"
  }
 },
 "nbformat": 4,
 "nbformat_minor": 5
}

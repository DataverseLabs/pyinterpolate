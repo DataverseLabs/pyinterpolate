{
 "cells": [
  {
   "cell_type": "markdown",
   "source": [
    "# Directional Ordinary Kriging\n",
    "\n",
    "## Table of Contents:\n",
    "\n",
    "1. Read *meuse* dataset, transform data,\n",
    "2. Create directional semivariograms,\n",
    "3. Create directional kriging models,\n",
    "4. Compare results of interpolation.\n",
    "\n",
    "## Level: Basic\n",
    "\n",
    "## Changelog\n",
    "\n",
    "| Date       | Change description | Author | Package Version |\n",
    "|------------|--------------------|--------|-----------------|\n",
    "| 2022-11-19 | The first version of tutorial | @SimonMolinsky | 0.3.6 |"
   ],
   "metadata": {
    "collapsed": false,
    "pycharm": {
     "name": "#%% md\n"
    }
   }
  },
  {
   "cell_type": "markdown",
   "source": [
    "## Introduction\n",
    "\n",
    "In this tutorial, we will learn about Ordinary Kriging with directions. The classic Kriging works with isotropic semivariogram, the similarity between points has the same weights in all directions. Real world geographical data is rarely isotropic, and we distinguish leading directions in spatial processes. The example may be a temperature, where differences in the North-South axis are greater than in the West-East axis.\n",
    "\n",
    "If you want to learn more about directional processes and semivariograms referr to the tutorial: [Directional semivariograms](https://github.com/DataverseLabs/pyinterpolate/blob/main/tutorials/Directional%20Semivariograms%20(Basic).ipynb)."
   ],
   "metadata": {
    "collapsed": false,
    "pycharm": {
     "name": "#%% md\n"
    }
   }
  },
  {
   "cell_type": "markdown",
   "source": [
    "# 1. Read *meuse* dataset and transform data\n",
    "\n",
    "We use *meuse* dataset and interpolate zinc concentrations. Dataset is provided by:\n",
    "\n",
    "<br>\n",
    "\n",
    "> Pebesma, Edzer. (2009). The meuse data set: a tutorial for the gstat R package -> [link to the publication](https://cran.r-project.org/web/packages/gstat/vignettes/gstat.pdf)"
   ],
   "metadata": {
    "collapsed": false,
    "pycharm": {
     "name": "#%% md\n"
    }
   }
  },
  {
   "cell_type": "code",
   "execution_count": null,
   "outputs": [],
   "source": [
    "import pyinterpolate as ptp"
   ],
   "metadata": {
    "collapsed": false,
    "pycharm": {
     "name": "#%%\n"
    }
   }
  }
 ],
 "metadata": {
  "kernelspec": {
   "display_name": "Python 3",
   "language": "python",
   "name": "python3"
  },
  "language_info": {
   "codemirror_mode": {
    "name": "ipython",
    "version": 2
   },
   "file_extension": ".py",
   "mimetype": "text/x-python",
   "name": "python",
   "nbconvert_exporter": "python",
   "pygments_lexer": "ipython2",
   "version": "2.7.6"
  }
 },
 "nbformat": 4,
 "nbformat_minor": 0
}